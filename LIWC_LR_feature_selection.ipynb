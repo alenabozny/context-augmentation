{
  "nbformat": 4,
  "nbformat_minor": 0,
  "metadata": {
    "colab": {
      "name": "LIWC_LR_feature_selection",
      "provenance": [],
      "collapsed_sections": [],
      "toc_visible": true,
      "machine_shape": "hm",
      "include_colab_link": true
    },
    "kernelspec": {
      "display_name": "Python 3",
      "name": "python3"
    },
    "accelerator": "TPU",
    "widgets": {
      "application/vnd.jupyter.widget-state+json": {
        "b044a7a73bb24f7e9bcaca14638fc381": {
          "model_module": "@jupyter-widgets/controls",
          "model_name": "HBoxModel",
          "state": {
            "_view_name": "HBoxView",
            "_dom_classes": [],
            "_model_name": "HBoxModel",
            "_view_module": "@jupyter-widgets/controls",
            "_model_module_version": "1.5.0",
            "_view_count": null,
            "_view_module_version": "1.5.0",
            "box_style": "",
            "layout": "IPY_MODEL_b6a823627e824513bb8556372c592207",
            "_model_module": "@jupyter-widgets/controls",
            "children": [
              "IPY_MODEL_88a2711bf9384e988071cd5786ecf53e",
              "IPY_MODEL_113d934d244940ffa8da87d0c9bb59f4"
            ]
          }
        },
        "b6a823627e824513bb8556372c592207": {
          "model_module": "@jupyter-widgets/base",
          "model_name": "LayoutModel",
          "state": {
            "_view_name": "LayoutView",
            "grid_template_rows": null,
            "right": null,
            "justify_content": null,
            "_view_module": "@jupyter-widgets/base",
            "overflow": null,
            "_model_module_version": "1.2.0",
            "_view_count": null,
            "flex_flow": null,
            "width": null,
            "min_width": null,
            "border": null,
            "align_items": null,
            "bottom": null,
            "_model_module": "@jupyter-widgets/base",
            "top": null,
            "grid_column": null,
            "overflow_y": null,
            "overflow_x": null,
            "grid_auto_flow": null,
            "grid_area": null,
            "grid_template_columns": null,
            "flex": null,
            "_model_name": "LayoutModel",
            "justify_items": null,
            "grid_row": null,
            "max_height": null,
            "align_content": null,
            "visibility": null,
            "align_self": null,
            "height": null,
            "min_height": null,
            "padding": null,
            "grid_auto_rows": null,
            "grid_gap": null,
            "max_width": null,
            "order": null,
            "_view_module_version": "1.2.0",
            "grid_template_areas": null,
            "object_position": null,
            "object_fit": null,
            "grid_auto_columns": null,
            "margin": null,
            "display": null,
            "left": null
          }
        },
        "88a2711bf9384e988071cd5786ecf53e": {
          "model_module": "@jupyter-widgets/controls",
          "model_name": "FloatProgressModel",
          "state": {
            "_view_name": "ProgressView",
            "style": "IPY_MODEL_4defa3aedba4428d836c59e0ccb3be52",
            "_dom_classes": [],
            "description": "Optimization Progress: 100%",
            "_model_name": "FloatProgressModel",
            "bar_style": "",
            "max": 120,
            "_view_module": "@jupyter-widgets/controls",
            "_model_module_version": "1.5.0",
            "value": 120,
            "_view_count": null,
            "_view_module_version": "1.5.0",
            "orientation": "horizontal",
            "min": 0,
            "description_tooltip": null,
            "_model_module": "@jupyter-widgets/controls",
            "layout": "IPY_MODEL_0c099249930345879667e746ab8adbe1"
          }
        },
        "113d934d244940ffa8da87d0c9bb59f4": {
          "model_module": "@jupyter-widgets/controls",
          "model_name": "HTMLModel",
          "state": {
            "_view_name": "HTMLView",
            "style": "IPY_MODEL_14362216f62940e2b4462d9f540f76fc",
            "_dom_classes": [],
            "description": "",
            "_model_name": "HTMLModel",
            "placeholder": "​",
            "_view_module": "@jupyter-widgets/controls",
            "_model_module_version": "1.5.0",
            "value": " 120/120 [12:40&lt;00:00, 15.84s/pipeline]",
            "_view_count": null,
            "_view_module_version": "1.5.0",
            "description_tooltip": null,
            "_model_module": "@jupyter-widgets/controls",
            "layout": "IPY_MODEL_ffc6125b25c944ea84d34538c3548a50"
          }
        },
        "4defa3aedba4428d836c59e0ccb3be52": {
          "model_module": "@jupyter-widgets/controls",
          "model_name": "ProgressStyleModel",
          "state": {
            "_view_name": "StyleView",
            "_model_name": "ProgressStyleModel",
            "description_width": "initial",
            "_view_module": "@jupyter-widgets/base",
            "_model_module_version": "1.5.0",
            "_view_count": null,
            "_view_module_version": "1.2.0",
            "bar_color": null,
            "_model_module": "@jupyter-widgets/controls"
          }
        },
        "0c099249930345879667e746ab8adbe1": {
          "model_module": "@jupyter-widgets/base",
          "model_name": "LayoutModel",
          "state": {
            "_view_name": "LayoutView",
            "grid_template_rows": null,
            "right": null,
            "justify_content": null,
            "_view_module": "@jupyter-widgets/base",
            "overflow": null,
            "_model_module_version": "1.2.0",
            "_view_count": null,
            "flex_flow": null,
            "width": null,
            "min_width": null,
            "border": null,
            "align_items": null,
            "bottom": null,
            "_model_module": "@jupyter-widgets/base",
            "top": null,
            "grid_column": null,
            "overflow_y": null,
            "overflow_x": null,
            "grid_auto_flow": null,
            "grid_area": null,
            "grid_template_columns": null,
            "flex": null,
            "_model_name": "LayoutModel",
            "justify_items": null,
            "grid_row": null,
            "max_height": null,
            "align_content": null,
            "visibility": null,
            "align_self": null,
            "height": null,
            "min_height": null,
            "padding": null,
            "grid_auto_rows": null,
            "grid_gap": null,
            "max_width": null,
            "order": null,
            "_view_module_version": "1.2.0",
            "grid_template_areas": null,
            "object_position": null,
            "object_fit": null,
            "grid_auto_columns": null,
            "margin": null,
            "display": null,
            "left": null
          }
        },
        "14362216f62940e2b4462d9f540f76fc": {
          "model_module": "@jupyter-widgets/controls",
          "model_name": "DescriptionStyleModel",
          "state": {
            "_view_name": "StyleView",
            "_model_name": "DescriptionStyleModel",
            "description_width": "",
            "_view_module": "@jupyter-widgets/base",
            "_model_module_version": "1.5.0",
            "_view_count": null,
            "_view_module_version": "1.2.0",
            "_model_module": "@jupyter-widgets/controls"
          }
        },
        "ffc6125b25c944ea84d34538c3548a50": {
          "model_module": "@jupyter-widgets/base",
          "model_name": "LayoutModel",
          "state": {
            "_view_name": "LayoutView",
            "grid_template_rows": null,
            "right": null,
            "justify_content": null,
            "_view_module": "@jupyter-widgets/base",
            "overflow": null,
            "_model_module_version": "1.2.0",
            "_view_count": null,
            "flex_flow": null,
            "width": null,
            "min_width": null,
            "border": null,
            "align_items": null,
            "bottom": null,
            "_model_module": "@jupyter-widgets/base",
            "top": null,
            "grid_column": null,
            "overflow_y": null,
            "overflow_x": null,
            "grid_auto_flow": null,
            "grid_area": null,
            "grid_template_columns": null,
            "flex": null,
            "_model_name": "LayoutModel",
            "justify_items": null,
            "grid_row": null,
            "max_height": null,
            "align_content": null,
            "visibility": null,
            "align_self": null,
            "height": null,
            "min_height": null,
            "padding": null,
            "grid_auto_rows": null,
            "grid_gap": null,
            "max_width": null,
            "order": null,
            "_view_module_version": "1.2.0",
            "grid_template_areas": null,
            "object_position": null,
            "object_fit": null,
            "grid_auto_columns": null,
            "margin": null,
            "display": null,
            "left": null
          }
        }
      }
    }
  },
  "cells": [
    {
      "cell_type": "markdown",
      "metadata": {
        "id": "view-in-github",
        "colab_type": "text"
      },
      "source": [
        "<a href=\"https://colab.research.google.com/github/alenabozny/context-augmentation/blob/master/LIWC_LR_feature_selection.ipynb\" target=\"_parent\"><img src=\"https://colab.research.google.com/assets/colab-badge.svg\" alt=\"Open In Colab\"/></a>"
      ]
    },
    {
      "cell_type": "markdown",
      "metadata": {
        "id": "dBrePjB5rxXI"
      },
      "source": [
        "## **Mount Google Drive to the Notebook. This allows us to load datasets that are copyied to the GD directory.**\n"
      ]
    },
    {
      "cell_type": "code",
      "metadata": {
        "id": "p3MTQPfDHF2S"
      },
      "source": [
        "from google.colab import drive\n",
        "drive.mount('/content/drive')"
      ],
      "execution_count": null,
      "outputs": []
    },
    {
      "cell_type": "code",
      "metadata": {
        "id": "yXtly56vXDFr"
      },
      "source": [
        "import pickle"
      ],
      "execution_count": null,
      "outputs": []
    },
    {
      "cell_type": "markdown",
      "metadata": {
        "id": "cDkjxvO0sDVJ"
      },
      "source": [
        "## **Load the dataset (LIWC features for CRED/NONCRED data)**"
      ]
    },
    {
      "cell_type": "code",
      "metadata": {
        "id": "mwoht0ACHcgm"
      },
      "source": [
        "import pandas as pd\n",
        "import numpy as np\n",
        "\n",
        "statins = pd.read_csv(\"/content/drive/My Drive/Colab Notebooks/LIWC_paragrafy.csv\", sep=\";\",decimal=',', header=0)\n",
        "psychiatry = pd.read_csv(\"/content/drive/My Drive/Colab Notebooks/paragrafy_LIWC/psychiatry.csv\", sep=\";\",decimal=',', header=0)\n",
        "antioxidants = pd.read_csv(\"/content/drive/My Drive/Colab Notebooks/paragrafy_LIWC/antioxidants.csv\", sep=\";\",decimal=',', header=0)\n",
        "ssri_during_pregnancy = pd.read_csv(\"/content/drive/My Drive/Colab Notebooks/paragrafy_LIWC/ssri_during_pregnancy.csv\", sep=\";\",decimal=',', header=0)\n",
        "cc_vs_nb = pd.read_csv(\"/content/drive/My Drive/Colab Notebooks/paragrafy_LIWC/cc_vs_nb.csv\", sep=\";\",decimal=',', header=0)\n",
        "aspirin_pregnancy = pd.read_csv(\"/content/drive/My Drive/Colab Notebooks/paragrafy_LIWC/aspirin_pregnancy.csv\", sep=\";\",decimal=',', header=0)\n",
        "children_antibiotics = pd.read_csv(\"/content/drive/My Drive/Colab Notebooks/paragrafy_LIWC/children_antibiotics.csv\", sep=\";\",decimal=',', header=0)\n",
        "allergy_testing = pd.read_csv(\"/content/drive/My Drive/Colab Notebooks/paragrafy_LIWC/allergy_testing.csv\", sep=\";\",decimal=',', header=0)\n",
        "diet_and_autism = pd.read_csv(\"/content/drive/My Drive/Colab Notebooks/paragrafy_LIWC/diet_and_autism.csv\", sep=\";\",decimal=',', header=0)\n",
        "heart_supplements = pd.read_csv(\"/content/drive/My Drive/Colab Notebooks/paragrafy_LIWC/heart_supplements.csv\", sep=\";\",decimal=',', header=0)\n",
        "ssri_during_pregnancy = pd.read_csv(\"/content/drive/My Drive/Colab Notebooks/paragrafy_LIWC/ssri_during_pregnancy.csv\", sep=\";\",decimal=',', header=0)\n",
        "steroids_for_kids = pd.read_csv(\"/content/drive/My Drive/Colab Notebooks/paragrafy_LIWC/steroids_for_kids.csv\", sep=\";\",decimal=',', header=0)\n",
        "vaccination = pd.read_csv(\"/content/drive/My Drive/Colab Notebooks/paragrafy_LIWC/vaccination.csv\", sep=\";\",decimal=',', header=0)\n",
        "\n",
        "statins['Body'].head()"
      ],
      "execution_count": null,
      "outputs": []
    },
    {
      "cell_type": "markdown",
      "metadata": {
        "id": "tbxHw8hU6QFx"
      },
      "source": [
        "## Non-overlapping paragraphs"
      ]
    },
    {
      "cell_type": "code",
      "metadata": {
        "id": "3pIVeBF5OcIY"
      },
      "source": [
        "statins_paragraphs = statins[0:1917:3]\n",
        "psychiatry_paragraphs = psychiatry[0:len(psychiatry):3]\n",
        "antioxidants_paragraphs = antioxidants[0:len(antioxidants):3]\n",
        "ssri_during_pregnancy_paragraphs = ssri_during_pregnancy[0:len(ssri_during_pregnancy):3]\n",
        "cc_vs_nb_paragraphs = cc_vs_nb[0:len(cc_vs_nb):3]\n",
        "aspirin_pregnancy_paragraphs = aspirin_pregnancy[0:len(aspirin_pregnancy):3]\n",
        "children_antibiotics_paragraphs = children_antibiotics[0:len(children_antibiotics):3]\n",
        "allergy_testing_paragraphs = allergy_testing[0:len(allergy_testing):3]\n",
        "diet_and_autism_paragraphs = diet_and_autism[0:len(diet_and_autism):3]\n",
        "heart_supplements_paragraphs = heart_supplements[0:len(heart_supplements):3]\n",
        "steroids_for_kids_paragraphs = steroids_for_kids[0:len(steroids_for_kids):3]\n",
        "vaccination_paragraphs = vaccination[0:len(vaccination):3]"
      ],
      "execution_count": null,
      "outputs": []
    },
    {
      "cell_type": "markdown",
      "metadata": {
        "id": "PUq-zxaX6aW0"
      },
      "source": [
        "## Overlapping paragraphs"
      ]
    },
    {
      "cell_type": "code",
      "metadata": {
        "id": "ioWwJlqt6dfh"
      },
      "source": [
        "statins_paragraphs = statins\n",
        "psychiatry_paragraphs = psychiatry\n",
        "antioxidants_paragraphs = antioxidants\n",
        "ssri_during_pregnancy_paragraphs = ssri_during_pregnancy\n",
        "cc_vs_nb_paragraphs = cc_vs_nb\n",
        "aspirin_pregnancy_paragraphs = aspirin_pregnancy\n",
        "children_antibiotics_paragraphs = children_antibiotics\n",
        "allergy_testing_paragraphs = allergy_testing\n",
        "diet_and_autism_paragraphs = diet_and_autism\n",
        "heart_supplements_paragraphs = heart_supplements\n",
        "steroids_for_kids_paragraphs = steroids_for_kids\n",
        "vaccination_paragraphs = vaccination"
      ],
      "execution_count": null,
      "outputs": []
    },
    {
      "cell_type": "code",
      "metadata": {
        "id": "iOxbnAFLYZKn"
      },
      "source": [
        "ssri_during_pregnancy_paragraphs.head()"
      ],
      "execution_count": null,
      "outputs": []
    },
    {
      "cell_type": "code",
      "metadata": {
        "id": "Fqlof4xgXKZf"
      },
      "source": [
        "def y_to_binary(Y):\n",
        "  def label_to_0_1(lbl):\n",
        "    if lbl=='CRED':\n",
        "      return 1\n",
        "    else:\n",
        "      return 0\n",
        "\n",
        "  Y_mapped = map(label_to_0_1, Y)\n",
        "  return np.array(list(Y_mapped))"
      ],
      "execution_count": null,
      "outputs": []
    },
    {
      "cell_type": "code",
      "metadata": {
        "id": "kU0zIrhpYWim"
      },
      "source": [
        "np.shape(ssri_during_pregnancy_paragraphs)"
      ],
      "execution_count": null,
      "outputs": []
    },
    {
      "cell_type": "code",
      "metadata": {
        "id": "2BGke5dH_Fv_"
      },
      "source": [
        "!pip install spacytextblob"
      ],
      "execution_count": null,
      "outputs": []
    },
    {
      "cell_type": "code",
      "metadata": {
        "id": "osPXGsHkKRaa"
      },
      "source": [
        "!pip install lime"
      ],
      "execution_count": null,
      "outputs": []
    },
    {
      "cell_type": "markdown",
      "metadata": {
        "id": "PMHiocjs_e0v"
      },
      "source": [
        "# The Model\n",
        "Features:\n",
        "- TFIDF\n",
        "- NER\n",
        "- POS\n",
        "- LIWC\n",
        "- sentiment"
      ]
    },
    {
      "cell_type": "code",
      "metadata": {
        "id": "ADi-UtDH_rFN"
      },
      "source": [
        "from sklearn.pipeline import Pipeline\n",
        "# from sklearn.utils import shuffle\n",
        "from sklearn.model_selection import train_test_split\n",
        "from sklearn import metrics\n",
        "from sklearn import preprocessing as p\n",
        "from collections import Counter\n",
        "import matplotlib.pyplot as plt\n",
        "\n",
        "\n",
        "def get_y(data, y_column = 'Source (B)'):\n",
        "  Y = data[y_column]\n",
        "  Y = y_to_binary(Y)\n",
        "  print(np.shape(Y))\n",
        "  return Y\n",
        "\n",
        "statins_Y = get_y(statins_paragraphs, y_column='Rate')\n",
        "psychiatry_Y = get_y(psychiatry_paragraphs)\n",
        "antioxidants_Y = get_y(antioxidants_paragraphs)\n",
        "cc_vs_nb_Y = get_y(cc_vs_nb_paragraphs)\n",
        "aspirin_pregnancy_Y = get_y(aspirin_pregnancy_paragraphs)\n",
        "children_antibiotics_Y = get_y(children_antibiotics_paragraphs)\n",
        "allergy_testing_Y = get_y(allergy_testing_paragraphs)\n",
        "diet_and_autism_Y = get_y(diet_and_autism_paragraphs)\n",
        "heart_supplements_Y = get_y(heart_supplements_paragraphs)\n",
        "ssri_during_pregnancy_Y = get_y(ssri_during_pregnancy_paragraphs)\n",
        "steroids_for_kids_Y = get_y(steroids_for_kids_paragraphs)\n",
        "vaccination_Y = get_y(vaccination_paragraphs)"
      ],
      "execution_count": null,
      "outputs": []
    },
    {
      "cell_type": "markdown",
      "metadata": {
        "id": "eLB2fRE9AkMF"
      },
      "source": [
        "### **TFIDF**"
      ]
    },
    {
      "cell_type": "code",
      "metadata": {
        "id": "T19kOeTZAmmT"
      },
      "source": [
        "from sklearn.feature_extraction.text import CountVectorizer\n",
        "from sklearn.feature_extraction.text import TfidfVectorizer\n",
        "import re\n",
        "import nltk\n",
        "\n",
        "nltk.download('punkt')\n",
        "\n",
        "from nltk.stem import PorterStemmer\n",
        "from nltk import word_tokenize, sent_tokenize\n",
        "\n",
        "def get_X_tfidf(data, body_column='Source (A)'):\n",
        "  corpus = data[body_column]\n",
        "  corpus_removed_numbers = [re.sub(r'\\d+', '', s) for s in corpus]\n",
        "\n",
        "  corpus_tokenized = []\n",
        "  stemmer= PorterStemmer()\n",
        "\n",
        "  for s in corpus_removed_numbers:\n",
        "    tokens = word_tokenize(s)\n",
        "    stemmed_tokens = [stemmer.stem(word.lower()) for word in tokens]\n",
        "    corpus_tokenized.append(\" \".join(stemmed_tokens))\n",
        "\n",
        "  vectorizer = TfidfVectorizer()\n",
        "  X_tfidf_array = vectorizer.fit_transform(corpus_tokenized)\n",
        "  X_tfidf_array = np.array(X_tfidf_array.toarray())\n",
        "  X_tfidf = pd.DataFrame(X_tfidf_array, columns=vectorizer.get_feature_names())\n",
        "  print(np.shape(X_tfidf))\n",
        "\n",
        "  return X_tfidf"
      ],
      "execution_count": null,
      "outputs": []
    },
    {
      "cell_type": "code",
      "metadata": {
        "id": "Ijpc4rmU6wdd"
      },
      "source": [
        "statins_X_tfidf = get_X_tfidf(statins_paragraphs, body_column='Body')\n",
        "psychiatry_X_tfidf = get_X_tfidf(psychiatry_paragraphs)\n",
        "antioxidants_X_tfidf = get_X_tfidf(antioxidants_paragraphs)\n",
        "cc_vs_nb_X_tfidf = get_X_tfidf(cc_vs_nb_paragraphs)\n",
        "aspirin_pregnancy_X_tfidf = get_X_tfidf(aspirin_pregnancy_paragraphs)\n",
        "children_antibiotics_X_tfidf = get_X_tfidf(children_antibiotics_paragraphs)\n",
        "allergy_testing_X_tfidf = get_X_tfidf(allergy_testing_paragraphs)\n",
        "diet_and_autism_X_tfidf = get_X_tfidf(diet_and_autism_paragraphs)\n",
        "heart_supplements_X_tfidf = get_X_tfidf(heart_supplements_paragraphs)\n",
        "ssri_during_pregnancy_X_tfidf = get_X_tfidf(ssri_during_pregnancy_paragraphs)\n",
        "steroids_for_kids_X_tfidf = get_X_tfidf(steroids_for_kids_paragraphs)\n",
        "vaccination_X_tfidf = get_X_tfidf(vaccination_paragraphs)"
      ],
      "execution_count": null,
      "outputs": []
    },
    {
      "cell_type": "code",
      "metadata": {
        "id": "mtrGjcFoDbti"
      },
      "source": [
        "ssri_during_pregnancy_X_tfidf.head()"
      ],
      "execution_count": null,
      "outputs": []
    },
    {
      "cell_type": "markdown",
      "metadata": {
        "id": "2snuJgOFFkJ3"
      },
      "source": [
        "##**NER**"
      ]
    },
    {
      "cell_type": "code",
      "metadata": {
        "id": "SBjBXTIjx9-y"
      },
      "source": [
        "!python -m spacy download en_core_web_sm"
      ],
      "execution_count": null,
      "outputs": []
    },
    {
      "cell_type": "code",
      "metadata": {
        "id": "ygUkfgN0FnZE"
      },
      "source": [
        "import spacy\n",
        "from spacy import displacy\n",
        "import en_core_web_sm\n",
        "\n",
        "nlp = spacy.load(\"en_core_web_sm\")\n",
        "\n",
        "def get_X_ner(data, body_column='Source (A)'):\n",
        "  corpus = data[body_column]\n",
        "  X_ner_counters = []\n",
        "  X_ner_array = []\n",
        "  meta_counter = Counter()\n",
        "\n",
        "  for s in corpus:\n",
        "    doc = nlp(s)\n",
        "    labels = [x.label_ for x in doc.ents]\n",
        "    X_ner_counters.append(Counter(labels))\n",
        "    meta_counter += Counter(labels)\n",
        "\n",
        "  for c in X_ner_counters:\n",
        "    X_ner_array.append([c[key] for key in list(meta_counter.keys())])\n",
        "\n",
        "  X_ner = pd.DataFrame(X_ner_array, columns=list(meta_counter.keys()))\n",
        "  X_ner.rename(columns=lambda x: x+\"_NER\", inplace=True)\n",
        "  print(np.shape(X_ner))\n",
        "  \n",
        "  return X_ner"
      ],
      "execution_count": null,
      "outputs": []
    },
    {
      "cell_type": "code",
      "metadata": {
        "id": "j-WpqMPPMPhE"
      },
      "source": [
        "statins_X_ner = get_X_ner(statins_paragraphs, body_column='Body')\n",
        "psychiatry_X_ner = get_X_ner(psychiatry_paragraphs)\n",
        "antioxidants_X_ner = get_X_ner(antioxidants_paragraphs)\n",
        "cc_vs_nb_X_ner = get_X_ner(cc_vs_nb_paragraphs)\n",
        "aspirin_pregnancy_X_ner = get_X_ner(aspirin_pregnancy_paragraphs)\n",
        "children_antibiotics_X_ner = get_X_ner(children_antibiotics_paragraphs)\n",
        "allergy_testing_X_ner = get_X_ner(allergy_testing_paragraphs)\n",
        "diet_and_autism_X_ner = get_X_ner(diet_and_autism_paragraphs)\n",
        "heart_supplements_X_ner = get_X_ner(heart_supplements_paragraphs)\n",
        "ssri_during_pregnancy_X_ner = get_X_ner(ssri_during_pregnancy_paragraphs)\n",
        "steroids_for_kids_X_ner = get_X_ner(steroids_for_kids_paragraphs)\n",
        "vaccination_X_ner = get_X_ner(vaccination_paragraphs)\n",
        "\n",
        "ssri_during_pregnancy_X_ner.head()"
      ],
      "execution_count": null,
      "outputs": []
    },
    {
      "cell_type": "markdown",
      "metadata": {
        "id": "gHhdzmScBb8r"
      },
      "source": [
        "## **LIWC**"
      ]
    },
    {
      "cell_type": "code",
      "metadata": {
        "id": "cfN8WBFMBd7L"
      },
      "source": [
        "# important_features = get_n_most_important(50)\n",
        "def get_X_liwc(data):\n",
        "  X_liwc = data.loc[:,'WC':]\n",
        "  X_liwc = X_liwc.reset_index(drop=True)\n",
        "  print(np.shape(X_liwc))\n",
        "  \n",
        "  X_liwc.rename(columns=lambda x: x+\"_liwc\", inplace=True)\n",
        "  \n",
        "  return X_liwc"
      ],
      "execution_count": null,
      "outputs": []
    },
    {
      "cell_type": "code",
      "metadata": {
        "id": "wE6C9tPiFcDV"
      },
      "source": [
        "statins_X_liwc = get_X_liwc(statins_paragraphs)\n",
        "psychiatry_X_liwc = get_X_liwc(psychiatry_paragraphs)\n",
        "antioxidants_X_liwc = get_X_liwc(antioxidants_paragraphs)\n",
        "cc_vs_nb_X_liwc = get_X_liwc(cc_vs_nb_paragraphs)\n",
        "aspirin_pregnancy_X_liwc = get_X_liwc(aspirin_pregnancy_paragraphs)\n",
        "children_antibiotics_X_liwc = get_X_liwc(children_antibiotics_paragraphs)\n",
        "allergy_testing_X_liwc = get_X_liwc(allergy_testing_paragraphs)\n",
        "diet_and_autism_X_liwc = get_X_liwc(diet_and_autism_paragraphs)\n",
        "heart_supplements_X_liwc = get_X_liwc(heart_supplements_paragraphs)\n",
        "ssri_during_pregnancy_X_liwc = get_X_liwc(ssri_during_pregnancy_paragraphs)\n",
        "steroids_for_kids_X_liwc = get_X_liwc(steroids_for_kids_paragraphs)\n",
        "vaccination_X_liwc = get_X_liwc(vaccination_paragraphs)\n",
        "\n",
        "ssri_during_pregnancy_X_liwc.head()"
      ],
      "execution_count": null,
      "outputs": []
    },
    {
      "cell_type": "markdown",
      "metadata": {
        "id": "pZpNdjMLADfT"
      },
      "source": [
        "## **Sentiment**"
      ]
    },
    {
      "cell_type": "code",
      "metadata": {
        "id": "g_guB3F6ACo4"
      },
      "source": [
        "from spacytextblob.spacytextblob import SpacyTextBlob\n",
        "\n",
        "nlp.add_pipe('spacytextblob')"
      ],
      "execution_count": null,
      "outputs": []
    },
    {
      "cell_type": "code",
      "metadata": {
        "id": "IsffydpHzQc_"
      },
      "source": [
        "def get_X_sentiment(data, body_column='Source (A)'):\n",
        "  corpus = data[body_column]\n",
        "  X_sentiment_array = []\n",
        "  for s in corpus:\n",
        "    doc = nlp(s)\n",
        "    # print(f\"Polarity: {doc._.polarity}\")\n",
        "    # print(f\"Subjectivity: {doc._.subjectivity}\")\n",
        "    X_sentiment_array.append([doc._.polarity,\n",
        "                              doc._.subjectivity]\n",
        "                            )\n",
        "    \n",
        "  X_sentiment = pd.DataFrame(X_sentiment_array, columns=[\"polarity_sent\", \"subjectivity_sent\"])\n",
        "  print(np.shape(X_sentiment))\n",
        "  \n",
        "  return X_sentiment"
      ],
      "execution_count": null,
      "outputs": []
    },
    {
      "cell_type": "code",
      "metadata": {
        "id": "n4qSyZHMDoPa"
      },
      "source": [
        "statins_X_sentiment = get_X_sentiment(statins_paragraphs, body_column='Body')\n",
        "psychiatry_X_sentiment = get_X_sentiment(psychiatry_paragraphs)\n",
        "antioxidants_X_sentiment = get_X_sentiment(antioxidants_paragraphs)\n",
        "cc_vs_nb_X_sentiment = get_X_sentiment(cc_vs_nb_paragraphs)\n",
        "aspirin_pregnancy_X_sentiment = get_X_sentiment(aspirin_pregnancy_paragraphs)\n",
        "children_antibiotics_X_sentiment = get_X_sentiment(children_antibiotics_paragraphs)\n",
        "allergy_testing_X_sentiment = get_X_sentiment(allergy_testing_paragraphs)\n",
        "diet_and_autism_X_sentiment = get_X_sentiment(diet_and_autism_paragraphs)\n",
        "heart_supplements_X_sentiment = get_X_sentiment(heart_supplements_paragraphs)\n",
        "ssri_during_pregnancy_X_sentiment = get_X_sentiment(ssri_during_pregnancy_paragraphs)\n",
        "steroids_for_kids_X_sentiment = get_X_sentiment(steroids_for_kids_paragraphs)\n",
        "vaccination_X_sentiment = get_X_sentiment(vaccination_paragraphs)\n",
        "\n",
        "vaccination_X_sentiment.head()"
      ],
      "execution_count": null,
      "outputs": []
    },
    {
      "cell_type": "code",
      "metadata": {
        "id": "ens9y5soEOrm"
      },
      "source": [
        "# X = pd.concat([X_liwc, X_ner, X_tfidf, X_sentiment], axis=1)\n",
        "statins_X = pd.concat([statins_X_liwc, statins_X_ner, statins_X_tfidf, statins_X_sentiment], axis=1)\n",
        "psychiatry_X = pd.concat([psychiatry_X_liwc, psychiatry_X_ner, psychiatry_X_tfidf, psychiatry_X_sentiment], axis=1)\n",
        "antioxidants_X = pd.concat([antioxidants_X_liwc, antioxidants_X_ner, antioxidants_X_tfidf, antioxidants_X_sentiment], axis=1)\n",
        "cc_vs_nb_X = pd.concat([cc_vs_nb_X_liwc, cc_vs_nb_X_ner, cc_vs_nb_X_tfidf, cc_vs_nb_X_sentiment], axis=1)\n",
        "aspirin_pregnancy_X = pd.concat([aspirin_pregnancy_X_liwc, aspirin_pregnancy_X_ner, aspirin_pregnancy_X_tfidf, aspirin_pregnancy_X_sentiment], axis=1)\n",
        "children_antibiotics_X = pd.concat([children_antibiotics_X_liwc, children_antibiotics_X_ner, children_antibiotics_X_tfidf, children_antibiotics_X_sentiment], axis=1)\n",
        "allergy_testing_X = pd.concat([allergy_testing_X_liwc, allergy_testing_X_ner, allergy_testing_X_tfidf, allergy_testing_X_sentiment], axis=1)\n",
        "diet_and_autism_X = pd.concat([diet_and_autism_X_liwc, diet_and_autism_X_ner, diet_and_autism_X_tfidf, diet_and_autism_X_sentiment], axis=1)\n",
        "heart_supplements_X = pd.concat([heart_supplements_X_liwc, heart_supplements_X_ner, heart_supplements_X_tfidf, heart_supplements_X_sentiment], axis=1)\n",
        "ssri_during_pregnancy_X = pd.concat([ssri_during_pregnancy_X_liwc, ssri_during_pregnancy_X_ner, ssri_during_pregnancy_X_tfidf, ssri_during_pregnancy_X_sentiment], axis=1)\n",
        "steroids_for_kids_X = pd.concat([steroids_for_kids_X_liwc, steroids_for_kids_X_ner, steroids_for_kids_X_tfidf, steroids_for_kids_X_sentiment], axis=1)\n",
        "vaccination_X = pd.concat([vaccination_X_liwc, vaccination_X_ner, vaccination_X_tfidf, vaccination_X_sentiment], axis=1)"
      ],
      "execution_count": null,
      "outputs": []
    },
    {
      "cell_type": "code",
      "metadata": {
        "id": "e1WVb5i7ijxS"
      },
      "source": [
        "ssri_during_pregnancy_X.head()"
      ],
      "execution_count": null,
      "outputs": []
    },
    {
      "cell_type": "markdown",
      "metadata": {
        "id": "n8vaNfkTetCI"
      },
      "source": [
        "## Dump ***TFIDF + NER + LIWC + Sentiment*** X data"
      ]
    },
    {
      "cell_type": "code",
      "metadata": {
        "id": "VDdSISt4d3uZ"
      },
      "source": [
        "pickle.dump(statins_X, open('/content/drive/My Drive/Colab Notebooks/statins_tfidf_ner_liwc_sent_X.p', 'wb'))\n",
        "pickle.dump(psychiatry_X, open('/content/drive/My Drive/Colab Notebooks/psychiatry_tfidf_ner_liwc_sent_X.p', 'wb'))\n",
        "pickle.dump(antioxidants_X, open('/content/drive/My Drive/Colab Notebooks/antioxidants_tfidf_ner_liwc_sent_X.p', 'wb'))\n",
        "pickle.dump(cc_vs_nb_X, open('/content/drive/My Drive/Colab Notebooks/cc_vs_nb_tfidf_ner_liwc_sent_X.p', 'wb'))\n",
        "pickle.dump(aspirin_pregnancy_X, open('/content/drive/My Drive/Colab Notebooks/aspirin_pregnancy_tfidf_ner_liwc_sent_X.p', 'wb'))\n",
        "pickle.dump(children_antibiotics_X, open('/content/drive/My Drive/Colab Notebooks/children_antibiotics_tfidf_ner_liwc_sent_X.p', 'wb'))\n",
        "pickle.dump(allergy_testing_X, open('/content/drive/My Drive/Colab Notebooks/allergy_testing_tfidf_ner_liwc_sent_X.p', 'wb'))\n",
        "pickle.dump(diet_and_autism_X, open('/content/drive/My Drive/Colab Notebooks/diet_and_autism_tfidf_ner_liwc_sent_X.p', 'wb'))\n",
        "pickle.dump(heart_supplements_X, open('/content/drive/My Drive/Colab Notebooks/heart_supplements_tfidf_ner_liwc_sent_X.p', 'wb'))\n",
        "pickle.dump(ssri_during_pregnancy_X, open('/content/drive/My Drive/Colab Notebooks/ssri_during_pregnancy_tfidf_ner_liwc_sent_X.p', 'wb'))\n",
        "pickle.dump(steroids_for_kids_X, open('/content/drive/My Drive/Colab Notebooks/steroids_for_kids_tfidf_ner_liwc_sent_X.p', 'wb'))\n",
        "pickle.dump(vaccination_X, open('/content/drive/My Drive/Colab Notebooks/vaccination_tfidf_ner_liwc_sent_X.p', 'wb'))"
      ],
      "execution_count": null,
      "outputs": []
    },
    {
      "cell_type": "code",
      "metadata": {
        "id": "FiPtlsVGWJDi"
      },
      "source": [
        "# dump overlapping paragraphs\n",
        "pickle.dump(statins_X, open('/content/drive/My Drive/Colab Notebooks/statins_tfidf_ner_liwc_sent_X_overlap.p', 'wb'))\n",
        "pickle.dump(psychiatry_X, open('/content/drive/My Drive/Colab Notebooks/psychiatry_tfidf_ner_liwc_sent_X_overlap.p', 'wb'))\n",
        "pickle.dump(antioxidants_X, open('/content/drive/My Drive/Colab Notebooks/antioxidants_tfidf_ner_liwc_sent_X_overlap.p', 'wb'))\n",
        "pickle.dump(cc_vs_nb_X, open('/content/drive/My Drive/Colab Notebooks/cc_vs_nb_tfidf_ner_liwc_sent_X_overlap.p', 'wb'))\n",
        "pickle.dump(aspirin_pregnancy_X, open('/content/drive/My Drive/Colab Notebooks/aspirin_pregnancy_tfidf_ner_liwc_sent_X_overlap.p', 'wb'))\n",
        "pickle.dump(children_antibiotics_X, open('/content/drive/My Drive/Colab Notebooks/children_antibiotics_tfidf_ner_liwc_sent_X_overlap.p', 'wb'))\n",
        "pickle.dump(allergy_testing_X, open('/content/drive/My Drive/Colab Notebooks/allergy_testing_tfidf_ner_liwc_sent_X_overlap.p', 'wb'))\n",
        "pickle.dump(diet_and_autism_X, open('/content/drive/My Drive/Colab Notebooks/diet_and_autism_tfidf_ner_liwc_sent_X_overlap.p', 'wb'))\n",
        "pickle.dump(heart_supplements_X, open('/content/drive/My Drive/Colab Notebooks/heart_supplements_tfidf_ner_liwc_sent_X_overlap.p', 'wb'))\n",
        "pickle.dump(ssri_during_pregnancy_X, open('/content/drive/My Drive/Colab Notebooks/ssri_during_pregnancy_tfidf_ner_liwc_sent_X_overlap.p', 'wb'))\n",
        "pickle.dump(steroids_for_kids_X, open('/content/drive/My Drive/Colab Notebooks/steroids_for_kids_tfidf_ner_liwc_sent_X_overlap.p', 'wb'))\n",
        "pickle.dump(vaccination_X, open('/content/drive/My Drive/Colab Notebooks/vaccination_tfidf_ner_liwc_sent_X_overlap.p', 'wb'))"
      ],
      "execution_count": null,
      "outputs": []
    },
    {
      "cell_type": "markdown",
      "metadata": {
        "id": "h_b5Yxoxe8dc"
      },
      "source": [
        "## Load ***TFIDF + NER + LIWC + Sentiment*** X data"
      ]
    },
    {
      "cell_type": "code",
      "metadata": {
        "id": "DEkH1dF1fGNh"
      },
      "source": [
        "statins_X =               pickle.load(open('/content/drive/My Drive/Colab Notebooks/statins_tfidf_ner_liwc_sent_X.p', 'rb'))\n",
        "psychiatry_X =            pickle.load(open('/content/drive/My Drive/Colab Notebooks/psychiatry_tfidf_ner_liwc_sent_X.p', 'rb'))\n",
        "antioxidants_X =          pickle.load(open('/content/drive/My Drive/Colab Notebooks/antioxidants_tfidf_ner_liwc_sent_X.p', 'rb'))\n",
        "cc_vs_nb_X =              pickle.load(open('/content/drive/My Drive/Colab Notebooks/cc_vs_nb_tfidf_ner_liwc_sent_X.p', 'rb'))\n",
        "aspirin_pregnancy_X =     pickle.load(open('/content/drive/My Drive/Colab Notebooks/aspirin_pregnancy_tfidf_ner_liwc_sent_X.p', 'rb'))\n",
        "children_antibiotics_X =  pickle.load(open('/content/drive/My Drive/Colab Notebooks/children_antibiotics_tfidf_ner_liwc_sent_X.p', 'rb'))\n",
        "allergy_testing_X =       pickle.load(open('/content/drive/My Drive/Colab Notebooks/allergy_testing_tfidf_ner_liwc_sent_X.p', 'rb'))\n",
        "diet_and_autism_X =       pickle.load(open('/content/drive/My Drive/Colab Notebooks/diet_and_autism_tfidf_ner_liwc_sent_X.p', 'rb'))\n",
        "heart_supplements_X =     pickle.load(open('/content/drive/My Drive/Colab Notebooks/heart_supplements_tfidf_ner_liwc_sent_X.p', 'rb'))\n",
        "ssri_during_pregnancy_X = pickle.load(open('/content/drive/My Drive/Colab Notebooks/ssri_during_pregnancy_tfidf_ner_liwc_sent_X.p', 'rb'))\n",
        "steroids_for_kids_X =     pickle.load(open('/content/drive/My Drive/Colab Notebooks/steroids_for_kids_tfidf_ner_liwc_sent_X.p', 'rb'))\n",
        "vaccination_X =           pickle.load(open('/content/drive/My Drive/Colab Notebooks/vaccination_tfidf_ner_liwc_sent_X.p', 'rb'))"
      ],
      "execution_count": null,
      "outputs": []
    },
    {
      "cell_type": "code",
      "metadata": {
        "id": "6BJwWrQz84LH"
      },
      "source": [
        "statins_X_overlap =               pickle.load(open('/content/drive/My Drive/Colab Notebooks/statins_tfidf_ner_liwc_sent_X_overlap.p', 'rb'))\n",
        "psychiatry_X_overlap =            pickle.load(open('/content/drive/My Drive/Colab Notebooks/psychiatry_tfidf_ner_liwc_sent_X_overlap.p', 'rb'))\n",
        "antioxidants_X_overlap =          pickle.load(open('/content/drive/My Drive/Colab Notebooks/antioxidants_tfidf_ner_liwc_sent_X_overlap.p', 'rb'))\n",
        "cc_vs_nb_X_overlap =              pickle.load(open('/content/drive/My Drive/Colab Notebooks/cc_vs_nb_tfidf_ner_liwc_sent_X_overlap.p', 'rb'))\n",
        "aspirin_pregnancy_X_overlap =     pickle.load(open('/content/drive/My Drive/Colab Notebooks/aspirin_pregnancy_tfidf_ner_liwc_sent_X_overlap.p', 'rb'))\n",
        "children_antibiotics_X_overlap =  pickle.load(open('/content/drive/My Drive/Colab Notebooks/children_antibiotics_tfidf_ner_liwc_sent_X_overlap.p', 'rb'))\n",
        "allergy_testing_X_overlap =       pickle.load(open('/content/drive/My Drive/Colab Notebooks/allergy_testing_tfidf_ner_liwc_sent_X_overlap.p', 'rb'))\n",
        "diet_and_autism_X_overlap =       pickle.load(open('/content/drive/My Drive/Colab Notebooks/diet_and_autism_tfidf_ner_liwc_sent_X_overlap.p', 'rb'))\n",
        "heart_supplements_X_overlap =     pickle.load(open('/content/drive/My Drive/Colab Notebooks/heart_supplements_tfidf_ner_liwc_sent_X_overlap.p', 'rb'))\n",
        "ssri_during_pregnancy_X_overlap = pickle.load(open('/content/drive/My Drive/Colab Notebooks/ssri_during_pregnancy_tfidf_ner_liwc_sent_X_overlap.p', 'rb'))\n",
        "steroids_for_kids_X_overlap =     pickle.load(open('/content/drive/My Drive/Colab Notebooks/steroids_for_kids_tfidf_ner_liwc_sent_X_overlap.p', 'rb'))\n",
        "vaccination_X_overlap =           pickle.load(open('/content/drive/My Drive/Colab Notebooks/vaccination_tfidf_ner_liwc_sent_X_overlap.p', 'rb'))"
      ],
      "execution_count": null,
      "outputs": []
    },
    {
      "cell_type": "markdown",
      "metadata": {
        "id": "1LJGvJwkfbf9"
      },
      "source": [
        "Check the data:"
      ]
    },
    {
      "cell_type": "code",
      "metadata": {
        "id": "ClZJWsBa9wor"
      },
      "source": [
        "np.shape(vaccination_X)"
      ],
      "execution_count": null,
      "outputs": []
    },
    {
      "cell_type": "code",
      "metadata": {
        "id": "Ox3YtKQ6-Zqc"
      },
      "source": [
        "np.shape(vaccination_X_overlap)"
      ],
      "execution_count": null,
      "outputs": []
    },
    {
      "cell_type": "markdown",
      "metadata": {
        "id": "S8ZasipI41_P"
      },
      "source": [
        "# Eval and print metrics\n",
        "\n",
        "## For each category we are preforming the following steps:\n",
        "1. **Feature selection** based on **LogisticRegression** and **Recursive Feature Elimination** algorithm\n",
        "2. Perform **best model selection** based on genetic algorithm implemented by the TPOT library (we combine LogisticRegression, GBoost, MLP(50,20) and MLP(20,20). We use **weighted f1** measure as **optimization attribute**.\n",
        "3. **ROC curve** is shown for the **result of TPOT best fitted model**, with max/min and mean curves from 10-fold cross validation.\n",
        "4. **Mean weighted f1 for 30 Cross Validated scores** with standard deviation is shown. \n",
        "\n",
        "## Paragraph label aggregation:\n",
        "\n",
        "\n",
        "```\n",
        "def aggregate_rate(rate_list):\n",
        "    if 'NONCRED' in rate_list:\n",
        "        return 'NONCRED'\n",
        "    elif 'CRED' in rate_list:\n",
        "        return 'CRED'\n",
        "    else:\n",
        "        return 'NEU'\n",
        "```\n",
        "- NONCRED - if one or more labels is rated not credible\n",
        "- CRED - if no non-credible sentences and at least one credible sentence appears in the set.\n",
        "- NEU - if all 3 sentences are neutral.\n",
        "\n",
        "Binary labelling function further compress the labels to:\n",
        "* **1** - CRED\n",
        "* **0** - NONCRED or NEU\n"
      ]
    },
    {
      "cell_type": "code",
      "metadata": {
        "id": "8CZN5Pq3I5cd"
      },
      "source": [
        "from sklearn.neural_network import MLPClassifier\n",
        "from sklearn.linear_model import LogisticRegression\n",
        "\n",
        "import sklearn.preprocessing as p\n",
        "\n",
        "min_max_scaler = p.MinMaxScaler()\n",
        "standard_scaler = p.StandardScaler()\n",
        "\n",
        "class color:\n",
        "   RED = '\\033[91m'\n",
        "   BOLD = '\\033[1m'\n",
        "   UNDERLINE = '\\033[4m'\n",
        "   END = '\\033[0m'\n",
        "\n",
        "def eval_and_print_metrics(clf, X, Y, VALIDATION_SPLIT):\n",
        "    scaled_features = standard_scaler.fit_transform(X)\n",
        "    scaled_features_df = pd.DataFrame(scaled_features, index=X.index, columns=X.columns)\n",
        "    X_train, X_test, y_train, y_test = train_test_split(X, Y, test_size=VALIDATION_SPLIT, stratify=Y)\n",
        "    clf.fit(X_train, y_train)\n",
        "    y_pred = clf.predict(X_test)\n",
        "    # print(\"F1 score on test set: \"\n",
        "          # \"%0.3f\" % metrics.f1_score(y_test, y_pred, average='weighted'))\n",
        "    # print(\"-\" * 10)\n",
        "    return metrics.f1_score(y_test, y_pred, average='weighted'), metrics.f1_score(y_test, y_pred, average='micro')\n",
        "\n",
        "def mean_weighted_f1(clf, X, Y, num_iterations, VALIDATION_SPLIT):\n",
        "  f1s_w = []\n",
        "  f1s_m = []\n",
        "  scaled_features = standard_scaler.fit_transform(X)\n",
        "  scaled_features_df = pd.DataFrame(scaled_features, index=X.index, columns=X.columns)\n",
        "  for i in range(0,num_iterations):\n",
        "    w, m = eval_and_print_metrics(clf, X, Y, VALIDATION_SPLIT)\n",
        "    f1s_w.append(w)\n",
        "    f1s_m.append(m)\n",
        "\n",
        "  print(color.BOLD + 'Mean weighted f1: ' + color.END, np.mean(f1s_w), color.BOLD + ' STD: ' + color.END, np.std(f1s_w))\n",
        "  print(color.BOLD + 'Mean micro f1: ' + color.END , np.mean(f1s_m), color.BOLD + ' STD: ' + color.END, np.std(f1s_m))"
      ],
      "execution_count": null,
      "outputs": []
    },
    {
      "cell_type": "markdown",
      "metadata": {
        "id": "9YZS_-sRadcb"
      },
      "source": [
        "# Fit and show AUC"
      ]
    },
    {
      "cell_type": "markdown",
      "metadata": {
        "id": "Wt9p_F_5AJUi"
      },
      "source": [
        "##**RFE**\n",
        "\n",
        "Recursive feature elimination using **Logistic Regression** model and **f1_weighted** score as an optimization parameter.\n",
        "\n",
        "**Variant A:** *A the end of the function there is a limit of most **num_limit** features.*\n"
      ]
    },
    {
      "cell_type": "code",
      "metadata": {
        "id": "2A5QoaU2AMNX"
      },
      "source": [
        "from sklearn.feature_selection import RFE\n",
        "from sklearn.feature_selection import RFECV\n",
        "from sklearn.model_selection import StratifiedKFold\n",
        "\n",
        "def get_n_most_important(num_features, \n",
        "                         X, \n",
        "                         Y, \n",
        "                         standarize=True, \n",
        "                         scorer='f1_weighted', \n",
        "                         model = LogisticRegression(max_iter=10000)\n",
        "                        ):\n",
        "  if standarize:\n",
        "    scaled_features = standard_scaler.fit_transform(X)\n",
        "    X = pd.DataFrame(scaled_features, index=X.index, columns=X.columns)\n",
        "\n",
        "  rfecv = RFECV(estimator=model, step=10, cv=StratifiedKFold(),\n",
        "                scoring=scorer,\n",
        "                min_features_to_select=num_features)\n",
        "  fit = rfecv.fit(X, Y)\n",
        "\n",
        "  print(\"Optimal number of features : %d\" % rfecv.n_features_)\n",
        "\n",
        "  # Plot number of features VS. cross-validation scores\n",
        "  plt.figure()\n",
        "  plt.xlabel(\"Number of features selected\")\n",
        "  plt.ylabel(\"Cross validation score (nb of correct classifications)\")\n",
        "  plt.plot(range(num_features,\n",
        "                len(rfecv.grid_scores_) + num_features),\n",
        "          rfecv.grid_scores_)\n",
        "  plt.show()\n",
        "  \n",
        "  features = X.columns.values\n",
        "  important_features = []\n",
        "\n",
        "  for f in list(zip(features, fit.support_)):\n",
        "    if f[1]:\n",
        "      important_features.append(f[0])\n",
        "\n",
        "  return fit.support_, fit.n_features_, fit.ranking_, important_features"
      ],
      "execution_count": null,
      "outputs": []
    },
    {
      "cell_type": "markdown",
      "metadata": {
        "id": "Zcr8jHbY6G2m"
      },
      "source": [
        "## Show mean, min and max ROC curves for N-fold cross validation"
      ]
    },
    {
      "cell_type": "code",
      "metadata": {
        "id": "5yPzEMPd6DbV"
      },
      "source": [
        "def show_auc_for_cv(classifier, X, y, n_splits=10, split=0.2):\n",
        "\n",
        "  from sklearn.metrics import plot_roc_curve\n",
        "  from sklearn.metrics import auc\n",
        "\n",
        "  scaled_features = standard_scaler.fit_transform(X)\n",
        "  X = pd.DataFrame(scaled_features, index=X.index, columns=X.columns)\n",
        "\n",
        "  X = np.array(X)\n",
        "  y = np.array(y)\n",
        "\n",
        "  cv = StratifiedKFold(n_splits=10)\n",
        "\n",
        "  tprs = []\n",
        "  aucs = []\n",
        "  mean_fpr = np.linspace(0, 1, 100)\n",
        "\n",
        "  fig, ax = plt.subplots()\n",
        "  for i, (train, test) in enumerate(cv.split(X, y)):\n",
        "      classifier.fit(X[train], y[train])\n",
        "      viz = plot_roc_curve(classifier, X[test], y[test],\n",
        "                          name='ROC fold {}'.format(i),\n",
        "                          alpha=0.3, lw=1, ax=ax)\n",
        "      interp_tpr = np.interp(mean_fpr, viz.fpr, viz.tpr)\n",
        "      interp_tpr[0] = 0.0\n",
        "      tprs.append(interp_tpr)\n",
        "      aucs.append(viz.roc_auc)\n",
        "\n",
        "  ax.plot([0, 1], [0, 1], linestyle='--', lw=2, color='r',\n",
        "          label='Chance', alpha=.8)\n",
        "\n",
        "  mean_tpr = np.mean(tprs, axis=0)\n",
        "  mean_tpr[-1] = 1.0\n",
        "  mean_auc = auc(mean_fpr, mean_tpr)\n",
        "  std_auc = np.std(aucs)\n",
        "  ax.plot(mean_fpr, mean_tpr, color='b',\n",
        "          label=r'Mean ROC (AUC = %0.2f $\\pm$ %0.2f)' % (mean_auc, std_auc),\n",
        "          lw=2, alpha=.8)\n",
        "\n",
        "  std_tpr = np.std(tprs, axis=0)\n",
        "  tprs_upper = np.minimum(mean_tpr + std_tpr, 1)\n",
        "  tprs_lower = np.maximum(mean_tpr - std_tpr, 0)\n",
        "  ax.fill_between(mean_fpr, tprs_lower, tprs_upper, color='grey', alpha=.2,\n",
        "                  label=r'$\\pm$ 1 std. dev.')\n",
        "\n",
        "  ax.set(xlim=[-0.05, 1.05], ylim=[-0.05, 1.05],\n",
        "        title=\"Receiver operating characteristic example\")\n",
        "  ax.legend(loc=\"lower right\")\n",
        "  plt.legend(bbox_to_anchor=(1,1), loc=\"upper left\")\n",
        "  plt.show()"
      ],
      "execution_count": null,
      "outputs": []
    },
    {
      "cell_type": "markdown",
      "metadata": {
        "id": "h2Cu15r1g4Zd"
      },
      "source": [
        "## Show predicted probabilities for each class and print top most important features"
      ]
    },
    {
      "cell_type": "code",
      "metadata": {
        "id": "QsmwXcsyg87y"
      },
      "source": [
        "def predict_proba_hist(clf, X, Y, important_features, split=0.2, idx=1):\n",
        "  scaled_X = standard_scaler.fit_transform(X[important_features])\n",
        "  X_train, X_test, y_train, y_test = train_test_split(scaled_X, \n",
        "                                                      Y, \n",
        "                                                      test_size=split, \n",
        "                                                      stratify=Y)\n",
        "  clf.fit(X_train, y_train)\n",
        "  proba_1 = {}\n",
        "  proba_0 = {}\n",
        "\n",
        "  print(f\"Model: {clf}\")\n",
        "  try:\n",
        "    coefs = clf.feature_importances_\n",
        "  except AttributeError:\n",
        "    try:\n",
        "      coefs = clf.coef_\n",
        "    except AttributeError:\n",
        "      print(f\"Loading LIME feature importance retrieval model...\")\n",
        "      explainer = LimeTabularExplainer(X_train, training_labels=[0,1], feature_names=important_features)\n",
        "      exp = explainer.explain_instance(X_test[idx], clf.predict_proba, num_features=50)\n",
        "      fig1 = exp.as_pyplot_figure()\n",
        "      fig1.show()\n",
        "\n",
        "  if 'coefs' in locals():\n",
        "    plot_data = pd.DataFrame({'feature_names': important_features, \n",
        "                              'importance': coefs[0]})\n",
        "    plot_data = plot_data.sort_values(by='importance', ascending=False)\n",
        "    plot_data.head(100).plot.bar(x='feature_names', y='importance')\n",
        "\n",
        "  for i, r in enumerate(X_test):\n",
        "    pp = clf.predict_proba([r])\n",
        "    if pp[0][0] > 0.5:\n",
        "      proba_1[i] = pp[0][0] \n",
        "    else:\n",
        "      proba_0[i] = pp[0][1]\n",
        "\n",
        "  return proba_1, proba_0, clf"
      ],
      "execution_count": null,
      "outputs": []
    },
    {
      "cell_type": "markdown",
      "metadata": {
        "id": "_uo2QFDY6k5H"
      },
      "source": [
        "# **TPOT model selection**"
      ]
    },
    {
      "cell_type": "code",
      "metadata": {
        "id": "PdpVDzFKIl56"
      },
      "source": [
        "!pip install deap update_checker tqdm stopit xgboost"
      ],
      "execution_count": null,
      "outputs": []
    },
    {
      "cell_type": "code",
      "metadata": {
        "id": "C81nL2PeJJuD"
      },
      "source": [
        "!pip install tpot"
      ],
      "execution_count": null,
      "outputs": []
    },
    {
      "cell_type": "code",
      "metadata": {
        "id": "YWlqn1AvMfo9"
      },
      "source": [
        "from tpot import TPOTClassifier\n",
        "from tpot.config import classifier_config_dict\n",
        "from sklearn.metrics import roc_auc_score\n",
        "from sklearn.metrics import roc_curve\n",
        "import random as r"
      ],
      "execution_count": null,
      "outputs": []
    },
    {
      "cell_type": "code",
      "metadata": {
        "id": "_q5QOGvEMc3x"
      },
      "source": [
        "tpot_config = {\n",
        "    'sklearn.linear_model.LogisticRegression': {\n",
        "        'class_weight': [None, 'balanced'],\n",
        "        'max_iter': [10000]\n",
        "    },\n",
        "\n",
        "    'sklearn.neural_network.MLPClassifier': {\n",
        "        'hidden_layer_sizes': [(50, 20), (30,20)],\n",
        "        'activation': ['relu', 'logistic'],\n",
        "        'learning_rate': ['adaptive'],\n",
        "        'max_iter': [1000]\n",
        "    },\n",
        "\n",
        "    'sklearn.ensemble.GradientBoostingClassifier': {\n",
        "    }\n",
        "    #,\n",
        "\n",
        "    # 'sklearn.svm.SVC': {\n",
        "    #     'kernel': ['linear'], #, 'poly', 'rbf'],\n",
        "    #     'probability': True\n",
        "    # }\n",
        "}\n",
        "\n",
        "def get_important_features(X, \n",
        "                           Y, \n",
        "                           random=False, \n",
        "                           num_important_features=500, \n",
        "                           standarize=True):\n",
        "  if random:\n",
        "    print(\"Choosing random features...\")\n",
        "    important_features = random.sample(list(X.columns.values), num_important_features)\n",
        "  else:\n",
        "    print(\"Running RFE to find the most supportive features\")\n",
        "    support,_,ranking,important_features = get_n_most_important(num_important_features, \n",
        "                                                          X, \n",
        "                                                          Y, \n",
        "                                                          standarize=standarize)\n",
        "\n",
        "  print(\"Number of features: \", str(len(important_features)))\n",
        "  print(important_features)\n",
        "  \n",
        "  return support, ranking, important_features\n",
        "\n",
        "def teapot_optimizer(X, Y, important_features, tpot_config=tpot_config, \n",
        "                     cv=10, VALIDATION_SPLIT=0.2, category='undefined', scoring='f1_weighted',\n",
        "                     standarize=True):\n",
        "  X = X[important_features]\n",
        "\n",
        "  if standarize:\n",
        "    scaled_features = standard_scaler.fit_transform(X)\n",
        "    X = pd.DataFrame(scaled_features, index=X.index, columns=X.columns)\n",
        "\n",
        "  X_train, X_test, y_train, y_test = train_test_split(X, Y, test_size=VALIDATION_SPLIT, stratify=Y)\n",
        "\n",
        "  tpot = TPOTClassifier(generations=5, population_size=20, verbosity=2, # default: gen=5, pop=20\n",
        "                        scoring=scoring, cv=cv, subsample=VALIDATION_SPLIT,\n",
        "                        config_dict=tpot_config)\n",
        "  tpot.fit(X_train, y_train)\n",
        "\n",
        "  clf_roc_auc = roc_auc_score(y_test, tpot.predict(X_test))\n",
        "  fpr, tpr, thresholds = roc_curve(y_test, tpot.predict_proba(X_test)[:,1])\n",
        "  plt.figure()\n",
        "  plt.plot(fpr, tpr, label='Positive class classification (area = %0.2f)' % clf_roc_auc)\n",
        "  plt.plot([0, 1], [0, 1],'r--')\n",
        "  plt.xlim([0.0, 1.0])\n",
        "  plt.ylim([0.0, 1.05])\n",
        "  plt.xlabel('False Positive Rate')\n",
        "  plt.ylabel('True Positive Rate')\n",
        "  plt.title('ROC for category: ' + category + '; classifier: ' + tpot.__class__.__name__ )\n",
        "  plt.legend(loc=\"lower right\")\n",
        "  plt.savefig('Log_ROC')\n",
        "  plt.show()\n",
        "  \n",
        "  from sklearn.metrics import classification_report\n",
        "  \n",
        "  print(classification_report(y_test, tpot.predict(X_test)))\n",
        "\n",
        "  return tpot"
      ],
      "execution_count": null,
      "outputs": []
    },
    {
      "cell_type": "markdown",
      "metadata": {
        "id": "ER06P7e2L5Hz"
      },
      "source": [
        "## Load Predictions explainer"
      ]
    },
    {
      "cell_type": "code",
      "metadata": {
        "id": "zvEytammLz9P"
      },
      "source": [
        "from lime.lime_tabular import LimeTabularExplainer"
      ],
      "execution_count": null,
      "outputs": []
    },
    {
      "cell_type": "code",
      "metadata": {
        "id": "y4VSg1ZhELPI"
      },
      "source": [
        "%matplotlib inline"
      ],
      "execution_count": null,
      "outputs": []
    },
    {
      "cell_type": "markdown",
      "metadata": {
        "id": "ZsHHByREMIJY"
      },
      "source": [
        "## vaccines"
      ]
    },
    {
      "cell_type": "markdown",
      "metadata": {
        "id": "Z6BXhhu2Cvq9"
      },
      "source": [
        "### Overlapping paragraphs"
      ]
    },
    {
      "cell_type": "code",
      "metadata": {
        "id": "jzladYLiNEi3",
        "colab": {
          "base_uri": "https://localhost:8080/"
        },
        "outputId": "5c6c7392-ff49-4ec3-98ac-8ae4e452d3db"
      },
      "source": [
        "print(np.shape(vaccination_X_overlap))\n",
        "print(np.shape(vaccination_Y))"
      ],
      "execution_count": 215,
      "outputs": [
        {
          "output_type": "stream",
          "text": [
            "(1444, 2928)\n",
            "(1444,)\n"
          ],
          "name": "stdout"
        }
      ]
    },
    {
      "cell_type": "code",
      "metadata": {
        "id": "v6LEvIAdMtae",
        "colab": {
          "base_uri": "https://localhost:8080/"
        },
        "outputId": "c6458882-99c9-4f69-c07f-ebf17d693486"
      },
      "source": [
        "1444*0.3"
      ],
      "execution_count": 217,
      "outputs": [
        {
          "output_type": "execute_result",
          "data": {
            "text/plain": [
              "433.2"
            ]
          },
          "metadata": {
            "tags": []
          },
          "execution_count": 217
        }
      ]
    },
    {
      "cell_type": "code",
      "metadata": {
        "id": "4Bz7v9px2Afj"
      },
      "source": [
        "vaccination_X.head()"
      ],
      "execution_count": null,
      "outputs": []
    },
    {
      "cell_type": "code",
      "metadata": {
        "id": "DVpc2iohTB9t",
        "colab": {
          "base_uri": "https://localhost:8080/",
          "height": 476
        },
        "outputId": "a768562b-d9c0-4b54-a5bc-b661c55a277f"
      },
      "source": [
        "plt.rcParams[\"figure.figsize\"] = (8, 6) # (w, h)\n",
        "_, _, vac_important_features = get_important_features(vaccination_X_overlap, \n",
        "                                      vaccination_Y, \n",
        "                                      num_important_features=430)"
      ],
      "execution_count": 218,
      "outputs": [
        {
          "output_type": "stream",
          "text": [
            "Running RFE to find the most supportive features\n",
            "Optimal number of features : 448\n"
          ],
          "name": "stdout"
        },
        {
          "output_type": "display_data",
          "data": {
            "image/png": "[encoded data removed]",
            "text/plain": [
              "<Figure size 576x432 with 1 Axes>"
            ]
          },
          "metadata": {
            "tags": [],
            "needs_background": "light"
          }
        },
        {
          "output_type": "stream",
          "text": [
            "Number of features:  448\n",
            "['WC_liwc', 'WPS_liwc', 'Sixltr_liwc', 'ipron_liwc', 'number_liwc', 'posemo_liwc', 'tentat_liwc', 'differ_liwc', 'percept_liwc', 'bio_liwc', 'body_liwc', 'health_liwc', 'reward_liwc', 'leisure_liwc', 'home_liwc', 'informal_liwc', 'swear_liwc', 'Period_liwc', 'Comma_liwc', 'QMark_liwc', 'PERSON_NER', 'CARDINAL_NER', 'PERCENT_NER', 'ORDINAL_NER', 'MONEY_NER', 'FAC_NER', 'abroad', 'accumul', 'achiev', 'adhd', 'administr', 'adult', 'advers', 'affirm', 'after', 'age', 'aggress', 'ahead', 'aid', 'all', 'although', 'analyz', 'antidepress', 'anyon', 'approxim', 'aren', 'autism', 'avoid', 'bacteri', 'bas', 'be', 'becaus', 'beg', 'begin', 'belief', 'berg', 'biggest', 'billion', 'bissau', 'boil', 'bore', 'both', 'bout', 'brain', 'brand', 'by', 'ca', 'california', 'caregiv', 'categori', 'causat', 'cb', 'cdc', 'center', 'charg', 'chosen', 'ci', 'circul', 'claim', 'classen', 'cognit', 'columbia', 'com', 'come', 'commiss', 'commun', 'complex', 'complic', 'comprehend', 'concern', 'condemn', 'conditions', 'confer', 'confin', 'confirm', 'conflict', 'congress', 'connect', 'conserv', 'continu', 'copi', 'corrupt', 'countri', 'cover', 'creat', 'criteria', 'cross', 'current', 'data', 'deadliest', 'demonstr', 'describ', 'described', 'design', 'detect', 'diagnost', 'diarrhea', 'did', 'difficult', 'diptheria', 'director', 'discourag', 'discredit', 'disease', 'disneyland', 'disproven', 'disput', 'docu', 'document', 'dollar', 'don', 'donald', 'done', 'door', 'dozen', 'dramat', 'drop', 'dt', 'dtap', 'dtp', 'dumb', 'dysfunct', 'each', 'ear', 'earli', 'entrust', 'environ', 'epub', 'erad', 'establish', 'eventu', 'everyon', 'everyth', 'evid', 'evidenc', 'excel', 'explos', 'facad', 'face', 'fault', 'febril', 'few', 'final', 'financi', 'finnish', 'formul', 'gain', 'gallagh', 'genet', 'girl', 'given', 'go', 'got', 'govern', 'grow', 'guid', 'guinea', 'ha', 'haemophilu', 'handl', 'happen', 'harbor', 'harm', 'harvard', 'hasn', 'hazard', 'hbv', 'heat', 'heavili', 'hh', 'home', 'howev', 'hypothesi', 'ii', 'iii', 'illness', 'impact', 'improv', 'inactiv', 'increasingli', 'induc', 'industri', 'infect', 'influenc', 'ingredi', 'inher', 'inject', 'injur', 'injuri', 'inorgan', 'insert', 'instanc', 'intens', 'interfer', 'iron', 'isn', 'isol', 'jenner', 'jenni', 'kid', 'knowledg', 'lab', 'lancet', 'large', 'largest', 'last', 'later', 'lbw', 'leader', 'least', 'less', 'leukemia', 'liabil', 'life', 'like', 'likewis', 'link', 'list', 'literatur', 'liver', 'london', 'long', 'major', 'male', 'mammalian', 'manufactur', 'massiv', 'matter', 'may', 'medicaid', 'medicine', 'meningococc', 'method', 'methyl', 'metropolitan', 'mice', 'might', 'mild', 'minut', 'misrepresent', 'monitor', 'mortal', 'most', 'mostli', 'much', 'multipl', 'my', 'myelin', 'myth', 'name', 'nearli', 'nervou', 'neurotoxin', 'newer', 'nine', 'nonprofit', 'notion', 'nourish', 'obviou', 'occur', 'oppon', 'oppos', 'opposit', 'opt', 'opthalmolog', 'org', 'other', 'out', 'outbreak', 'outright', 'over', 'overgrowth', 'overload', 'paper', 'paradox', 'parent', 'patent', 'pediatrician', 'percentag', 'period', 'persist', 'peter', 'phd', 'phenotyp', 'playmat', 'plummet', 'pneumococcu', 'polioviru', 'possible', 'prenat', 'prescript', 'prioriti', 'probabl', 'procedur', 'produc', 'profit', 'propon', 'public', 'pump', 'purport', 'push', 'quick', 'race', 'rare', 'reach', 'reaffirm', 'realiz', 'reason', 'recev', 'recipi', 'recogn', 'recommend', 'recomplet', 'record', 'reformul', 'regul', 'rehash', 'reimmunized', 'repres', 'respected', 'respond', 'review', 'rigor', 'risen', 'role', 'routin', 'rural', 'sage', 'scal', 'scientif', 'scientist', 'sclerosi', 'scrutin', 'search', 'second', 'seem', 'serious', 'serotonin', 'seven', 'sever', 'share', 'ship', 'should', 'sick', 'side', 'signific', 'simpli', 'site', 'six', 'sixfold', 'sixty', 'skin', 'small', 'socioeconom', 'solut', 'specul', 'stabl', 'start', 'starv', 'statist', 'stimul', 'stop', 'suggest', 'suppos', 'suprem', 'surgeon', 'survey', 'sway', 'swell', 'systemat', 'take', 'talk', 'tax', 'telephon', 'ten', 'that', 'the', 'them', 'theoret', 'these', 'thi', 'thimerosal', 'thought', 'time', 'topic', 'toxic', 'toxoid', 'tri', 'true', 'truli', 'truth', 'type', 'unavoid', 'unit', 'unsafe', 'unten', 'up', 'uptak', 'vacat', 'vaer', 'vast', 'vastli', 'virologist', 'virtual', 'visual', 'vitamin', 'vocal', 'was', 'way', 'weaker', 'weigh', 'weight', 'well', 'went', 'whatev', 'whi', 'whit', 'white', 'who', 'whole', 'with', 'wo', 'word', 'work', 'write', 'year', 'younger', 'subjectivity_sent']\n"
          ],
          "name": "stdout"
        }
      ]
    },
    {
      "cell_type": "code",
      "metadata": {
        "id": "jlsfnYBNqPQU"
      },
      "source": [
        "num_limit = 430\n",
        "vac_important_features = vac_important_features[0:num_limit]"
      ],
      "execution_count": 219,
      "outputs": []
    },
    {
      "cell_type": "code",
      "metadata": {
        "id": "HwcjbI46dNJP",
        "colab": {
          "base_uri": "https://localhost:8080/"
        },
        "outputId": "743e9dc9-3ce0-49f0-bec8-195b399d239d"
      },
      "source": [
        "vac_important_features"
      ],
      "execution_count": 220,
      "outputs": [
        {
          "output_type": "execute_result",
          "data": {
            "text/plain": [
              "['WC_liwc',\n",
              " 'WPS_liwc',\n",
              " 'Sixltr_liwc',\n",
              " 'ipron_liwc',\n",
              " 'number_liwc',\n",
              " 'posemo_liwc',\n",
              " 'tentat_liwc',\n",
              " 'differ_liwc',\n",
              " 'percept_liwc',\n",
              " 'bio_liwc',\n",
              " 'body_liwc',\n",
              " 'health_liwc',\n",
              " 'reward_liwc',\n",
              " 'leisure_liwc',\n",
              " 'home_liwc',\n",
              " 'informal_liwc',\n",
              " 'swear_liwc',\n",
              " 'Period_liwc',\n",
              " 'Comma_liwc',\n",
              " 'QMark_liwc',\n",
              " 'PERSON_NER',\n",
              " 'CARDINAL_NER',\n",
              " 'PERCENT_NER',\n",
              " 'ORDINAL_NER',\n",
              " 'MONEY_NER',\n",
              " 'FAC_NER',\n",
              " 'abroad',\n",
              " 'accumul',\n",
              " 'achiev',\n",
              " 'adhd',\n",
              " 'administr',\n",
              " 'adult',\n",
              " 'advers',\n",
              " 'affirm',\n",
              " 'after',\n",
              " 'age',\n",
              " 'aggress',\n",
              " 'ahead',\n",
              " 'aid',\n",
              " 'all',\n",
              " 'although',\n",
              " 'analyz',\n",
              " 'antidepress',\n",
              " 'anyon',\n",
              " 'approxim',\n",
              " 'aren',\n",
              " 'autism',\n",
              " 'avoid',\n",
              " 'bacteri',\n",
              " 'bas',\n",
              " 'be',\n",
              " 'becaus',\n",
              " 'beg',\n",
              " 'begin',\n",
              " 'belief',\n",
              " 'berg',\n",
              " 'biggest',\n",
              " 'billion',\n",
              " 'bissau',\n",
              " 'boil',\n",
              " 'bore',\n",
              " 'both',\n",
              " 'bout',\n",
              " 'brain',\n",
              " 'brand',\n",
              " 'by',\n",
              " 'ca',\n",
              " 'california',\n",
              " 'caregiv',\n",
              " 'categori',\n",
              " 'causat',\n",
              " 'cb',\n",
              " 'cdc',\n",
              " 'center',\n",
              " 'charg',\n",
              " 'chosen',\n",
              " 'ci',\n",
              " 'circul',\n",
              " 'claim',\n",
              " 'classen',\n",
              " 'cognit',\n",
              " 'columbia',\n",
              " 'com',\n",
              " 'come',\n",
              " 'commiss',\n",
              " 'commun',\n",
              " 'complex',\n",
              " 'complic',\n",
              " 'comprehend',\n",
              " 'concern',\n",
              " 'condemn',\n",
              " 'conditions',\n",
              " 'confer',\n",
              " 'confin',\n",
              " 'confirm',\n",
              " 'conflict',\n",
              " 'congress',\n",
              " 'connect',\n",
              " 'conserv',\n",
              " 'continu',\n",
              " 'copi',\n",
              " 'corrupt',\n",
              " 'countri',\n",
              " 'cover',\n",
              " 'creat',\n",
              " 'criteria',\n",
              " 'cross',\n",
              " 'current',\n",
              " 'data',\n",
              " 'deadliest',\n",
              " 'demonstr',\n",
              " 'describ',\n",
              " 'described',\n",
              " 'design',\n",
              " 'detect',\n",
              " 'diagnost',\n",
              " 'diarrhea',\n",
              " 'did',\n",
              " 'difficult',\n",
              " 'diptheria',\n",
              " 'director',\n",
              " 'discourag',\n",
              " 'discredit',\n",
              " 'disease',\n",
              " 'disneyland',\n",
              " 'disproven',\n",
              " 'disput',\n",
              " 'docu',\n",
              " 'document',\n",
              " 'dollar',\n",
              " 'don',\n",
              " 'donald',\n",
              " 'done',\n",
              " 'door',\n",
              " 'dozen',\n",
              " 'dramat',\n",
              " 'drop',\n",
              " 'dt',\n",
              " 'dtap',\n",
              " 'dtp',\n",
              " 'dumb',\n",
              " 'dysfunct',\n",
              " 'each',\n",
              " 'ear',\n",
              " 'earli',\n",
              " 'entrust',\n",
              " 'environ',\n",
              " 'epub',\n",
              " 'erad',\n",
              " 'establish',\n",
              " 'eventu',\n",
              " 'everyon',\n",
              " 'everyth',\n",
              " 'evid',\n",
              " 'evidenc',\n",
              " 'excel',\n",
              " 'explos',\n",
              " 'facad',\n",
              " 'face',\n",
              " 'fault',\n",
              " 'febril',\n",
              " 'few',\n",
              " 'final',\n",
              " 'financi',\n",
              " 'finnish',\n",
              " 'formul',\n",
              " 'gain',\n",
              " 'gallagh',\n",
              " 'genet',\n",
              " 'girl',\n",
              " 'given',\n",
              " 'go',\n",
              " 'got',\n",
              " 'govern',\n",
              " 'grow',\n",
              " 'guid',\n",
              " 'guinea',\n",
              " 'ha',\n",
              " 'haemophilu',\n",
              " 'handl',\n",
              " 'happen',\n",
              " 'harbor',\n",
              " 'harm',\n",
              " 'harvard',\n",
              " 'hasn',\n",
              " 'hazard',\n",
              " 'hbv',\n",
              " 'heat',\n",
              " 'heavili',\n",
              " 'hh',\n",
              " 'home',\n",
              " 'howev',\n",
              " 'hypothesi',\n",
              " 'ii',\n",
              " 'iii',\n",
              " 'illness',\n",
              " 'impact',\n",
              " 'improv',\n",
              " 'inactiv',\n",
              " 'increasingli',\n",
              " 'induc',\n",
              " 'industri',\n",
              " 'infect',\n",
              " 'influenc',\n",
              " 'ingredi',\n",
              " 'inher',\n",
              " 'inject',\n",
              " 'injur',\n",
              " 'injuri',\n",
              " 'inorgan',\n",
              " 'insert',\n",
              " 'instanc',\n",
              " 'intens',\n",
              " 'interfer',\n",
              " 'iron',\n",
              " 'isn',\n",
              " 'isol',\n",
              " 'jenner',\n",
              " 'jenni',\n",
              " 'kid',\n",
              " 'knowledg',\n",
              " 'lab',\n",
              " 'lancet',\n",
              " 'large',\n",
              " 'largest',\n",
              " 'last',\n",
              " 'later',\n",
              " 'lbw',\n",
              " 'leader',\n",
              " 'least',\n",
              " 'less',\n",
              " 'leukemia',\n",
              " 'liabil',\n",
              " 'life',\n",
              " 'like',\n",
              " 'likewis',\n",
              " 'link',\n",
              " 'list',\n",
              " 'literatur',\n",
              " 'liver',\n",
              " 'london',\n",
              " 'long',\n",
              " 'major',\n",
              " 'male',\n",
              " 'mammalian',\n",
              " 'manufactur',\n",
              " 'massiv',\n",
              " 'matter',\n",
              " 'may',\n",
              " 'medicaid',\n",
              " 'medicine',\n",
              " 'meningococc',\n",
              " 'method',\n",
              " 'methyl',\n",
              " 'metropolitan',\n",
              " 'mice',\n",
              " 'might',\n",
              " 'mild',\n",
              " 'minut',\n",
              " 'misrepresent',\n",
              " 'monitor',\n",
              " 'mortal',\n",
              " 'most',\n",
              " 'mostli',\n",
              " 'much',\n",
              " 'multipl',\n",
              " 'my',\n",
              " 'myelin',\n",
              " 'myth',\n",
              " 'name',\n",
              " 'nearli',\n",
              " 'nervou',\n",
              " 'neurotoxin',\n",
              " 'newer',\n",
              " 'nine',\n",
              " 'nonprofit',\n",
              " 'notion',\n",
              " 'nourish',\n",
              " 'obviou',\n",
              " 'occur',\n",
              " 'oppon',\n",
              " 'oppos',\n",
              " 'opposit',\n",
              " 'opt',\n",
              " 'opthalmolog',\n",
              " 'org',\n",
              " 'other',\n",
              " 'out',\n",
              " 'outbreak',\n",
              " 'outright',\n",
              " 'over',\n",
              " 'overgrowth',\n",
              " 'overload',\n",
              " 'paper',\n",
              " 'paradox',\n",
              " 'parent',\n",
              " 'patent',\n",
              " 'pediatrician',\n",
              " 'percentag',\n",
              " 'period',\n",
              " 'persist',\n",
              " 'peter',\n",
              " 'phd',\n",
              " 'phenotyp',\n",
              " 'playmat',\n",
              " 'plummet',\n",
              " 'pneumococcu',\n",
              " 'polioviru',\n",
              " 'possible',\n",
              " 'prenat',\n",
              " 'prescript',\n",
              " 'prioriti',\n",
              " 'probabl',\n",
              " 'procedur',\n",
              " 'produc',\n",
              " 'profit',\n",
              " 'propon',\n",
              " 'public',\n",
              " 'pump',\n",
              " 'purport',\n",
              " 'push',\n",
              " 'quick',\n",
              " 'race',\n",
              " 'rare',\n",
              " 'reach',\n",
              " 'reaffirm',\n",
              " 'realiz',\n",
              " 'reason',\n",
              " 'recev',\n",
              " 'recipi',\n",
              " 'recogn',\n",
              " 'recommend',\n",
              " 'recomplet',\n",
              " 'record',\n",
              " 'reformul',\n",
              " 'regul',\n",
              " 'rehash',\n",
              " 'reimmunized',\n",
              " 'repres',\n",
              " 'respected',\n",
              " 'respond',\n",
              " 'review',\n",
              " 'rigor',\n",
              " 'risen',\n",
              " 'role',\n",
              " 'routin',\n",
              " 'rural',\n",
              " 'sage',\n",
              " 'scal',\n",
              " 'scientif',\n",
              " 'scientist',\n",
              " 'sclerosi',\n",
              " 'scrutin',\n",
              " 'search',\n",
              " 'second',\n",
              " 'seem',\n",
              " 'serious',\n",
              " 'serotonin',\n",
              " 'seven',\n",
              " 'sever',\n",
              " 'share',\n",
              " 'ship',\n",
              " 'should',\n",
              " 'sick',\n",
              " 'side',\n",
              " 'signific',\n",
              " 'simpli',\n",
              " 'site',\n",
              " 'six',\n",
              " 'sixfold',\n",
              " 'sixty',\n",
              " 'skin',\n",
              " 'small',\n",
              " 'socioeconom',\n",
              " 'solut',\n",
              " 'specul',\n",
              " 'stabl',\n",
              " 'start',\n",
              " 'starv',\n",
              " 'statist',\n",
              " 'stimul',\n",
              " 'stop',\n",
              " 'suggest',\n",
              " 'suppos',\n",
              " 'suprem',\n",
              " 'surgeon',\n",
              " 'survey',\n",
              " 'sway',\n",
              " 'swell',\n",
              " 'systemat',\n",
              " 'take',\n",
              " 'talk',\n",
              " 'tax',\n",
              " 'telephon',\n",
              " 'ten',\n",
              " 'that',\n",
              " 'the',\n",
              " 'them',\n",
              " 'theoret',\n",
              " 'these',\n",
              " 'thi',\n",
              " 'thimerosal',\n",
              " 'thought',\n",
              " 'time',\n",
              " 'topic',\n",
              " 'toxic',\n",
              " 'toxoid',\n",
              " 'tri',\n",
              " 'true',\n",
              " 'truli',\n",
              " 'truth',\n",
              " 'type',\n",
              " 'unavoid',\n",
              " 'unit',\n",
              " 'unsafe',\n",
              " 'unten',\n",
              " 'up',\n",
              " 'uptak',\n",
              " 'vacat',\n",
              " 'vaer',\n",
              " 'vast',\n",
              " 'vastli',\n",
              " 'virologist',\n",
              " 'virtual',\n",
              " 'visual',\n",
              " 'vitamin',\n",
              " 'vocal',\n",
              " 'was',\n",
              " 'way',\n",
              " 'weaker']"
            ]
          },
          "metadata": {
            "tags": []
          },
          "execution_count": 220
        }
      ]
    },
    {
      "cell_type": "code",
      "metadata": {
        "id": "XkoUgziXMKqe",
        "colab": {
          "base_uri": "https://localhost:8080/",
          "height": 794,
          "referenced_widgets": [
            "b044a7a73bb24f7e9bcaca14638fc381",
            "b6a823627e824513bb8556372c592207",
            "88a2711bf9384e988071cd5786ecf53e",
            "113d934d244940ffa8da87d0c9bb59f4",
            "4defa3aedba4428d836c59e0ccb3be52",
            "0c099249930345879667e746ab8adbe1",
            "14362216f62940e2b4462d9f540f76fc",
            "ffc6125b25c944ea84d34538c3548a50"
          ]
        },
        "outputId": "d71e62f4-0ef7-4ddf-b623-6e0684facfd1"
      },
      "source": [
        "tpot_vac = teapot_optimizer(vaccination_X_overlap, \n",
        "                            vaccination_Y,\n",
        "                            important_features = vac_important_features,\n",
        "                            standarize=True)\n",
        "vac_pipeline = tpot_vac.fitted_pipeline_.steps[-1][1]\n",
        "# pickle.dump(tpot_vac.fitted_pipeline_, open('/content/drive/My Drive/Colab Notebooks/vac_fitted_pipeline.p','wb'))"
      ],
      "execution_count": 221,
      "outputs": [
        {
          "output_type": "stream",
          "text": [
            "Warning: Although subsample can accelerate pipeline optimization process, too small training sample size may cause unpredictable effect on maximizing score in pipeline optimization process. Increasing subsample ratio may get a more reasonable outcome from optimization process in TPOT.\n"
          ],
          "name": "stdout"
        },
        {
          "output_type": "display_data",
          "data": {
            "application/vnd.jupyter.widget-view+json": {
              "model_id": "b044a7a73bb24f7e9bcaca14638fc381",
              "version_minor": 0,
              "version_major": 2
            },
            "text/plain": [
              "HBox(children=(FloatProgress(value=0.0, description='Optimization Progress', max=120.0, style=ProgressStyle(de…"
            ]
          },
          "metadata": {
            "tags": []
          }
        },
        {
          "output_type": "stream",
          "text": [
            "\r\n",
            "Generation 1 - Current best internal CV score: 0.8029880125252177\n",
            "\n",
            "Generation 2 - Current best internal CV score: 0.8029880125252177\n",
            "\n",
            "Generation 3 - Current best internal CV score: 0.8049376082854343\n",
            "\n",
            "Generation 4 - Current best internal CV score: 0.8049376082854343\n",
            "\n",
            "Generation 5 - Current best internal CV score: 0.8049376082854343\n",
            "\n",
            "Best pipeline: MLPClassifier(MLPClassifier(input_matrix, activation=logistic, hidden_layer_sizes=(50, 20), learning_rate=adaptive, max_iter=1000), activation=relu, hidden_layer_sizes=(30, 20), learning_rate=adaptive, max_iter=1000)\n"
          ],
          "name": "stdout"
        },
        {
          "output_type": "display_data",
          "data": {
            "image/png": "[encoded data removed]",
            "text/plain": [
              "<Figure size 576x432 with 1 Axes>"
            ]
          },
          "metadata": {
            "tags": [],
            "needs_background": "light"
          }
        },
        {
          "output_type": "stream",
          "text": [
            "              precision    recall  f1-score   support\n",
            "\n",
            "           0       0.77      0.74      0.76       137\n",
            "           1       0.78      0.80      0.79       152\n",
            "\n",
            "    accuracy                           0.78       289\n",
            "   macro avg       0.77      0.77      0.77       289\n",
            "weighted avg       0.78      0.78      0.77       289\n",
            "\n"
          ],
          "name": "stdout"
        }
      ]
    },
    {
      "cell_type": "code",
      "metadata": {
        "id": "JQNJReM0253o",
        "colab": {
          "base_uri": "https://localhost:8080/",
          "height": 374
        },
        "outputId": "62277a15-e5dd-4007-e7c7-1942e45026a3"
      },
      "source": [
        "vac_label_counter = Counter(vaccination_Y)\n",
        "plt.bar(x=['CRED', 'NONCRED'], height=vac_label_counter.values(), width=0.4, color=['g', 'r'])\n",
        "plt.ylabel('# of paragraphs within a class')\n",
        "plt.show()"
      ],
      "execution_count": 222,
      "outputs": [
        {
          "output_type": "display_data",
          "data": {
            "image/png": "[encoded data removed]",
            "text/plain": [
              "<Figure size 576x432 with 1 Axes>"
            ]
          },
          "metadata": {
            "tags": [],
            "needs_background": "light"
          }
        }
      ]
    },
    {
      "cell_type": "code",
      "metadata": {
        "id": "6grk6WZSb-L1",
        "colab": {
          "base_uri": "https://localhost:8080/"
        },
        "outputId": "6fa2b335-9c08-44f9-f6ab-72a7dc044c58"
      },
      "source": [
        "mean_weighted_f1(vac_pipeline, vaccination_X_overlap[vac_important_features], vaccination_Y, 20, 0.2)"
      ],
      "execution_count": 223,
      "outputs": [
        {
          "output_type": "stream",
          "text": [
            "\u001b[1mMean weighted f1: \u001b[0m 0.9048249420225257 \u001b[1m STD: \u001b[0m 0.019027428818946528\n",
            "\u001b[1mMean micro f1: \u001b[0m 0.9050173010380623 \u001b[1m STD: \u001b[0m 0.018935747072963367\n"
          ],
          "name": "stdout"
        }
      ]
    },
    {
      "cell_type": "code",
      "metadata": {
        "id": "KAE4igq2-iGb",
        "colab": {
          "base_uri": "https://localhost:8080/",
          "height": 404
        },
        "outputId": "c35f6f1d-9523-40ec-bf63-a544ca7d6301"
      },
      "source": [
        "show_auc_for_cv(vac_pipeline, vaccination_X_overlap[vac_important_features], vaccination_Y, n_splits=10)"
      ],
      "execution_count": 224,
      "outputs": [
        {
          "output_type": "display_data",
          "data": {
            "image/png": "[encoded data removed]",
            "text/plain": [
              "<Figure size 576x432 with 1 Axes>"
            ]
          },
          "metadata": {
            "tags": [],
            "needs_background": "light"
          }
        }
      ]
    },
    {
      "cell_type": "code",
      "metadata": {
        "id": "VFdDVfAUgKA6",
        "colab": {
          "base_uri": "https://localhost:8080/",
          "height": 597
        },
        "outputId": "2bf058f3-71a4-4998-dcea-1758402f4d4b"
      },
      "source": [
        "plt.rcParams[\"figure.figsize\"] = (20, 8) # (w, h)\n",
        "proba_1, proba_0, vaccination_clf = predict_proba_hist(vac_pipeline, \n",
        "                                      vaccination_X_overlap, \n",
        "                                      vaccination_Y, \n",
        "                                      vac_important_features)"
      ],
      "execution_count": 225,
      "outputs": [
        {
          "output_type": "stream",
          "text": [
            "Model: MLPClassifier(activation='relu', alpha=0.0001, batch_size='auto', beta_1=0.9,\n",
            "              beta_2=0.999, early_stopping=False, epsilon=1e-08,\n",
            "              hidden_layer_sizes=(30, 20), learning_rate='adaptive',\n",
            "              learning_rate_init=0.001, max_fun=15000, max_iter=1000,\n",
            "              momentum=0.9, n_iter_no_change=10, nesterovs_momentum=True,\n",
            "              power_t=0.5, random_state=None, shuffle=True, solver='adam',\n",
            "              tol=0.0001, validation_fraction=0.1, verbose=False,\n",
            "              warm_start=False)\n",
            "Loading LIME feature importance retrieval model...\n"
          ],
          "name": "stdout"
        },
        {
          "output_type": "display_data",
          "data": {
            "image/png": "[encoded data removed]",
            "text/plain": [
              "<Figure size 1440x576 with 1 Axes>"
            ]
          },
          "metadata": {
            "tags": [],
            "needs_background": "light"
          }
        }
      ]
    },
    {
      "cell_type": "code",
      "metadata": {
        "id": "IiypnE1N4ubB",
        "colab": {
          "base_uri": "https://localhost:8080/",
          "height": 374
        },
        "outputId": "022ca1f9-7873-4f30-cdbc-129957d8c06c"
      },
      "source": [
        "plt.rcParams[\"figure.figsize\"] = (8, 6) # (w, h)\n",
        "plt.hist(proba_1.values(), bins=10, color='g')\n",
        "plt.show()"
      ],
      "execution_count": 226,
      "outputs": [
        {
          "output_type": "display_data",
          "data": {
            "image/png": "[encoded data removed]",
            "text/plain": [
              "<Figure size 576x432 with 1 Axes>"
            ]
          },
          "metadata": {
            "tags": [],
            "needs_background": "light"
          }
        }
      ]
    },
    {
      "cell_type": "code",
      "metadata": {
        "id": "drd8EMByeaoy",
        "colab": {
          "base_uri": "https://localhost:8080/",
          "height": 374
        },
        "outputId": "baf66713-668e-4c95-d52f-8fd638b79520"
      },
      "source": [
        "plt.hist(proba_0.values(), bins=10, color='r')\n",
        "plt.show()"
      ],
      "execution_count": 227,
      "outputs": [
        {
          "output_type": "display_data",
          "data": {
            "image/png": "[encoded data removed]",
            "text/plain": [
              "<Figure size 576x432 with 1 Axes>"
            ]
          },
          "metadata": {
            "tags": [],
            "needs_background": "light"
          }
        }
      ]
    },
    {
      "cell_type": "markdown",
      "metadata": {
        "id": "hM4DcfgjDMBq"
      },
      "source": [
        "### Non-overlapping paragraphs"
      ]
    },
    {
      "cell_type": "code",
      "metadata": {
        "id": "YWVxBbfYDRU1",
        "colab": {
          "base_uri": "https://localhost:8080/"
        },
        "outputId": "8ca6e12f-d18e-4201-837f-44305601345f"
      },
      "source": [
        "print(np.shape(vaccination_X))\n",
        "print(np.shape(vaccination_Y))"
      ],
      "execution_count": 229,
      "outputs": [
        {
          "output_type": "stream",
          "text": [
            "(482, 2854)\n",
            "(1444,)\n"
          ],
          "name": "stdout"
        }
      ]
    },
    {
      "cell_type": "code",
      "metadata": {
        "id": "ynYZb9RdEADg"
      },
      "source": [
        "plt.rcParams[\"figure.figsize\"] = (8, 6) # (w, h)\n",
        "_, _, vac_important_features = get_important_features(vaccination_X, \n",
        "                                      vaccination_Y, \n",
        "                                      num_important_features=100)"
      ],
      "execution_count": null,
      "outputs": []
    },
    {
      "cell_type": "code",
      "metadata": {
        "id": "i4vJo3w1EJZb"
      },
      "source": [
        "num_limit = 140\n",
        "vac_important_features = vac_important_features[0:num_limit]"
      ],
      "execution_count": null,
      "outputs": []
    },
    {
      "cell_type": "code",
      "metadata": {
        "id": "MDlzAC9cEPOM"
      },
      "source": [
        "tpot_vac = teapot_optimizer(vaccination_X, \n",
        "                            vaccination_Y,\n",
        "                            important_features = vac_important_features,\n",
        "                            standarize=True)\n",
        "vac_pipeline = tpot_vac.fitted_pipeline_.steps[-1][1]"
      ],
      "execution_count": null,
      "outputs": []
    },
    {
      "cell_type": "code",
      "metadata": {
        "id": "X4rC9-LwEj2q"
      },
      "source": [
        "show_auc_for_cv(vac_pipeline, vaccination_X[vac_important_features], vaccination_Y, n_splits=10)"
      ],
      "execution_count": null,
      "outputs": []
    },
    {
      "cell_type": "code",
      "metadata": {
        "id": "lmTeZoy3Ed0L"
      },
      "source": [
        "vac_label_counter = Counter(vaccination_Y)\n",
        "plt.bar(x=['CRED', 'NONCRED'], height=vac_label_counter.values(), width=0.4, color=['g', 'r'])\n",
        "plt.ylabel('# of paragraphs within a class')\n",
        "plt.show()"
      ],
      "execution_count": null,
      "outputs": []
    },
    {
      "cell_type": "markdown",
      "metadata": {
        "id": "OhsLELnwNOs2"
      },
      "source": [
        "## statins"
      ]
    },
    {
      "cell_type": "markdown",
      "metadata": {
        "id": "X1SqmCB3YUuf"
      },
      "source": [
        "### Overlapping paragraphs"
      ]
    },
    {
      "cell_type": "code",
      "metadata": {
        "id": "eFdcJtGXjBU4"
      },
      "source": [
        "print(np.shape(statins_X_overlap))\n",
        "print(np.shape(statins_Y))"
      ],
      "execution_count": null,
      "outputs": []
    },
    {
      "cell_type": "code",
      "metadata": {
        "id": "1nq2amEbYvht"
      },
      "source": [
        "1917*0.3"
      ],
      "execution_count": null,
      "outputs": []
    },
    {
      "cell_type": "code",
      "metadata": {
        "id": "N8pYfpcD8bwp"
      },
      "source": [
        "statins_X_overlap.head()"
      ],
      "execution_count": null,
      "outputs": []
    },
    {
      "cell_type": "code",
      "metadata": {
        "id": "RziRMNOaf0aM"
      },
      "source": [
        "_, _, statins_important_features = get_important_features(statins_X_overlap, \n",
        "                                      statins_Y, \n",
        "                                      num_important_features=575)"
      ],
      "execution_count": null,
      "outputs": []
    },
    {
      "cell_type": "markdown",
      "metadata": {
        "id": "JjQYmb7Rp4M3"
      },
      "source": [
        "Number of important festure for the current visualization is: 1140"
      ]
    },
    {
      "cell_type": "code",
      "metadata": {
        "id": "PPJUv-91NQ4_",
        "colab": {
          "base_uri": "https://localhost:8080/",
          "height": 810,
          "referenced_widgets": [
            "59862e2dd4724faca10162b2317d3995"
          ]
        },
        "outputId": "0dd3c522-3f14-4776-9f9e-237442895ead"
      },
      "source": [
        "tpot_statins = teapot_optimizer(statins_X_overlap, \n",
        "                             statins_Y,\n",
        "                             important_features = statins_important_features)\n",
        "# pickle.dump(tpot_stat.fitted_pipeline_, open('/content/drive/My Drive/Colab Notebooks/stat_fitted_pipeline.p','wb'))"
      ],
      "execution_count": 206,
      "outputs": [
        {
          "output_type": "stream",
          "text": [
            "Warning: Although subsample can accelerate pipeline optimization process, too small training sample size may cause unpredictable effect on maximizing score in pipeline optimization process. Increasing subsample ratio may get a more reasonable outcome from optimization process in TPOT.\n"
          ],
          "name": "stdout"
        },
        {
          "output_type": "display_data",
          "data": {
            "application/vnd.jupyter.widget-view+json": {
              "model_id": "59862e2dd4724faca10162b2317d3995",
              "version_major": 2,
              "version_minor": 0
            },
            "text/plain": [
              "HBox(children=(FloatProgress(value=0.0, description='Optimization Progress', max=120.0, style=ProgressStyle(de…"
            ]
          },
          "metadata": {
            "tags": []
          }
        },
        {
          "output_type": "stream",
          "text": [
            "\n",
            "Generation 1 - Current best internal CV score: 0.7724213542117969\n",
            "\n",
            "Generation 2 - Current best internal CV score: 0.7789461592794272\n",
            "\n",
            "Generation 3 - Current best internal CV score: 0.7789461592794272\n",
            "\n",
            "Generation 4 - Current best internal CV score: 0.7789461592794272\n",
            "\n",
            "Generation 5 - Current best internal CV score: 0.7820022546342561\n",
            "\n",
            "Best pipeline: MLPClassifier(GradientBoostingClassifier(input_matrix), activation=logistic, hidden_layer_sizes=(50, 20), learning_rate=adaptive, max_iter=1000)\n"
          ],
          "name": "stdout"
        },
        {
          "output_type": "display_data",
          "data": {
            "image/png": "[encoded data removed]",
            "text/plain": [
              "<Figure size 576x432 with 1 Axes>"
            ]
          },
          "metadata": {
            "tags": [],
            "needs_background": "light"
          }
        },
        {
          "output_type": "stream",
          "text": [
            "              precision    recall  f1-score   support\n",
            "\n",
            "           0       0.68      0.83      0.75       142\n",
            "           1       0.89      0.77      0.83       242\n",
            "\n",
            "    accuracy                           0.79       384\n",
            "   macro avg       0.78      0.80      0.79       384\n",
            "weighted avg       0.81      0.79      0.80       384\n",
            "\n"
          ],
          "name": "stdout"
        }
      ]
    },
    {
      "cell_type": "code",
      "metadata": {
        "id": "g8BP58enAN3s"
      },
      "source": [
        "statins_fitted_pipeline = tpot_statins.fitted_pipeline_.steps[-1][1]"
      ],
      "execution_count": 207,
      "outputs": []
    },
    {
      "cell_type": "code",
      "metadata": {
        "id": "ao_BDILs1IYa"
      },
      "source": [
        "stat_pipeline = pickle.load(open('/content/drive/My Drive/Colab Notebooks/stat_fitted_pipeline.p','rb'))"
      ],
      "execution_count": null,
      "outputs": []
    },
    {
      "cell_type": "code",
      "metadata": {
        "id": "L7aO-ezw1MT2"
      },
      "source": [
        "stat_important_features = ['Dic', 'function', 'pronoun', 'shehe', 'ipron', 'adverb', 'negate', 'interrog', 'friend', 'cogproc', 'cause', 'focusfuture', 'money', 'Period', 'QMark', 'Dash', 'GPE', 'TIME', 'WORK_OF_ART', 'abil', 'academ', 'accept', 'accus', 'ach', 'acid', 'across', 'al', 'alon', 'alreadi', 'also', 'among', 'analys', 'angri', 'apoprotein', 'appar', 'arora', 'assess', 'assum', 'asterisk', 'at', 'attent', 'bake', 'becom', 'behind', 'below', 'better', 'bile', 'blame', 'blind', 'blog', 'blood', 'boast', 'bottl', 'bottom', 'bowden', 'bp', 'burden', 'businessweek', 'cancer', 'case', 'cataract', 'cdc', 'centr', 'centuri', 'certain', 'chanc', 'chose', 'cite', 'close', 'clot', 'column', 'common', 'compar', 'complic', 'conclud', 'conclus', 'consider', 'constrict', 'consum', 'consumption', 'contain', 'contradict', 'contrast', 'convent', 'convinc', 'coq', 'cortison', 'cours', 'creatin', 'crucial', 'ctt', 'current', 'declar', 'defin', 'deliber', 'demand', 'dementia', 'deposit', 'depress', 'deriv', 'design', 'destabil', 'destroy', 'diabet', 'diagnos', 'diagnosi', 'didn', 'diet', 'differ', 'difficult', 'digest', 'director', 'disease', 'dispos', 'do', 'doctor', 'domin', 'dos', 'dosag', 'doses', 'doubl', 'dramat', 'drastic', 'drew', 'drink', 'each', 'easi', 'eat', 'editor', 'effici', 'encourag', 'enig', 'entir', 'epidem', 'equival', 'eschew', 'everybodi', 'evidence', 'exact', 'exagger', 'excess', 'explor', 'express', 'fact', 'factor', 'fairli', 'fallon', 'fals', 'fatigu', 'fewer', 'fibr', 'flour', 'fluffi', 'food', 'for', 'forc', 'fortun', 'frame', 'from', 'fructos', 'fulli', 'gain', 'give', 'glanc', 'glia', 'gone', 'gp', 'grain', 'grass', 'green', 'grill', 'gun', 'hand', 'health', 'herein', 'hi', 'ideal', 'identif', 'ignor', 'ill', 'inabl', 'indiffer', 'inflamm', 'influenti', 'inform', 'inhibitor', 'insuffici', 'insur', 'intens', 'interest', 'intermedi', 'intestin', 'invest', 'involv', 'jama', 'job', 'journal', 'just', 'kept', 'kinas', 'landmark', 'last', 'late', 'legaci', 'lenfant', 'liabl', 'lie', 'life', 'lifestyl', 'lifetim', 'lipitor', 'list', 'liter', 'liver', 'long', 'look', 'lou', 'lower', 'lowest', 'man', 'mann', 'marilyn', 'marker', 'market', 'may', 'measur', 'mediat', 'medic', 'medicin', 'meet', 'metabol', 'metal', 'microwav', 'mid', 'middl', 'might', 'mind', 'money', 'monitor', 'multipl', 'munich', 'muscl', 'myalgia', 'myth', 'narrow', 'nasti', 'never', 'nhlbi', 'nih', 'nine', 'normal', 'not', 'notic', 'notifi', 'notion', 'now', 'numer', 'obese', 'obtain', 'often', 'oil', 'old', 'oliv', 'omega', 'or', 'out', 'outlin', 'over', 'overestim', 'pan', 'particip', 'particl', 'particularli', 'patient', 'pattern', 'percent', 'percentag', 'perform', 'pharmaceut', 'pharmaci', 'phenomenon', 'plaqu', 'plu', 'polyunsatur', 'pool', 'possibl', 'potenti', 'predispos', 'prefer', 'presenc', 'price', 'prize', 'probabl', 'proper', 'pure', 'qual', 'quarter', 'radic', 'rate', 'ratio', 'raw', 'realis', 'recent', 'recommend', 'record', 'reduc', 'refut', 'regularly', 'repeatedli', 'report', 'repres', 'resist', 'respect', 'restor', 'return', 'rice', 'sachdev', 'sale', 'same', 'sav', 'scientist', 'score', 'seafood', 'seem', 'seen', 'seriou', 'serv', 'set', 'shellfish', 'shop', 'should', 'shuttl', 'silenc', 'sir', 'slight', 'sober', 'sold', 'sole', 'solut', 'spike', 'standard', 'statement', 'statin', 'statist', 'steam', 'store', 'studi', 'submit', 'substanti', 'such', 'supplement', 'surrog', 'synergis', 'synthesi', 'take', 'talk', 'task', 'team', 'telegraph', 'tell', 'term', 'themselv', 'these', 'thicken', 'thing', 'third', 'threaten', 'three', 'too', 'topol', 'total', 'tran', 'tri', 'trigylcerid', 'trump', 'turn', 'twelv', 'two', 'unhealthi', 'unusu', 'upon', 'valid', 'vari', 'varieti', 've', 'we', 'webmd', 'weight', 'what', 'when', 'whi', 'who', 'wildli', 'word', 'worri', 'wors', 'worthwhil', 'written', 'zero', 'polarity']"
      ],
      "execution_count": null,
      "outputs": []
    },
    {
      "cell_type": "code",
      "metadata": {
        "id": "bKj6Po0rgH9L",
        "colab": {
          "base_uri": "https://localhost:8080/"
        },
        "outputId": "464a71a5-e7d6-47db-b089-887667e501a5"
      },
      "source": [
        "mean_weighted_f1(statins_fitted_pipeline, statins_X_overlap[statins_important_features], statins_Y, 20, 0.2)"
      ],
      "execution_count": 208,
      "outputs": [
        {
          "output_type": "stream",
          "text": [
            "\u001b[1mMean weighted f1: \u001b[0m 0.888395008221023 \u001b[1m STD: \u001b[0m 0.019302490254897647\n",
            "\u001b[1mMean micro f1: \u001b[0m 0.8893229166666666 \u001b[1m STD: \u001b[0m 0.018624799006186167\n"
          ],
          "name": "stdout"
        }
      ]
    },
    {
      "cell_type": "code",
      "metadata": {
        "id": "Mgi3lu4O5KSP",
        "colab": {
          "base_uri": "https://localhost:8080/",
          "height": 374
        },
        "outputId": "d1a271cf-6a20-41cc-b04f-dd9278516c47"
      },
      "source": [
        "stat_label_counter = Counter(statins_Y)\n",
        "plt.bar(x=['CRED', 'NONCRED'], height=stat_label_counter.values(), width=0.4, color=['g', 'r'])\n",
        "plt.ylabel('# of paragraphs within a class')\n",
        "plt.show()"
      ],
      "execution_count": 209,
      "outputs": [
        {
          "output_type": "display_data",
          "data": {
            "image/png": "[encoded data removed]",
            "text/plain": [
              "<Figure size 576x432 with 1 Axes>"
            ]
          },
          "metadata": {
            "tags": [],
            "needs_background": "light"
          }
        }
      ]
    },
    {
      "cell_type": "code",
      "metadata": {
        "id": "ALgdD1umBBQU",
        "colab": {
          "base_uri": "https://localhost:8080/",
          "height": 404
        },
        "outputId": "6967064c-c06e-4329-fb4c-a5f96506984b"
      },
      "source": [
        "show_auc_for_cv(statins_fitted_pipeline, statins_X_overlap[statins_important_features], statins_Y, n_splits=10)"
      ],
      "execution_count": 210,
      "outputs": [
        {
          "output_type": "display_data",
          "data": {
            "image/png": "[encoded data removed]",
            "text/plain": [
              "<Figure size 576x432 with 1 Axes>"
            ]
          },
          "metadata": {
            "tags": [],
            "needs_background": "light"
          }
        }
      ]
    },
    {
      "cell_type": "code",
      "metadata": {
        "id": "z2WcrmhMhqmP",
        "colab": {
          "base_uri": "https://localhost:8080/",
          "height": 704
        },
        "outputId": "65be2de5-d681-44e6-cefb-d43a77dfdb00"
      },
      "source": [
        "plt.rcParams[\"figure.figsize\"] = (16, 9) # (w, h)\n",
        "proba_1, proba_0, statins_clf = predict_proba_hist(statins_fitted_pipeline, \n",
        "                                      statins_X_overlap , \n",
        "                                      statins_Y, \n",
        "                                      statins_important_features)"
      ],
      "execution_count": 212,
      "outputs": [
        {
          "output_type": "stream",
          "text": [
            "Model: MLPClassifier(activation='logistic', alpha=0.0001, batch_size='auto',\n",
            "              beta_1=0.9, beta_2=0.999, early_stopping=False, epsilon=1e-08,\n",
            "              hidden_layer_sizes=(50, 20), learning_rate='adaptive',\n",
            "              learning_rate_init=0.001, max_fun=15000, max_iter=1000,\n",
            "              momentum=0.9, n_iter_no_change=10, nesterovs_momentum=True,\n",
            "              power_t=0.5, random_state=None, shuffle=True, solver='adam',\n",
            "              tol=0.0001, validation_fraction=0.1, verbose=False,\n",
            "              warm_start=False)\n",
            "Loading LIME feature importance retrieval model...\n"
          ],
          "name": "stdout"
        },
        {
          "output_type": "display_data",
          "data": {
            "image/png": "[encoded data removed]",
            "text/plain": [
              "<Figure size 1152x648 with 1 Axes>"
            ]
          },
          "metadata": {
            "tags": [],
            "needs_background": "light"
          }
        }
      ]
    },
    {
      "cell_type": "code",
      "metadata": {
        "id": "0coKBIIR9Umw",
        "colab": {
          "base_uri": "https://localhost:8080/",
          "height": 374
        },
        "outputId": "b3974c70-a437-488d-9dea-a58e84671466"
      },
      "source": [
        "plt.rcParams[\"figure.figsize\"] = (8, 6) # (w, h)\n",
        "plt.hist(proba_1.values(), bins=10, color='g')\n",
        "plt.show()"
      ],
      "execution_count": 213,
      "outputs": [
        {
          "output_type": "display_data",
          "data": {
            "image/png": "[encoded data removed]",
            "text/plain": [
              "<Figure size 576x432 with 1 Axes>"
            ]
          },
          "metadata": {
            "tags": [],
            "needs_background": "light"
          }
        }
      ]
    },
    {
      "cell_type": "code",
      "metadata": {
        "id": "bO8lnN3XiGSa",
        "colab": {
          "base_uri": "https://localhost:8080/",
          "height": 374
        },
        "outputId": "c42d000d-2784-4e7b-ad5d-7b0999430eb6"
      },
      "source": [
        "plt.hist(proba_0.values(), bins=10, color='r')\n",
        "plt.show()"
      ],
      "execution_count": 214,
      "outputs": [
        {
          "output_type": "display_data",
          "data": {
            "image/png": "[encoded data removed]",
            "text/plain": [
              "<Figure size 576x432 with 1 Axes>"
            ]
          },
          "metadata": {
            "tags": [],
            "needs_background": "light"
          }
        }
      ]
    },
    {
      "cell_type": "markdown",
      "metadata": {
        "id": "CVjHEylTpW7w"
      },
      "source": [
        "### Non-overlapping paragraphs"
      ]
    },
    {
      "cell_type": "markdown",
      "metadata": {
        "id": "oBUE_NjgNUen"
      },
      "source": [
        "## ssri_during_pregnancy"
      ]
    },
    {
      "cell_type": "code",
      "metadata": {
        "id": "asUducbbgSTL"
      },
      "source": [
        "_, _, ssri_during_pregnancy_important_features = get_important_features(ssri_during_pregnancy_X, \n",
        "                                      ssri_during_pregnancy_Y, \n",
        "                                      num_important_features=100, \n",
        "                                      num_limit=50)"
      ],
      "execution_count": null,
      "outputs": []
    },
    {
      "cell_type": "code",
      "metadata": {
        "id": "P1nJHeAXNZ3D"
      },
      "source": [
        "tpot_ssri_during_pregnancy = teapot_optimizer(ssri_during_pregnancy_X, \n",
        "                             ssri_during_pregnancy_Y,\n",
        "                             important_features = ssri_during_pregnancy_important_features,\n",
        "                             VALIDATION_SPLIT=0.3,\n",
        "                             scoring='f1_weighted',\n",
        "                             cv=5)\n",
        "ssri_during_pregnancy_fitted_pipeline = tpot_ssri_during_pregnancy.fitted_pipeline_.steps[-1][1]\n",
        "# pickle.dump(tpot_ssri.fitted_pipeline_, open('/content/drive/My Drive/Colab Notebooks/ssri_fitted_pipeline.p','wb'))"
      ],
      "execution_count": null,
      "outputs": []
    },
    {
      "cell_type": "code",
      "metadata": {
        "id": "u56qaEBN4D2H"
      },
      "source": [
        "ssri_important_features = ['Analytic', 'Clout', 'Authentic', 'Tone', 'Dic', 'function', 'pronoun', 'ppron', 'you', 'they', 'article', 'adverb', 'conj', 'verb', 'adj', 'compare', 'interrog', 'number', 'anx', 'social', 'family', 'friend', 'male', 'insight', 'cause', 'see', 'hear', 'bio', 'body', 'health', 'sexual', 'ingest', 'drives', 'achieve', 'reward', 'risk', 'focuspast', 'focuspresent', 'focusfuture', 'relativ', 'time', 'work', 'leisure', 'home', 'money', 'death', 'informal', 'netspeak', 'AllPunc', 'Period', 'Comma', 'SemiC', 'Dash', 'Quote', 'Parenth', 'OtherP', 'PERSON', 'PERCENT', 'LOC', 'aa', 'abil', 'access', 'accompani', 'accord', 'accordingli', 'account', 'acid', 'across', 'act', 'ad', 'address', 'admiss', 'adult', 'advers', 'ae', 'affect', 'against', 'age', 'aj', 'al', 'all', 'also', 'am', 'amarillo', 'american', 'among', 'amount', 'amygdala', 'analysi', 'and', 'ani', 'anick', 'anim', 'anti', 'antidepress', 'appear', 'area', 'assess', 'at', 'author', 'autism', 'balanc', 'base', 'been', 'berard', 'besid', 'better', 'between', 'beyond', 'bifida', 'bipolar', 'birth', 'blood', 'bloodstream', 'bmj', 'board', 'brain', 'bt', 'but', 'cal', 'call', 'can', 'canada', 'candela', 'cardiac', 'care', 'carri', 'ce', 'cent', 'certifi', 'chang', 'chemic', 'child', 'childhood', 'children', 'choic', 'cipralex', 'circuitri', 'citalopram', 'citi', 'claudia', 'clear', 'clinic', 'close', 'clue', 'coauthor', 'cognit', 'colleagu', 'columbia', 'common', 'compar', 'concentr', 'conclud', 'confus', 'consid', 'consult', 'continu', 'contrast', 'contribut', 'correl', 'cortex', 'critic', 'current', 'days', 'dec', 'defect', 'definit', 'delay', 'deliveri', 'depression', 'depressive', 'develop', 'diaz', 'differ', 'difficulti', 'directli', 'discontinu', 'disord', 'disrupt', 'distress', 'do', 'doe', 'doesn', 'durat', 'dure', 'earli', 'educ', 'effici', 'either', 'element', 'email', 'emeritu', 'emot', 'england', 'epidemiolog', 'especi', 'et', 'even', 'everyth', 'exactli', 'examin', 'expect', 'explor', 'exposur', 'factor', 'feb', 'fellow', 'few', 'financi', 'find', 'first', 'fitzgerald', 'five', 'focu', 'follow', 'form', 'forms', 'four', 'from', 'function', 'further', 'gener', 'get', 'given', 'grey', 'grow', 'had', 'hard', 'hartz', 'health', 'hendrick', 'hernandez', 'hi', 'highest', 'highli', 'histori', 'howev', 'hub', 'human', 'hypertens', 'identifi', 'ill', 'immedi', 'impair', 'implic', 'incomplet', 'individu', 'inf', 'influenc', 'inhibitor', 'insuffici', 'insular', 'integr', 'intens', 'into', 'investig', 'involv', 'iq', 'irv', 'isn', 'jiook', 'journal', 'joy', 'juli', 'jun', 'keep', 'key', 'knowledg', 'known', 'kostara', 'late', 'lech', 'left', 'less', 'level', 'levi', 'lik', 'lin', 'linger', 'link', 'longer', 'louik', 'low', 'lower', 'lugo', 'made', 'major', 'mani', 'matter', 'mean', 'meanwhil', 'medic', 'mental', 'meta', 'might', 'mild', 'miscarriag', 'misri', 'mitchel', 'mm', 'monitor', 'month', 'montreal', 'motiv', 'motor', 'must', 'need', 'neonat', 'nerv', 'neural', 'neurolog', 'never', 'new', 'newborn', 'nicu', 'no', 'non', 'normal', 'nortriptylin', 'note', 'nov', 'nurs', 'oberland', 'occur', 'of', 'older', 'on', 'one', 'onli', 'order', 'osborn', 'other', 'our', 'outcom', 'over', 'oxygen', 'pair', 'paroxetin', 'pass', 'patient', 'pediatr', 'percent', 'persist', 'pharmacolog', 'phenomena', 'pictur', 'placenta', 'plasma', 'pool', 'poor', 'pose', 'post', 'postdoctor', 'postnat', 'postpartum', 'pregnanc', 'problem', 'proce', 'produc', 'professor', 'proport', 'provid', 'prozac', 'psychiatri', 'psychologist', 'psychotherapi', 'psychotrop', 'publish', 'pulmonari', 'rais', 'randomli', 'rapidli', 'rare', 'ratio', 'reaction', 'realist', 'realli', 'reassur', 'receiv', 'recent', 'record', 'refer', 'regard', 'region', 'regul', 'rel', 'remedi', 'reproduct', 'research', 'reserv', 'respond', 'reuptak', 'reuter', 'rigg', 'right', 'risk', 'robust', 'rule', 'rurak', 'safe', 'safer', 'satur', 'say', 'scan', 'school', 'second', 'seizur', 'select', 'self', 'sens', 'sensit', 'serotonin', 'seroxat', 'seventi', 'shorter', 'side', 'similar', 'singl', 'size', 'skill', 'sleep', 'smoke', 'smultan', 'so', 'socioeconom', 'some', 'spina', 'spinal', 'ssri', 'stabl', 'state', 'still', 'stop', 'strongest', 'struggl', 'studi', 'studying', 'subject', 'subsequ', 'substanti', 'suggest', 'suicid', 'supervis', 'surpris', 'symptom', 'syndrom', 'tackett', 'tech', 'tell', 'term', 'texa', 'tf', 'that', 'their', 'them', 'there', 'therefor', 'those', 'thought', 'three', 'through', 'transfer', 'transient', 'treat', 'trimest', 'tube', 'unansw', 'unclear', 'underweight', 'uneasi', 'unit', 'univers', 'unless', 'use', 'valproic', 'valu', 'via', 'volum', 'wasn', 'watch', 'way', 'weak', 'weight', 'weissman', 'weren', 'werler', 'which', 'while', 'white', 'whitelaw', 'who', 'will', 'wind', 'withdraw', 'within', 'without', 'woman', 'womb', 'women', 'work', 'worth', 'year', 'york', 'your', 'zero', 'polarity', 'subjectivity']\n",
        "ssri_pipeline = pickle.load(open('/content/drive/My Drive/Colab Notebooks/ssri_fitted_pipeline.p','rb'))\n",
        "mean_weighted_f1(ssri_pipeline, ssri_during_pregnancy_X[ssri_important_features], ssri_during_pregnancy_Y, 10, 0.3)"
      ],
      "execution_count": null,
      "outputs": []
    },
    {
      "cell_type": "code",
      "metadata": {
        "id": "FzXOV-iVhBVl"
      },
      "source": [
        "mean_weighted_f1(ssri_during_pregnancy_fitted_pipeline, \n",
        "                 ssri_during_pregnancy_X[ssri_during_pregnancy_important_features], \n",
        "                 ssri_during_pregnancy_Y, \n",
        "                 5, \n",
        "                 0.3)"
      ],
      "execution_count": null,
      "outputs": []
    },
    {
      "cell_type": "code",
      "metadata": {
        "id": "S8bpNP958pJt"
      },
      "source": [
        "show_auc_for_cv(ssri_during_pregnancy_fitted_pipeline, \n",
        "                ssri_during_pregnancy_X[ssri_during_pregnancy_important_features], \n",
        "                ssri_during_pregnancy_Y, \n",
        "                n_splits=5)"
      ],
      "execution_count": null,
      "outputs": []
    },
    {
      "cell_type": "code",
      "metadata": {
        "id": "1CcO1-IribmE"
      },
      "source": [
        "proba_1, proba_0, ssri_clf = predict_proba_hist(ssri_during_pregnancy_fitted_pipeline, \n",
        "                                                ssri_during_pregnancy_X, \n",
        "                                                ssri_during_pregnancy_Y, \n",
        "                                                ssri_during_pregnancy_important_features)"
      ],
      "execution_count": null,
      "outputs": []
    },
    {
      "cell_type": "code",
      "metadata": {
        "id": "Q-fg6DcVjQh5"
      },
      "source": [
        "plt.hist(proba_0.values(), bins=10, color='r')\n",
        "plt.show()"
      ],
      "execution_count": null,
      "outputs": []
    },
    {
      "cell_type": "code",
      "metadata": {
        "id": "Ub_Cy8E21TH-"
      },
      "source": [
        "plt.hist(proba_1.values(), bins=10, color='g')\n",
        "plt.show()"
      ],
      "execution_count": null,
      "outputs": []
    },
    {
      "cell_type": "markdown",
      "metadata": {
        "id": "rZK_qCLZHhFg"
      },
      "source": [
        "## antioxidants"
      ]
    },
    {
      "cell_type": "code",
      "metadata": {
        "id": "e1efYEapdZB8"
      },
      "source": [
        "np.shape(antioxidants_X)"
      ],
      "execution_count": null,
      "outputs": []
    },
    {
      "cell_type": "code",
      "metadata": {
        "id": "ANUoVuJ_Kc9p"
      },
      "source": [
        "plt.rcParams[\"figure.figsize\"] = (8, 9) # (w, h)\n",
        "_, _, antioxidants_important_features = get_important_features(antioxidants_X, \n",
        "                                      antioxidants_Y, \n",
        "                                      num_important_features=100, \n",
        "                                      num_limit=60)"
      ],
      "execution_count": null,
      "outputs": []
    },
    {
      "cell_type": "code",
      "metadata": {
        "id": "_inbHmfkODM_"
      },
      "source": [
        "tpot_antiox = teapot_optimizer(antioxidants_X, \n",
        "                               antioxidants_Y, \n",
        "                               important_features = antioxidants_important_features,\n",
        "                               VALIDATION_SPLIT=0.3)\n"
      ],
      "execution_count": null,
      "outputs": []
    },
    {
      "cell_type": "code",
      "metadata": {
        "id": "UVo5rqPzLiiZ"
      },
      "source": [
        "antioxidants_fitted_pipeline = antitpot_antiox.fitted_pipeline_.steps[-1][1]"
      ],
      "execution_count": null,
      "outputs": []
    },
    {
      "cell_type": "code",
      "metadata": {
        "id": "VQS8pSzhAhhc"
      },
      "source": [
        "pickle.dump(tpot_antiox.fitted_pipeline_, open('/content/drive/My Drive/Colab Notebooks/antiox_fitted_pipeline.p','wb'))"
      ],
      "execution_count": null,
      "outputs": []
    },
    {
      "cell_type": "code",
      "metadata": {
        "id": "8EG7RmRd4jrR"
      },
      "source": [
        "antioxidants_important_features = ['Tone', 'pronoun', 'they', 'ipron', 'conj', 'adj', 'posemo', 'negemo', 'anx', 'friend', 'cogproc', 'cause', 'certain', 'bio', 'health', 'ingest', 'Colon', 'Apostro', 'abil', 'abnorm', 'about', 'accord', 'acn', 'acorn', 'acétat', 'ad', 'aim', 'all', 'allevi', 'alon', 'alway', 'amino', 'and', 'anoth', 'anti', 'antioxid', 'appetit', 'ask', 'assum', 'attribut', 'be', 'becaus', 'benefit', 'bioavail', 'blind', 'bon', 'bring', 'but', 'can', 'caus', 'certain', 'chain', 'cite', 'cold', 'color', 'complex', 'consult', 'consum', 'contributor', 'copper', 'correct', 'creat', 'criteria', 'critic', 'crucial', 'curcumin', 'damage', 'death', 'deduc', 'defenc', 'defici', 'definit', 'delici', 'deriv', 'destroy', 'destruct', 'develop', 'doctor', 'doe', 'doesn', 'done', 'dose', 'double', 'down', 'easili', 'eat', 'either', 'element', 'especi', 'eventu', 'evid', 'excel', 'exercis', 'explain', 'extent', 'extract', 'fact', 'fan', 'first', 'focu', 'fruit', 'glutathion', 'go', 'grape', 'groceri', 'hand', 'harm', 'have', 'haven', 'heart', 'here', 'ill', 'immun', 'incorpor', 'individu', 'ingest', 'intens', 'interest', 'interestingli', 'into', 'investig', 'involv', 'iu', 'kale', 'kill', 'legum', 'lipid', 'live', 'loss', 'lung', 'manufactur', 'mean', 'measur', 'mediat', 'mice', 'miner', 'mitochondria', 'most', 'must', 'nano', 'necessari', 'neuropathi', 'no', 'offici', 'oil', 'older', 'oliv', 'one', 'opposit', 'optim', 'outnumb', 'peopl', 'person', 'pharmacist', 'phosphat', 'placebo', 'portion', 'powder', 'powerhous', 'pregnant', 'process', 'promis', 'protect', 'prove', 'radiat', 'rank', 'reaction', 'read', 'realli', 'regardless', 'regimen', 'relat', 'reliev', 'revers', 'scientist', 'significantli', 'singl', 'smaller', 'smoke', 'so', 'sometim', 'spirulina', 'squash', 'stabil', 'statist', 'stimul', 'stop', 'strawberri', 'such', 'suggest', 'sunburn', 'suppress', 'sure', 'system', 'systol', 'talk', 'tea', 'thank', 'them', 'thi', 'thing', 'think', 'three', 'through', 'tissu', 'to', 'tocophérol', 'toxin', 'transport', 'trend', 'triglycerid', 'two', 'ultim', 'unclear', 'usag', 'variou', 'veget', 'virus', 'wake', 'wall', 'way', 'west', 'what', 'which', 'who', 'will', 'with', 'world', 'worst', 'worth', 'you', 'zimax']\n",
        "_pipeline = pickle.load(open('/content/drive/My Drive/Colab Notebooks/antiox_fitted_pipeline.p','rb'))\n",
        "clf = LogisticRegression(class_weight='balanced', max_iter=10000)"
      ],
      "execution_count": null,
      "outputs": []
    },
    {
      "cell_type": "code",
      "metadata": {
        "id": "jEg_7ZRsAlEq"
      },
      "source": [
        "mean_weighted_f1(antioxidants_pipeline, antioxidants_X[antioxidants_important_features], antioxidants_Y, 10, 0.3)"
      ],
      "execution_count": null,
      "outputs": []
    },
    {
      "cell_type": "code",
      "metadata": {
        "id": "CkzSfxNZ5Whd"
      },
      "source": [
        "antioxidants_label_counter = Counter(antioxidants_Y)\n",
        "plt.bar(x=['NONCRED', 'CRED'], height=antioxidants_label_counter.values(), width=0.4, color=['r', 'g'])\n",
        "plt.ylabel('# of paragraphs within a class')\n",
        "plt.show()\n",
        "antioxidants_label_counter"
      ],
      "execution_count": null,
      "outputs": []
    },
    {
      "cell_type": "code",
      "metadata": {
        "id": "JU75-oDt3etv"
      },
      "source": [
        "show_auc_for_cv(antioxidants_pipeline, antioxidants_X[antioxidants_important_features], antioxidants_Y, n_splits=10)"
      ],
      "execution_count": null,
      "outputs": []
    },
    {
      "cell_type": "code",
      "metadata": {
        "id": "iFyn27Ukjhu6"
      },
      "source": [
        "proba_1, proba_0, antioxidants_clf = predict_proba_hist(antioxidants_fitted_pipeline, \n",
        "                                      antioxidants_X, \n",
        "                                      antioxidants_Y, \n",
        "                                      antioxidants_important_features)\n",
        "\n",
        "plt.hist(proba_1.values(), bins=10, color='g')\n",
        "plt.show()"
      ],
      "execution_count": null,
      "outputs": []
    },
    {
      "cell_type": "markdown",
      "metadata": {
        "id": "km0VpzEideb3"
      },
      "source": [
        "## psychiatry"
      ]
    },
    {
      "cell_type": "code",
      "metadata": {
        "id": "kP7zY0-tdhDH"
      },
      "source": [
        "np.shape(psychiatry_X)"
      ],
      "execution_count": null,
      "outputs": []
    },
    {
      "cell_type": "code",
      "metadata": {
        "id": "TYjlg93jeAOu"
      },
      "source": [
        "psychiatry_important_features, tpot_psych = teapot_optimizer(psychiatry_X, \n",
        "                               psychiatry_Y, \n",
        "                               num_important_features = 200,\n",
        "                               VALIDATION_SPLIT=0.2)\n",
        "pickle.dump(tpot_psych.fitted_pipeline_, open('/content/drive/My Drive/Colab Notebooks/psych_fitted_pipeline.p','wb'))"
      ],
      "execution_count": null,
      "outputs": []
    },
    {
      "cell_type": "code",
      "metadata": {
        "id": "uRv5znlb6IJ-"
      },
      "source": [
        "psychiatry_important_features = ['Sixltr', 'Dic', 'friend', 'certain', 'percept', 'see', 'bio', 'health', 'focuspresent', 'Parenth', 'PERCENT', 'TIME', 'accomplish', 'achiev', 'address', 'administr', 'advanc', 'advis', 'agent', 'agre', 'al', 'allevi', 'am', 'anim', 'anxieti', 'anxiou', 'appear', 'appreci', 'appropri', 'approv', 'aren', 'ask', 'assist', 'assum', 'attempt', 'averag', 'babi', 'balanc', 'barbar', 'barber', 'began', 'behav', 'big', 'blurri', 'bodi', 'both', 'breakup', 'breath', 'brochur', 'bullshit', 'canadian', 'cancer', 'center', 'certain', 'character', 'clear', 'clearli', 'commiss', 'commonli', 'compassion', 'compli', 'composit', 'compuls', 'confer', 'conflict', 'continu', 'convinc', 'cora', 'correct', 'cyr', 'damag', 'damage', 'date', 'dealt', 'debat', 'decent', 'deeper', 'delay', 'deliber', 'depart', 'descript', 'desper', 'diagnosi', 'did', 'didn', 'differ', 'difficulti', 'disappear', 'discontinu', 'disorders', 'dispel', 'dizzi', 'doctor', 'document', 'dog', 'dollar', 'doubl', 'drapetomania', 'drug', 'durat', 'dyskinesia', 'edema', 'els', 'embarrass', 'encount', 'encourag', 'enrich', 'entir', 'enzym', 'epilepsi', 'equal', 'erectil', 'eventu', 'excit', 'execut', 'explain', 'extens', 'extent', 'extrem', 'failur', 'felt', 'find', 'forget', 'free', 'freelanc', 'friend', 'fundament', 'gari', 'gemma', 'give', 'gold', 'gotten', 'gp', 'grate', 'grow', 'guy', 'gynecologist', 'happen', 'harrow', 'heal', 'health', 'heartbeat', 'higher', 'histor', 'hiv', 'hope', 'hypertens', 'idea', 'identifi', 'impair', 'impuls', 'incid', 'includ', 'inde', 'indic', 'individu', 'influenti', 'inhibit', 'instead', 'institut', 'intens', 'interact', 'introduc', 'it', 'joke', 'joul', 'judi', 'just', 'kesey', 'kess', 'ketamin', 'kramer', 'largest', 'later', 'learn', 'lectur', 'led', 'let', 'life', 'likelihood', 'link', 'list', 'liver', 'loss', 'lucki', 'mainstream', 'manner', 'maoi', 'map', 'matter', 'mayb', 'mechan', 'med', 'media', 'memori', 'merit', 'mess', 'mind', 'mistak', 'moment', 'monthli', 'mood', 'motiv', 'movement', 'movi', 'must', 'myth', 'nardil', 'nazi', 'neurotransmiss', 'news', 'nicotin', 'nobodi', 'non', 'noradrenalin', 'nordic', 'normal', 'notabl', 'numer', 'object', 'obviou', 'occupi', 'odd', 'offic', 'oh', 'organis', 'outweigh', 'pad', 'parti', 'partnership', 'pay', 'per', 'perhap', 'pharma', 'pharmaci', 'philosophi', 'phrase', 'pie', 'piec', 'possibl', 'potent', 'precis', 'prescript', 'prevail', 'preval', 'profil', 'proport', 'propos', 'protect', 'provok', 'prozac', 'psychopharmacolog', 'psychotherapist', 'publicli', 'realiti', 'reappear', 'reason', 'receptor', 'recov', 'refer', 'reliev', 'research', 'respect', 'restless', 'review', 'richard', 'rimouski', 'road', 'roughli', 'routin', 'scienc', 'secret', 'sedat', 'seem', 'seen', 'semant', 'serotoninerg', 'sertralin', 'servic', 'shock', 'shoot', 'shortli', 'should', 'sign', 'similar', 'slightli', 'snort', 'speak', 'spectrum', 'spent', 'stabil', 'stand', 'start', 'stomach', 'stop', 'street', 'stress', 'strongli', 'substances', 'suffer', 'suitabl', 'surfac', 'sweat', 'symptom', 'szasz', 'tablet', 'tackl', 'taken', 'tardiv', 'target', 'taylor', 'teen', 'temporari', 'term', 'the', 'themselv', 'there', 'they', 'third', 'though', 'thousand', 'threshold', 'thrown', 'tie', 'to', 'told', 'tolerance', 'too', 'toward', 'trauma', 'trial', 'tricycl', 'tv', 'unc', 'uniqu', 'unlik', 'unpromis', 'unproven', 'unusu', 'up', 'usag', 'valu', 'variou', 'version', 'versu', 'violat', 'visit', 'voic', 'voltag', 'voluntari', 'wean', 'weigh', 'wellb', 'wendi', 'western', 'what', 'who', 'whoever', 'whole', 'whose', 'wide', 'word', 'writer', 'written', 'xanax', 'zealand']\n",
        "psychiatry_pipeline = pickle.load(open('/content/drive/My Drive/Colab Notebooks/psych_fitted_pipeline.p','rb'))\n",
        "mean_weighted_f1(psychiatry_pipeline, psychiatry_X[psychiatry_important_features], psychiatry_Y, 30, 0.2)"
      ],
      "execution_count": null,
      "outputs": []
    },
    {
      "cell_type": "code",
      "metadata": {
        "id": "LsRGiDBI5jdm"
      },
      "source": [
        "psychiatry_label_counter = Counter(psychiatry_Y)\n",
        "plt.bar(x=['NONCRED', 'CRED'], height=psychiatry_label_counter.values(), width=0.4, color=['r', 'g'])\n",
        "plt.ylabel('# of paragraphs within a class')\n",
        "plt.show()\n",
        "psychiatry_label_counter"
      ],
      "execution_count": null,
      "outputs": []
    },
    {
      "cell_type": "code",
      "metadata": {
        "id": "4oHkGzmm9OBX"
      },
      "source": [
        "show_auc_for_cv(psychiatry_pipeline, psychiatry_X[psychiatry_important_features], psychiatry_Y)"
      ],
      "execution_count": null,
      "outputs": []
    },
    {
      "cell_type": "code",
      "metadata": {
        "id": "Z7goTpFDkjxL"
      },
      "source": [
        "proba_1, proba_0 = predict_proba_hist(psychiatry_pipeline, \n",
        "                                      psychiatry_X, \n",
        "                                      psychiatry_Y, \n",
        "                                      psychiatry_important_features)\n",
        "\n",
        "plt.hist(proba_1.values(), bins=10, color='g')\n",
        "plt.show()"
      ],
      "execution_count": null,
      "outputs": []
    },
    {
      "cell_type": "markdown",
      "metadata": {
        "id": "framcVTddhjp"
      },
      "source": [
        "## diet and Autism"
      ]
    },
    {
      "cell_type": "code",
      "metadata": {
        "id": "gtwb0lmCdlpd"
      },
      "source": [
        "np.shape(diet_and_autism_X)"
      ],
      "execution_count": null,
      "outputs": []
    },
    {
      "cell_type": "code",
      "metadata": {
        "id": "bWoIEYXweJQ6"
      },
      "source": [
        "da_important_features, tpot_da = teapot_optimizer(diet_and_autism_X, \n",
        "                               diet_and_autism_Y, \n",
        "                               num_important_features = 200,\n",
        "                               VALIDATION_SPLIT=0.3)\n",
        "pickle.dump(tpot_da.fitted_pipeline_, open('/content/drive/My Drive/Colab Notebooks/da_fitted_pipeline.p','wb'))"
      ],
      "execution_count": null,
      "outputs": []
    },
    {
      "cell_type": "code",
      "metadata": {
        "id": "BoUBZE2u9C-k"
      },
      "source": [
        "da_important_features = ['Sixltr', 'Dic', 'we', 'article', 'verb', 'affect', 'posemo', 'negemo', 'anger', 'friend', 'female', 'male', 'cogproc', 'health', 'work', 'leisure', 'money', 'informal', 'netspeak', 'Period', 'Colon', 'QMark', 'Apostro', 'DATE', 'PERSON', 'QUANTITY', 'abil', 'abl', 'abnorm', 'about', 'absorb', 'absorpt', 'abstract', 'academi', 'accept', 'account', 'achiev', 'activ', 'adapt', 'add', 'addict', 'admit', 'adolesc', 'adulthood', 'advic', 'after', 'age', 'aim', 'albican', 'allergen', 'allevi', 'allow', 'alon', 'alter', 'amount', 'an', 'analysi', 'analyz', 'answer', 'antibiot', 'approach', 'appropri', 'are', 'arrang', 'articl', 'artifici', 'asid', 'author', 'autist', 'autoimmun', 'avoid', 'back', 'bacteri', 'bacteria', 'bad', 'bark', 'barley', 'barrier', 'bas', 'base', 'basic', 'becom', 'befor', 'beforehand', 'began', 'begin', 'behaviour', 'benefit', 'between', 'bi', 'birch', 'black', 'blood', 'bloodstream', 'both', 'bread', 'breast', 'breed', 'bring', 'buckwheat', 'build', 'bulk', 'butter', 'calf', 'can', 'candida', 'carbohydr', 'cardiovascular', 'carri', 'case', 'casein', 'caus', 'center', 'centr', 'cereal', 'certainli', 'cf', 'chemic', 'children', 'chip', 'chocol', 'claim', 'clarifi', 'class', 'cochran', 'cocoa', 'cod', 'coffe', 'collabor', 'combin', 'commonli', 'complaint', 'complementari', 'complic', 'compon', 'concern', 'consist', 'constant', 'consult', 'consumpt', 'contribut', 'controversi', 'correctli', 'correl', 'count', 'cours', 'cracker', 'cream', 'cri', 'current', 'dairi', 'data', 'day', 'deal', 'decad', 'decid', 'decreas', 'defect', 'deficiencies', 'demonstr', 'deriv', 'development', 'diabet', 'did', 'diet', 'dietari', 'dietician', 'digest', 'direct', 'director', 'discuss', 'diseas', 'disord', 'disput', 'disturb', 'doctor', 'don', 'dosag', 'dose', 'down', 'dr', 'dramat', 'drug', 'due', 'dure', 'dye', 'each', 'earli', 'easi', 'eat', 'effort', 'emori', 'empti', 'encourag', 'endorphin', 'energi', 'enough', 'ensur', 'enter', 'environ', 'establish', 'etc', 'everi', 'exampl', 'exhibit', 'exorphin', 'experi', 'expert', 'explain', 'exposur', 'extrem', 'eye', 'famili', 'fat', 'faulti', 'favorit', 'feingold', 'ferguson', 'field', 'find', 'fine', 'fire', 'flake', 'flora', 'flourtapioca', 'flouryucca', 'follow', 'food', 'form', 'fortifi', 'fragment', 'french', 'fresh', 'from', 'fulli', 'function', 'fungi', 'gastrointestin', 'genet', 'get', 'gf', 'given', 'glue', 'gradual', 'groat', 'groceri', 'ground', 'grow', 'growth', 'guidanc', 'ha', 'habit', 'hammerâ', 'happen', 'have', 'health', 'healthier', 'held', 'henc', 'high', 'highest', 'him', 'histori', 'homemad', 'homogen', 'hospit', 'huge', 'human', 'hunger', 'hurt', 'hydrolys', 'hydrolysi', 'idea', 'identifi', 'ill', 'impair', 'implic', 'inadequ', 'increas', 'indirectli', 'inflammatori', 'inform', 'ingredi', 'initi', 'insult', 'intens', 'intensifi', 'intern', 'intervent', 'involv', 'is', 'issu', 'itself', 'journal', 'kefir', 'know', 'label', 'labor', 'languag', 'larg', 'larger', 'lead', 'leav', 'level', 'life', 'limit', 'link', 'list', 'liver', 'look', 'loos', 'love', 'low', 'lower', 'lump', 'made', 'mainli', 'major', 'make', 'manag', 'mani', 'manufactur', 'marc', 'marcu', 'margarin', 'mealtim', 'meat', 'medication', 'medicin', 'megson', 'mental', 'menu', 'mercuri', 'method', 'microbiolog', 'millet', 'mind', 'miner', 'monitor', 'monotoni', 'mostli', 'mother', 'much', 'mucosa', 'mushroom', 'nake', 'nationwid', 'necessari', 'necessarili', 'need', 'neg', 'nervou', 'network', 'new', 'nice', 'night', 'no', 'noodl', 'noth', 'nutritionist', 'obes', 'occur', 'of', 'oil', 'opioid', 'optimum', 'option', 'order', 'organ', 'otherwis', 'our', 'oven', 'overal', 'overweight', 'pain', 'parellada', 'parent', 'particular', 'pattern', 'pay', 'pearl', 'pediatr', 'peptid', 'permeabl', 'person', 'perspect', 'phenomenon', 'physiolog', 'pie', 'plant', 'point', 'poland', 'posit', 'post', 'potato', 'potenti', 'practic', 'prepar', 'present', 'preserv', 'pro', 'probiot', 'problem', 'process', 'produc', 'programm', 'properli', 'protein', 'pud', 'puf', 'pyroluria', 'question', 'quit', 'rais', 'rank', 'rapid', 'realli', 'receptor', 'recip', 'recommend', 'recreat', 'reflux', 'regard', 'relat', 'remov', 'replenish', 'reportedli', 'requir', 'research', 'restless', 'restrict', 'return', 'ridicul', 'rimland', 'risk', 'ritualist', 'safe', 'said', 'sausag', 'scariest', 'school', 'seem', 'seemingli', 'select', 'semolina', 'sens', 'servic', 'sever', 'show', 'shown', 'side', 'sign', 'signific', 'silenc', 'singl', 'skin', 'sleep', 'slight', 'small', 'so', 'social', 'sometim', 'son', 'soon', 'soup', 'soybean', 'special', 'specialis', 'specif', 'speech', 'stamp', 'statu', 'stomach', 'subset', 'such', 'suggest', 'suitabl', 'summari', 'supermarket', 'supervis', 'supplement', 'surviv', 'switch', 'syndrom', 'systemat', 'tackl', 'take', 'tantrum', 'tapioca', 'tasti', 'than', 'that', 'the', 'them', 'theori', 'therapi', 'these', 'thimeros', 'thimerosal', 'think', 'through', 'throw', 'time', 'tip', 'toddler', 'toler', 'toxic', 'toxin', 'trait', 'trial', 'turn', 'type', 'unaffect', 'under', 'understand', 'underweight', 'undesir', 'unfortun', 'unhealthi', 'unit', 'unpleas', 'unsuit', 'upon', 'us', 'usual', 'variou', 'veget', 'via', 'visual', 'vitamin', 'warn', 'water', 'way', 'weak', 'were', 'wheat', 'where', 'whether', 'wheyhalf', 'whi', 'while', 'white', 'wholem', 'worsen', 'write', 'xylitol', 'yeast', 'yoghurt', 'young', 'your', 'zinc', 'â¾']\n",
        "da_pipeline = pickle.load(open('/content/drive/My Drive/Colab Notebooks/da_fitted_pipeline.p','rb'))\n",
        "mean_weighted_f1(da_pipeline, diet_and_autism_X[da_important_features], diet_and_autism_Y, 30, 0.3)"
      ],
      "execution_count": null,
      "outputs": []
    },
    {
      "cell_type": "code",
      "metadata": {
        "id": "cZ-D_QKT7w1u"
      },
      "source": [
        "da_label_counter = Counter(diet_and_autism_Y)\n",
        "plt.bar(x=['CRED', 'NONCRED'], height=da_label_counter.values(), width=0.4, color=['g', 'r'])\n",
        "plt.ylabel('# of paragraphs within a class')\n",
        "plt.show()\n",
        "da_label_counter"
      ],
      "execution_count": null,
      "outputs": []
    },
    {
      "cell_type": "code",
      "metadata": {
        "id": "qWNE6GNLBhvJ"
      },
      "source": [
        "show_auc_for_cv(da_pipeline, diet_and_autism_X[da_important_features], diet_and_autism_Y, n_splits=10)"
      ],
      "execution_count": null,
      "outputs": []
    },
    {
      "cell_type": "code",
      "metadata": {
        "id": "1qCpGYWGmFXG"
      },
      "source": [
        "proba_1, proba_0 = predict_proba_hist(da_pipeline, \n",
        "                                      diet_and_autism_X, \n",
        "                                      diet_and_autism_Y, \n",
        "                                      da_important_features)\n",
        "\n",
        "plt.hist(proba_1.values(), bins=10, color='g')\n",
        "plt.show()"
      ],
      "execution_count": null,
      "outputs": []
    },
    {
      "cell_type": "markdown",
      "metadata": {
        "id": "Lrke8nGNdly6"
      },
      "source": [
        "## aspirin during pregnancy"
      ]
    },
    {
      "cell_type": "code",
      "metadata": {
        "id": "ne7K6r1FdorO"
      },
      "source": [
        "np.shape(aspirin_pregnancy_X)"
      ],
      "execution_count": null,
      "outputs": []
    },
    {
      "cell_type": "code",
      "metadata": {
        "id": "aSV-T23ZeQ2J"
      },
      "source": [
        "aspirin_important_features, tpot_aspirin = teapot_optimizer(aspirin_pregnancy_X, \n",
        "                               aspirin_pregnancy_Y, \n",
        "                               num_important_features = 100,\n",
        "                               cv=5,\n",
        "                               VALIDATION_SPLIT=0.4)\n",
        "pickle.dump(tpot_aspirin.fitted_pipeline_, open('/content/drive/My Drive/Colab Notebooks/aspirin_fitted_pipeline.p','wb'))"
      ],
      "execution_count": null,
      "outputs": []
    },
    {
      "cell_type": "code",
      "metadata": {
        "id": "Fu9XyOCmBeW-"
      },
      "source": [
        "aspirin_important_features = ['Clout', 'WPS', 'Dic', 'we', 'they', 'anger', 'cogproc', 'reward', 'focuspresent', 'space', 'home', 'nonflu', 'Period', 'QMark', 'Dash', 'TIME', 'abrupt', 'acetaminophen', 'administr', 'advis', 'ailment', 'all', 'are', 'ask', 'aspirin', 'atherosclerosi', 'avoid', 'be', 'becam', 'becaus', 'born', 'ca', 'cancer', 'case', 'circumst', 'clot', 'commonli', 'consid', 'consult', 'contraind', 'correl', 'describ', 'determin', 'diseas', 'disord', 'dosag', 'elimin', 'embryo', 'explicit', 'explor', 'facilit', 'find', 'gestat', 'get', 'headach', 'healthi', 'hour', 'how', 'iii', 'implant', 'infect', 'institut', 'intak', 'lactat', 'last', 'like', 'look', 'maximum', 'menstruat', 'mom', 'month', 'more', 'mother', 'nation', 'never', 'no', 'non', 'nonsteroid', 'not', 'often', 'order', 'osteoporosi', 'painkil', 'paracetamol', 'period', 'pose', 'preced', 'preeclampsia', 'prolong', 'properti', 're', 'regularli', 'rememb', 'right', 'safe', 'safer', 'safest', 'salicyl', 'similarli', 'so', 'steroid', 'studi', 'study', 'suddenli', 'supervis', 'suppress', 'system', 'tell', 'their', 'therebi', 'thi', 'thu', 'treat', 'tylenol', 'unfortun', 'us', 'usual', 'way', 'well', 'when', 'will', 'with', 'within', 'without', 'worth', 'year', 'polarity']\n",
        "aspirin_pipeline = pickle.load(open('/content/drive/My Drive/Colab Notebooks/aspirin_fitted_pipeline.p','rb'))\n",
        "mean_weighted_f1(aspirin_pipeline, aspirin_pregnancy_X[aspirin_important_features], aspirin_pregnancy_Y, 30, 0.4)"
      ],
      "execution_count": null,
      "outputs": []
    },
    {
      "cell_type": "code",
      "metadata": {
        "id": "wireEJ0vB05Z"
      },
      "source": [
        "show_auc_for_cv(aspirin_pipeline, aspirin_pregnancy_X[aspirin_important_features], aspirin_pregnancy_Y, n_splits=10)"
      ],
      "execution_count": null,
      "outputs": []
    },
    {
      "cell_type": "code",
      "metadata": {
        "id": "HwBm9oc5nJ3I"
      },
      "source": [
        "aspirin_label_counter = Counter(aspirin_pregnancy_Y)\n",
        "plt.bar(x=['NONCRED', 'CRED'], height=aspirin_label_counter.values(), width=0.4, color=['r', 'g'])\n",
        "plt.ylabel('# of paragraphs within a class')\n",
        "plt.show()\n",
        "aspirin_label_counter"
      ],
      "execution_count": null,
      "outputs": []
    },
    {
      "cell_type": "code",
      "metadata": {
        "id": "of9ci_4rniXX"
      },
      "source": [
        "proba_1, proba_0 = predict_proba_hist(aspirin_pipeline, \n",
        "                                      aspirin_pregnancy_X, \n",
        "                                      aspirin_pregnancy_Y, \n",
        "                                      aspirin_important_features)\n",
        "\n",
        "plt.hist(proba_1.values(), bins=10, color='g')\n",
        "plt.show()"
      ],
      "execution_count": null,
      "outputs": []
    },
    {
      "cell_type": "code",
      "metadata": {
        "id": "9SMsQbFPnsW9"
      },
      "source": [
        "plt.hist(proba_0.values(), bins=10, color='r')\n",
        "plt.show()"
      ],
      "execution_count": null,
      "outputs": []
    },
    {
      "cell_type": "markdown",
      "metadata": {
        "id": "bBjVFu8rdo1-"
      },
      "source": [
        "## allergy testing"
      ]
    },
    {
      "cell_type": "code",
      "metadata": {
        "id": "fdRV33DYdtbN"
      },
      "source": [
        "np.shape(allergy_testing_X)"
      ],
      "execution_count": null,
      "outputs": []
    },
    {
      "cell_type": "code",
      "metadata": {
        "id": "_EvSW94qeYrX"
      },
      "source": [
        "allergy_testing_important_features, tpot_allergy = teapot_optimizer(allergy_testing_X, \n",
        "                               allergy_testing_Y, \n",
        "                               num_important_features = 200,\n",
        "                               VALIDATION_SPLIT=0.2)\n",
        "pickle.dump(tpot_allergy.fitted_pipeline_, open('/content/drive/My Drive/Colab Notebooks/allergy_fitted_pipeline.p','wb'))"
      ],
      "execution_count": null,
      "outputs": []
    },
    {
      "cell_type": "code",
      "metadata": {
        "id": "JA-JHnPGRf7p"
      },
      "source": [
        "allergy_testing_important_features = ['WC', 'Analytic', 'Clout', 'Tone', 'WPS', 'Sixltr', 'Dic', 'function', 'pronoun', 'ppron', 'i', 'we', 'you', 'shehe', 'they', 'article', 'auxverb', 'adverb', 'conj', 'negate', 'verb', 'adj', 'compare', 'number', 'quant', 'posemo', 'anx', 'anger', 'sad', 'family', 'female', 'cogproc', 'insight', 'cause', 'discrep', 'tentat', 'certain', 'differ', 'bio', 'health', 'sexual', 'drives', 'affiliation', 'power', 'reward', 'risk', 'focuspast', 'focuspresent', 'focusfuture', 'motion', 'time', 'work', 'home', 'money', 'relig', 'death', 'informal', 'swear', 'nonflu', 'AllPunc', 'Period', 'Comma', 'Colon', 'SemiC', 'QMark', 'Exclam', 'Dash', 'Quote', 'Apostro', 'Parenth', 'OtherP', 'CARDINAL', 'ORG', 'DATE', 'PERSON', 'PERCENT', 'EVENT', 'MONEY', 'aaaai', 'abdomin', 'abov', 'absolut', 'absorb', 'abund', 'academi', 'access', 'accessori', 'accompani', 'accomplish', 'accord', 'account', 'accredit', 'accumul', 'ach', 'achiev', 'acn', 'act', 'action', 'activ', 'acupunctur', 'ad', 'add', 'addit', 'addressintoler', 'adequ', 'adhes', 'administr', 'adult', 'advanc', 'advantag', 'advers', 'advertis', 'advis', 'advoc', 'affect', 'afterward', 'against', 'age', 'agent', 'agre', 'agro', 'ah', 'air', 'alcohol', 'all', 'allerg', 'allergen', 'allergi', 'allergist', 'allergy', 'allison', 'almost', 'alon', 'alot', 'alpay', 'alreadi', 'also', 'altern', 'altogeth', 'alway', 'am', 'amber', 'amin', 'amount', 'an', 'analys', 'analysi', 'analyt', 'analyz', 'anaphylact', 'anaphylaxi', 'annoy', 'anoth', 'answers', 'antibodi', 'antibody', 'antihistamin', 'anybodi', 'anyth', 'anytim', 'anywher', 'apart', 'appar', 'appear', 'appl', 'applyt', 'appoint', 'appointment', 'approach', 'appropri', 'april', 'area', 'aren', 'argu', 'arguabl', 'argument', 'aris', 'arm', 'around', 'arriv', 'arroyav', 'art', 'arthralgia', 'arthriti', 'artifici', 'as', 'asid', 'ask', 'aspartam', 'assay', 'assist', 'associ', 'assum', 'asthma', 'at', 'athlet', 'atkinson', 'atop', 'attach', 'attribut', 'audit', 'author', 'autism', 'autoimmun', 'autoinjector', 'avail', 'averag', 'await', 'award', 'awesom', 'babi', 'babies', 'back', 'background', 'bag', 'balanc', 'barley', 'barrier', 'bas', 'base', 'basi', 'basic', 'batteri', 'bbq', 'bda', 'be', 'bead', 'bean', 'beat', 'beauti', 'becaus', 'befor', 'begin', 'behind', 'believ', 'belli', 'below', 'benefici', 'benefit', 'bentz', 'best', 'bestsel', 'better', 'between', 'beyond', 'bia', 'biggest', 'bind', 'biochemist', 'biom', 'bird', 'bite', 'black', 'blight', 'blind', 'body', 'book', 'booklet', 'booster', 'borderlin', 'born', 'both', 'bothersom', 'bottl', 'bottom', 'box', 'brain', 'brand', 'brazilian', 'bread', 'break', 'breast', 'breastfe', 'breastfeed', 'breastmilk', 'breath', 'brief', 'briefli', 'brilliant', 'bring', 'british', 'broader', 'bulb', 'bump', 'burden', 'busi', 'buss', 'buy', 'by', 'ca', 'call', 'cam', 'came', 'can', 'canada', 'canadian', 'captur', 'carb', 'card', 'care', 'carefre', 'caregiv', 'carr', 'carri', 'carrot', 'case', 'cash', 'catch', 'categor', 'categori', 'cater', 'caught', 'caus', 'cbc', 'cdc', 'ce', 'celebr', 'celiac', 'cell', 'cells', 'cellular', 'center', 'centrevik', 'certain', 'chanc', 'chang', 'charg', 'charlsi', 'cheaper', 'check', 'chemic', 'chemistri', 'chest', 'chicken', 'child', 'childhood', 'children', 'chili', 'choic', 'choke', 'choos', 'chosen', 'chronic', 'chuck', 'cilantro', 'circul', 'citat', 'claim', 'clamp', 'clan', 'class', 'classic', 'classifi', 'clear', 'clearli', 'click', 'client', 'clog', 'close', 'clue', 'cmaj', 'co', 'cod', 'code', 'coin', 'collect', 'colour', 'come', 'comfort', 'commerci', 'commercially', 'common', 'commonli', 'compani', 'comparison', 'compel', 'competitor', 'complementari', 'compon', 'concern', 'condit', 'condition', 'conduct', 'confidenti', 'confirm', 'confus', 'conjunct', 'consid', 'consist', 'constant', 'construct', 'consult', 'consum', 'consumpt', 'contact', 'contain', 'contamin', 'content', 'context', 'control', 'conveni', 'convent', 'convers', 'convinc', 'cook', 'copolym', 'copyright', 'corn', 'correl', 'cough', 'couldn', 'count', 'countless', 'countri', 'cow', 'cramp', 'crap', 'crave', 'crazi', 'cream', 'creat', 'credibl', 'crisp', 'critic', 'crohn', 'crucial', 'culprit', 'cultur', 'curd', 'curiou', 'cut', 'cystic', 'cytotox', 'dairi', 'damag', 'danger', 'databas', 'date', 'daughter', 'day', 'days', 'debat', 'debra', 'deconstruct', 'defenc', 'defici', 'definit', 'delay', 'delayed', 'delight', 'deposit', 'depress', 'dermat', 'describ', 'design', 'dessani', 'dessanti', 'detail', 'detect', 'deterg', 'detergents', 'develop', 'diagnos', 'diagnosi', 'diagnosis', 'diagnost', 'dictat', 'diet', 'dietari', 'dietet', 'differ', 'difficulti', 'digest', 'dinner', 'dip', 'direct', 'directli', 'director', 'disappear', 'disclaim', 'discomfort', 'discov', 'discuss', 'disrupt', 'distinguish', 'distress', 'do', 'doctor', 'doe', 'dollars', 'don', 'dont', 'dose', 'dot', 'download', 'dr', 'dramat', 'draw', 'dri', 'drink', 'drinkscan', 'drisko', 'drop', 'drown', 'drugstor', 'dt', 'due', 'dure', 'dust', 'dynacar', 'each', 'earli', 'easier', 'easili', 'eat', 'eczema', 'educ', 'egg', 'eight', 'either', 'electromagnet', 'elev', 'elimin', 'elimination', 'elisa', 'els', 'email', 'embarrass', 'emerg', 'end', 'endors', 'energi', 'engag', 'enhanc', 'enterpris', 'entir', 'entireti', 'envelop', 'environ', 'enzym', 'enzyme', 'epilepsi', 'epinephrin', 'episod', 'epitop', 'equip', 'essenti', 'establish', 'estim', 'etc', 'european', 'everi', 'everlywel', 'everyday', 'everyon', 'everyth', 'everywher', 'evidence', 'exagger', 'examin', 'excel', 'exclud', 'exclus', 'exist', 'expect', 'expens', 'experienc', 'expert', 'explan', 'exploit', 'explor', 'expos', 'exposur', 'extra', 'face', 'factor', 'factsheet', 'failur', 'fake', 'fals', 'famili', 'familiar', 'faster', 'fatigu', 'fattier', 'feather', 'featur', 'fee', 'feed', 'femal', 'few', 'fiber', 'fibrosi', 'field', 'fight', 'fill', 'filter', 'find', 'fine', 'finger', 'fingerprint', 'first', 'firststep', 'fish', 'five', 'flag', 'flare', 'flax', 'flow', 'fodmap', 'fog', 'folder', 'food', 'foods', 'foodscan', 'for', 'forearm', 'forgot', 'fork', 'format', 'formula', 'found', 'four', 'fourth', 'framepric', 'fre', 'freedom', 'frequent', 'friendli', 'from', 'front', 'frustrat', 'full', 'function', 'further', 'furthermor', 'fussi', 'fussier', 'futur', 'gallergi', 'garlic', 'gassi', 'gastroesophag', 'gastrointestin', 'gear', 'gene', 'gener', 'genet', 'genova', 'gerd', 'get', 'gill', 'girl', 'give', 'gladli', 'glass', 'glutam', 'gluten', 'goal', 'goe', 'gold', 'got', 'gotten', 'gp', 'grab', 'gradual', 'grant', 'greater', 'green', 'groceri', 'ground', 'group', 'growth', 'guarante', 'guidanc', 'gulp', 'gut', 'guy', 'gym', 'ha', 'had', 'hair', 'hand', 'handl', 'happen', 'happi', 'harmoni', 'hart', 'hartz', 'have', 'hazard', 'he', 'head', 'headach', 'headaches', 'healthcar', 'healthi', 'healthier', 'hell', 'help', 'henc', 'hepat', 'here', 'hesit', 'hidden', 'high', 'higher', 'highli', 'highlight', 'him', 'hint', 'histamin', 'histori', 'hiv', 'hive', 'hold', 'home', 'honey', 'hong', 'hope', 'hormon', 'horribl', 'hospit', 'host', 'hotlin', 'hous', 'household', 'how', 'howev', 'human', 'hummu', 'hundr', 'hurri', 'hypersensit', 'ice', 'ick', 'ideal', 'identif', 'if', 'ig', 'ige', 'igg', 'iii', 'ill', 'illustr', 'imbal', 'immediate', 'immun', 'immune', 'immunodiagnost', 'immunoglobulin', 'immunolog', 'immunotherapi', 'impact', 'implic', 'import', 'improv', 'imupro', 'inappropri', 'includ', 'inconveni', 'incorrect', 'increas', 'independ', 'indigest', 'indirectli', 'indiscrimin', 'industri', 'infant', 'infect', 'inflamm', 'influenc', 'info', 'ingest', 'ingredi', 'inhal', 'initi', 'inject', 'innov', 'insight', 'insomnia', 'instanc', 'instant', 'instantli', 'instead', 'instruct', 'intak', 'interchang', 'interest', 'interfer', 'internet', 'interpret', 'intoler', 'intolerance', 'intolerancelab', 'intolerances', 'introduc', 'introduct', 'invad', 'invalu', 'invasivedo', 'invertebr', 'invit', 'involv', 'ireland', 'iron', 'irrit', 'is', 'isn', 'iso', 'issu', 'itch', 'item', 'itself', 'jarrow', 'jk', 'joe', 'join', 'joint', 'journal', 'journey', 'judgement', 'juic', 'juli', 'junior', 'keep', 'kid', 'kidney', 'kilounit', 'kinet', 'kirst', 'kit', 'kitchen', 'kiwi', 'know', 'knowledg', 'known', 'kong', 'kua', 'lab', 'label', 'lack', 'lactas', 'lactat', 'lactos', 'lancet', 'larg', 'larger', 'last', 'later', 'latest', 'lazi', 'leaflet', 'leaki', 'learn', 'leav', 'lectin', 'leg', 'leukocyt', 'level', 'lge', 'lgg', 'lian', 'licens', 'lie', 'life', 'light', 'likelihood', 'lime', 'linda', 'link', 'liter', 'literatur', 'litr', 'littl', 'live', 'll', 'locat', 'lock', 'long', 'longer', 'look', 'lose', 'loss', 'lot', 'love', 'low', 'lower', 'ltd', 'lunch', 'lymphocyt', 'mack', 'macrophag', 'made', 'mail', 'main', 'maintain', 'major', 'make', 'maker', 'malnutrit', 'mama', 'man', 'manag', 'manage', 'manifest', 'manner', 'map', 'mar', 'marker', 'market', 'martha', 'mastiti', 'materi', 'matter', 'max', 'may', 'mayb', 'mean', 'meanwhil', 'measur', 'mechan', 'meconium', 'medela', 'medic', 'mercuri', 'messag', 'messeng', 'metabol', 'metal', 'method', 'microbiom', 'might', 'migrain', 'millet', 'mind', 'minn', 'minu', 'minut', 'misconcept', 'miss', 'mitchel', 'moder', 'modern', 'modif', 'mold', 'mom', 'moment', 'momma', 'money', 'monitor', 'monosodium', 'month', 'mood', 'more', 'mother', 'mountain', 'mouth', 'mrt', 'msg', 'mucou', 'mucousi', 'multipl', 'muscl', 'narrow', 'natur', 'naturopath', 'nausea', 'navig', 'ncg', 'ne', 'necessarili', 'neg', 'never', 'new', 'newcastl', 'next', 'nh', 'nibsc', 'nightshad', 'nippl', 'nitrit', 'no', 'none', 'nonfood', 'nor', 'normal', 'not', 'noth', 'notic', 'number', 'numer', 'nurs', 'nurtur', 'nutrient', 'nutrit', 'nutriti', 'nutritionist', 'nutritionistsnon', 'oald', 'ob', 'obes', 'observ', 'obtain', 'occasion', 'occur', 'of', 'off', 'offend', 'offer', 'offic', 'offici', 'often', 'oh', 'okay', 'oldest', 'on', 'one', 'ongo', 'onion', 'onli', 'onlin', 'only', 'opaqu', 'open', 'openli', 'opinion', 'opportun', 'opt', 'optimis', 'optimum', 'option', 'or', 'oral', 'order', 'organ', 'other', 'otherwis', 'ounc', 'our', 'out', 'outgrow', 'outlet', 'overal', 'overcom', 'overreact', 'oversuppli', 'overwhelm', 'own', 'oxal', 'pack', 'packag', 'pad', 'paid', 'pain', 'painless', 'parent', 'park', 'partial', 'particular', 'pass', 'passion', 'past', 'patient', 'pattern', 'pay', 'payment', 'pdf', 'peak', 'peanut', 'pediatr', 'pediatrician', 'peopl', 'percent', 'perform', 'period', 'permeabl', 'person', 'pet', 'pharmaci', 'phas', 'phase', 'phone', 'photo', 'physic', 'physician', 'pick', 'pictur', 'piec', 'pin', 'pinpoint', 'pistin', 'pita', 'place', 'planner', 'plants', 'plaster', 'play', 'pleas', 'pln', 'pluck', 'point', 'poison', 'pollen', 'polymer', 'poop', 'poorli', 'popul', 'popular', 'portion', 'positive', 'post', 'potato', 'potenti', 'powder', 'practic', 'practition', 'pre', 'predict', 'predispos', 'pregnanc', 'pregnant', 'prepar', 'prescrib', 'presenc', 'present', 'preserv', 'press', 'presum', 'pretend', 'pretti', 'prevent', 'previou', 'print', 'probabl', 'problem', 'problemat', 'problems', 'procedur', 'proceed', 'produc', 'product', 'products', 'progress', 'projectil', 'promise', 'promot', 'proper', 'properli', 'proprietari', 'protein', 'protocol', 'proud', 'prove', 'proven', 'provok', 'public', 'publish', 'pull', 'puls', 'pump', 'purchas', 'purpos', 'purveyor', 'puré', 'put', 'quantit', 'quantiti', 'queri', 'queso', 'question', 'quibbl', 'quicker', 'quickli', 'quinoa', 'quot', 'rais', 'ran', 'random', 'rapidly', 'rate', 'ration', 'rational', 'raven', 'raw', 're', 'reach', 'react', 'reaction', 'reactiv', 'read', 'readi', 'realiti', 'realiz', 'realli', 'reason', 'recal', 'recent', 'recently', 'rechalleng', 'recip', 'recognit', 'recommend', 'recoveri', 'recreat', 'refer', 'referr', 'refund', 'refus', 'regard', 'regular', 'regularli', 'regularly', 'relat', 'relationship', 'relev', 'reli', 'reliabl', 'relianc', 'reliev', 'remain', 'renown', 'report', 'reput', 'requir', 'requisit', 'research', 'reserv', 'resolv', 'respond', 'rest', 'restraint', 'restrict', 'result', 'results', 'resuscit', 'return', 'reveal', 'rheumatoid', 'right', 'rinkel', 'risen', 'riski', 'road', 'robert', 'rochest', 'rocki', 'role', 'root', 'rotat', 'rule', 'run', 'sad', 'safe', 'sake', 'sal', 'salad', 'sale', 'salicyl', 'same', 'sampl', 'sandwich', 'satisfact', 'saturday', 'save', 'saw', 'say', 'scale', 'scan', 'schedul', 'school', 'scienc', 'scientif', 'scientist', 'score', 'scratch', 'scream', 'second', 'section', 'secur', 'see', 'seed', 'seek', 'sell', 'semi', 'send', 'sensit', 'sensitivities', 'sensitivity', 'sent', 'separ', 'seri', 'seriou', 'serious', 'serum', 'servic', 'sesam', 'set', 'sever', 'share', 'she', 'sheet', 'shellfish', 'ship', 'shirt', 'shop', 'shot', 'should', 'shouldn', 'show', 'sick', 'sieman', 'siemen', 'sign', 'signal', 'signifi', 'signific', 'silenc', 'similar', 'simpl', 'sinc', 'singl', 'sit', 'site', 'situat', 'six', 'sizelarg', 'sizeregular', 'skin', 'skinni', 'slower', 'slowli', 'sme', 'smith', 'smoothi', 'sneaki', 'snot', 'so', 'soak', 'social', 'societi', 'soft', 'sold', 'solid', 'solubl', 'solut', 'solv', 'some', 'someth', 'sometim', 'son', 'soooooo', 'sorrow', 'sound', 'soup', 'sourc', 'soy', 'spam', 'spec', 'special', 'specialist', 'specif', 'specifi', 'speed', 'spend', 'spit', 'spoke', 'sport', 'spot', 'spray', 'squeez', 'sst', 'staf', 'stage', 'stain', 'stand', 'standard', 'start', 'starter', 'state', 'statnew', 'step', 'sterilis', 'steroid', 'still', 'stimul', 'sting', 'stop', 'store', 'straightforward', 'strand', 'strang', 'stress', 'strong', 'stuart', 'subject', 'sublingu', 'submiss', 'submit', 'substanc', 'success', 'such', 'suck', 'suction', 'suffer', 'sugar', 'suggest', 'sulfit', 'summaris', 'supervis', 'suppli', 'support', 'surpris', 'survey', 'suspect', 'swallow', 'symptom', 'symptoms', 'system', 'ta', 'tab', 'tad', 'take', 'takeout', 'task', 'tast', 'tasti', 'team', 'technic', 'technician', 'technolog', 'telephon', 'televis', 'tell', 'temporari', 'tendenc', 'test', 'testedqualifi', 'testfood', 'testimoni', 'testing', 'tests', 'text', 'that', 'the', 'their', 'them', 'therapi', 'therapist', 'there', 'therefor', 'therfor', 'thes', 'these', 'they', 'thi', 'thorough', 'thoroughli', 'those', 'thought', 'threaten', 'three', 'throat', 'thu', 'time', 'tini', 'tip', 'tired', 'tissu', 'to', 'today', 'togeth', 'toilet', 'told', 'ton', 'tongu', 'too', 'toss', 'total', 'tough', 'toxic', 'toxin', 'track', 'trader', 'train', 'treat', 'treatment', 'tree', 'tri', 'trial', 'tribe', 'trigger', 'trip', 'troubl', 'true', 'truli', 'truschnig', 'truth', 'tummi', 'twice', 'two', 'type', 'typic', 'tyramin', 'ugh', 'uk', 'ulcer', 'unawar', 'unclear', 'uncomfort', 'uncommon', 'uncov', 'undergo', 'understand', 'understood', 'undertak', 'underway', 'undiagnos', 'undo', 'unfortun', 'unhealthi', 'unit', 'univers', 'unless', 'unlik', 'unpleas', 'unrel', 'unresolv', 'until', 'untreat', 'unwel', 'unwelcom', 'up', 'upon', 'us', 'use', 'useless', 'usinfo', 'usual', 'utmost', 'valid', 'valu', 'valuabl', 'vari', 'varieti', 'variou', 'vasoact', 'vegan', 'vendor', 'versu', 'vessel', 'via', 'vial', 'view', 'visit', 'vital', 'vl', 'volum', 'vomit', 'vs', 'warn', 'warsaw', 'wasn', 'watch', 'wateri', 'we', 'wear', 'websit', 'week', 'weight', 'welcom', 'wellb', 'wendi', 'went', 'were', 'western', 'what', 'wheat', 'wheez', 'when', 'whenev', 'wherea', 'whether', 'whi', 'which', 'while', 'white', 'whom', 'widespread', 'wilders', 'will', 'william', 'win', 'wind', 'wine', 'wipe', 'wise', 'within', 'won', 'wood', 'word', 'worldwid', 'wors', 'worst', 'worth', 'wu', 'ye', 'year', 'yellow', 'yet', 'yoghurt', 'york', 'yorktest', 'you', 'young', 'your', 'yourself', 'zealand', 'zone', 'zucchini', 'polarity', 'subjectivity']\n",
        "allergy_testing_pipeline = pickle.load(open('/content/drive/My Drive/Colab Notebooks/allergy_fitted_pipeline.p','rb'))\n",
        "mean_weighted_f1(allergy_testing_pipeline, allergy_testing_X[allergy_testing_important_features], allergy_testing_Y, 30, 0.2)"
      ],
      "execution_count": null,
      "outputs": []
    },
    {
      "cell_type": "code",
      "metadata": {
        "id": "nZditF388qWy"
      },
      "source": [
        "allergy_label_counter = Counter(allergy_testing_Y)\n",
        "plt.bar(x=['CRED', 'NONCRED'], height=allergy_label_counter.values(), width=0.4, color=['g', 'r'])\n",
        "plt.ylabel('# of paragraphs within a class')\n",
        "plt.show()\n",
        "allergy_label_counter"
      ],
      "execution_count": null,
      "outputs": []
    },
    {
      "cell_type": "code",
      "metadata": {
        "id": "u3KVpDyuoP-5"
      },
      "source": [
        "proba_1, proba_0 = predict_proba_hist(allergy_testing_pipeline, \n",
        "                                      allergy_testing_X, \n",
        "                                      allergy_testing_Y, \n",
        "                                      allergy_testing_important_features)\n",
        "\n",
        "plt.hist(proba_1.values(), bins=10, color='g')\n",
        "plt.show()"
      ],
      "execution_count": null,
      "outputs": []
    },
    {
      "cell_type": "code",
      "metadata": {
        "id": "h1L-SGRqB-1h"
      },
      "source": [
        "show_auc_for_cv(allergy_testing_pipeline, allergy_testing_X[allergy_testing_important_features], allergy_testing_Y, n_splits=10)"
      ],
      "execution_count": null,
      "outputs": []
    },
    {
      "cell_type": "markdown",
      "metadata": {
        "id": "_vY5XLuFdt-c"
      },
      "source": [
        "## heart supplements"
      ]
    },
    {
      "cell_type": "code",
      "metadata": {
        "id": "HbEHkqkgdwEb"
      },
      "source": [
        "np.shape(heart_supplements_X)"
      ],
      "execution_count": null,
      "outputs": []
    },
    {
      "cell_type": "code",
      "metadata": {
        "id": "nxVeU_NjeeNd"
      },
      "source": [
        "heart_supplements_important_features, tpot_heart = teapot_optimizer(heart_supplements_X, \n",
        "                                                                    heart_supplements_Y, \n",
        "                                                                    num_important_features = 90,\n",
        "                                                                    VALIDATION_SPLIT=0.3)\n",
        "\n",
        "pickle.dump(tpot_heart.fitted_pipeline_, open('/content/drive/My Drive/Colab Notebooks/heart_supplements_fitted_pipeline.p','wb'))"
      ],
      "execution_count": null,
      "outputs": []
    },
    {
      "cell_type": "code",
      "metadata": {
        "id": "MP8tgfILgVaz"
      },
      "source": [
        "heart_supplements_important_features = ['Analytic', 'Authentic', 'Tone', 'Sixltr', 'i', 'shehe', 'article', 'prep', 'auxverb', 'negate', 'adj', 'number', 'quant', 'affect', 'negemo', 'anger', 'sad', 'female', 'male', 'cause', 'tentat', 'certain', 'bio', 'health', 'ingest', 'drives', 'reward', 'focuspast', 'time', 'work', 'leisure', 'money', 'filler', 'Comma', 'Colon', 'OtherP', 'DATE', 'CARDINAL', 'QUANTITY', 'ORDINAL', 'PERCENT', 'about', 'abov', 'absorb', 'absorption', 'accompani', 'acid', 'addit', 'adequ', 'adher', 'advis', 'against', 'aid', 'ail', 'alert', 'alga', 'algal', 'almost', 'alon', 'alpha', 'alreadi', 'american', 'amount', 'an', 'analysi', 'andunnecessary', 'anger', 'angina', 'ani', 'annal', 'anoth', 'anti', 'anticanc', 'anyth', 'appear', 'appli', 'appropri', 'are', 'argu', 'arteri', 'arugula', 'asbesto', 'asian', 'assess', 'assign', 'astaxanthin', 'at', 'athlet', 'attack', 'attribut', 'back', 'bailey', 'bcaa', 'beat', 'becaus', 'becom', 'beef', 'been', 'beetroot', 'behind', 'believ', 'benefit', 'berberin', 'between', 'beyond', 'biggest', 'bioenergi', 'block', 'bloodstream', 'bodi', 'bonu', 'book', 'boost', 'bowden', 'bowel', 'branch', 'bright', 'bring', 'broccoli', 'build', 'buildup', 'bump', 'burden', 'but', 'call', 'cancer', 'car', 'carcinogen', 'cardiologist', 'cardiovascular', 'carotenoid', 'cell', 'cellular', 'certain', 'chain', 'cheap', 'choic', 'cholesterol', 'cinnamon', 'circul', 'circumfer', 'claim', 'click', 'cod', 'cognit', 'collard', 'color', 'combat', 'combin', 'come', 'compani', 'complet', 'compon', 'compound', 'conclud', 'conduct', 'congest', 'conjunct', 'connect', 'consist', 'consum', 'contain', 'contribut', 'convent', 'convert', 'coq', 'count', 'counter', 'critic', 'crp', 'curcumin', 'current', 'cut', 'cystein', 'damag', 'danger', 'dangeroussubst', 'deal', 'death', 'decreas', 'deep', 'defibril', 'defici', 'dens', 'describ', 'design', 'detail', 'diabet', 'did', 'die', 'diet', 'dietari', 'dig', 'diseas', 'dismiss', 'dissolv', 'distinguish', 'dl', 'do', 'doe', 'doesn', 'downright', 'draw', 'drink', 'drug', 'due', 'dure', 'duti', 'earli', 'earth', 'easili', 'editori', 'educ', 'effici', 'either', 'elev', 'enabl', 'environmentally', 'enzym', 'eric', 'essenti', 'etc', 'event', 'everi', 'evid', 'exact', 'exampl', 'except', 'expect', 'experienc', 'explor', 'expos', 'extract', 'extractract', 'extrem', 'facilit', 'fact', 'factor', 'fashion', 'fatti', 'fattyacid', 'fda', 'februari', 'fib', 'filler', 'find', 'flavor', 'flexibl', 'fluff', 'fluffi', 'focu', 'folic', 'food', 'for', 'form', 'four', 'fresh', 'fruit', 'fundament', 'gap', 'garlic', 'get', 'glucos', 'glutamin', 'gold', 'goodfor', 'gpl', 'gplc', 'gradient', 'great', 'greater', 'greatli', 'growth', 'guid', 'ha', 'habit', 'had', 'harder', 'harmless', 'hawthorn', 'hbac', 'hcl', 'he', 'health', 'healthi', 'heart', 'heartbeat', 'heavili', 'help', 'herb', 'here', 'high', 'highest', 'highli', 'highlight', 'homocystein', 'hospit', 'how', 'hs', 'hydrat', 'hydrogen', 'hype', 'hypertens', 'idea', 'ie', 'immun', 'impact', 'import', 'improv', 'in', 'inadvert', 'incid', 'incorpor', 'ineffect', 'inexepens', 'inflammatori', 'ingredi', 'inher', 'inquiri', 'insolubl', 'instanc', 'insuffici', 'intak', 'intern', 'intervent', 'into', 'intuit', 'is', 'isn', 'iu', 'jarrow', 'jolla', 'journal', 'key', 'know', 'known', 'krill', 'la', 'label', 'lax', 'ldla', 'leafi', 'lean', 'learn', 'legum', 'lessen', 'let', 'level', 'lifestyl', 'lik', 'likelihood', 'limit', 'linolen', 'lipid', 'liquid', 'liver', 'load', 'long', 'longer', 'lot', 'love', 'lower', 'lowest', 'lpp', 'lung', 'lysin', 'mackerel', 'magnesium', 'main', 'mainten', 'manag', 'marin', 'marker', 'mayo', 'meal', 'meanwhil', 'measur', 'medicin', 'megar', 'men', 'merz', 'meta', 'metabol', 'methionin', 'method', 'might', 'mile', 'miller', 'mind', 'miner', 'mission', 'mmol', 'molecul', 'molecule', 'morgantown', 'most', 'mostli', 'murad', 'must', 'myth', 'name', 'nation', 'nearli', 'necessari', 'need', 'neg', 'nerv', 'network', 'never', 'new', 'newer', 'nitrat', 'nitrate', 'nitric', 'nitrit', 'nitrosamin', 'noel', 'non', 'normal', 'not', 'notion', 'now', 'number', 'nut', 'off', 'offatti', 'offer', 'often', 'omega', 'on', 'onlin', 'open', 'oregano', 'organ', 'osmot', 'other', 'ounc', 'ourselv', 'outdat', 'outrank', 'over', 'overal', 'overweight', 'own', 'oxygen', 'packag', 'pad', 'pain', 'pair', 'pamm', 'pan', 'paper', 'part', 'particular', 'peacehealth', 'peanut', 'perform', 'perhap', 'period', 'person', 'pharmacist', 'phd', 'physician', 'pink', 'place', 'placebo', 'plan', 'platelet', 'play', 'polyunsatur', 'posit', 'potassium', 'powder', 'preciou', 'predict', 'prefer', 'pregnant', 'present', 'prevent', 'prior', 'prioriti', 'pristin', 'pro', 'produc', 'promot', 'prompt', 'pronounc', 'proof', 'properli', 'properly', 'properti', 'prostat', 'protect', 'protein', 'proven', 'provid', 'psycholog', 'psyllium', 'pungent', 'qh', 'quantiti', 'randomli', 'ranges', 'rate', 'read', 'readili', 'recent', 'recommend', 'red', 'reduc', 'refer', 'regard', 'rel', 'reliabl', 'report', 'reput', 'requir', 'restaur', 'restor', 'retail', 'reveal', 'rhythm', 'ribos', 'ribose', 'rice', 'role', 'roughli', 'rutherford', 'ryan', 'safi', 'salmon', 'same', 'sardin', 'scare', 'school', 'scientist', 'scripp', 'sea', 'secondhand', 'seed', 'seen', 'selenium', 'sell', 'seven', 'shape', 'share', 'shellfish', 'shorten', 'should', 'sign', 'signal', 'significantli', 'similar', 'sinc', 'slightli', 'slow', 'small', 'so', 'sodium', 'softgel', 'solubl', 'some', 'someth', 'sophist', 'sourc', 'soy', 'specif', 'speed', 'spent', 'spice', 'stabil', 'statin', 'statist', 'steadili', 'step', 'steve', 'stick', 'still', 'stop', 'strategi', 'stratifi', 'strength', 'stronger', 'subject', 'substanc', 'substitut', 'subtyp', 'subtypes', 'sugar', 'sulfid', 'superfood', 'supervis', 'supplements', 'support', 'surgeri', 'surviv', 'sustain', 'swanson', 'symptom', 'synthet', 'taken', 'talk', 'tea', 'team', 'ten', 'tend', 'term', 'tget', 'th', 'than', 'that', 'the', 'their', 'thelabel', 'them', 'there', 'they', 'thin', 'think', 'thought', 'through', 'throughout', 'thrown', 'ticker', 'time', 'tobacco', 'tocardiovascular', 'togeth', 'toler', 'toomuch', 'top', 'topol', 'trace', 'tran', 'trans', 'transport', 'treat', 'trigger', 'triglycerid', 'trio', 'truth', 'under', 'unfortun', 'univers', 'unless', 'unnatur', 'upon', 'us', 'vagu', 'vampir', 'vari', 'veg', 'vegan', 'veget', 'vein', 'vers', 'victim', 'virginia', 'vldl', 'wa', 'walnut', 'wat', 'water', 'way', 'weaken', 'wear', 'webmd', 'were', 'west', 'whether', 'why', 'winner', 'within', 'women', 'word', 'worldwid', 'worth', 'wound', 'year', 'polarity']\n",
        "heart_supplements_pipeline = pickle.load(open('/content/drive/My Drive/Colab Notebooks/heart_supplements_fitted_pipeline.p','rb'))\n",
        "mean_weighted_f1(heart_supplements_pipeline, heart_supplements_X[heart_supplements_important_features], heart_supplements_Y, 10, 0.3)"
      ],
      "execution_count": null,
      "outputs": []
    },
    {
      "cell_type": "code",
      "metadata": {
        "id": "ub4umi-K87OF"
      },
      "source": [
        "heart_supplements_label_counter = Counter(heart_supplements_Y)\n",
        "plt.bar(x=['NONCRED', 'CRED'], height=heart_supplements_label_counter.values(), width=0.4, color=['r', 'g'])\n",
        "plt.ylabel('# of paragraphs within a class')\n",
        "plt.show()\n",
        "heart_supplements_label_counter"
      ],
      "execution_count": null,
      "outputs": []
    },
    {
      "cell_type": "code",
      "metadata": {
        "id": "9pL4cl_5CLxu"
      },
      "source": [
        "show_auc_for_cv(heart_supplements_pipeline, heart_supplements_X[heart_supplements_important_features], heart_supplements_Y, n_splits=10)"
      ],
      "execution_count": null,
      "outputs": []
    },
    {
      "cell_type": "code",
      "metadata": {
        "id": "kA5tIpAEpO-P"
      },
      "source": [
        "proba_1, proba_0 = predict_proba_hist(heart_supplements_pipeline, \n",
        "                                      heart_supplements_X, \n",
        "                                      heart_supplements_Y, \n",
        "                                      heart_supplements_important_features)\n",
        "\n",
        "plt.hist(proba_1.values(), bins=10, color='g')\n",
        "plt.show()"
      ],
      "execution_count": null,
      "outputs": []
    },
    {
      "cell_type": "code",
      "metadata": {
        "id": "3sci2EDip75x"
      },
      "source": [
        "plt.hist(proba_0.values(), bins=10, color='r')\n",
        "plt.show()"
      ],
      "execution_count": null,
      "outputs": []
    },
    {
      "cell_type": "markdown",
      "metadata": {
        "id": "96ZaNLh5dyoM"
      },
      "source": [
        "## steroids for kids"
      ]
    },
    {
      "cell_type": "code",
      "metadata": {
        "id": "BIXBimLwd044"
      },
      "source": [
        "np.shape(steroids_for_kids_X)"
      ],
      "execution_count": null,
      "outputs": []
    },
    {
      "cell_type": "code",
      "metadata": {
        "id": "auF7YLwXPGzL"
      },
      "source": [
        "steroids_for_kids_important_features, tpot_steroids = teapot_optimizer(steroids_for_kids_X, \n",
        "                                                                        steroids_for_kids_Y, \n",
        "                                                                        num_important_features = 90,\n",
        "                                                                        VALIDATION_SPLIT=0.2)\n",
        "\n",
        "pickle.dump(tpot_steroids.fitted_pipeline_, open('/content/drive/My Drive/Colab Notebooks/steroids_for_kids_fitted_pipeline.p','wb'))"
      ],
      "execution_count": null,
      "outputs": []
    },
    {
      "cell_type": "code",
      "metadata": {
        "id": "5Pw74kw5gf_x"
      },
      "source": [
        "steroids_for_kids_important_features = ['WC', 'WPS', 'i', 'we', 'article', 'auxverb', 'negate', 'adj', 'compare', 'interrog', 'quant', 'anger', 'male', 'discrep', 'tentat', 'feel', 'affiliation', 'achieve', 'reward', 'focusfuture', 'motion', 'informal', 'assent', 'QMark', 'Exclam', 'Parenth', 'about', 'absorb', 'acut', 'administ', 'adren', 'adrenocort', 'affect', 'after', 'age', 'all', 'almost', 'alreadi', 'also', 'amount', 'and', 'anim', 'antibodi', 'antispasmod', 'appear', 'are', 'arrang', 'arteri', 'athlet', 'avoid', 'awar', 'bacteria', 'bad', 'becaus', 'becom', 'bed', 'begin', 'between', 'big', 'bike', 'bone', 'bottom', 'bronchial', 'bronchiti', 'bronchoconstrict', 'call', 'cardiologist', 'carri', 'case', 'center', 'chanc', 'chicken', 'chosen', 'chronic', 'clean', 'come', 'complain', 'conclud', 'condit', 'confound', 'congenit', 'contact', 'contamin', 'continu', 'coronari', 'corticosteroid', 'croup', 'cure', 'current', 'data', 'day', 'decis', 'deep', 'definit', 'deterior', 'develop', 'diastol', 'discomfort', 'diseas', 'distant', 'dizzi', 'doctor', 'doe', 'drink', 'eat', 'educ', 'effort', 'enabl', 'environ', 'ever', 'everi', 'exacerb', 'exercis', 'extrem', 'failur', 'famili', 'faster', 'fever', 'form', 'four', 'fourth', 'framingham', 'fre', 'function', 'futur', 'gland', 'glass', 'good', 'graviti', 'great', 'grown', 'hand', 'harm', 'he', 'headach', 'hear', 'heart', 'here', 'high', 'higher', 'hormon', 'howev', 'huge', 'hurt', 'hyperplasia', 'immedi', 'immin', 'import', 'improv', 'includ', 'increas', 'infant', 'infarct', 'inflammatori', 'insidi', 'intensifi', 'interest', 'jra', 'just', 'land', 'latest', 'level', 'life', 'liquid', 'live', 'local', 'lowest', 'made', 'make', 'marker', 'may', 'medic', 'medicin', 'member', 'met', 'might', 'more', 'much', 'mucu', 'myocardi', 'nephrot', 'no', 'nose', 'noth', 'nurs', 'often', 'onc', 'one', 'patholog', 'peac', 'percent', 'perform', 'pill', 'pleas', 'poland', 'portion', 'powder', 'pox', 'probabl', 'process', 'product', 'progress', 'proven', 'publish', 'purpos', 'quit', 'radar', 'rais', 'rare', 'rattl', 'rattli', 'read', 'realiz', 'recogn', 'recommend', 'reflux', 'reimburs', 'remiss', 'report', 'research', 'rest', 'revert', 'rheumatoid', 'ride', 'rule', 'said', 'save', 'season', 'secondli', 'sensat', 'sepsi', 'seriou', 'serv', 'shift', 'shorter', 'shot', 'sibl', 'sick', 'sleep', 'slow', 'smaller', 'smog', 'sometim', 'start', 'steroid', 'still', 'stuck', 'suck', 'sugar', 'support', 'supraglott', 'symptom', 'syrup', 'system', 'tablet', 'talk', 'temporari', 'tend', 'than', 'that', 'the', 'therapi', 'these', 'thicker', 'thinner', 'third', 'this', 'threat', 'thrombosi', 'through', 'tire', 'to', 'today', 'too', 'treat', 'turn', 'understand', 'unfortun', 'until', 'unwel', 'upper', 'us', 'venou', 'ventil', 'visit', 'wa', 'we', 'weight', 'were', 'what', 'which', 'wors', 'ye', 'yup', 'polarity']\n",
        "steroids_for_kids_pipeline = pickle.load(open('/content/drive/My Drive/Colab Notebooks/steroids_for_kids_fitted_pipeline.p','rb'))\n",
        "mean_weighted_f1(steroids_for_kids_pipeline, steroids_for_kids_X[steroids_for_kids_important_features], steroids_for_kids_Y, 30, 0.2)"
      ],
      "execution_count": null,
      "outputs": []
    },
    {
      "cell_type": "code",
      "metadata": {
        "id": "uowIRUm9_OcM"
      },
      "source": [
        "steroids_for_kids_label_counter = Counter(steroids_for_kids_Y)\n",
        "plt.bar(x=['CRED', 'NONCRED'], height=steroids_for_kids_label_counter.values(), width=0.4, color=['g', 'r'])\n",
        "plt.ylabel('# of paragraphs within a class')\n",
        "plt.show()\n",
        "steroids_for_kids_label_counter"
      ],
      "execution_count": null,
      "outputs": []
    },
    {
      "cell_type": "code",
      "metadata": {
        "id": "7tg1zJVwCUyf"
      },
      "source": [
        "show_auc_for_cv(steroids_for_kids_pipeline, \n",
        "                steroids_for_kids_X[steroids_for_kids_important_features], \n",
        "                steroids_for_kids_Y, \n",
        "                n_splits=10,\n",
        "                split=0.3)"
      ],
      "execution_count": null,
      "outputs": []
    },
    {
      "cell_type": "code",
      "metadata": {
        "id": "_Ob0t_PxsTf9"
      },
      "source": [
        "proba_1, proba_0 = predict_proba_hist(steroids_for_kids_pipeline, \n",
        "                                      steroids_for_kids_X, \n",
        "                                      steroids_for_kids_Y, \n",
        "                                      steroids_for_kids_important_features,\n",
        "                                      split=0.3)\n",
        "\n",
        "plt.hist(proba_1.values(), bins=10, color='g')\n",
        "plt.show()"
      ],
      "execution_count": null,
      "outputs": []
    },
    {
      "cell_type": "code",
      "metadata": {
        "id": "-KIAosdCs9d9"
      },
      "source": [
        "plt.hist(proba_0.values(), bins=10, color='r')\n",
        "plt.show()"
      ],
      "execution_count": null,
      "outputs": []
    },
    {
      "cell_type": "markdown",
      "metadata": {
        "id": "vTuY9332d1EM"
      },
      "source": [
        "## children antibiotics"
      ]
    },
    {
      "cell_type": "code",
      "metadata": {
        "id": "zEkRoHK-d3Zp"
      },
      "source": [
        "np.shape(children_antibiotics_X)"
      ],
      "execution_count": null,
      "outputs": []
    },
    {
      "cell_type": "code",
      "metadata": {
        "id": "YryYtd4Ye2PG"
      },
      "source": [
        "children_antibiotics_important_features, tpot_antibiotics = teapot_optimizer(children_antibiotics_X, \n",
        "                                                                              children_antibiotics_Y, \n",
        "                                                                              num_important_features=50,\n",
        "                                                                              VALIDATION_SPLIT=0.3)\n",
        "pickle.dump(tpot_antibiotics.fitted_pipeline_, open('/content/drive/My Drive/Colab Notebooks/antibiotics_fitted_pipeline.p','wb'))"
      ],
      "execution_count": null,
      "outputs": []
    },
    {
      "cell_type": "code",
      "metadata": {
        "id": "rkamkVyMgw2W"
      },
      "source": [
        "children_antibiotics_important_features = ['Sixltr', 'female', 'male', 'certain', 'assent', 'GPE', 'all', 'answer', 'antibiot', 'antibiotics', 'ask', 'at', 'bacteria', 'behavior', 'beverag', 'case', 'caus', 'cdc', 'certain', 'digest', 'discoveri', 'disord', 'exact', 'exampl', 'fact', 'fever', 'fluid', 'for', 'half', 'hand', 'happen', 'heal', 'hi', 'high', 'higher', 'import', 'increas', 'lead', 'media', 'natur', 'neg', 'no', 'oil', 'organ', 'ototox', 'problem', 'process', 'provid', 'quickli', 'rash', 'say', 'sign', 'simpli', 'some', 'specif', 'swell', 'syndrom', 'tantrum', 'thi', 'too', 'treatment', 'vitamin', 'within', 'year', 'you', 'young']\n",
        "children_antibiotics_pipeline = pickle.load(open('/content/drive/My Drive/Colab Notebooks/antibiotics_fitted_pipeline.p','rb'))\n",
        "mean_weighted_f1(children_antibiotics_pipeline, children_antibiotics_X[children_antibiotics_important_features], children_antibiotics_Y, 10, 0.3)"
      ],
      "execution_count": null,
      "outputs": []
    },
    {
      "cell_type": "code",
      "metadata": {
        "id": "QdJjtvev_o6o"
      },
      "source": [
        "children_antibiotics_label_counter = Counter(children_antibiotics_Y)\n",
        "plt.bar(x=['CRED', 'NONCRED'], height=children_antibiotics_label_counter.values(), width=0.4, color=['g', 'r'])\n",
        "plt.ylabel('# of paragraphs within a class')\n",
        "plt.show()\n",
        "children_antibiotics_label_counter"
      ],
      "execution_count": null,
      "outputs": []
    },
    {
      "cell_type": "code",
      "metadata": {
        "id": "ccDsPmS4Cbr7"
      },
      "source": [
        "show_auc_for_cv(children_antibiotics_pipeline, \n",
        "                children_antibiotics_X[children_antibiotics_important_features], \n",
        "                children_antibiotics_Y, \n",
        "                n_splits=10,\n",
        "                split=0.3)"
      ],
      "execution_count": null,
      "outputs": []
    },
    {
      "cell_type": "markdown",
      "metadata": {
        "id": "LSfCwuGRd3q3"
      },
      "source": [
        "## cc_vs_nb"
      ]
    },
    {
      "cell_type": "code",
      "metadata": {
        "id": "vgtsZZJnd5dc"
      },
      "source": [
        "np.shape(cc_vs_nb_X)"
      ],
      "execution_count": null,
      "outputs": []
    },
    {
      "cell_type": "code",
      "metadata": {
        "id": "2whRCWhAe-y2"
      },
      "source": [
        "cc_vs_nb_important_features, tpot_cc_nb = teapot_optimizer(cc_vs_nb_X, \n",
        "                              cc_vs_nb_Y, \n",
        "                              num_important_features=50,\n",
        "                              VALIDATION_SPLIT=0.3)\n",
        "pickle.dump(tpot_cc_nb.fitted_pipeline_, open('/content/drive/My Drive/Colab Notebooks/cc_vs_nb_fitted_pipeline.p','wb'))"
      ],
      "execution_count": null,
      "outputs": []
    },
    {
      "cell_type": "code",
      "metadata": {
        "id": "zBZstrwJg6if"
      },
      "source": [
        "cc_vs_nb_important_features = ['Analytic', 'Clout', 'Sixltr', 'pronoun', 'ppron', 'i', 'you', 'prep', 'adverb', 'negate', 'adj', 'anger', 'social', 'family', 'friend', 'health', 'affiliation', 'reward', 'leisure', 'home', 'informal', 'assent', 'nonflu', 'Colon', 'Quote', 'Parenth', 'CARDINAL', 'NORP', 'TIME', 'MONEY', 'abdomin', 'abl', 'account', 'across', 'actual', 'advanc', 'advantag', 'advertis', 'advic', 'against', 'aggress', 'ago', 'aim', 'alarm', 'alex', 'allevi', 'along', 'alter', 'alway', 'appli', 'appropri', 'arbitrari', 'are', 'argu', 'around', 'at', 'avoid', 'babi', 'bacteria', 'bad', 'bbc', 'be', 'befor', 'begin', 'born', 'breach', 'break', 'breastfeed', 'breath', 'bryant', 'by', 'caesarian', 'calcul', 'california', 'call', 'calm', 'can', 'care', 'categoris', 'catheter', 'caution', 'cent', 'chang', 'chest', 'children', 'chilli', 'chose', 'circumst', 'cite', 'co', 'compon', 'confus', 'consent', 'consid', 'content', 'continu', 'cost', 'counsel', 'coupl', 'cutoff', 'data', 'date', 'daughter', 'david', 'day', 'deal', 'debat', 'deem', 'deliveri', 'deni', 'depress', 'depth', 'derbyshir', 'determin', 'devic', 'diagnosi', 'did', 'diego', 'disadvantag', 'disappoint', 'discharg', 'discuss', 'doe', 'doesn', 'don', 'done', 'down', 'downsid', 'drip', 'drive', 'dysfunct', 'earli', 'easiest', 'either', 'elect', 'elev', 'emerg', 'emot', 'end', 'ensur', 'excruci', 'expect', 'factor', 'far', 'faster', 'februari', 'felt', 'fever', 'fix', 'flat', 'forese', 'foul', 'from', 'fulli', 'futur', 'game', 'genit', 'georg', 'get', 'got', 'graphic', 'groggi', 'guess', 'gyn', 'gynaecologist', 'gynecolog', 'ha', 'had', 'hadn', 'haemorrhoid', 'hand', 'happen', 'have', 'hayn', 'he', 'heads', 'health', 'heart', 'heath', 'heavi', 'high', 'hinder', 'hiv', 'hold', 'home', 'hospit', 'hour', 'how', 'howev', 'human', 'hurt', 'idea', 'if', 'illustr', 'imagin', 'implic', 'in', 'inder', 'india', 'infecti', 'insur', 'interest', 'intricaci', 'investig', 'involv', 'isn', 'issu', 'itchi', 'kati', 'kept', 'knight', 'kozhimannil', 'labor', 'later', 'lawsuit', 'left', 'leg', 'lesser', 'let', 'level', 'lie', 'life', 'lift', 'like', 'limit', 'line', 'll', 'look', 'lower', 'magic', 'maintain', 'major', 'march', 'massachusett', 'me', 'mean', 'meaning', 'media', 'middl', 'midwif', 'might', 'milsom', 'mindset', 'minnesota', 'molina', 'money', 'more', 'most', 'movement', 'mums', 'must', 'my', 'nadin', 'necessari', 'neglig', 'neonat', 'nine', 'no', 'normal', 'not', 'nurs', 'ob', 'off', 'ok', 'okay', 'one', 'onlin', 'oper', 'out', 'overal', 'overus', 'particular', 'pattern', 'pee', 'pelvic', 'peopl', 'per', 'permeat', 'plan', 'plateau', 'playback', 'pleas', 'poop', 'pose', 'posit', 'postpartum', 'practice', 'prefer', 'pregnant', 'present', 'previou', 'price', 'programm', 'prolaps', 'prospect', 'prove', 'provid', 'pu', 'push', 'put', 'question', 're', 'reassur', 'reassuring', 'recommend', 'recov', 'red', 'reduc', 'reject', 'relat', 'remov', 'requir', 'research', 'review', 'right', 'riski', 'rob', 'royal', 'ruptur', 'safe', 'safer', 'said', 'same', 'san', 'scan', 'scare', 'school', 'secret', 'section', 'sens', 'sex', 'sexual', 'sick', 'sign', 'significantli', 'similarli', 'simpl', 'simplex', 'sinc', 'six', 'size', 'sizelarg', 'sizeregular', 'skin', 'small', 'smel', 'someth', 'son', 'speak', 'state', 'stay', 'stomach', 'strep', 'stuck', 'substitut', 'suddenli', 'suppos', 'suprem', 'swell', 'take', 'team', 'tear', 'text', 'that', 'the', 'therapi', 'these', 'thing', 'think', 'thoma', 'thought', 'through', 'tire', 'told', 'took', 'top', 'tough', 'tri', 'trial', 'troubl', 'tummi', 'twin', 'twist', 'typic', 'uk', 'uncompl', 'understand', 'unit', 'unsuccess', 'unsupport', 'until', 'up', 'urin', 'use', 'uteru', 'vagina', 've', 'victoria', 'viru', 'walk', 'want', 'ward', 'warmth', 'washington', 'wasn', 'watch', 'weigh', 'weiser', 'what', 'where', 'which', 'who', 'wife', 'window', 'with', 'without', 'wo', 'womb', 'women', 'won', 'worri', 'wors', 'wound', 'ye', 'yet', 'you', 'yourself', 'zero', 'polarity']\n",
        "cc_vs_nb_pipeline = pickle.load(open('/content/drive/My Drive/Colab Notebooks/cc_vs_nb_fitted_pipeline.p','rb'))\n",
        "mean_weighted_f1(cc_vs_nb_pipeline, cc_vs_nb_X[cc_vs_nb_important_features], cc_vs_nb_Y, 30, 0.3)"
      ],
      "execution_count": null,
      "outputs": []
    },
    {
      "cell_type": "code",
      "metadata": {
        "id": "mhshHuHx_7MQ"
      },
      "source": [
        "cc_vs_nb_label_counter = Counter(cc_vs_nb_Y)\n",
        "plt.bar(x=['NONCRED', 'CRED'], height=cc_vs_nb_label_counter.values(), width=0.4, color=['r', 'g'])\n",
        "plt.ylabel('# of paragraphs within a class')\n",
        "plt.show()\n",
        "cc_vs_nb_label_counter"
      ],
      "execution_count": null,
      "outputs": []
    },
    {
      "cell_type": "code",
      "metadata": {
        "id": "9cE5tVUqCqkF"
      },
      "source": [
        "show_auc_for_cv(cc_vs_nb_pipeline, \n",
        "                cc_vs_nb_X[cc_vs_nb_important_features], \n",
        "                cc_vs_nb_Y, \n",
        "                n_splits=10,\n",
        "                split=0.3)"
      ],
      "execution_count": null,
      "outputs": []
    },
    {
      "cell_type": "code",
      "metadata": {
        "id": "tgWHUsLexE2r"
      },
      "source": [
        "proba_1, proba_0 = predict_proba_hist(cc_vs_nb_pipeline, \n",
        "                                      cc_vs_nb_X, \n",
        "                                      cc_vs_nb_Y, \n",
        "                                      cc_vs_nb_important_features,\n",
        "                                      split=0.3)\n",
        "\n",
        "plt.hist(proba_1.values(), bins=10, color='g')\n",
        "plt.show()"
      ],
      "execution_count": null,
      "outputs": []
    },
    {
      "cell_type": "code",
      "metadata": {
        "id": "WYTf11iPxPbx"
      },
      "source": [
        "plt.hist(proba_0.values(), bins=10, color='r')\n",
        "plt.show()"
      ],
      "execution_count": null,
      "outputs": []
    },
    {
      "cell_type": "code",
      "metadata": {
        "id": "WUR73sVmV3n0"
      },
      "source": [
        ""
      ],
      "execution_count": null,
      "outputs": []
    },
    {
      "cell_type": "markdown",
      "metadata": {
        "id": "1CnErEtnn6KZ"
      },
      "source": [
        "# TODO\n",
        "-  [x] Wyświetlić histogram predict_proba dla każdego przypadku ze zbioru testowego - zobaczymy, ile jesteśmy w stanie wiarygodnych paragrafów wyłapać, gdy klasyfikator jest bardzo pewny swojej klasyfikacji.\n",
        "- [ ] Dodać wektory BERT lub LSA zamiast TFIDF (?).\n",
        "- [ ] Dodać 2-gramy do zestawu cech (lub zrobić TFIDF z wyrażeniami wielowyrazowymi) (?).\n",
        "- [ ] Złożność zdania - dodać cechę (element wykrywania HEDGINGU).\n",
        "- [ ] Wyciągnąć cechy wspólne dla wszystkich kategorii, oraz wyjątkowe dla każdej kategorii.\n",
        "- [x] Jak procedura przenoszenia etykiet dla trójek zmienia rozkład klas w kategoriach?\n",
        "- [ ] Wpływ procedury klasyfikacyjnej na proces Active Annotation (!).\n",
        "\n",
        "*\"Wpływ zdania niewiarygodnego na fragment tekstu.\"*"
      ]
    }
  ]
}