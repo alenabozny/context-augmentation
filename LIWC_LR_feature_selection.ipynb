{
  "nbformat": 4,
  "nbformat_minor": 0,
  "metadata": {
    "colab": {
      "name": "LIWC_LR_feature_selection",
      "provenance": [],
      "collapsed_sections": [],
      "toc_visible": true,
      "include_colab_link": true
    },
    "kernelspec": {
      "display_name": "Python 3",
      "name": "python3"
    },
    "widgets": {
      "application/vnd.jupyter.widget-state+json": {
        "378bb8998ca54a878bd89553dc2af0fc": {
          "model_module": "@jupyter-widgets/controls",
          "model_name": "HBoxModel",
          "state": {
            "_view_name": "HBoxView",
            "_dom_classes": [],
            "_model_name": "HBoxModel",
            "_view_module": "@jupyter-widgets/controls",
            "_model_module_version": "1.5.0",
            "_view_count": null,
            "_view_module_version": "1.5.0",
            "box_style": "",
            "layout": "IPY_MODEL_ee95a77e559846ab93ea79f8bc1e84e2",
            "_model_module": "@jupyter-widgets/controls",
            "children": [
              "IPY_MODEL_1d8ba55c3a5b4cf3a8a548ebab9821f4",
              "IPY_MODEL_0f1e20c28556424dbb55bfad4d87b398"
            ]
          }
        },
        "ee95a77e559846ab93ea79f8bc1e84e2": {
          "model_module": "@jupyter-widgets/base",
          "model_name": "LayoutModel",
          "state": {
            "_view_name": "LayoutView",
            "grid_template_rows": null,
            "right": null,
            "justify_content": null,
            "_view_module": "@jupyter-widgets/base",
            "overflow": null,
            "_model_module_version": "1.2.0",
            "_view_count": null,
            "flex_flow": null,
            "width": null,
            "min_width": null,
            "border": null,
            "align_items": null,
            "bottom": null,
            "_model_module": "@jupyter-widgets/base",
            "top": null,
            "grid_column": null,
            "overflow_y": null,
            "overflow_x": null,
            "grid_auto_flow": null,
            "grid_area": null,
            "grid_template_columns": null,
            "flex": null,
            "_model_name": "LayoutModel",
            "justify_items": null,
            "grid_row": null,
            "max_height": null,
            "align_content": null,
            "visibility": null,
            "align_self": null,
            "height": null,
            "min_height": null,
            "padding": null,
            "grid_auto_rows": null,
            "grid_gap": null,
            "max_width": null,
            "order": null,
            "_view_module_version": "1.2.0",
            "grid_template_areas": null,
            "object_position": null,
            "object_fit": null,
            "grid_auto_columns": null,
            "margin": null,
            "display": null,
            "left": null
          }
        },
        "1d8ba55c3a5b4cf3a8a548ebab9821f4": {
          "model_module": "@jupyter-widgets/controls",
          "model_name": "FloatProgressModel",
          "state": {
            "_view_name": "ProgressView",
            "style": "IPY_MODEL_bf9dafccf8cb436ea3b56fffef7a2b1a",
            "_dom_classes": [],
            "description": "Optimization Progress: 100%",
            "_model_name": "FloatProgressModel",
            "bar_style": "",
            "max": 120,
            "_view_module": "@jupyter-widgets/controls",
            "_model_module_version": "1.5.0",
            "value": 120,
            "_view_count": null,
            "_view_module_version": "1.5.0",
            "orientation": "horizontal",
            "min": 0,
            "description_tooltip": null,
            "_model_module": "@jupyter-widgets/controls",
            "layout": "IPY_MODEL_792132fe5fdc4a69937f34b0a12dac0a"
          }
        },
        "0f1e20c28556424dbb55bfad4d87b398": {
          "model_module": "@jupyter-widgets/controls",
          "model_name": "HTMLModel",
          "state": {
            "_view_name": "HTMLView",
            "style": "IPY_MODEL_18223a8f7e754f849564b83561002b26",
            "_dom_classes": [],
            "description": "",
            "_model_name": "HTMLModel",
            "placeholder": "​",
            "_view_module": "@jupyter-widgets/controls",
            "_model_module_version": "1.5.0",
            "value": " 120/120 [08:54&lt;00:00,  6.27s/pipeline]",
            "_view_count": null,
            "_view_module_version": "1.5.0",
            "description_tooltip": null,
            "_model_module": "@jupyter-widgets/controls",
            "layout": "IPY_MODEL_3250e0b5eed648b799325f0061299fdf"
          }
        },
        "bf9dafccf8cb436ea3b56fffef7a2b1a": {
          "model_module": "@jupyter-widgets/controls",
          "model_name": "ProgressStyleModel",
          "state": {
            "_view_name": "StyleView",
            "_model_name": "ProgressStyleModel",
            "description_width": "initial",
            "_view_module": "@jupyter-widgets/base",
            "_model_module_version": "1.5.0",
            "_view_count": null,
            "_view_module_version": "1.2.0",
            "bar_color": null,
            "_model_module": "@jupyter-widgets/controls"
          }
        },
        "792132fe5fdc4a69937f34b0a12dac0a": {
          "model_module": "@jupyter-widgets/base",
          "model_name": "LayoutModel",
          "state": {
            "_view_name": "LayoutView",
            "grid_template_rows": null,
            "right": null,
            "justify_content": null,
            "_view_module": "@jupyter-widgets/base",
            "overflow": null,
            "_model_module_version": "1.2.0",
            "_view_count": null,
            "flex_flow": null,
            "width": null,
            "min_width": null,
            "border": null,
            "align_items": null,
            "bottom": null,
            "_model_module": "@jupyter-widgets/base",
            "top": null,
            "grid_column": null,
            "overflow_y": null,
            "overflow_x": null,
            "grid_auto_flow": null,
            "grid_area": null,
            "grid_template_columns": null,
            "flex": null,
            "_model_name": "LayoutModel",
            "justify_items": null,
            "grid_row": null,
            "max_height": null,
            "align_content": null,
            "visibility": null,
            "align_self": null,
            "height": null,
            "min_height": null,
            "padding": null,
            "grid_auto_rows": null,
            "grid_gap": null,
            "max_width": null,
            "order": null,
            "_view_module_version": "1.2.0",
            "grid_template_areas": null,
            "object_position": null,
            "object_fit": null,
            "grid_auto_columns": null,
            "margin": null,
            "display": null,
            "left": null
          }
        },
        "18223a8f7e754f849564b83561002b26": {
          "model_module": "@jupyter-widgets/controls",
          "model_name": "DescriptionStyleModel",
          "state": {
            "_view_name": "StyleView",
            "_model_name": "DescriptionStyleModel",
            "description_width": "",
            "_view_module": "@jupyter-widgets/base",
            "_model_module_version": "1.5.0",
            "_view_count": null,
            "_view_module_version": "1.2.0",
            "_model_module": "@jupyter-widgets/controls"
          }
        },
        "3250e0b5eed648b799325f0061299fdf": {
          "model_module": "@jupyter-widgets/base",
          "model_name": "LayoutModel",
          "state": {
            "_view_name": "LayoutView",
            "grid_template_rows": null,
            "right": null,
            "justify_content": null,
            "_view_module": "@jupyter-widgets/base",
            "overflow": null,
            "_model_module_version": "1.2.0",
            "_view_count": null,
            "flex_flow": null,
            "width": null,
            "min_width": null,
            "border": null,
            "align_items": null,
            "bottom": null,
            "_model_module": "@jupyter-widgets/base",
            "top": null,
            "grid_column": null,
            "overflow_y": null,
            "overflow_x": null,
            "grid_auto_flow": null,
            "grid_area": null,
            "grid_template_columns": null,
            "flex": null,
            "_model_name": "LayoutModel",
            "justify_items": null,
            "grid_row": null,
            "max_height": null,
            "align_content": null,
            "visibility": null,
            "align_self": null,
            "height": null,
            "min_height": null,
            "padding": null,
            "grid_auto_rows": null,
            "grid_gap": null,
            "max_width": null,
            "order": null,
            "_view_module_version": "1.2.0",
            "grid_template_areas": null,
            "object_position": null,
            "object_fit": null,
            "grid_auto_columns": null,
            "margin": null,
            "display": null,
            "left": null
          }
        }
      }
    }
  },
  "cells": [
    {
      "cell_type": "markdown",
      "metadata": {
        "id": "view-in-github",
        "colab_type": "text"
      },
      "source": [
        "<a href=\"https://colab.research.google.com/github/alenabozny/context-augmentation/blob/master/LIWC_LR_feature_selection.ipynb\" target=\"_parent\"><img src=\"https://colab.research.google.com/assets/colab-badge.svg\" alt=\"Open In Colab\"/></a>"
      ]
    },
    {
      "cell_type": "markdown",
      "metadata": {
        "id": "dBrePjB5rxXI"
      },
      "source": [
        "## **Mount Google Drive to the Notebook. This allows us to load datasets that are copyied to the GD directory.**\n"
      ]
    },
    {
      "cell_type": "code",
      "metadata": {
        "colab": {
          "base_uri": "https://localhost:8080/"
        },
        "id": "p3MTQPfDHF2S",
        "outputId": "7bafdcf3-54fe-4f72-ee62-9e98f50286af"
      },
      "source": [
        "from google.colab import drive\n",
        "drive.mount('/content/drive')"
      ],
      "execution_count": 1,
      "outputs": [
        {
          "output_type": "stream",
          "text": [
            "Mounted at /content/drive\n"
          ],
          "name": "stdout"
        }
      ]
    },
    {
      "cell_type": "markdown",
      "metadata": {
        "id": "cDkjxvO0sDVJ"
      },
      "source": [
        "## **Load the dataset (LIWC features for CRED/NONCRED data)**"
      ]
    },
    {
      "cell_type": "code",
      "metadata": {
        "colab": {
          "base_uri": "https://localhost:8080/"
        },
        "id": "mwoht0ACHcgm",
        "outputId": "5ef5484e-7dbc-4c75-a78f-245545caec32"
      },
      "source": [
        "import pandas as pd\n",
        "import numpy as np\n",
        "\n",
        "statins = pd.read_csv(\"/content/drive/My Drive/Colab Notebooks/LIWC_paragrafy.csv\", sep=\";\",decimal=',', header=0)\n",
        "psychiatry = pd.read_csv(\"/content/drive/My Drive/Colab Notebooks/paragrafy_LIWC/psychiatry.csv\", sep=\";\",decimal=',', header=0)\n",
        "antioxidants = pd.read_csv(\"/content/drive/My Drive/Colab Notebooks/paragrafy_LIWC/antioxidants.csv\", sep=\";\",decimal=',', header=0)\n",
        "ssri_during_pregnancy = pd.read_csv(\"/content/drive/My Drive/Colab Notebooks/paragrafy_LIWC/ssri_during_pregnancy.csv\", sep=\";\",decimal=',', header=0)\n",
        "cc_vs_nb = pd.read_csv(\"/content/drive/My Drive/Colab Notebooks/paragrafy_LIWC/cc_vs_nb.csv\", sep=\";\",decimal=',', header=0)\n",
        "aspirin_pregnancy = pd.read_csv(\"/content/drive/My Drive/Colab Notebooks/paragrafy_LIWC/aspirin_pregnancy.csv\", sep=\";\",decimal=',', header=0)\n",
        "children_antibiotics = pd.read_csv(\"/content/drive/My Drive/Colab Notebooks/paragrafy_LIWC/children_antibiotics.csv\", sep=\";\",decimal=',', header=0)\n",
        "allergy_testing = pd.read_csv(\"/content/drive/My Drive/Colab Notebooks/paragrafy_LIWC/allergy_testing.csv\", sep=\";\",decimal=',', header=0)\n",
        "diet_and_autism = pd.read_csv(\"/content/drive/My Drive/Colab Notebooks/paragrafy_LIWC/diet_and_autism.csv\", sep=\";\",decimal=',', header=0)\n",
        "heart_supplements = pd.read_csv(\"/content/drive/My Drive/Colab Notebooks/paragrafy_LIWC/heart_supplements.csv\", sep=\";\",decimal=',', header=0)\n",
        "ssri_during_pregnancy = pd.read_csv(\"/content/drive/My Drive/Colab Notebooks/paragrafy_LIWC/ssri_during_pregnancy.csv\", sep=\";\",decimal=',', header=0)\n",
        "steroids_for_kids = pd.read_csv(\"/content/drive/My Drive/Colab Notebooks/paragrafy_LIWC/steroids_for_kids.csv\", sep=\";\",decimal=',', header=0)\n",
        "vaccination = pd.read_csv(\"/content/drive/My Drive/Colab Notebooks/paragrafy_LIWC/vaccination.csv\", sep=\";\",decimal=',', header=0)\n",
        "\n",
        "statins['Body'].head()"
      ],
      "execution_count": 2,
      "outputs": [
        {
          "output_type": "execute_result",
          "data": {
            "text/plain": [
              "0    Statins available in the United States include...\n",
              "1    Statins are one of the most common medicines p...\n",
              "2    They work on an enzyme that is used by our bod...\n",
              "3    Yep, that’s right…our bodies make cholesterol,...\n",
              "4    That’s because cholesterol is vital for our su...\n",
              "Name: Body, dtype: object"
            ]
          },
          "metadata": {
            "tags": []
          },
          "execution_count": 2
        }
      ]
    },
    {
      "cell_type": "code",
      "metadata": {
        "id": "3pIVeBF5OcIY"
      },
      "source": [
        "statins_paragraphs = statins[0:1917:3]\n",
        "psychiatry_paragraphs = psychiatry[0:len(psychiatry):3]\n",
        "antioxidants_paragraphs = antioxidants[0:len(antioxidants):3]\n",
        "ssri_during_pregnancy_paragraphs = ssri_during_pregnancy[0:len(ssri_during_pregnancy):3]\n",
        "cc_vs_nb_paragraphs = cc_vs_nb[0:len(cc_vs_nb):3]\n",
        "aspirin_pregnancy_paragraphs = aspirin_pregnancy[0:len(aspirin_pregnancy):3]\n",
        "children_antibiotics_paragraphs = children_antibiotics[0:len(children_antibiotics):3]\n",
        "allergy_testing_paragraphs = allergy_testing[0:len(allergy_testing):3]\n",
        "diet_and_autism_paragraphs = diet_and_autism[0:len(diet_and_autism):3]\n",
        "heart_supplements_paragraphs = heart_supplements[0:len(heart_supplements):3]\n",
        "ssri_during_pregnancy_paragraphs = ssri_during_pregnancy[0:len(ssri_during_pregnancy):3]\n",
        "steroids_for_kids_paragraphs = steroids_for_kids[0:len(steroids_for_kids):3]\n",
        "vaccination_paragraphs = vaccination[0:len(vaccination):3]"
      ],
      "execution_count": 3,
      "outputs": []
    },
    {
      "cell_type": "code",
      "metadata": {
        "colab": {
          "base_uri": "https://localhost:8080/",
          "height": 681
        },
        "id": "iOxbnAFLYZKn",
        "outputId": "d71cb5c9-b955-4b2c-9cd7-32fe7eb5f579"
      },
      "source": [
        "vaccination_paragraphs.head()"
      ],
      "execution_count": 4,
      "outputs": [
        {
          "output_type": "execute_result",
          "data": {
            "text/html": [
              "<div>\n",
              "<style scoped>\n",
              "    .dataframe tbody tr th:only-of-type {\n",
              "        vertical-align: middle;\n",
              "    }\n",
              "\n",
              "    .dataframe tbody tr th {\n",
              "        vertical-align: top;\n",
              "    }\n",
              "\n",
              "    .dataframe thead th {\n",
              "        text-align: right;\n",
              "    }\n",
              "</style>\n",
              "<table border=\"1\" class=\"dataframe\">\n",
              "  <thead>\n",
              "    <tr style=\"text-align: right;\">\n",
              "      <th></th>\n",
              "      <th>Source (A)</th>\n",
              "      <th>Source (B)</th>\n",
              "      <th>WC</th>\n",
              "      <th>Analytic</th>\n",
              "      <th>Clout</th>\n",
              "      <th>Authentic</th>\n",
              "      <th>Tone</th>\n",
              "      <th>WPS</th>\n",
              "      <th>Sixltr</th>\n",
              "      <th>Dic</th>\n",
              "      <th>function</th>\n",
              "      <th>pronoun</th>\n",
              "      <th>ppron</th>\n",
              "      <th>i</th>\n",
              "      <th>we</th>\n",
              "      <th>you</th>\n",
              "      <th>shehe</th>\n",
              "      <th>they</th>\n",
              "      <th>ipron</th>\n",
              "      <th>article</th>\n",
              "      <th>prep</th>\n",
              "      <th>auxverb</th>\n",
              "      <th>adverb</th>\n",
              "      <th>conj</th>\n",
              "      <th>negate</th>\n",
              "      <th>verb</th>\n",
              "      <th>adj</th>\n",
              "      <th>compare</th>\n",
              "      <th>interrog</th>\n",
              "      <th>number</th>\n",
              "      <th>quant</th>\n",
              "      <th>affect</th>\n",
              "      <th>posemo</th>\n",
              "      <th>negemo</th>\n",
              "      <th>anx</th>\n",
              "      <th>anger</th>\n",
              "      <th>sad</th>\n",
              "      <th>social</th>\n",
              "      <th>family</th>\n",
              "      <th>friend</th>\n",
              "      <th>...</th>\n",
              "      <th>health</th>\n",
              "      <th>sexual</th>\n",
              "      <th>ingest</th>\n",
              "      <th>drives</th>\n",
              "      <th>affiliation</th>\n",
              "      <th>achieve</th>\n",
              "      <th>power</th>\n",
              "      <th>reward</th>\n",
              "      <th>risk</th>\n",
              "      <th>focuspast</th>\n",
              "      <th>focuspresent</th>\n",
              "      <th>focusfuture</th>\n",
              "      <th>relativ</th>\n",
              "      <th>motion</th>\n",
              "      <th>space</th>\n",
              "      <th>time</th>\n",
              "      <th>work</th>\n",
              "      <th>leisure</th>\n",
              "      <th>home</th>\n",
              "      <th>money</th>\n",
              "      <th>relig</th>\n",
              "      <th>death</th>\n",
              "      <th>informal</th>\n",
              "      <th>swear</th>\n",
              "      <th>netspeak</th>\n",
              "      <th>assent</th>\n",
              "      <th>nonflu</th>\n",
              "      <th>filler</th>\n",
              "      <th>AllPunc</th>\n",
              "      <th>Period</th>\n",
              "      <th>Comma</th>\n",
              "      <th>Colon</th>\n",
              "      <th>SemiC</th>\n",
              "      <th>QMark</th>\n",
              "      <th>Exclam</th>\n",
              "      <th>Dash</th>\n",
              "      <th>Quote</th>\n",
              "      <th>Apostro</th>\n",
              "      <th>Parenth</th>\n",
              "      <th>OtherP</th>\n",
              "    </tr>\n",
              "  </thead>\n",
              "  <tbody>\n",
              "    <tr>\n",
              "      <th>0</th>\n",
              "      <td>Good news is typically classified as no news —...</td>\n",
              "      <td>CRED</td>\n",
              "      <td>69</td>\n",
              "      <td>47.75</td>\n",
              "      <td>50.00</td>\n",
              "      <td>5.86</td>\n",
              "      <td>78.80</td>\n",
              "      <td>17.25</td>\n",
              "      <td>24.64</td>\n",
              "      <td>84.06</td>\n",
              "      <td>57.97</td>\n",
              "      <td>10.14</td>\n",
              "      <td>2.90</td>\n",
              "      <td>0.0</td>\n",
              "      <td>0.0</td>\n",
              "      <td>2.90</td>\n",
              "      <td>0.00</td>\n",
              "      <td>0.00</td>\n",
              "      <td>7.25</td>\n",
              "      <td>10.14</td>\n",
              "      <td>13.04</td>\n",
              "      <td>13.04</td>\n",
              "      <td>10.14</td>\n",
              "      <td>5.80</td>\n",
              "      <td>5.80</td>\n",
              "      <td>15.94</td>\n",
              "      <td>8.70</td>\n",
              "      <td>4.35</td>\n",
              "      <td>2.90</td>\n",
              "      <td>0.00</td>\n",
              "      <td>1.45</td>\n",
              "      <td>11.59</td>\n",
              "      <td>7.25</td>\n",
              "      <td>4.35</td>\n",
              "      <td>2.90</td>\n",
              "      <td>0.00</td>\n",
              "      <td>0.00</td>\n",
              "      <td>7.25</td>\n",
              "      <td>0.00</td>\n",
              "      <td>0.0</td>\n",
              "      <td>...</td>\n",
              "      <td>1.45</td>\n",
              "      <td>0.0</td>\n",
              "      <td>0.0</td>\n",
              "      <td>13.04</td>\n",
              "      <td>0.00</td>\n",
              "      <td>0.0</td>\n",
              "      <td>2.90</td>\n",
              "      <td>5.80</td>\n",
              "      <td>4.35</td>\n",
              "      <td>1.45</td>\n",
              "      <td>13.04</td>\n",
              "      <td>0.00</td>\n",
              "      <td>4.35</td>\n",
              "      <td>0.00</td>\n",
              "      <td>4.35</td>\n",
              "      <td>0.00</td>\n",
              "      <td>1.45</td>\n",
              "      <td>0.0</td>\n",
              "      <td>0.0</td>\n",
              "      <td>1.45</td>\n",
              "      <td>0.0</td>\n",
              "      <td>0.00</td>\n",
              "      <td>0.0</td>\n",
              "      <td>0.0</td>\n",
              "      <td>0.0</td>\n",
              "      <td>0.0</td>\n",
              "      <td>0.0</td>\n",
              "      <td>0.0</td>\n",
              "      <td>13.04</td>\n",
              "      <td>4.35</td>\n",
              "      <td>1.45</td>\n",
              "      <td>0.0</td>\n",
              "      <td>0.0</td>\n",
              "      <td>0.00</td>\n",
              "      <td>0</td>\n",
              "      <td>1.45</td>\n",
              "      <td>0.0</td>\n",
              "      <td>5.80</td>\n",
              "      <td>0.00</td>\n",
              "      <td>0.0</td>\n",
              "    </tr>\n",
              "    <tr>\n",
              "      <th>3</th>\n",
              "      <td>Now think about how many times you've heard fr...</td>\n",
              "      <td>CRED</td>\n",
              "      <td>43</td>\n",
              "      <td>90.82</td>\n",
              "      <td>75.74</td>\n",
              "      <td>77.74</td>\n",
              "      <td>3.52</td>\n",
              "      <td>10.75</td>\n",
              "      <td>23.26</td>\n",
              "      <td>88.37</td>\n",
              "      <td>51.16</td>\n",
              "      <td>6.98</td>\n",
              "      <td>2.33</td>\n",
              "      <td>0.0</td>\n",
              "      <td>0.0</td>\n",
              "      <td>2.33</td>\n",
              "      <td>0.00</td>\n",
              "      <td>0.00</td>\n",
              "      <td>4.65</td>\n",
              "      <td>11.63</td>\n",
              "      <td>18.60</td>\n",
              "      <td>4.65</td>\n",
              "      <td>11.63</td>\n",
              "      <td>6.98</td>\n",
              "      <td>2.33</td>\n",
              "      <td>11.63</td>\n",
              "      <td>6.98</td>\n",
              "      <td>2.33</td>\n",
              "      <td>2.33</td>\n",
              "      <td>0.00</td>\n",
              "      <td>6.98</td>\n",
              "      <td>2.33</td>\n",
              "      <td>0.00</td>\n",
              "      <td>2.33</td>\n",
              "      <td>0.00</td>\n",
              "      <td>0.00</td>\n",
              "      <td>0.00</td>\n",
              "      <td>11.63</td>\n",
              "      <td>2.33</td>\n",
              "      <td>0.0</td>\n",
              "      <td>...</td>\n",
              "      <td>0.00</td>\n",
              "      <td>0.0</td>\n",
              "      <td>0.0</td>\n",
              "      <td>6.98</td>\n",
              "      <td>6.98</td>\n",
              "      <td>0.0</td>\n",
              "      <td>0.00</td>\n",
              "      <td>0.00</td>\n",
              "      <td>0.00</td>\n",
              "      <td>4.65</td>\n",
              "      <td>9.30</td>\n",
              "      <td>0.00</td>\n",
              "      <td>13.95</td>\n",
              "      <td>0.00</td>\n",
              "      <td>6.98</td>\n",
              "      <td>6.98</td>\n",
              "      <td>2.33</td>\n",
              "      <td>0.0</td>\n",
              "      <td>0.0</td>\n",
              "      <td>0.00</td>\n",
              "      <td>0.0</td>\n",
              "      <td>0.00</td>\n",
              "      <td>0.0</td>\n",
              "      <td>0.0</td>\n",
              "      <td>0.0</td>\n",
              "      <td>0.0</td>\n",
              "      <td>0.0</td>\n",
              "      <td>0.0</td>\n",
              "      <td>18.60</td>\n",
              "      <td>4.65</td>\n",
              "      <td>2.33</td>\n",
              "      <td>0.0</td>\n",
              "      <td>0.0</td>\n",
              "      <td>2.33</td>\n",
              "      <td>0</td>\n",
              "      <td>0.00</td>\n",
              "      <td>0.0</td>\n",
              "      <td>4.65</td>\n",
              "      <td>4.65</td>\n",
              "      <td>0.0</td>\n",
              "    </tr>\n",
              "    <tr>\n",
              "      <th>6</th>\n",
              "      <td>The good news that you probably haven't been h...</td>\n",
              "      <td>CRED</td>\n",
              "      <td>86</td>\n",
              "      <td>71.99</td>\n",
              "      <td>36.35</td>\n",
              "      <td>34.47</td>\n",
              "      <td>25.77</td>\n",
              "      <td>21.50</td>\n",
              "      <td>26.74</td>\n",
              "      <td>82.56</td>\n",
              "      <td>51.16</td>\n",
              "      <td>5.81</td>\n",
              "      <td>1.16</td>\n",
              "      <td>0.0</td>\n",
              "      <td>0.0</td>\n",
              "      <td>1.16</td>\n",
              "      <td>0.00</td>\n",
              "      <td>0.00</td>\n",
              "      <td>4.65</td>\n",
              "      <td>10.47</td>\n",
              "      <td>11.63</td>\n",
              "      <td>10.47</td>\n",
              "      <td>6.98</td>\n",
              "      <td>9.30</td>\n",
              "      <td>2.33</td>\n",
              "      <td>13.95</td>\n",
              "      <td>9.30</td>\n",
              "      <td>3.49</td>\n",
              "      <td>1.16</td>\n",
              "      <td>0.00</td>\n",
              "      <td>2.33</td>\n",
              "      <td>9.30</td>\n",
              "      <td>4.65</td>\n",
              "      <td>4.65</td>\n",
              "      <td>2.33</td>\n",
              "      <td>0.00</td>\n",
              "      <td>1.16</td>\n",
              "      <td>3.49</td>\n",
              "      <td>0.00</td>\n",
              "      <td>0.0</td>\n",
              "      <td>...</td>\n",
              "      <td>3.49</td>\n",
              "      <td>0.0</td>\n",
              "      <td>0.0</td>\n",
              "      <td>10.47</td>\n",
              "      <td>0.00</td>\n",
              "      <td>0.0</td>\n",
              "      <td>3.49</td>\n",
              "      <td>3.49</td>\n",
              "      <td>3.49</td>\n",
              "      <td>4.65</td>\n",
              "      <td>8.14</td>\n",
              "      <td>0.00</td>\n",
              "      <td>10.47</td>\n",
              "      <td>0.00</td>\n",
              "      <td>8.14</td>\n",
              "      <td>2.33</td>\n",
              "      <td>2.33</td>\n",
              "      <td>0.0</td>\n",
              "      <td>0.0</td>\n",
              "      <td>1.16</td>\n",
              "      <td>0.0</td>\n",
              "      <td>0.00</td>\n",
              "      <td>0.0</td>\n",
              "      <td>0.0</td>\n",
              "      <td>0.0</td>\n",
              "      <td>0.0</td>\n",
              "      <td>0.0</td>\n",
              "      <td>0.0</td>\n",
              "      <td>16.28</td>\n",
              "      <td>3.49</td>\n",
              "      <td>3.49</td>\n",
              "      <td>0.0</td>\n",
              "      <td>0.0</td>\n",
              "      <td>0.00</td>\n",
              "      <td>0</td>\n",
              "      <td>3.49</td>\n",
              "      <td>0.0</td>\n",
              "      <td>3.49</td>\n",
              "      <td>2.33</td>\n",
              "      <td>0.0</td>\n",
              "    </tr>\n",
              "    <tr>\n",
              "      <th>9</th>\n",
              "      <td>Serious reactions are extremely rare. This is ...</td>\n",
              "      <td>NONCRED</td>\n",
              "      <td>51</td>\n",
              "      <td>32.13</td>\n",
              "      <td>72.17</td>\n",
              "      <td>11.28</td>\n",
              "      <td>1.00</td>\n",
              "      <td>12.75</td>\n",
              "      <td>29.41</td>\n",
              "      <td>88.24</td>\n",
              "      <td>50.98</td>\n",
              "      <td>13.73</td>\n",
              "      <td>5.88</td>\n",
              "      <td>0.0</td>\n",
              "      <td>0.0</td>\n",
              "      <td>3.92</td>\n",
              "      <td>0.00</td>\n",
              "      <td>1.96</td>\n",
              "      <td>7.84</td>\n",
              "      <td>3.92</td>\n",
              "      <td>7.84</td>\n",
              "      <td>13.73</td>\n",
              "      <td>3.92</td>\n",
              "      <td>5.88</td>\n",
              "      <td>1.96</td>\n",
              "      <td>21.57</td>\n",
              "      <td>9.80</td>\n",
              "      <td>1.96</td>\n",
              "      <td>1.96</td>\n",
              "      <td>1.96</td>\n",
              "      <td>1.96</td>\n",
              "      <td>13.73</td>\n",
              "      <td>3.92</td>\n",
              "      <td>9.80</td>\n",
              "      <td>1.96</td>\n",
              "      <td>1.96</td>\n",
              "      <td>0.00</td>\n",
              "      <td>11.76</td>\n",
              "      <td>1.96</td>\n",
              "      <td>0.0</td>\n",
              "      <td>...</td>\n",
              "      <td>5.88</td>\n",
              "      <td>0.0</td>\n",
              "      <td>0.0</td>\n",
              "      <td>7.84</td>\n",
              "      <td>1.96</td>\n",
              "      <td>0.0</td>\n",
              "      <td>1.96</td>\n",
              "      <td>0.00</td>\n",
              "      <td>3.92</td>\n",
              "      <td>5.88</td>\n",
              "      <td>19.61</td>\n",
              "      <td>0.00</td>\n",
              "      <td>1.96</td>\n",
              "      <td>0.00</td>\n",
              "      <td>1.96</td>\n",
              "      <td>0.00</td>\n",
              "      <td>0.00</td>\n",
              "      <td>0.0</td>\n",
              "      <td>0.0</td>\n",
              "      <td>0.00</td>\n",
              "      <td>0.0</td>\n",
              "      <td>1.96</td>\n",
              "      <td>0.0</td>\n",
              "      <td>0.0</td>\n",
              "      <td>0.0</td>\n",
              "      <td>0.0</td>\n",
              "      <td>0.0</td>\n",
              "      <td>0.0</td>\n",
              "      <td>11.76</td>\n",
              "      <td>5.88</td>\n",
              "      <td>1.96</td>\n",
              "      <td>0.0</td>\n",
              "      <td>0.0</td>\n",
              "      <td>0.00</td>\n",
              "      <td>0</td>\n",
              "      <td>0.00</td>\n",
              "      <td>0.0</td>\n",
              "      <td>3.92</td>\n",
              "      <td>0.00</td>\n",
              "      <td>0.0</td>\n",
              "    </tr>\n",
              "    <tr>\n",
              "      <th>12</th>\n",
              "      <td>Even those vaccines that are made from weakene...</td>\n",
              "      <td>CRED</td>\n",
              "      <td>88</td>\n",
              "      <td>92.14</td>\n",
              "      <td>54.52</td>\n",
              "      <td>2.40</td>\n",
              "      <td>1.00</td>\n",
              "      <td>22.00</td>\n",
              "      <td>27.27</td>\n",
              "      <td>85.23</td>\n",
              "      <td>53.41</td>\n",
              "      <td>10.23</td>\n",
              "      <td>3.41</td>\n",
              "      <td>0.0</td>\n",
              "      <td>0.0</td>\n",
              "      <td>1.14</td>\n",
              "      <td>1.14</td>\n",
              "      <td>1.14</td>\n",
              "      <td>6.82</td>\n",
              "      <td>12.50</td>\n",
              "      <td>13.64</td>\n",
              "      <td>7.95</td>\n",
              "      <td>4.55</td>\n",
              "      <td>4.55</td>\n",
              "      <td>0.00</td>\n",
              "      <td>13.64</td>\n",
              "      <td>7.95</td>\n",
              "      <td>6.82</td>\n",
              "      <td>0.00</td>\n",
              "      <td>0.00</td>\n",
              "      <td>1.14</td>\n",
              "      <td>5.68</td>\n",
              "      <td>0.00</td>\n",
              "      <td>5.68</td>\n",
              "      <td>1.14</td>\n",
              "      <td>0.00</td>\n",
              "      <td>0.00</td>\n",
              "      <td>4.55</td>\n",
              "      <td>0.00</td>\n",
              "      <td>0.0</td>\n",
              "      <td>...</td>\n",
              "      <td>11.36</td>\n",
              "      <td>0.0</td>\n",
              "      <td>0.0</td>\n",
              "      <td>6.82</td>\n",
              "      <td>0.00</td>\n",
              "      <td>0.0</td>\n",
              "      <td>4.55</td>\n",
              "      <td>0.00</td>\n",
              "      <td>2.27</td>\n",
              "      <td>3.41</td>\n",
              "      <td>9.09</td>\n",
              "      <td>1.14</td>\n",
              "      <td>5.68</td>\n",
              "      <td>1.14</td>\n",
              "      <td>2.27</td>\n",
              "      <td>2.27</td>\n",
              "      <td>0.00</td>\n",
              "      <td>0.0</td>\n",
              "      <td>0.0</td>\n",
              "      <td>0.00</td>\n",
              "      <td>0.0</td>\n",
              "      <td>0.00</td>\n",
              "      <td>0.0</td>\n",
              "      <td>0.0</td>\n",
              "      <td>0.0</td>\n",
              "      <td>0.0</td>\n",
              "      <td>0.0</td>\n",
              "      <td>0.0</td>\n",
              "      <td>14.77</td>\n",
              "      <td>3.41</td>\n",
              "      <td>5.68</td>\n",
              "      <td>0.0</td>\n",
              "      <td>0.0</td>\n",
              "      <td>0.00</td>\n",
              "      <td>0</td>\n",
              "      <td>1.14</td>\n",
              "      <td>0.0</td>\n",
              "      <td>0.00</td>\n",
              "      <td>4.55</td>\n",
              "      <td>0.0</td>\n",
              "    </tr>\n",
              "  </tbody>\n",
              "</table>\n",
              "<p>5 rows × 95 columns</p>\n",
              "</div>"
            ],
            "text/plain": [
              "                                           Source (A)  ... OtherP\n",
              "0   Good news is typically classified as no news —...  ...    0.0\n",
              "3   Now think about how many times you've heard fr...  ...    0.0\n",
              "6   The good news that you probably haven't been h...  ...    0.0\n",
              "9   Serious reactions are extremely rare. This is ...  ...    0.0\n",
              "12  Even those vaccines that are made from weakene...  ...    0.0\n",
              "\n",
              "[5 rows x 95 columns]"
            ]
          },
          "metadata": {
            "tags": []
          },
          "execution_count": 4
        }
      ]
    },
    {
      "cell_type": "code",
      "metadata": {
        "id": "Fqlof4xgXKZf"
      },
      "source": [
        "def y_to_binary(Y):\n",
        "  def label_to_0_1(lbl):\n",
        "    if lbl=='CRED':\n",
        "      return 1\n",
        "    else:\n",
        "      return 0\n",
        "\n",
        "  Y_mapped = map(label_to_0_1, Y)\n",
        "  return np.array(list(Y_mapped))"
      ],
      "execution_count": 5,
      "outputs": []
    },
    {
      "cell_type": "code",
      "metadata": {
        "colab": {
          "base_uri": "https://localhost:8080/"
        },
        "id": "kU0zIrhpYWim",
        "outputId": "6b67e39a-3603-4ba1-ace0-f6e89c103709"
      },
      "source": [
        "np.shape(vaccination_paragraphs)"
      ],
      "execution_count": 6,
      "outputs": [
        {
          "output_type": "execute_result",
          "data": {
            "text/plain": [
              "(482, 95)"
            ]
          },
          "metadata": {
            "tags": []
          },
          "execution_count": 6
        }
      ]
    },
    {
      "cell_type": "code",
      "metadata": {
        "id": "2BGke5dH_Fv_"
      },
      "source": [
        "!pip install spacytextblob"
      ],
      "execution_count": null,
      "outputs": []
    },
    {
      "cell_type": "markdown",
      "metadata": {
        "id": "PMHiocjs_e0v"
      },
      "source": [
        "# The Model\n",
        "Features:\n",
        "- TFIDF\n",
        "- NER\n",
        "- POS\n",
        "- LIWC\n",
        "- sentiment"
      ]
    },
    {
      "cell_type": "code",
      "metadata": {
        "colab": {
          "base_uri": "https://localhost:8080/"
        },
        "id": "ADi-UtDH_rFN",
        "outputId": "e50d36ba-605b-405f-e11b-8995aa0cfe80"
      },
      "source": [
        "from sklearn.pipeline import Pipeline\n",
        "# from sklearn.utils import shuffle\n",
        "from sklearn.model_selection import train_test_split\n",
        "from sklearn import metrics\n",
        "from sklearn import preprocessing as p\n",
        "\n",
        "VALIDATION_SPLIT = 0.1\n",
        "\n",
        "def get_y(data, y_column = 'Source (B)'):\n",
        "  Y = data[y_column]\n",
        "  Y = y_to_binary(Y)\n",
        "  print(np.shape(Y))\n",
        "  return Y\n",
        "\n",
        "statins_Y = get_y(statins_paragraphs, y_column='Rate')\n",
        "psychiatry_Y = get_y(psychiatry_paragraphs)\n",
        "antioxidants_Y = get_y(antioxidants_paragraphs)\n",
        "cc_vs_nb_Y = get_y(cc_vs_nb_paragraphs)\n",
        "aspirin_pregnancy_Y = get_y(aspirin_pregnancy_paragraphs)\n",
        "children_antibiotics_Y = get_y(children_antibiotics_paragraphs)\n",
        "allergy_testing_Y = get_y(allergy_testing_paragraphs)\n",
        "diet_and_autism_Y = get_y(diet_and_autism_paragraphs)\n",
        "heart_supplements_Y = get_y(heart_supplements_paragraphs)\n",
        "ssri_during_pregnancy_Y = get_y(ssri_during_pregnancy_paragraphs)\n",
        "steroids_for_kids_Y = get_y(steroids_for_kids_paragraphs)\n",
        "vaccination_Y = get_y(vaccination_paragraphs)"
      ],
      "execution_count": 8,
      "outputs": [
        {
          "output_type": "stream",
          "text": [
            "(639,)\n",
            "(807,)\n",
            "(225,)\n",
            "(58,)\n",
            "(171,)\n",
            "(109,)\n",
            "(185,)\n",
            "(451,)\n",
            "(182,)\n",
            "(150,)\n",
            "(58,)\n",
            "(241,)\n",
            "(482,)\n"
          ],
          "name": "stdout"
        }
      ]
    },
    {
      "cell_type": "markdown",
      "metadata": {
        "id": "eLB2fRE9AkMF"
      },
      "source": [
        "### **TFIDF**"
      ]
    },
    {
      "cell_type": "code",
      "metadata": {
        "colab": {
          "base_uri": "https://localhost:8080/"
        },
        "id": "T19kOeTZAmmT",
        "outputId": "b43c9d03-0b40-475b-ec52-5a75ef1b8763"
      },
      "source": [
        "from sklearn.feature_extraction.text import CountVectorizer\n",
        "from sklearn.feature_extraction.text import TfidfVectorizer\n",
        "import re\n",
        "import nltk\n",
        "\n",
        "nltk.download('punkt')\n",
        "\n",
        "from nltk.stem import PorterStemmer\n",
        "from nltk import word_tokenize, sent_tokenize\n",
        "\n",
        "def get_X_tfidf(data, body_column='Source (A)'):\n",
        "  corpus = data[body_column]\n",
        "  corpus_removed_numbers = [re.sub(r'\\d+', '', s) for s in corpus]\n",
        "\n",
        "  corpus_tokenized = []\n",
        "  stemmer= PorterStemmer()\n",
        "\n",
        "  for s in corpus_removed_numbers:\n",
        "    tokens = word_tokenize(s)\n",
        "    stemmed_tokens = [stemmer.stem(word) for word in tokens]\n",
        "    corpus_tokenized.append(\" \".join(stemmed_tokens))\n",
        "\n",
        "  vectorizer = TfidfVectorizer()\n",
        "  X_tfidf_array = vectorizer.fit_transform(corpus_tokenized)\n",
        "  X_tfidf_array = np.array(X_tfidf_array.toarray())\n",
        "  X_tfidf = pd.DataFrame(X_tfidf_array, columns=vectorizer.get_feature_names())\n",
        "  print(np.shape(X_tfidf))\n",
        "\n",
        "  return X_tfidf"
      ],
      "execution_count": 9,
      "outputs": [
        {
          "output_type": "stream",
          "text": [
            "[nltk_data] Downloading package punkt to /root/nltk_data...\n",
            "[nltk_data]   Unzipping tokenizers/punkt.zip.\n"
          ],
          "name": "stdout"
        }
      ]
    },
    {
      "cell_type": "code",
      "metadata": {
        "colab": {
          "base_uri": "https://localhost:8080/"
        },
        "id": "Ijpc4rmU6wdd",
        "outputId": "7995f9d7-38c1-4743-d922-801221bb8097"
      },
      "source": [
        "statins_X_tfidf = get_X_tfidf(statins_paragraphs, body_column='Body')\n",
        "psychiatry_X_tfidf = get_X_tfidf(psychiatry_paragraphs)\n",
        "antioxidants_X_tfidf = get_X_tfidf(antioxidants_paragraphs)\n",
        "cc_vs_nb_X_tfidf = get_X_tfidf(cc_vs_nb_paragraphs)\n",
        "aspirin_pregnancy_X_tfidf = get_X_tfidf(aspirin_pregnancy_paragraphs)\n",
        "children_antibiotics_X_tfidf = get_X_tfidf(children_antibiotics_paragraphs)\n",
        "allergy_testing_X_tfidf = get_X_tfidf(allergy_testing_paragraphs)\n",
        "diet_and_autism_X_tfidf = get_X_tfidf(diet_and_autism_paragraphs)\n",
        "heart_supplements_X_tfidf = get_X_tfidf(heart_supplements_paragraphs)\n",
        "ssri_during_pregnancy_X_tfidf = get_X_tfidf(ssri_during_pregnancy_paragraphs)\n",
        "steroids_for_kids_X_tfidf = get_X_tfidf(steroids_for_kids_paragraphs)\n",
        "vaccination_X_tfidf = get_X_tfidf(vaccination_paragraphs)"
      ],
      "execution_count": 10,
      "outputs": [
        {
          "output_type": "stream",
          "text": [
            "(639, 3352)\n",
            "(807, 4013)\n",
            "(225, 1565)\n",
            "(58, 889)\n",
            "(171, 1511)\n",
            "(109, 1219)\n",
            "(185, 1567)\n",
            "(451, 2231)\n",
            "(182, 1695)\n",
            "(150, 1431)\n",
            "(58, 889)\n",
            "(241, 1407)\n",
            "(482, 2742)\n"
          ],
          "name": "stdout"
        }
      ]
    },
    {
      "cell_type": "code",
      "metadata": {
        "colab": {
          "base_uri": "https://localhost:8080/",
          "height": 244
        },
        "id": "mtrGjcFoDbti",
        "outputId": "985a5e7f-6a3c-4d20-e1e1-58a4ecb0c01d"
      },
      "source": [
        "diet_and_autism_X_tfidf.head()"
      ],
      "execution_count": 11,
      "outputs": [
        {
          "output_type": "execute_result",
          "data": {
            "text/html": [
              "<div>\n",
              "<style scoped>\n",
              "    .dataframe tbody tr th:only-of-type {\n",
              "        vertical-align: middle;\n",
              "    }\n",
              "\n",
              "    .dataframe tbody tr th {\n",
              "        vertical-align: top;\n",
              "    }\n",
              "\n",
              "    .dataframe thead th {\n",
              "        text-align: right;\n",
              "    }\n",
              "</style>\n",
              "<table border=\"1\" class=\"dataframe\">\n",
              "  <thead>\n",
              "    <tr style=\"text-align: right;\">\n",
              "      <th></th>\n",
              "      <th>abil</th>\n",
              "      <th>abl</th>\n",
              "      <th>abnorm</th>\n",
              "      <th>about</th>\n",
              "      <th>abov</th>\n",
              "      <th>above</th>\n",
              "      <th>absenc</th>\n",
              "      <th>absorb</th>\n",
              "      <th>absorpt</th>\n",
              "      <th>abstract</th>\n",
              "      <th>abyssinian</th>\n",
              "      <th>academ</th>\n",
              "      <th>academi</th>\n",
              "      <th>accept</th>\n",
              "      <th>accompani</th>\n",
              "      <th>accord</th>\n",
              "      <th>account</th>\n",
              "      <th>accur</th>\n",
              "      <th>achiev</th>\n",
              "      <th>acid</th>\n",
              "      <th>acidgravi</th>\n",
              "      <th>acidluncheon</th>\n",
              "      <th>acidophilu</th>\n",
              "      <th>act</th>\n",
              "      <th>action</th>\n",
              "      <th>activ</th>\n",
              "      <th>active</th>\n",
              "      <th>actual</th>\n",
              "      <th>ad</th>\n",
              "      <th>adapt</th>\n",
              "      <th>add</th>\n",
              "      <th>addict</th>\n",
              "      <th>addit</th>\n",
              "      <th>address</th>\n",
              "      <th>adequ</th>\n",
              "      <th>adh</th>\n",
              "      <th>admit</th>\n",
              "      <th>adolesc</th>\n",
              "      <th>adulthood</th>\n",
              "      <th>advanc</th>\n",
              "      <th>...</th>\n",
              "      <th>wheyhalf</th>\n",
              "      <th>whi</th>\n",
              "      <th>which</th>\n",
              "      <th>while</th>\n",
              "      <th>white</th>\n",
              "      <th>whiten</th>\n",
              "      <th>who</th>\n",
              "      <th>wholem</th>\n",
              "      <th>whose</th>\n",
              "      <th>wide</th>\n",
              "      <th>wild</th>\n",
              "      <th>will</th>\n",
              "      <th>willow</th>\n",
              "      <th>with</th>\n",
              "      <th>withdraw</th>\n",
              "      <th>without</th>\n",
              "      <th>work</th>\n",
              "      <th>world</th>\n",
              "      <th>worri</th>\n",
              "      <th>wors</th>\n",
              "      <th>worsen</th>\n",
              "      <th>worst</th>\n",
              "      <th>worth</th>\n",
              "      <th>would</th>\n",
              "      <th>write</th>\n",
              "      <th>www</th>\n",
              "      <th>xanthan</th>\n",
              "      <th>xylitol</th>\n",
              "      <th>ye</th>\n",
              "      <th>year</th>\n",
              "      <th>yeast</th>\n",
              "      <th>yet</th>\n",
              "      <th>yoghurt</th>\n",
              "      <th>yogurt</th>\n",
              "      <th>you</th>\n",
              "      <th>young</th>\n",
              "      <th>your</th>\n",
              "      <th>zachari</th>\n",
              "      <th>zinc</th>\n",
              "      <th>â¾</th>\n",
              "    </tr>\n",
              "  </thead>\n",
              "  <tbody>\n",
              "    <tr>\n",
              "      <th>0</th>\n",
              "      <td>0.000000</td>\n",
              "      <td>0.0</td>\n",
              "      <td>0.0</td>\n",
              "      <td>0.000000</td>\n",
              "      <td>0.0</td>\n",
              "      <td>0.0</td>\n",
              "      <td>0.0</td>\n",
              "      <td>0.0</td>\n",
              "      <td>0.0</td>\n",
              "      <td>0.0</td>\n",
              "      <td>0.0</td>\n",
              "      <td>0.0</td>\n",
              "      <td>0.0</td>\n",
              "      <td>0.0</td>\n",
              "      <td>0.0</td>\n",
              "      <td>0.0</td>\n",
              "      <td>0.0</td>\n",
              "      <td>0.0</td>\n",
              "      <td>0.0</td>\n",
              "      <td>0.0</td>\n",
              "      <td>0.0</td>\n",
              "      <td>0.0</td>\n",
              "      <td>0.0</td>\n",
              "      <td>0.0</td>\n",
              "      <td>0.0</td>\n",
              "      <td>0.0</td>\n",
              "      <td>0.0</td>\n",
              "      <td>0.0</td>\n",
              "      <td>0.0</td>\n",
              "      <td>0.0</td>\n",
              "      <td>0.0</td>\n",
              "      <td>0.0</td>\n",
              "      <td>0.0</td>\n",
              "      <td>0.0</td>\n",
              "      <td>0.000000</td>\n",
              "      <td>0.0</td>\n",
              "      <td>0.0</td>\n",
              "      <td>0.0</td>\n",
              "      <td>0.0</td>\n",
              "      <td>0.0</td>\n",
              "      <td>...</td>\n",
              "      <td>0.0</td>\n",
              "      <td>0.0</td>\n",
              "      <td>0.0</td>\n",
              "      <td>0.0</td>\n",
              "      <td>0.0</td>\n",
              "      <td>0.0</td>\n",
              "      <td>0.0</td>\n",
              "      <td>0.0</td>\n",
              "      <td>0.0</td>\n",
              "      <td>0.0</td>\n",
              "      <td>0.0</td>\n",
              "      <td>0.0</td>\n",
              "      <td>0.0</td>\n",
              "      <td>0.000000</td>\n",
              "      <td>0.0</td>\n",
              "      <td>0.0</td>\n",
              "      <td>0.0</td>\n",
              "      <td>0.000000</td>\n",
              "      <td>0.0</td>\n",
              "      <td>0.0</td>\n",
              "      <td>0.0</td>\n",
              "      <td>0.0</td>\n",
              "      <td>0.0</td>\n",
              "      <td>0.0</td>\n",
              "      <td>0.0</td>\n",
              "      <td>0.0</td>\n",
              "      <td>0.0</td>\n",
              "      <td>0.0</td>\n",
              "      <td>0.0</td>\n",
              "      <td>0.00000</td>\n",
              "      <td>0.0</td>\n",
              "      <td>0.0</td>\n",
              "      <td>0.0</td>\n",
              "      <td>0.0</td>\n",
              "      <td>0.0</td>\n",
              "      <td>0.0</td>\n",
              "      <td>0.0</td>\n",
              "      <td>0.0</td>\n",
              "      <td>0.0</td>\n",
              "      <td>0.0</td>\n",
              "    </tr>\n",
              "    <tr>\n",
              "      <th>1</th>\n",
              "      <td>0.148121</td>\n",
              "      <td>0.0</td>\n",
              "      <td>0.0</td>\n",
              "      <td>0.000000</td>\n",
              "      <td>0.0</td>\n",
              "      <td>0.0</td>\n",
              "      <td>0.0</td>\n",
              "      <td>0.0</td>\n",
              "      <td>0.0</td>\n",
              "      <td>0.0</td>\n",
              "      <td>0.0</td>\n",
              "      <td>0.0</td>\n",
              "      <td>0.0</td>\n",
              "      <td>0.0</td>\n",
              "      <td>0.0</td>\n",
              "      <td>0.0</td>\n",
              "      <td>0.0</td>\n",
              "      <td>0.0</td>\n",
              "      <td>0.0</td>\n",
              "      <td>0.0</td>\n",
              "      <td>0.0</td>\n",
              "      <td>0.0</td>\n",
              "      <td>0.0</td>\n",
              "      <td>0.0</td>\n",
              "      <td>0.0</td>\n",
              "      <td>0.0</td>\n",
              "      <td>0.0</td>\n",
              "      <td>0.0</td>\n",
              "      <td>0.0</td>\n",
              "      <td>0.0</td>\n",
              "      <td>0.0</td>\n",
              "      <td>0.0</td>\n",
              "      <td>0.0</td>\n",
              "      <td>0.0</td>\n",
              "      <td>0.167563</td>\n",
              "      <td>0.0</td>\n",
              "      <td>0.0</td>\n",
              "      <td>0.0</td>\n",
              "      <td>0.0</td>\n",
              "      <td>0.0</td>\n",
              "      <td>...</td>\n",
              "      <td>0.0</td>\n",
              "      <td>0.0</td>\n",
              "      <td>0.0</td>\n",
              "      <td>0.0</td>\n",
              "      <td>0.0</td>\n",
              "      <td>0.0</td>\n",
              "      <td>0.0</td>\n",
              "      <td>0.0</td>\n",
              "      <td>0.0</td>\n",
              "      <td>0.0</td>\n",
              "      <td>0.0</td>\n",
              "      <td>0.0</td>\n",
              "      <td>0.0</td>\n",
              "      <td>0.119568</td>\n",
              "      <td>0.0</td>\n",
              "      <td>0.0</td>\n",
              "      <td>0.0</td>\n",
              "      <td>0.191644</td>\n",
              "      <td>0.0</td>\n",
              "      <td>0.0</td>\n",
              "      <td>0.0</td>\n",
              "      <td>0.0</td>\n",
              "      <td>0.0</td>\n",
              "      <td>0.0</td>\n",
              "      <td>0.0</td>\n",
              "      <td>0.0</td>\n",
              "      <td>0.0</td>\n",
              "      <td>0.0</td>\n",
              "      <td>0.0</td>\n",
              "      <td>0.00000</td>\n",
              "      <td>0.0</td>\n",
              "      <td>0.0</td>\n",
              "      <td>0.0</td>\n",
              "      <td>0.0</td>\n",
              "      <td>0.0</td>\n",
              "      <td>0.0</td>\n",
              "      <td>0.0</td>\n",
              "      <td>0.0</td>\n",
              "      <td>0.0</td>\n",
              "      <td>0.0</td>\n",
              "    </tr>\n",
              "    <tr>\n",
              "      <th>2</th>\n",
              "      <td>0.000000</td>\n",
              "      <td>0.0</td>\n",
              "      <td>0.0</td>\n",
              "      <td>0.000000</td>\n",
              "      <td>0.0</td>\n",
              "      <td>0.0</td>\n",
              "      <td>0.0</td>\n",
              "      <td>0.0</td>\n",
              "      <td>0.0</td>\n",
              "      <td>0.0</td>\n",
              "      <td>0.0</td>\n",
              "      <td>0.0</td>\n",
              "      <td>0.0</td>\n",
              "      <td>0.0</td>\n",
              "      <td>0.0</td>\n",
              "      <td>0.0</td>\n",
              "      <td>0.0</td>\n",
              "      <td>0.0</td>\n",
              "      <td>0.0</td>\n",
              "      <td>0.0</td>\n",
              "      <td>0.0</td>\n",
              "      <td>0.0</td>\n",
              "      <td>0.0</td>\n",
              "      <td>0.0</td>\n",
              "      <td>0.0</td>\n",
              "      <td>0.0</td>\n",
              "      <td>0.0</td>\n",
              "      <td>0.0</td>\n",
              "      <td>0.0</td>\n",
              "      <td>0.0</td>\n",
              "      <td>0.0</td>\n",
              "      <td>0.0</td>\n",
              "      <td>0.0</td>\n",
              "      <td>0.0</td>\n",
              "      <td>0.000000</td>\n",
              "      <td>0.0</td>\n",
              "      <td>0.0</td>\n",
              "      <td>0.0</td>\n",
              "      <td>0.0</td>\n",
              "      <td>0.0</td>\n",
              "      <td>...</td>\n",
              "      <td>0.0</td>\n",
              "      <td>0.0</td>\n",
              "      <td>0.0</td>\n",
              "      <td>0.0</td>\n",
              "      <td>0.0</td>\n",
              "      <td>0.0</td>\n",
              "      <td>0.0</td>\n",
              "      <td>0.0</td>\n",
              "      <td>0.0</td>\n",
              "      <td>0.0</td>\n",
              "      <td>0.0</td>\n",
              "      <td>0.0</td>\n",
              "      <td>0.0</td>\n",
              "      <td>0.081590</td>\n",
              "      <td>0.0</td>\n",
              "      <td>0.0</td>\n",
              "      <td>0.0</td>\n",
              "      <td>0.000000</td>\n",
              "      <td>0.0</td>\n",
              "      <td>0.0</td>\n",
              "      <td>0.0</td>\n",
              "      <td>0.0</td>\n",
              "      <td>0.0</td>\n",
              "      <td>0.0</td>\n",
              "      <td>0.0</td>\n",
              "      <td>0.0</td>\n",
              "      <td>0.0</td>\n",
              "      <td>0.0</td>\n",
              "      <td>0.0</td>\n",
              "      <td>0.00000</td>\n",
              "      <td>0.0</td>\n",
              "      <td>0.0</td>\n",
              "      <td>0.0</td>\n",
              "      <td>0.0</td>\n",
              "      <td>0.0</td>\n",
              "      <td>0.0</td>\n",
              "      <td>0.0</td>\n",
              "      <td>0.0</td>\n",
              "      <td>0.0</td>\n",
              "      <td>0.0</td>\n",
              "    </tr>\n",
              "    <tr>\n",
              "      <th>3</th>\n",
              "      <td>0.000000</td>\n",
              "      <td>0.0</td>\n",
              "      <td>0.0</td>\n",
              "      <td>0.162516</td>\n",
              "      <td>0.0</td>\n",
              "      <td>0.0</td>\n",
              "      <td>0.0</td>\n",
              "      <td>0.0</td>\n",
              "      <td>0.0</td>\n",
              "      <td>0.0</td>\n",
              "      <td>0.0</td>\n",
              "      <td>0.0</td>\n",
              "      <td>0.0</td>\n",
              "      <td>0.0</td>\n",
              "      <td>0.0</td>\n",
              "      <td>0.0</td>\n",
              "      <td>0.0</td>\n",
              "      <td>0.0</td>\n",
              "      <td>0.0</td>\n",
              "      <td>0.0</td>\n",
              "      <td>0.0</td>\n",
              "      <td>0.0</td>\n",
              "      <td>0.0</td>\n",
              "      <td>0.0</td>\n",
              "      <td>0.0</td>\n",
              "      <td>0.0</td>\n",
              "      <td>0.0</td>\n",
              "      <td>0.0</td>\n",
              "      <td>0.0</td>\n",
              "      <td>0.0</td>\n",
              "      <td>0.0</td>\n",
              "      <td>0.0</td>\n",
              "      <td>0.0</td>\n",
              "      <td>0.0</td>\n",
              "      <td>0.000000</td>\n",
              "      <td>0.0</td>\n",
              "      <td>0.0</td>\n",
              "      <td>0.0</td>\n",
              "      <td>0.0</td>\n",
              "      <td>0.0</td>\n",
              "      <td>...</td>\n",
              "      <td>0.0</td>\n",
              "      <td>0.0</td>\n",
              "      <td>0.0</td>\n",
              "      <td>0.0</td>\n",
              "      <td>0.0</td>\n",
              "      <td>0.0</td>\n",
              "      <td>0.0</td>\n",
              "      <td>0.0</td>\n",
              "      <td>0.0</td>\n",
              "      <td>0.0</td>\n",
              "      <td>0.0</td>\n",
              "      <td>0.0</td>\n",
              "      <td>0.0</td>\n",
              "      <td>0.000000</td>\n",
              "      <td>0.0</td>\n",
              "      <td>0.0</td>\n",
              "      <td>0.0</td>\n",
              "      <td>0.000000</td>\n",
              "      <td>0.0</td>\n",
              "      <td>0.0</td>\n",
              "      <td>0.0</td>\n",
              "      <td>0.0</td>\n",
              "      <td>0.0</td>\n",
              "      <td>0.0</td>\n",
              "      <td>0.0</td>\n",
              "      <td>0.0</td>\n",
              "      <td>0.0</td>\n",
              "      <td>0.0</td>\n",
              "      <td>0.0</td>\n",
              "      <td>0.18539</td>\n",
              "      <td>0.0</td>\n",
              "      <td>0.0</td>\n",
              "      <td>0.0</td>\n",
              "      <td>0.0</td>\n",
              "      <td>0.0</td>\n",
              "      <td>0.0</td>\n",
              "      <td>0.0</td>\n",
              "      <td>0.0</td>\n",
              "      <td>0.0</td>\n",
              "      <td>0.0</td>\n",
              "    </tr>\n",
              "    <tr>\n",
              "      <th>4</th>\n",
              "      <td>0.000000</td>\n",
              "      <td>0.0</td>\n",
              "      <td>0.0</td>\n",
              "      <td>0.131819</td>\n",
              "      <td>0.0</td>\n",
              "      <td>0.0</td>\n",
              "      <td>0.0</td>\n",
              "      <td>0.0</td>\n",
              "      <td>0.0</td>\n",
              "      <td>0.0</td>\n",
              "      <td>0.0</td>\n",
              "      <td>0.0</td>\n",
              "      <td>0.0</td>\n",
              "      <td>0.0</td>\n",
              "      <td>0.0</td>\n",
              "      <td>0.0</td>\n",
              "      <td>0.0</td>\n",
              "      <td>0.0</td>\n",
              "      <td>0.0</td>\n",
              "      <td>0.0</td>\n",
              "      <td>0.0</td>\n",
              "      <td>0.0</td>\n",
              "      <td>0.0</td>\n",
              "      <td>0.0</td>\n",
              "      <td>0.0</td>\n",
              "      <td>0.0</td>\n",
              "      <td>0.0</td>\n",
              "      <td>0.0</td>\n",
              "      <td>0.0</td>\n",
              "      <td>0.0</td>\n",
              "      <td>0.0</td>\n",
              "      <td>0.0</td>\n",
              "      <td>0.0</td>\n",
              "      <td>0.0</td>\n",
              "      <td>0.000000</td>\n",
              "      <td>0.0</td>\n",
              "      <td>0.0</td>\n",
              "      <td>0.0</td>\n",
              "      <td>0.0</td>\n",
              "      <td>0.0</td>\n",
              "      <td>...</td>\n",
              "      <td>0.0</td>\n",
              "      <td>0.0</td>\n",
              "      <td>0.0</td>\n",
              "      <td>0.0</td>\n",
              "      <td>0.0</td>\n",
              "      <td>0.0</td>\n",
              "      <td>0.0</td>\n",
              "      <td>0.0</td>\n",
              "      <td>0.0</td>\n",
              "      <td>0.0</td>\n",
              "      <td>0.0</td>\n",
              "      <td>0.0</td>\n",
              "      <td>0.0</td>\n",
              "      <td>0.000000</td>\n",
              "      <td>0.0</td>\n",
              "      <td>0.0</td>\n",
              "      <td>0.0</td>\n",
              "      <td>0.000000</td>\n",
              "      <td>0.0</td>\n",
              "      <td>0.0</td>\n",
              "      <td>0.0</td>\n",
              "      <td>0.0</td>\n",
              "      <td>0.0</td>\n",
              "      <td>0.0</td>\n",
              "      <td>0.0</td>\n",
              "      <td>0.0</td>\n",
              "      <td>0.0</td>\n",
              "      <td>0.0</td>\n",
              "      <td>0.0</td>\n",
              "      <td>0.00000</td>\n",
              "      <td>0.0</td>\n",
              "      <td>0.0</td>\n",
              "      <td>0.0</td>\n",
              "      <td>0.0</td>\n",
              "      <td>0.0</td>\n",
              "      <td>0.0</td>\n",
              "      <td>0.0</td>\n",
              "      <td>0.0</td>\n",
              "      <td>0.0</td>\n",
              "      <td>0.0</td>\n",
              "    </tr>\n",
              "  </tbody>\n",
              "</table>\n",
              "<p>5 rows × 1695 columns</p>\n",
              "</div>"
            ],
            "text/plain": [
              "       abil  abl  abnorm     about  abov  ...  young  your  zachari  zinc   â¾\n",
              "0  0.000000  0.0     0.0  0.000000   0.0  ...    0.0   0.0      0.0   0.0  0.0\n",
              "1  0.148121  0.0     0.0  0.000000   0.0  ...    0.0   0.0      0.0   0.0  0.0\n",
              "2  0.000000  0.0     0.0  0.000000   0.0  ...    0.0   0.0      0.0   0.0  0.0\n",
              "3  0.000000  0.0     0.0  0.162516   0.0  ...    0.0   0.0      0.0   0.0  0.0\n",
              "4  0.000000  0.0     0.0  0.131819   0.0  ...    0.0   0.0      0.0   0.0  0.0\n",
              "\n",
              "[5 rows x 1695 columns]"
            ]
          },
          "metadata": {
            "tags": []
          },
          "execution_count": 11
        }
      ]
    },
    {
      "cell_type": "markdown",
      "metadata": {
        "id": "2snuJgOFFkJ3"
      },
      "source": [
        "##**NER**"
      ]
    },
    {
      "cell_type": "code",
      "metadata": {
        "id": "ygUkfgN0FnZE",
        "colab": {
          "base_uri": "https://localhost:8080/"
        },
        "outputId": "4578952d-b868-4ac7-d7a0-444690227e70"
      },
      "source": [
        "import spacy\n",
        "import spacy\n",
        "from spacy import displacy\n",
        "from collections import Counter\n",
        "import en_core_web_sm\n",
        "\n",
        "nlp = en_core_web_sm.load()\n",
        "\n",
        "def get_X_ner(data, body_column='Source (A)'):\n",
        "  corpus = data[body_column]\n",
        "  X_ner_counters = []\n",
        "  X_ner_array = []\n",
        "  meta_counter = Counter()\n",
        "\n",
        "  for s in corpus:\n",
        "    doc = nlp(s)\n",
        "    labels = [x.label_ for x in doc.ents]\n",
        "    X_ner_counters.append(Counter(labels))\n",
        "    meta_counter += Counter(labels)\n",
        "\n",
        "  for c in X_ner_counters:\n",
        "    X_ner_array.append([c[key] for key in list(meta_counter.keys())])\n",
        "\n",
        "  X_ner = pd.DataFrame(X_ner_array, columns=list(meta_counter.keys()))\n",
        "  print(np.shape(X_ner))\n",
        "  \n",
        "  return X_ner"
      ],
      "execution_count": 12,
      "outputs": [
        {
          "output_type": "stream",
          "text": [
            "/usr/local/lib/python3.7/dist-packages/spacy/util.py:275: UserWarning: [W031] Model 'en_core_web_sm' (2.2.5) requires spaCy v2.2 and is incompatible with the current spaCy version (2.3.5). This may lead to unexpected results or runtime errors. To resolve this, download a newer compatible model or retrain your custom model with the current spaCy version. For more details and available updates, run: python -m spacy validate\n",
            "  warnings.warn(warn_msg)\n"
          ],
          "name": "stderr"
        }
      ]
    },
    {
      "cell_type": "code",
      "metadata": {
        "colab": {
          "base_uri": "https://localhost:8080/"
        },
        "id": "j-WpqMPPMPhE",
        "outputId": "306057dd-e259-4b8c-d2e1-aa6fbcd70ab5"
      },
      "source": [
        "statins_X_ner = get_X_ner(statins_paragraphs, body_column='Body')\n",
        "psychiatry_X_ner = get_X_ner(psychiatry_paragraphs)\n",
        "antioxidants_X_ner = get_X_ner(antioxidants_paragraphs)\n",
        "cc_vs_nb_X_ner = get_X_ner(cc_vs_nb_paragraphs)\n",
        "aspirin_pregnancy_X_ner = get_X_ner(aspirin_pregnancy_paragraphs)\n",
        "children_antibiotics_X_ner = get_X_ner(children_antibiotics_paragraphs)\n",
        "allergy_testing_X_ner = get_X_ner(allergy_testing_paragraphs)\n",
        "diet_and_autism_X_ner = get_X_ner(diet_and_autism_paragraphs)\n",
        "heart_supplements_X_ner = get_X_ner(heart_supplements_paragraphs)\n",
        "ssri_during_pregnancy_X_ner = get_X_ner(ssri_during_pregnancy_paragraphs)\n",
        "steroids_for_kids_X_ner = get_X_ner(steroids_for_kids_paragraphs)\n",
        "vaccination_X_ner = get_X_ner(vaccination_paragraphs)"
      ],
      "execution_count": 13,
      "outputs": [
        {
          "output_type": "stream",
          "text": [
            "(639, 18)\n",
            "(807, 18)\n",
            "(225, 14)\n",
            "(58, 12)\n",
            "(171, 14)\n",
            "(109, 13)\n",
            "(185, 16)\n",
            "(451, 15)\n",
            "(182, 14)\n",
            "(150, 17)\n",
            "(58, 12)\n",
            "(241, 13)\n",
            "(482, 17)\n"
          ],
          "name": "stdout"
        }
      ]
    },
    {
      "cell_type": "markdown",
      "metadata": {
        "id": "gHhdzmScBb8r"
      },
      "source": [
        "## **LIWC**"
      ]
    },
    {
      "cell_type": "code",
      "metadata": {
        "id": "cfN8WBFMBd7L"
      },
      "source": [
        "# important_features = get_n_most_important(50)\n",
        "def get_X_liwc(data):\n",
        "  X_liwc = data.loc[:,'WC':]\n",
        "  X_liwc = X_liwc.reset_index(drop=True)\n",
        "  print(np.shape(X_liwc))\n",
        "  \n",
        "  return X_liwc"
      ],
      "execution_count": 14,
      "outputs": []
    },
    {
      "cell_type": "code",
      "metadata": {
        "colab": {
          "base_uri": "https://localhost:8080/"
        },
        "id": "wE6C9tPiFcDV",
        "outputId": "0290003c-bc96-4121-953e-b1ce43df0932"
      },
      "source": [
        "statins_X_liwc = get_X_liwc(statins_paragraphs)\n",
        "psychiatry_X_liwc = get_X_liwc(psychiatry_paragraphs)\n",
        "antioxidants_X_liwc = get_X_liwc(antioxidants_paragraphs)\n",
        "cc_vs_nb_X_liwc = get_X_liwc(cc_vs_nb_paragraphs)\n",
        "aspirin_pregnancy_X_liwc = get_X_liwc(aspirin_pregnancy_paragraphs)\n",
        "children_antibiotics_X_liwc = get_X_liwc(children_antibiotics_paragraphs)\n",
        "allergy_testing_X_liwc = get_X_liwc(allergy_testing_paragraphs)\n",
        "diet_and_autism_X_liwc = get_X_liwc(diet_and_autism_paragraphs)\n",
        "heart_supplements_X_liwc = get_X_liwc(heart_supplements_paragraphs)\n",
        "ssri_during_pregnancy_X_liwc = get_X_liwc(ssri_during_pregnancy_paragraphs)\n",
        "steroids_for_kids_X_liwc = get_X_liwc(steroids_for_kids_paragraphs)\n",
        "vaccination_X_liwc = get_X_liwc(vaccination_paragraphs)"
      ],
      "execution_count": 15,
      "outputs": [
        {
          "output_type": "stream",
          "text": [
            "(639, 93)\n",
            "(807, 93)\n",
            "(225, 93)\n",
            "(58, 93)\n",
            "(171, 93)\n",
            "(109, 93)\n",
            "(185, 93)\n",
            "(451, 93)\n",
            "(182, 93)\n",
            "(150, 93)\n",
            "(58, 93)\n",
            "(241, 93)\n",
            "(482, 93)\n"
          ],
          "name": "stdout"
        }
      ]
    },
    {
      "cell_type": "markdown",
      "metadata": {
        "id": "pZpNdjMLADfT"
      },
      "source": [
        "## **Sentiment**"
      ]
    },
    {
      "cell_type": "code",
      "metadata": {
        "id": "g_guB3F6ACo4",
        "colab": {
          "base_uri": "https://localhost:8080/"
        },
        "outputId": "7e15201b-cdb1-4dd7-9432-fa28a366c91b"
      },
      "source": [
        "from spacytextblob.spacytextblob import SpacyTextBlob\n",
        "\n",
        "nlp = spacy.load('en_core_web_sm')\n",
        "spacy_text_blob = SpacyTextBlob()\n",
        "nlp.add_pipe(spacy_text_blob)\n",
        "\n",
        "def get_X_sentiment(data, body_column='Source (A)'):\n",
        "  corpus = data[body_column]\n",
        "  X_sentiment_array = []\n",
        "  for s in corpus:\n",
        "    doc = nlp(s)\n",
        "    X_sentiment_array.append([doc._.sentiment.polarity,\n",
        "                      doc._.sentiment.subjectivity]\n",
        "                      )\n",
        "    \n",
        "  X_sentiment = pd.DataFrame(X_sentiment_array, columns=[\"polarity\", \"subjectivity\"])\n",
        "  print(np.shape(X_sentiment))\n",
        "  \n",
        "  return X_sentiment"
      ],
      "execution_count": 16,
      "outputs": [
        {
          "output_type": "stream",
          "text": [
            "/usr/local/lib/python3.7/dist-packages/spacy/util.py:275: UserWarning: [W031] Model 'en_core_web_sm' (2.2.5) requires spaCy v2.2 and is incompatible with the current spaCy version (2.3.5). This may lead to unexpected results or runtime errors. To resolve this, download a newer compatible model or retrain your custom model with the current spaCy version. For more details and available updates, run: python -m spacy validate\n",
            "  warnings.warn(warn_msg)\n"
          ],
          "name": "stderr"
        }
      ]
    },
    {
      "cell_type": "code",
      "metadata": {
        "colab": {
          "base_uri": "https://localhost:8080/"
        },
        "id": "n4qSyZHMDoPa",
        "outputId": "d7c34821-5ce4-4939-df51-8abc8bae0128"
      },
      "source": [
        "statins_X_sentiment = get_X_sentiment(statins_paragraphs, body_column='Body')\n",
        "psychiatry_X_sentiment = get_X_sentiment(psychiatry_paragraphs)\n",
        "antioxidants_X_sentiment = get_X_sentiment(antioxidants_paragraphs)\n",
        "cc_vs_nb_X_sentiment = get_X_sentiment(cc_vs_nb_paragraphs)\n",
        "aspirin_pregnancy_X_sentiment = get_X_sentiment(aspirin_pregnancy_paragraphs)\n",
        "children_antibiotics_X_sentiment = get_X_sentiment(children_antibiotics_paragraphs)\n",
        "allergy_testing_X_sentiment = get_X_sentiment(allergy_testing_paragraphs)\n",
        "diet_and_autism_X_sentiment = get_X_sentiment(diet_and_autism_paragraphs)\n",
        "heart_supplements_X_sentiment = get_X_sentiment(heart_supplements_paragraphs)\n",
        "ssri_during_pregnancy_X_sentiment = get_X_sentiment(ssri_during_pregnancy_paragraphs)\n",
        "steroids_for_kids_X_sentiment = get_X_sentiment(steroids_for_kids_paragraphs)\n",
        "vaccination_X_sentiment = get_X_sentiment(vaccination_paragraphs)"
      ],
      "execution_count": 17,
      "outputs": [
        {
          "output_type": "stream",
          "text": [
            "(639, 2)\n",
            "(807, 2)\n",
            "(225, 2)\n",
            "(58, 2)\n",
            "(171, 2)\n",
            "(109, 2)\n",
            "(185, 2)\n",
            "(451, 2)\n",
            "(182, 2)\n",
            "(150, 2)\n",
            "(58, 2)\n",
            "(241, 2)\n",
            "(482, 2)\n"
          ],
          "name": "stdout"
        }
      ]
    },
    {
      "cell_type": "code",
      "metadata": {
        "id": "ens9y5soEOrm"
      },
      "source": [
        "# X = pd.concat([X_liwc, X_ner, X_tfidf, X_sentiment], axis=1)\n",
        "statins_X = pd.concat([statins_X_liwc, statins_X_ner, statins_X_tfidf, statins_X_sentiment], axis=1)\n",
        "psychiatry_X = pd.concat([psychiatry_X_liwc, psychiatry_X_ner, psychiatry_X_tfidf, psychiatry_X_sentiment], axis=1)\n",
        "antioxidants_X = pd.concat([antioxidants_X_liwc, antioxidants_X_ner, antioxidants_X_tfidf, antioxidants_X_sentiment], axis=1)\n",
        "cc_vs_nb_X = pd.concat([cc_vs_nb_X_liwc, cc_vs_nb_X_ner, cc_vs_nb_X_tfidf, cc_vs_nb_X_sentiment], axis=1)\n",
        "aspirin_pregnancy_X = pd.concat([aspirin_pregnancy_X_liwc, aspirin_pregnancy_X_ner, aspirin_pregnancy_X_tfidf, aspirin_pregnancy_X_sentiment], axis=1)\n",
        "children_antibiotics_X = pd.concat([children_antibiotics_X_liwc, children_antibiotics_X_ner, children_antibiotics_X_tfidf, children_antibiotics_X_sentiment], axis=1)\n",
        "allergy_testing_X = pd.concat([allergy_testing_X_liwc, allergy_testing_X_ner, allergy_testing_X_tfidf, allergy_testing_X_sentiment], axis=1)\n",
        "diet_and_autism_X = pd.concat([diet_and_autism_X_liwc, diet_and_autism_X_ner, diet_and_autism_X_tfidf, diet_and_autism_X_sentiment], axis=1)\n",
        "heart_supplements_X = pd.concat([heart_supplements_X_liwc, heart_supplements_X_ner, heart_supplements_X_tfidf, heart_supplements_X_sentiment], axis=1)\n",
        "ssri_during_pregnancy_X = pd.concat([ssri_during_pregnancy_X_liwc, ssri_during_pregnancy_X_ner, ssri_during_pregnancy_X_tfidf, ssri_during_pregnancy_X_sentiment], axis=1)\n",
        "steroids_for_kids_X = pd.concat([steroids_for_kids_X_liwc, steroids_for_kids_X_ner, steroids_for_kids_X_tfidf, steroids_for_kids_X_sentiment], axis=1)\n",
        "vaccination_X = pd.concat([vaccination_X_liwc, vaccination_X_ner, vaccination_X_tfidf, vaccination_X_sentiment], axis=1)"
      ],
      "execution_count": 18,
      "outputs": []
    },
    {
      "cell_type": "code",
      "metadata": {
        "colab": {
          "base_uri": "https://localhost:8080/",
          "height": 422
        },
        "id": "ClZJWsBa9wor",
        "outputId": "862f01ae-ddb1-4b49-a348-860801ba9d68"
      },
      "source": [
        "heart_supplements_X"
      ],
      "execution_count": 19,
      "outputs": [
        {
          "output_type": "execute_result",
          "data": {
            "text/html": [
              "<div>\n",
              "<style scoped>\n",
              "    .dataframe tbody tr th:only-of-type {\n",
              "        vertical-align: middle;\n",
              "    }\n",
              "\n",
              "    .dataframe tbody tr th {\n",
              "        vertical-align: top;\n",
              "    }\n",
              "\n",
              "    .dataframe thead th {\n",
              "        text-align: right;\n",
              "    }\n",
              "</style>\n",
              "<table border=\"1\" class=\"dataframe\">\n",
              "  <thead>\n",
              "    <tr style=\"text-align: right;\">\n",
              "      <th></th>\n",
              "      <th>WC</th>\n",
              "      <th>Analytic</th>\n",
              "      <th>Clout</th>\n",
              "      <th>Authentic</th>\n",
              "      <th>Tone</th>\n",
              "      <th>WPS</th>\n",
              "      <th>Sixltr</th>\n",
              "      <th>Dic</th>\n",
              "      <th>function</th>\n",
              "      <th>pronoun</th>\n",
              "      <th>ppron</th>\n",
              "      <th>i</th>\n",
              "      <th>we</th>\n",
              "      <th>you</th>\n",
              "      <th>shehe</th>\n",
              "      <th>they</th>\n",
              "      <th>ipron</th>\n",
              "      <th>article</th>\n",
              "      <th>prep</th>\n",
              "      <th>auxverb</th>\n",
              "      <th>adverb</th>\n",
              "      <th>conj</th>\n",
              "      <th>negate</th>\n",
              "      <th>verb</th>\n",
              "      <th>adj</th>\n",
              "      <th>compare</th>\n",
              "      <th>interrog</th>\n",
              "      <th>number</th>\n",
              "      <th>quant</th>\n",
              "      <th>affect</th>\n",
              "      <th>posemo</th>\n",
              "      <th>negemo</th>\n",
              "      <th>anx</th>\n",
              "      <th>anger</th>\n",
              "      <th>sad</th>\n",
              "      <th>social</th>\n",
              "      <th>family</th>\n",
              "      <th>friend</th>\n",
              "      <th>female</th>\n",
              "      <th>male</th>\n",
              "      <th>...</th>\n",
              "      <th>who</th>\n",
              "      <th>whole</th>\n",
              "      <th>why</th>\n",
              "      <th>wide</th>\n",
              "      <th>widen</th>\n",
              "      <th>wider</th>\n",
              "      <th>will</th>\n",
              "      <th>wine</th>\n",
              "      <th>winner</th>\n",
              "      <th>wise</th>\n",
              "      <th>wish</th>\n",
              "      <th>with</th>\n",
              "      <th>within</th>\n",
              "      <th>without</th>\n",
              "      <th>women</th>\n",
              "      <th>won</th>\n",
              "      <th>word</th>\n",
              "      <th>work</th>\n",
              "      <th>workout</th>\n",
              "      <th>world</th>\n",
              "      <th>worldwid</th>\n",
              "      <th>worse</th>\n",
              "      <th>worsen</th>\n",
              "      <th>worst</th>\n",
              "      <th>worth</th>\n",
              "      <th>would</th>\n",
              "      <th>wound</th>\n",
              "      <th>write</th>\n",
              "      <th>wrote</th>\n",
              "      <th>year</th>\n",
              "      <th>yet</th>\n",
              "      <th>yield</th>\n",
              "      <th>yolk</th>\n",
              "      <th>you</th>\n",
              "      <th>young</th>\n",
              "      <th>younger</th>\n",
              "      <th>your</th>\n",
              "      <th>zan</th>\n",
              "      <th>polarity</th>\n",
              "      <th>subjectivity</th>\n",
              "    </tr>\n",
              "  </thead>\n",
              "  <tbody>\n",
              "    <tr>\n",
              "      <th>0</th>\n",
              "      <td>44</td>\n",
              "      <td>87.93</td>\n",
              "      <td>58.97</td>\n",
              "      <td>31.94</td>\n",
              "      <td>25.77</td>\n",
              "      <td>11.00</td>\n",
              "      <td>34.09</td>\n",
              "      <td>86.36</td>\n",
              "      <td>34.09</td>\n",
              "      <td>6.82</td>\n",
              "      <td>0.00</td>\n",
              "      <td>0.0</td>\n",
              "      <td>0.00</td>\n",
              "      <td>0.00</td>\n",
              "      <td>0.0</td>\n",
              "      <td>0.00</td>\n",
              "      <td>6.82</td>\n",
              "      <td>6.82</td>\n",
              "      <td>9.09</td>\n",
              "      <td>6.82</td>\n",
              "      <td>0.00</td>\n",
              "      <td>6.82</td>\n",
              "      <td>0.00</td>\n",
              "      <td>11.36</td>\n",
              "      <td>6.82</td>\n",
              "      <td>2.27</td>\n",
              "      <td>2.27</td>\n",
              "      <td>0.00</td>\n",
              "      <td>4.55</td>\n",
              "      <td>0.00</td>\n",
              "      <td>0.00</td>\n",
              "      <td>0.00</td>\n",
              "      <td>0.00</td>\n",
              "      <td>0.0</td>\n",
              "      <td>0.00</td>\n",
              "      <td>4.55</td>\n",
              "      <td>0.0</td>\n",
              "      <td>0.0</td>\n",
              "      <td>2.27</td>\n",
              "      <td>2.27</td>\n",
              "      <td>...</td>\n",
              "      <td>0.0</td>\n",
              "      <td>0.0</td>\n",
              "      <td>0.0</td>\n",
              "      <td>0.0</td>\n",
              "      <td>0.0</td>\n",
              "      <td>0.0</td>\n",
              "      <td>0.0</td>\n",
              "      <td>0.0</td>\n",
              "      <td>0.000000</td>\n",
              "      <td>0.0</td>\n",
              "      <td>0.0</td>\n",
              "      <td>0.000000</td>\n",
              "      <td>0.0</td>\n",
              "      <td>0.0</td>\n",
              "      <td>0.169843</td>\n",
              "      <td>0.0</td>\n",
              "      <td>0.0</td>\n",
              "      <td>0.0</td>\n",
              "      <td>0.0</td>\n",
              "      <td>0.0</td>\n",
              "      <td>0.229635</td>\n",
              "      <td>0.0</td>\n",
              "      <td>0.0</td>\n",
              "      <td>0.0</td>\n",
              "      <td>0.0</td>\n",
              "      <td>0.0</td>\n",
              "      <td>0.000000</td>\n",
              "      <td>0.0</td>\n",
              "      <td>0.0</td>\n",
              "      <td>0.0</td>\n",
              "      <td>0.0</td>\n",
              "      <td>0.0</td>\n",
              "      <td>0.0</td>\n",
              "      <td>0.000000</td>\n",
              "      <td>0.0</td>\n",
              "      <td>0.0</td>\n",
              "      <td>0.000000</td>\n",
              "      <td>0.0</td>\n",
              "      <td>0.028571</td>\n",
              "      <td>0.332143</td>\n",
              "    </tr>\n",
              "    <tr>\n",
              "      <th>1</th>\n",
              "      <td>48</td>\n",
              "      <td>56.25</td>\n",
              "      <td>98.87</td>\n",
              "      <td>35.37</td>\n",
              "      <td>92.40</td>\n",
              "      <td>12.00</td>\n",
              "      <td>33.33</td>\n",
              "      <td>89.58</td>\n",
              "      <td>52.08</td>\n",
              "      <td>16.67</td>\n",
              "      <td>10.42</td>\n",
              "      <td>0.0</td>\n",
              "      <td>4.17</td>\n",
              "      <td>4.17</td>\n",
              "      <td>0.0</td>\n",
              "      <td>2.08</td>\n",
              "      <td>6.25</td>\n",
              "      <td>2.08</td>\n",
              "      <td>18.75</td>\n",
              "      <td>10.42</td>\n",
              "      <td>6.25</td>\n",
              "      <td>6.25</td>\n",
              "      <td>0.00</td>\n",
              "      <td>16.67</td>\n",
              "      <td>4.17</td>\n",
              "      <td>4.17</td>\n",
              "      <td>2.08</td>\n",
              "      <td>4.17</td>\n",
              "      <td>2.08</td>\n",
              "      <td>4.17</td>\n",
              "      <td>4.17</td>\n",
              "      <td>0.00</td>\n",
              "      <td>0.00</td>\n",
              "      <td>0.0</td>\n",
              "      <td>0.00</td>\n",
              "      <td>14.58</td>\n",
              "      <td>0.0</td>\n",
              "      <td>0.0</td>\n",
              "      <td>0.00</td>\n",
              "      <td>0.00</td>\n",
              "      <td>...</td>\n",
              "      <td>0.0</td>\n",
              "      <td>0.0</td>\n",
              "      <td>0.0</td>\n",
              "      <td>0.0</td>\n",
              "      <td>0.0</td>\n",
              "      <td>0.0</td>\n",
              "      <td>0.0</td>\n",
              "      <td>0.0</td>\n",
              "      <td>0.000000</td>\n",
              "      <td>0.0</td>\n",
              "      <td>0.0</td>\n",
              "      <td>0.076630</td>\n",
              "      <td>0.0</td>\n",
              "      <td>0.0</td>\n",
              "      <td>0.000000</td>\n",
              "      <td>0.0</td>\n",
              "      <td>0.0</td>\n",
              "      <td>0.0</td>\n",
              "      <td>0.0</td>\n",
              "      <td>0.0</td>\n",
              "      <td>0.000000</td>\n",
              "      <td>0.0</td>\n",
              "      <td>0.0</td>\n",
              "      <td>0.0</td>\n",
              "      <td>0.0</td>\n",
              "      <td>0.0</td>\n",
              "      <td>0.000000</td>\n",
              "      <td>0.0</td>\n",
              "      <td>0.0</td>\n",
              "      <td>0.0</td>\n",
              "      <td>0.0</td>\n",
              "      <td>0.0</td>\n",
              "      <td>0.0</td>\n",
              "      <td>0.093249</td>\n",
              "      <td>0.0</td>\n",
              "      <td>0.0</td>\n",
              "      <td>0.076630</td>\n",
              "      <td>0.0</td>\n",
              "      <td>0.100000</td>\n",
              "      <td>0.466667</td>\n",
              "    </tr>\n",
              "    <tr>\n",
              "      <th>2</th>\n",
              "      <td>46</td>\n",
              "      <td>98.80</td>\n",
              "      <td>41.41</td>\n",
              "      <td>88.68</td>\n",
              "      <td>25.77</td>\n",
              "      <td>11.50</td>\n",
              "      <td>28.26</td>\n",
              "      <td>63.04</td>\n",
              "      <td>41.30</td>\n",
              "      <td>2.17</td>\n",
              "      <td>0.00</td>\n",
              "      <td>0.0</td>\n",
              "      <td>0.00</td>\n",
              "      <td>0.00</td>\n",
              "      <td>0.0</td>\n",
              "      <td>0.00</td>\n",
              "      <td>2.17</td>\n",
              "      <td>8.70</td>\n",
              "      <td>17.39</td>\n",
              "      <td>4.35</td>\n",
              "      <td>0.00</td>\n",
              "      <td>6.52</td>\n",
              "      <td>2.17</td>\n",
              "      <td>8.70</td>\n",
              "      <td>2.17</td>\n",
              "      <td>2.17</td>\n",
              "      <td>2.17</td>\n",
              "      <td>0.00</td>\n",
              "      <td>2.17</td>\n",
              "      <td>0.00</td>\n",
              "      <td>0.00</td>\n",
              "      <td>0.00</td>\n",
              "      <td>0.00</td>\n",
              "      <td>0.0</td>\n",
              "      <td>0.00</td>\n",
              "      <td>0.00</td>\n",
              "      <td>0.0</td>\n",
              "      <td>0.0</td>\n",
              "      <td>0.00</td>\n",
              "      <td>0.00</td>\n",
              "      <td>...</td>\n",
              "      <td>0.0</td>\n",
              "      <td>0.0</td>\n",
              "      <td>0.0</td>\n",
              "      <td>0.0</td>\n",
              "      <td>0.0</td>\n",
              "      <td>0.0</td>\n",
              "      <td>0.0</td>\n",
              "      <td>0.0</td>\n",
              "      <td>0.000000</td>\n",
              "      <td>0.0</td>\n",
              "      <td>0.0</td>\n",
              "      <td>0.000000</td>\n",
              "      <td>0.0</td>\n",
              "      <td>0.0</td>\n",
              "      <td>0.000000</td>\n",
              "      <td>0.0</td>\n",
              "      <td>0.0</td>\n",
              "      <td>0.0</td>\n",
              "      <td>0.0</td>\n",
              "      <td>0.0</td>\n",
              "      <td>0.000000</td>\n",
              "      <td>0.0</td>\n",
              "      <td>0.0</td>\n",
              "      <td>0.0</td>\n",
              "      <td>0.0</td>\n",
              "      <td>0.0</td>\n",
              "      <td>0.000000</td>\n",
              "      <td>0.0</td>\n",
              "      <td>0.0</td>\n",
              "      <td>0.0</td>\n",
              "      <td>0.0</td>\n",
              "      <td>0.0</td>\n",
              "      <td>0.0</td>\n",
              "      <td>0.000000</td>\n",
              "      <td>0.0</td>\n",
              "      <td>0.0</td>\n",
              "      <td>0.000000</td>\n",
              "      <td>0.0</td>\n",
              "      <td>0.348148</td>\n",
              "      <td>0.679630</td>\n",
              "    </tr>\n",
              "    <tr>\n",
              "      <th>3</th>\n",
              "      <td>58</td>\n",
              "      <td>94.72</td>\n",
              "      <td>80.56</td>\n",
              "      <td>3.81</td>\n",
              "      <td>58.39</td>\n",
              "      <td>14.50</td>\n",
              "      <td>27.59</td>\n",
              "      <td>77.59</td>\n",
              "      <td>37.93</td>\n",
              "      <td>6.90</td>\n",
              "      <td>5.17</td>\n",
              "      <td>0.0</td>\n",
              "      <td>0.00</td>\n",
              "      <td>5.17</td>\n",
              "      <td>0.0</td>\n",
              "      <td>0.00</td>\n",
              "      <td>1.72</td>\n",
              "      <td>8.62</td>\n",
              "      <td>12.07</td>\n",
              "      <td>3.45</td>\n",
              "      <td>0.00</td>\n",
              "      <td>6.90</td>\n",
              "      <td>1.72</td>\n",
              "      <td>3.45</td>\n",
              "      <td>5.17</td>\n",
              "      <td>5.17</td>\n",
              "      <td>0.00</td>\n",
              "      <td>5.17</td>\n",
              "      <td>3.45</td>\n",
              "      <td>12.07</td>\n",
              "      <td>6.90</td>\n",
              "      <td>5.17</td>\n",
              "      <td>3.45</td>\n",
              "      <td>0.0</td>\n",
              "      <td>1.72</td>\n",
              "      <td>5.17</td>\n",
              "      <td>0.0</td>\n",
              "      <td>0.0</td>\n",
              "      <td>0.00</td>\n",
              "      <td>0.00</td>\n",
              "      <td>...</td>\n",
              "      <td>0.0</td>\n",
              "      <td>0.0</td>\n",
              "      <td>0.0</td>\n",
              "      <td>0.0</td>\n",
              "      <td>0.0</td>\n",
              "      <td>0.0</td>\n",
              "      <td>0.0</td>\n",
              "      <td>0.0</td>\n",
              "      <td>0.000000</td>\n",
              "      <td>0.0</td>\n",
              "      <td>0.0</td>\n",
              "      <td>0.158170</td>\n",
              "      <td>0.0</td>\n",
              "      <td>0.0</td>\n",
              "      <td>0.000000</td>\n",
              "      <td>0.0</td>\n",
              "      <td>0.0</td>\n",
              "      <td>0.0</td>\n",
              "      <td>0.0</td>\n",
              "      <td>0.0</td>\n",
              "      <td>0.000000</td>\n",
              "      <td>0.0</td>\n",
              "      <td>0.0</td>\n",
              "      <td>0.0</td>\n",
              "      <td>0.0</td>\n",
              "      <td>0.0</td>\n",
              "      <td>0.000000</td>\n",
              "      <td>0.0</td>\n",
              "      <td>0.0</td>\n",
              "      <td>0.0</td>\n",
              "      <td>0.0</td>\n",
              "      <td>0.0</td>\n",
              "      <td>0.0</td>\n",
              "      <td>0.000000</td>\n",
              "      <td>0.0</td>\n",
              "      <td>0.0</td>\n",
              "      <td>0.237255</td>\n",
              "      <td>0.0</td>\n",
              "      <td>0.400000</td>\n",
              "      <td>0.366667</td>\n",
              "    </tr>\n",
              "    <tr>\n",
              "      <th>4</th>\n",
              "      <td>57</td>\n",
              "      <td>91.47</td>\n",
              "      <td>56.98</td>\n",
              "      <td>7.32</td>\n",
              "      <td>6.35</td>\n",
              "      <td>14.25</td>\n",
              "      <td>35.09</td>\n",
              "      <td>73.68</td>\n",
              "      <td>43.86</td>\n",
              "      <td>8.77</td>\n",
              "      <td>3.51</td>\n",
              "      <td>0.0</td>\n",
              "      <td>0.00</td>\n",
              "      <td>1.75</td>\n",
              "      <td>0.0</td>\n",
              "      <td>1.75</td>\n",
              "      <td>5.26</td>\n",
              "      <td>7.02</td>\n",
              "      <td>15.79</td>\n",
              "      <td>7.02</td>\n",
              "      <td>0.00</td>\n",
              "      <td>7.02</td>\n",
              "      <td>1.75</td>\n",
              "      <td>8.77</td>\n",
              "      <td>5.26</td>\n",
              "      <td>7.02</td>\n",
              "      <td>0.00</td>\n",
              "      <td>1.75</td>\n",
              "      <td>1.75</td>\n",
              "      <td>1.75</td>\n",
              "      <td>0.00</td>\n",
              "      <td>1.75</td>\n",
              "      <td>1.75</td>\n",
              "      <td>0.0</td>\n",
              "      <td>0.00</td>\n",
              "      <td>5.26</td>\n",
              "      <td>0.0</td>\n",
              "      <td>0.0</td>\n",
              "      <td>0.00</td>\n",
              "      <td>0.00</td>\n",
              "      <td>...</td>\n",
              "      <td>0.0</td>\n",
              "      <td>0.0</td>\n",
              "      <td>0.0</td>\n",
              "      <td>0.0</td>\n",
              "      <td>0.0</td>\n",
              "      <td>0.0</td>\n",
              "      <td>0.0</td>\n",
              "      <td>0.0</td>\n",
              "      <td>0.000000</td>\n",
              "      <td>0.0</td>\n",
              "      <td>0.0</td>\n",
              "      <td>0.070717</td>\n",
              "      <td>0.0</td>\n",
              "      <td>0.0</td>\n",
              "      <td>0.000000</td>\n",
              "      <td>0.0</td>\n",
              "      <td>0.0</td>\n",
              "      <td>0.0</td>\n",
              "      <td>0.0</td>\n",
              "      <td>0.0</td>\n",
              "      <td>0.000000</td>\n",
              "      <td>0.0</td>\n",
              "      <td>0.0</td>\n",
              "      <td>0.0</td>\n",
              "      <td>0.0</td>\n",
              "      <td>0.0</td>\n",
              "      <td>0.000000</td>\n",
              "      <td>0.0</td>\n",
              "      <td>0.0</td>\n",
              "      <td>0.0</td>\n",
              "      <td>0.0</td>\n",
              "      <td>0.0</td>\n",
              "      <td>0.0</td>\n",
              "      <td>0.086053</td>\n",
              "      <td>0.0</td>\n",
              "      <td>0.0</td>\n",
              "      <td>0.000000</td>\n",
              "      <td>0.0</td>\n",
              "      <td>0.000000</td>\n",
              "      <td>0.541667</td>\n",
              "    </tr>\n",
              "    <tr>\n",
              "      <th>...</th>\n",
              "      <td>...</td>\n",
              "      <td>...</td>\n",
              "      <td>...</td>\n",
              "      <td>...</td>\n",
              "      <td>...</td>\n",
              "      <td>...</td>\n",
              "      <td>...</td>\n",
              "      <td>...</td>\n",
              "      <td>...</td>\n",
              "      <td>...</td>\n",
              "      <td>...</td>\n",
              "      <td>...</td>\n",
              "      <td>...</td>\n",
              "      <td>...</td>\n",
              "      <td>...</td>\n",
              "      <td>...</td>\n",
              "      <td>...</td>\n",
              "      <td>...</td>\n",
              "      <td>...</td>\n",
              "      <td>...</td>\n",
              "      <td>...</td>\n",
              "      <td>...</td>\n",
              "      <td>...</td>\n",
              "      <td>...</td>\n",
              "      <td>...</td>\n",
              "      <td>...</td>\n",
              "      <td>...</td>\n",
              "      <td>...</td>\n",
              "      <td>...</td>\n",
              "      <td>...</td>\n",
              "      <td>...</td>\n",
              "      <td>...</td>\n",
              "      <td>...</td>\n",
              "      <td>...</td>\n",
              "      <td>...</td>\n",
              "      <td>...</td>\n",
              "      <td>...</td>\n",
              "      <td>...</td>\n",
              "      <td>...</td>\n",
              "      <td>...</td>\n",
              "      <td>...</td>\n",
              "      <td>...</td>\n",
              "      <td>...</td>\n",
              "      <td>...</td>\n",
              "      <td>...</td>\n",
              "      <td>...</td>\n",
              "      <td>...</td>\n",
              "      <td>...</td>\n",
              "      <td>...</td>\n",
              "      <td>...</td>\n",
              "      <td>...</td>\n",
              "      <td>...</td>\n",
              "      <td>...</td>\n",
              "      <td>...</td>\n",
              "      <td>...</td>\n",
              "      <td>...</td>\n",
              "      <td>...</td>\n",
              "      <td>...</td>\n",
              "      <td>...</td>\n",
              "      <td>...</td>\n",
              "      <td>...</td>\n",
              "      <td>...</td>\n",
              "      <td>...</td>\n",
              "      <td>...</td>\n",
              "      <td>...</td>\n",
              "      <td>...</td>\n",
              "      <td>...</td>\n",
              "      <td>...</td>\n",
              "      <td>...</td>\n",
              "      <td>...</td>\n",
              "      <td>...</td>\n",
              "      <td>...</td>\n",
              "      <td>...</td>\n",
              "      <td>...</td>\n",
              "      <td>...</td>\n",
              "      <td>...</td>\n",
              "      <td>...</td>\n",
              "      <td>...</td>\n",
              "      <td>...</td>\n",
              "      <td>...</td>\n",
              "      <td>...</td>\n",
              "    </tr>\n",
              "    <tr>\n",
              "      <th>145</th>\n",
              "      <td>83</td>\n",
              "      <td>98.80</td>\n",
              "      <td>68.50</td>\n",
              "      <td>6.80</td>\n",
              "      <td>3.20</td>\n",
              "      <td>13.83</td>\n",
              "      <td>28.92</td>\n",
              "      <td>77.11</td>\n",
              "      <td>37.35</td>\n",
              "      <td>3.61</td>\n",
              "      <td>1.20</td>\n",
              "      <td>0.0</td>\n",
              "      <td>0.00</td>\n",
              "      <td>0.00</td>\n",
              "      <td>0.0</td>\n",
              "      <td>1.20</td>\n",
              "      <td>2.41</td>\n",
              "      <td>9.64</td>\n",
              "      <td>15.66</td>\n",
              "      <td>4.82</td>\n",
              "      <td>2.41</td>\n",
              "      <td>3.61</td>\n",
              "      <td>0.00</td>\n",
              "      <td>8.43</td>\n",
              "      <td>3.61</td>\n",
              "      <td>2.41</td>\n",
              "      <td>1.20</td>\n",
              "      <td>0.00</td>\n",
              "      <td>2.41</td>\n",
              "      <td>2.41</td>\n",
              "      <td>0.00</td>\n",
              "      <td>2.41</td>\n",
              "      <td>2.41</td>\n",
              "      <td>0.0</td>\n",
              "      <td>0.00</td>\n",
              "      <td>4.82</td>\n",
              "      <td>0.0</td>\n",
              "      <td>0.0</td>\n",
              "      <td>0.00</td>\n",
              "      <td>0.00</td>\n",
              "      <td>...</td>\n",
              "      <td>0.0</td>\n",
              "      <td>0.0</td>\n",
              "      <td>0.0</td>\n",
              "      <td>0.0</td>\n",
              "      <td>0.0</td>\n",
              "      <td>0.0</td>\n",
              "      <td>0.0</td>\n",
              "      <td>0.0</td>\n",
              "      <td>0.000000</td>\n",
              "      <td>0.0</td>\n",
              "      <td>0.0</td>\n",
              "      <td>0.060762</td>\n",
              "      <td>0.0</td>\n",
              "      <td>0.0</td>\n",
              "      <td>0.000000</td>\n",
              "      <td>0.0</td>\n",
              "      <td>0.0</td>\n",
              "      <td>0.0</td>\n",
              "      <td>0.0</td>\n",
              "      <td>0.0</td>\n",
              "      <td>0.000000</td>\n",
              "      <td>0.0</td>\n",
              "      <td>0.0</td>\n",
              "      <td>0.0</td>\n",
              "      <td>0.0</td>\n",
              "      <td>0.0</td>\n",
              "      <td>0.000000</td>\n",
              "      <td>0.0</td>\n",
              "      <td>0.0</td>\n",
              "      <td>0.0</td>\n",
              "      <td>0.0</td>\n",
              "      <td>0.0</td>\n",
              "      <td>0.0</td>\n",
              "      <td>0.000000</td>\n",
              "      <td>0.0</td>\n",
              "      <td>0.0</td>\n",
              "      <td>0.000000</td>\n",
              "      <td>0.0</td>\n",
              "      <td>0.166667</td>\n",
              "      <td>0.333333</td>\n",
              "    </tr>\n",
              "    <tr>\n",
              "      <th>146</th>\n",
              "      <td>56</td>\n",
              "      <td>99.00</td>\n",
              "      <td>63.97</td>\n",
              "      <td>1.00</td>\n",
              "      <td>59.59</td>\n",
              "      <td>14.00</td>\n",
              "      <td>30.36</td>\n",
              "      <td>69.64</td>\n",
              "      <td>35.71</td>\n",
              "      <td>1.79</td>\n",
              "      <td>0.00</td>\n",
              "      <td>0.0</td>\n",
              "      <td>0.00</td>\n",
              "      <td>0.00</td>\n",
              "      <td>0.0</td>\n",
              "      <td>0.00</td>\n",
              "      <td>1.79</td>\n",
              "      <td>8.93</td>\n",
              "      <td>16.07</td>\n",
              "      <td>1.79</td>\n",
              "      <td>1.79</td>\n",
              "      <td>7.14</td>\n",
              "      <td>0.00</td>\n",
              "      <td>3.57</td>\n",
              "      <td>7.14</td>\n",
              "      <td>5.36</td>\n",
              "      <td>0.00</td>\n",
              "      <td>1.79</td>\n",
              "      <td>1.79</td>\n",
              "      <td>8.93</td>\n",
              "      <td>5.36</td>\n",
              "      <td>3.57</td>\n",
              "      <td>1.79</td>\n",
              "      <td>0.0</td>\n",
              "      <td>0.00</td>\n",
              "      <td>3.57</td>\n",
              "      <td>0.0</td>\n",
              "      <td>0.0</td>\n",
              "      <td>0.00</td>\n",
              "      <td>0.00</td>\n",
              "      <td>...</td>\n",
              "      <td>0.0</td>\n",
              "      <td>0.0</td>\n",
              "      <td>0.0</td>\n",
              "      <td>0.0</td>\n",
              "      <td>0.0</td>\n",
              "      <td>0.0</td>\n",
              "      <td>0.0</td>\n",
              "      <td>0.0</td>\n",
              "      <td>0.188448</td>\n",
              "      <td>0.0</td>\n",
              "      <td>0.0</td>\n",
              "      <td>0.072453</td>\n",
              "      <td>0.0</td>\n",
              "      <td>0.0</td>\n",
              "      <td>0.000000</td>\n",
              "      <td>0.0</td>\n",
              "      <td>0.0</td>\n",
              "      <td>0.0</td>\n",
              "      <td>0.0</td>\n",
              "      <td>0.0</td>\n",
              "      <td>0.000000</td>\n",
              "      <td>0.0</td>\n",
              "      <td>0.0</td>\n",
              "      <td>0.0</td>\n",
              "      <td>0.0</td>\n",
              "      <td>0.0</td>\n",
              "      <td>0.188448</td>\n",
              "      <td>0.0</td>\n",
              "      <td>0.0</td>\n",
              "      <td>0.0</td>\n",
              "      <td>0.0</td>\n",
              "      <td>0.0</td>\n",
              "      <td>0.0</td>\n",
              "      <td>0.000000</td>\n",
              "      <td>0.0</td>\n",
              "      <td>0.0</td>\n",
              "      <td>0.000000</td>\n",
              "      <td>0.0</td>\n",
              "      <td>0.166667</td>\n",
              "      <td>0.644444</td>\n",
              "    </tr>\n",
              "    <tr>\n",
              "      <th>147</th>\n",
              "      <td>55</td>\n",
              "      <td>86.58</td>\n",
              "      <td>70.74</td>\n",
              "      <td>1.00</td>\n",
              "      <td>98.09</td>\n",
              "      <td>13.75</td>\n",
              "      <td>29.09</td>\n",
              "      <td>67.27</td>\n",
              "      <td>18.18</td>\n",
              "      <td>3.64</td>\n",
              "      <td>0.00</td>\n",
              "      <td>0.0</td>\n",
              "      <td>0.00</td>\n",
              "      <td>0.00</td>\n",
              "      <td>0.0</td>\n",
              "      <td>0.00</td>\n",
              "      <td>3.64</td>\n",
              "      <td>3.64</td>\n",
              "      <td>3.64</td>\n",
              "      <td>1.82</td>\n",
              "      <td>1.82</td>\n",
              "      <td>5.45</td>\n",
              "      <td>0.00</td>\n",
              "      <td>7.27</td>\n",
              "      <td>5.45</td>\n",
              "      <td>1.82</td>\n",
              "      <td>3.64</td>\n",
              "      <td>5.45</td>\n",
              "      <td>1.82</td>\n",
              "      <td>12.73</td>\n",
              "      <td>9.09</td>\n",
              "      <td>3.64</td>\n",
              "      <td>1.82</td>\n",
              "      <td>0.0</td>\n",
              "      <td>0.00</td>\n",
              "      <td>5.45</td>\n",
              "      <td>0.0</td>\n",
              "      <td>0.0</td>\n",
              "      <td>0.00</td>\n",
              "      <td>0.00</td>\n",
              "      <td>...</td>\n",
              "      <td>0.0</td>\n",
              "      <td>0.0</td>\n",
              "      <td>0.0</td>\n",
              "      <td>0.0</td>\n",
              "      <td>0.0</td>\n",
              "      <td>0.0</td>\n",
              "      <td>0.0</td>\n",
              "      <td>0.0</td>\n",
              "      <td>0.000000</td>\n",
              "      <td>0.0</td>\n",
              "      <td>0.0</td>\n",
              "      <td>0.000000</td>\n",
              "      <td>0.0</td>\n",
              "      <td>0.0</td>\n",
              "      <td>0.000000</td>\n",
              "      <td>0.0</td>\n",
              "      <td>0.0</td>\n",
              "      <td>0.0</td>\n",
              "      <td>0.0</td>\n",
              "      <td>0.0</td>\n",
              "      <td>0.000000</td>\n",
              "      <td>0.0</td>\n",
              "      <td>0.0</td>\n",
              "      <td>0.0</td>\n",
              "      <td>0.0</td>\n",
              "      <td>0.0</td>\n",
              "      <td>0.000000</td>\n",
              "      <td>0.0</td>\n",
              "      <td>0.0</td>\n",
              "      <td>0.0</td>\n",
              "      <td>0.0</td>\n",
              "      <td>0.0</td>\n",
              "      <td>0.0</td>\n",
              "      <td>0.000000</td>\n",
              "      <td>0.0</td>\n",
              "      <td>0.0</td>\n",
              "      <td>0.000000</td>\n",
              "      <td>0.0</td>\n",
              "      <td>-0.020000</td>\n",
              "      <td>0.440000</td>\n",
              "    </tr>\n",
              "    <tr>\n",
              "      <th>148</th>\n",
              "      <td>51</td>\n",
              "      <td>99.00</td>\n",
              "      <td>57.77</td>\n",
              "      <td>1.49</td>\n",
              "      <td>62.94</td>\n",
              "      <td>12.75</td>\n",
              "      <td>25.49</td>\n",
              "      <td>76.47</td>\n",
              "      <td>33.33</td>\n",
              "      <td>0.00</td>\n",
              "      <td>0.00</td>\n",
              "      <td>0.0</td>\n",
              "      <td>0.00</td>\n",
              "      <td>0.00</td>\n",
              "      <td>0.0</td>\n",
              "      <td>0.00</td>\n",
              "      <td>0.00</td>\n",
              "      <td>9.80</td>\n",
              "      <td>15.69</td>\n",
              "      <td>3.92</td>\n",
              "      <td>1.96</td>\n",
              "      <td>3.92</td>\n",
              "      <td>0.00</td>\n",
              "      <td>7.84</td>\n",
              "      <td>3.92</td>\n",
              "      <td>1.96</td>\n",
              "      <td>0.00</td>\n",
              "      <td>0.00</td>\n",
              "      <td>3.92</td>\n",
              "      <td>9.80</td>\n",
              "      <td>5.88</td>\n",
              "      <td>3.92</td>\n",
              "      <td>3.92</td>\n",
              "      <td>0.0</td>\n",
              "      <td>0.00</td>\n",
              "      <td>1.96</td>\n",
              "      <td>0.0</td>\n",
              "      <td>0.0</td>\n",
              "      <td>0.00</td>\n",
              "      <td>0.00</td>\n",
              "      <td>...</td>\n",
              "      <td>0.0</td>\n",
              "      <td>0.0</td>\n",
              "      <td>0.0</td>\n",
              "      <td>0.0</td>\n",
              "      <td>0.0</td>\n",
              "      <td>0.0</td>\n",
              "      <td>0.0</td>\n",
              "      <td>0.0</td>\n",
              "      <td>0.000000</td>\n",
              "      <td>0.0</td>\n",
              "      <td>0.0</td>\n",
              "      <td>0.089035</td>\n",
              "      <td>0.0</td>\n",
              "      <td>0.0</td>\n",
              "      <td>0.000000</td>\n",
              "      <td>0.0</td>\n",
              "      <td>0.0</td>\n",
              "      <td>0.0</td>\n",
              "      <td>0.0</td>\n",
              "      <td>0.0</td>\n",
              "      <td>0.000000</td>\n",
              "      <td>0.0</td>\n",
              "      <td>0.0</td>\n",
              "      <td>0.0</td>\n",
              "      <td>0.0</td>\n",
              "      <td>0.0</td>\n",
              "      <td>0.000000</td>\n",
              "      <td>0.0</td>\n",
              "      <td>0.0</td>\n",
              "      <td>0.0</td>\n",
              "      <td>0.0</td>\n",
              "      <td>0.0</td>\n",
              "      <td>0.0</td>\n",
              "      <td>0.000000</td>\n",
              "      <td>0.0</td>\n",
              "      <td>0.0</td>\n",
              "      <td>0.000000</td>\n",
              "      <td>0.0</td>\n",
              "      <td>0.166667</td>\n",
              "      <td>0.666667</td>\n",
              "    </tr>\n",
              "    <tr>\n",
              "      <th>149</th>\n",
              "      <td>69</td>\n",
              "      <td>98.99</td>\n",
              "      <td>84.49</td>\n",
              "      <td>1.12</td>\n",
              "      <td>78.80</td>\n",
              "      <td>17.25</td>\n",
              "      <td>17.39</td>\n",
              "      <td>81.16</td>\n",
              "      <td>42.03</td>\n",
              "      <td>4.35</td>\n",
              "      <td>2.90</td>\n",
              "      <td>0.0</td>\n",
              "      <td>0.00</td>\n",
              "      <td>2.90</td>\n",
              "      <td>0.0</td>\n",
              "      <td>0.00</td>\n",
              "      <td>1.45</td>\n",
              "      <td>10.14</td>\n",
              "      <td>18.84</td>\n",
              "      <td>5.80</td>\n",
              "      <td>2.90</td>\n",
              "      <td>4.35</td>\n",
              "      <td>0.00</td>\n",
              "      <td>11.59</td>\n",
              "      <td>7.25</td>\n",
              "      <td>2.90</td>\n",
              "      <td>0.00</td>\n",
              "      <td>2.90</td>\n",
              "      <td>1.45</td>\n",
              "      <td>5.80</td>\n",
              "      <td>4.35</td>\n",
              "      <td>1.45</td>\n",
              "      <td>1.45</td>\n",
              "      <td>0.0</td>\n",
              "      <td>0.00</td>\n",
              "      <td>7.25</td>\n",
              "      <td>0.0</td>\n",
              "      <td>0.0</td>\n",
              "      <td>0.00</td>\n",
              "      <td>0.00</td>\n",
              "      <td>...</td>\n",
              "      <td>0.0</td>\n",
              "      <td>0.0</td>\n",
              "      <td>0.0</td>\n",
              "      <td>0.0</td>\n",
              "      <td>0.0</td>\n",
              "      <td>0.0</td>\n",
              "      <td>0.0</td>\n",
              "      <td>0.0</td>\n",
              "      <td>0.000000</td>\n",
              "      <td>0.0</td>\n",
              "      <td>0.0</td>\n",
              "      <td>0.074112</td>\n",
              "      <td>0.0</td>\n",
              "      <td>0.0</td>\n",
              "      <td>0.000000</td>\n",
              "      <td>0.0</td>\n",
              "      <td>0.0</td>\n",
              "      <td>0.0</td>\n",
              "      <td>0.0</td>\n",
              "      <td>0.0</td>\n",
              "      <td>0.000000</td>\n",
              "      <td>0.0</td>\n",
              "      <td>0.0</td>\n",
              "      <td>0.0</td>\n",
              "      <td>0.0</td>\n",
              "      <td>0.0</td>\n",
              "      <td>0.000000</td>\n",
              "      <td>0.0</td>\n",
              "      <td>0.0</td>\n",
              "      <td>0.0</td>\n",
              "      <td>0.0</td>\n",
              "      <td>0.0</td>\n",
              "      <td>0.0</td>\n",
              "      <td>0.000000</td>\n",
              "      <td>0.0</td>\n",
              "      <td>0.0</td>\n",
              "      <td>0.148224</td>\n",
              "      <td>0.0</td>\n",
              "      <td>0.172727</td>\n",
              "      <td>0.492424</td>\n",
              "    </tr>\n",
              "  </tbody>\n",
              "</table>\n",
              "<p>150 rows × 1543 columns</p>\n",
              "</div>"
            ],
            "text/plain": [
              "     WC  Analytic  Clout  Authentic  ...      your  zan  polarity  subjectivity\n",
              "0    44     87.93  58.97      31.94  ...  0.000000  0.0  0.028571      0.332143\n",
              "1    48     56.25  98.87      35.37  ...  0.076630  0.0  0.100000      0.466667\n",
              "2    46     98.80  41.41      88.68  ...  0.000000  0.0  0.348148      0.679630\n",
              "3    58     94.72  80.56       3.81  ...  0.237255  0.0  0.400000      0.366667\n",
              "4    57     91.47  56.98       7.32  ...  0.000000  0.0  0.000000      0.541667\n",
              "..   ..       ...    ...        ...  ...       ...  ...       ...           ...\n",
              "145  83     98.80  68.50       6.80  ...  0.000000  0.0  0.166667      0.333333\n",
              "146  56     99.00  63.97       1.00  ...  0.000000  0.0  0.166667      0.644444\n",
              "147  55     86.58  70.74       1.00  ...  0.000000  0.0 -0.020000      0.440000\n",
              "148  51     99.00  57.77       1.49  ...  0.000000  0.0  0.166667      0.666667\n",
              "149  69     98.99  84.49       1.12  ...  0.148224  0.0  0.172727      0.492424\n",
              "\n",
              "[150 rows x 1543 columns]"
            ]
          },
          "metadata": {
            "tags": []
          },
          "execution_count": 19
        }
      ]
    },
    {
      "cell_type": "code",
      "metadata": {
        "id": "8CZN5Pq3I5cd"
      },
      "source": [
        "from sklearn.neural_network import MLPClassifier\n",
        "from sklearn.linear_model import LogisticRegression\n",
        "\n",
        "import sklearn.preprocessing as p\n",
        "\n",
        "min_max_scaler = p.MinMaxScaler()\n",
        "standard_scaler = p.StandardScaler()\n",
        "\n",
        "def eval_and_print_metrics(clf, X, Y):\n",
        "    scaled_features = standard_scaler.fit_transform(X)\n",
        "    scaled_features_df = pd.DataFrame(scaled_features, index=X.index, columns=X.columns)\n",
        "    X_train, X_test, y_train, y_test = train_test_split(X, Y, test_size=VALIDATION_SPLIT, stratify=Y)\n",
        "    clf.fit(X_train, y_train)\n",
        "    y_pred = clf.predict(X_test)\n",
        "    # print(\"F1 score on test set: \"\n",
        "          # \"%0.3f\" % metrics.f1_score(y_test, y_pred, average='weighted'))\n",
        "    # print(\"-\" * 10)\n",
        "    return metrics.f1_score(y_test, y_pred, average='weighted')\n",
        "\n",
        "def mean_weighted_f1(clf, X, Y, num_iterations):\n",
        "  f1s = []\n",
        "  for i in range(0,num_iterations):\n",
        "    f1s.append(eval_and_print_metrics(clf, X, Y))\n",
        "\n",
        "  print(\"Mean weighted f1: \", np.mean(f1s), \" STD: \", np.std(f1s))"
      ],
      "execution_count": 20,
      "outputs": []
    },
    {
      "cell_type": "markdown",
      "metadata": {
        "id": "9YZS_-sRadcb"
      },
      "source": [
        "# Fit and show AUC"
      ]
    },
    {
      "cell_type": "markdown",
      "metadata": {
        "id": "Wt9p_F_5AJUi"
      },
      "source": [
        "##**RFE**"
      ]
    },
    {
      "cell_type": "code",
      "metadata": {
        "id": "2A5QoaU2AMNX"
      },
      "source": [
        "from sklearn.feature_selection import RFE\n",
        "from sklearn.feature_selection import RFECV\n",
        "\n",
        "def get_n_most_important(num_features, X, Y):\n",
        "  model = LogisticRegression(max_iter=10000)\n",
        "  rfe = RFECV(model, num_features, verbose=0)\n",
        "  fit = rfe.fit(X, Y)\n",
        "\n",
        "  # print(\"Num Features: %s\" % (fit.n_features_))\n",
        "  # print(\"Selected Features: %s\" % (fit.support_))\n",
        "  # print(\"Feature Ranking: %s\" % (fit.ranking_))\n",
        "\n",
        "  features = X.columns.values\n",
        "  important_features = []\n",
        "\n",
        "  for f in list(zip(features, fit.support_)):\n",
        "    if f[1]:\n",
        "      important_features.append(f[0])\n",
        "\n",
        "  return fit.support_, fit.n_features_, fit.ranking_, important_features"
      ],
      "execution_count": 24,
      "outputs": []
    },
    {
      "cell_type": "markdown",
      "metadata": {
        "id": "vTX5UIG8ANTv"
      },
      "source": [
        "##**Fit method**"
      ]
    },
    {
      "cell_type": "code",
      "metadata": {
        "id": "-uJxgmQ5yFOl"
      },
      "source": [
        "from sklearn.metrics import roc_auc_score\n",
        "from sklearn.metrics import roc_curve\n",
        "import matplotlib.pyplot as plt\n",
        "\n",
        "def fit_clf_and_show_ROC(clf, X, Y, category = 'statins', num_important_features=1000, VALIDATION_SPLIT=0.2):\n",
        "  sup, n_ftrs, rank, important_features = get_n_most_important(num_important_features, X, Y)\n",
        "  X_train, X_test, y_train, y_test = train_test_split(X[important_features], Y, test_size=VALIDATION_SPLIT, stratify=Y)\n",
        "  clf.fit(X_train, y_train)\n",
        "\n",
        "  clf_roc_auc = roc_auc_score(y_test, clf.predict(X_test))\n",
        "  fpr, tpr, thresholds = roc_curve(y_test, clf.predict_proba(X_test)[:,1])\n",
        "  plt.figure()\n",
        "  plt.plot(fpr, tpr, label='Positive class classification (area = %0.2f)' % clf_roc_auc)\n",
        "  plt.plot([0, 1], [0, 1],'r--')\n",
        "  plt.xlim([0.0, 1.0])\n",
        "  plt.ylim([0.0, 1.05])\n",
        "  plt.xlabel('False Positive Rate')\n",
        "  plt.ylabel('True Positive Rate')\n",
        "  plt.title('ROC for category: ' + category + '; classifier: ' + clf.__class__.__name__ )\n",
        "  plt.legend(loc=\"lower right\")\n",
        "  plt.savefig('Log_ROC')\n",
        "  plt.show()\n",
        "  \n",
        "  from sklearn.metrics import classification_report\n",
        "  \n",
        "  print(classification_report(y_test, clf.predict(X_test)))\n",
        "  print(important_features)\n",
        "  return sup, n_ftrs, rank, important_features"
      ],
      "execution_count": 21,
      "outputs": []
    },
    {
      "cell_type": "markdown",
      "metadata": {
        "id": "4sk8O0VcMwZg"
      },
      "source": [
        "## Adjust number of features"
      ]
    },
    {
      "cell_type": "code",
      "metadata": {
        "colab": {
          "base_uri": "https://localhost:8080/",
          "height": 387
        },
        "id": "h37C6qrEP8gZ",
        "outputId": "d5d305b5-b706-4145-a7e3-cc4bfa8013d8"
      },
      "source": [
        "import matplotlib.pyplot as plt\n",
        "\n",
        "N = 3465\n",
        "interval = 300\n",
        "\n",
        "mean_f1 = []\n",
        "iter_range = range(100, N, interval)\n",
        "clf = MLPClassifier(max_iter=3000, solver='adam', hidden_layer_sizes=(50,20))\n",
        "\n",
        "for i in iter_range:\n",
        "  print('Num features: %i' %i)\n",
        "  sup, n_ftrs, rank, important_features = get_n_most_important(i, clf, X, Y)\n",
        "  X_sliced = X[important_features]\n",
        "  f1 = eval_and_print_metrics(clf, X_sliced, Y)\n",
        "  # mean_accuracies.append(acc)\n",
        "  mean_f1.append(f1)"
      ],
      "execution_count": 44,
      "outputs": [
        {
          "output_type": "stream",
          "text": [
            "Num features: 100\n"
          ],
          "name": "stdout"
        },
        {
          "output_type": "error",
          "ename": "RuntimeError",
          "evalue": "ignored",
          "traceback": [
            "\u001b[0;31m---------------------------------------------------------------------------\u001b[0m",
            "\u001b[0;31mRuntimeError\u001b[0m                              Traceback (most recent call last)",
            "\u001b[0;32m<ipython-input-44-c4f439bac47b>\u001b[0m in \u001b[0;36m<module>\u001b[0;34m()\u001b[0m\n\u001b[1;32m     10\u001b[0m \u001b[0;32mfor\u001b[0m \u001b[0mi\u001b[0m \u001b[0;32min\u001b[0m \u001b[0miter_range\u001b[0m\u001b[0;34m:\u001b[0m\u001b[0;34m\u001b[0m\u001b[0;34m\u001b[0m\u001b[0m\n\u001b[1;32m     11\u001b[0m   \u001b[0mprint\u001b[0m\u001b[0;34m(\u001b[0m\u001b[0;34m'Num features: %i'\u001b[0m \u001b[0;34m%\u001b[0m\u001b[0mi\u001b[0m\u001b[0;34m)\u001b[0m\u001b[0;34m\u001b[0m\u001b[0;34m\u001b[0m\u001b[0m\n\u001b[0;32m---> 12\u001b[0;31m   \u001b[0msup\u001b[0m\u001b[0;34m,\u001b[0m \u001b[0mn_ftrs\u001b[0m\u001b[0;34m,\u001b[0m \u001b[0mrank\u001b[0m\u001b[0;34m,\u001b[0m \u001b[0mimportant_features\u001b[0m \u001b[0;34m=\u001b[0m \u001b[0mget_n_most_important\u001b[0m\u001b[0;34m(\u001b[0m\u001b[0mi\u001b[0m\u001b[0;34m,\u001b[0m \u001b[0mclf\u001b[0m\u001b[0;34m,\u001b[0m \u001b[0mX\u001b[0m\u001b[0;34m,\u001b[0m \u001b[0mY\u001b[0m\u001b[0;34m)\u001b[0m\u001b[0;34m\u001b[0m\u001b[0;34m\u001b[0m\u001b[0m\n\u001b[0m\u001b[1;32m     13\u001b[0m   \u001b[0mX_sliced\u001b[0m \u001b[0;34m=\u001b[0m \u001b[0mX\u001b[0m\u001b[0;34m[\u001b[0m\u001b[0mimportant_features\u001b[0m\u001b[0;34m]\u001b[0m\u001b[0;34m\u001b[0m\u001b[0;34m\u001b[0m\u001b[0m\n\u001b[1;32m     14\u001b[0m   \u001b[0mf1\u001b[0m \u001b[0;34m=\u001b[0m \u001b[0meval_and_print_metrics\u001b[0m\u001b[0;34m(\u001b[0m\u001b[0mclf\u001b[0m\u001b[0;34m,\u001b[0m \u001b[0mX_sliced\u001b[0m\u001b[0;34m,\u001b[0m \u001b[0mY\u001b[0m\u001b[0;34m)\u001b[0m\u001b[0;34m\u001b[0m\u001b[0;34m\u001b[0m\u001b[0m\n",
            "\u001b[0;32m<ipython-input-43-a1c2cc1193ad>\u001b[0m in \u001b[0;36mget_n_most_important\u001b[0;34m(num_features, clf, X, Y)\u001b[0m\n\u001b[1;32m      5\u001b[0m   \u001b[0mmodel\u001b[0m \u001b[0;34m=\u001b[0m \u001b[0mclf\u001b[0m\u001b[0;34m\u001b[0m\u001b[0;34m\u001b[0m\u001b[0m\n\u001b[1;32m      6\u001b[0m   \u001b[0mrfe\u001b[0m \u001b[0;34m=\u001b[0m \u001b[0mRFECV\u001b[0m\u001b[0;34m(\u001b[0m\u001b[0mmodel\u001b[0m\u001b[0;34m,\u001b[0m \u001b[0mnum_features\u001b[0m\u001b[0;34m,\u001b[0m \u001b[0mverbose\u001b[0m\u001b[0;34m=\u001b[0m\u001b[0;36m0\u001b[0m\u001b[0;34m)\u001b[0m\u001b[0;34m\u001b[0m\u001b[0;34m\u001b[0m\u001b[0m\n\u001b[0;32m----> 7\u001b[0;31m   \u001b[0mfit\u001b[0m \u001b[0;34m=\u001b[0m \u001b[0mrfe\u001b[0m\u001b[0;34m.\u001b[0m\u001b[0mfit\u001b[0m\u001b[0;34m(\u001b[0m\u001b[0mX\u001b[0m\u001b[0;34m,\u001b[0m \u001b[0mY\u001b[0m\u001b[0;34m)\u001b[0m\u001b[0;34m\u001b[0m\u001b[0;34m\u001b[0m\u001b[0m\n\u001b[0m\u001b[1;32m      8\u001b[0m \u001b[0;34m\u001b[0m\u001b[0m\n\u001b[1;32m      9\u001b[0m   \u001b[0;31m# print(\"Num Features: %s\" % (fit.n_features_))\u001b[0m\u001b[0;34m\u001b[0m\u001b[0;34m\u001b[0m\u001b[0;34m\u001b[0m\u001b[0m\n",
            "\u001b[0;32m/usr/local/lib/python3.7/dist-packages/sklearn/feature_selection/_rfe.py\u001b[0m in \u001b[0;36mfit\u001b[0;34m(self, X, y, groups)\u001b[0m\n\u001b[1;32m    531\u001b[0m         scores = parallel(\n\u001b[1;32m    532\u001b[0m             \u001b[0mfunc\u001b[0m\u001b[0;34m(\u001b[0m\u001b[0mrfe\u001b[0m\u001b[0;34m,\u001b[0m \u001b[0mself\u001b[0m\u001b[0;34m.\u001b[0m\u001b[0mestimator\u001b[0m\u001b[0;34m,\u001b[0m \u001b[0mX\u001b[0m\u001b[0;34m,\u001b[0m \u001b[0my\u001b[0m\u001b[0;34m,\u001b[0m \u001b[0mtrain\u001b[0m\u001b[0;34m,\u001b[0m \u001b[0mtest\u001b[0m\u001b[0;34m,\u001b[0m \u001b[0mscorer\u001b[0m\u001b[0;34m)\u001b[0m\u001b[0;34m\u001b[0m\u001b[0;34m\u001b[0m\u001b[0m\n\u001b[0;32m--> 533\u001b[0;31m             for train, test in cv.split(X, y, groups))\n\u001b[0m\u001b[1;32m    534\u001b[0m \u001b[0;34m\u001b[0m\u001b[0m\n\u001b[1;32m    535\u001b[0m         \u001b[0mscores\u001b[0m \u001b[0;34m=\u001b[0m \u001b[0mnp\u001b[0m\u001b[0;34m.\u001b[0m\u001b[0msum\u001b[0m\u001b[0;34m(\u001b[0m\u001b[0mscores\u001b[0m\u001b[0;34m,\u001b[0m \u001b[0maxis\u001b[0m\u001b[0;34m=\u001b[0m\u001b[0;36m0\u001b[0m\u001b[0;34m)\u001b[0m\u001b[0;34m\u001b[0m\u001b[0;34m\u001b[0m\u001b[0m\n",
            "\u001b[0;32m/usr/local/lib/python3.7/dist-packages/sklearn/feature_selection/_rfe.py\u001b[0m in \u001b[0;36m<genexpr>\u001b[0;34m(.0)\u001b[0m\n\u001b[1;32m    531\u001b[0m         scores = parallel(\n\u001b[1;32m    532\u001b[0m             \u001b[0mfunc\u001b[0m\u001b[0;34m(\u001b[0m\u001b[0mrfe\u001b[0m\u001b[0;34m,\u001b[0m \u001b[0mself\u001b[0m\u001b[0;34m.\u001b[0m\u001b[0mestimator\u001b[0m\u001b[0;34m,\u001b[0m \u001b[0mX\u001b[0m\u001b[0;34m,\u001b[0m \u001b[0my\u001b[0m\u001b[0;34m,\u001b[0m \u001b[0mtrain\u001b[0m\u001b[0;34m,\u001b[0m \u001b[0mtest\u001b[0m\u001b[0;34m,\u001b[0m \u001b[0mscorer\u001b[0m\u001b[0;34m)\u001b[0m\u001b[0;34m\u001b[0m\u001b[0;34m\u001b[0m\u001b[0m\n\u001b[0;32m--> 533\u001b[0;31m             for train, test in cv.split(X, y, groups))\n\u001b[0m\u001b[1;32m    534\u001b[0m \u001b[0;34m\u001b[0m\u001b[0m\n\u001b[1;32m    535\u001b[0m         \u001b[0mscores\u001b[0m \u001b[0;34m=\u001b[0m \u001b[0mnp\u001b[0m\u001b[0;34m.\u001b[0m\u001b[0msum\u001b[0m\u001b[0;34m(\u001b[0m\u001b[0mscores\u001b[0m\u001b[0;34m,\u001b[0m \u001b[0maxis\u001b[0m\u001b[0;34m=\u001b[0m\u001b[0;36m0\u001b[0m\u001b[0;34m)\u001b[0m\u001b[0;34m\u001b[0m\u001b[0;34m\u001b[0m\u001b[0m\n",
            "\u001b[0;32m/usr/local/lib/python3.7/dist-packages/sklearn/feature_selection/_rfe.py\u001b[0m in \u001b[0;36m_rfe_single_fit\u001b[0;34m(rfe, estimator, X, y, train, test, scorer)\u001b[0m\n\u001b[1;32m     31\u001b[0m     \u001b[0mX_test\u001b[0m\u001b[0;34m,\u001b[0m \u001b[0my_test\u001b[0m \u001b[0;34m=\u001b[0m \u001b[0m_safe_split\u001b[0m\u001b[0;34m(\u001b[0m\u001b[0mestimator\u001b[0m\u001b[0;34m,\u001b[0m \u001b[0mX\u001b[0m\u001b[0;34m,\u001b[0m \u001b[0my\u001b[0m\u001b[0;34m,\u001b[0m \u001b[0mtest\u001b[0m\u001b[0;34m,\u001b[0m \u001b[0mtrain\u001b[0m\u001b[0;34m)\u001b[0m\u001b[0;34m\u001b[0m\u001b[0;34m\u001b[0m\u001b[0m\n\u001b[1;32m     32\u001b[0m     return rfe._fit(\n\u001b[0;32m---> 33\u001b[0;31m         \u001b[0mX_train\u001b[0m\u001b[0;34m,\u001b[0m \u001b[0my_train\u001b[0m\u001b[0;34m,\u001b[0m \u001b[0;32mlambda\u001b[0m \u001b[0mestimator\u001b[0m\u001b[0;34m,\u001b[0m \u001b[0mfeatures\u001b[0m\u001b[0;34m:\u001b[0m\u001b[0;34m\u001b[0m\u001b[0;34m\u001b[0m\u001b[0m\n\u001b[0m\u001b[1;32m     34\u001b[0m         _score(estimator, X_test[:, features], y_test, scorer)).scores_\n\u001b[1;32m     35\u001b[0m \u001b[0;34m\u001b[0m\u001b[0m\n",
            "\u001b[0;32m/usr/local/lib/python3.7/dist-packages/sklearn/feature_selection/_rfe.py\u001b[0m in \u001b[0;36m_fit\u001b[0;34m(self, X, y, step_score)\u001b[0m\n\u001b[1;32m    196\u001b[0m                 \u001b[0mcoefs\u001b[0m \u001b[0;34m=\u001b[0m \u001b[0mgetattr\u001b[0m\u001b[0;34m(\u001b[0m\u001b[0mestimator\u001b[0m\u001b[0;34m,\u001b[0m \u001b[0;34m'feature_importances_'\u001b[0m\u001b[0;34m,\u001b[0m \u001b[0;32mNone\u001b[0m\u001b[0;34m)\u001b[0m\u001b[0;34m\u001b[0m\u001b[0;34m\u001b[0m\u001b[0m\n\u001b[1;32m    197\u001b[0m             \u001b[0;32mif\u001b[0m \u001b[0mcoefs\u001b[0m \u001b[0;32mis\u001b[0m \u001b[0;32mNone\u001b[0m\u001b[0;34m:\u001b[0m\u001b[0;34m\u001b[0m\u001b[0;34m\u001b[0m\u001b[0m\n\u001b[0;32m--> 198\u001b[0;31m                 raise RuntimeError('The classifier does not expose '\n\u001b[0m\u001b[1;32m    199\u001b[0m                                    \u001b[0;34m'\"coef_\" or \"feature_importances_\" '\u001b[0m\u001b[0;34m\u001b[0m\u001b[0;34m\u001b[0m\u001b[0m\n\u001b[1;32m    200\u001b[0m                                    'attributes')\n",
            "\u001b[0;31mRuntimeError\u001b[0m: The classifier does not expose \"coef_\" or \"feature_importances_\" attributes"
          ]
        }
      ]
    },
    {
      "cell_type": "code",
      "metadata": {
        "colab": {
          "base_uri": "https://localhost:8080/",
          "height": 266
        },
        "id": "GwU3rJSsP-lt",
        "outputId": "09012fe7-657b-4932-e747-6c89627af9ff"
      },
      "source": [
        "plt.figure()\n",
        "plt.plot(iter_range,mean_f1, label='F1 change by number of features in MLP(50,20) model')\n",
        "plt.show()"
      ],
      "execution_count": 41,
      "outputs": [
        {
          "output_type": "display_data",
          "data": {
            "image/png": "[encoded data removed]",
            "text/plain": [
              "<Figure size 432x288 with 1 Axes>"
            ]
          },
          "metadata": {
            "tags": [],
            "needs_background": "light"
          }
        }
      ]
    },
    {
      "cell_type": "code",
      "metadata": {
        "id": "odaNon3Dvla8"
      },
      "source": [
        "sup, n_ftrs, rank, important_features = get_n_most_important(1000, vaccination_X, Y)"
      ],
      "execution_count": 50,
      "outputs": []
    },
    {
      "cell_type": "code",
      "metadata": {
        "colab": {
          "base_uri": "https://localhost:8080/"
        },
        "id": "D1Cq79IwQ8ka",
        "outputId": "435519a1-5b22-4f29-fd7f-b9928e00d031"
      },
      "source": [
        "print(important_features)"
      ],
      "execution_count": 47,
      "outputs": [
        {
          "output_type": "stream",
          "text": [
            "['WC', 'Analytic', 'Clout', 'Authentic', 'WPS', 'Sixltr', 'Dic', 'function', 'pronoun', 'ppron', 'i', 'we', 'you', 'shehe', 'they', 'ipron', 'article', 'prep', 'auxverb', 'adverb', 'conj', 'negate', 'verb', 'adj', 'compare', 'interrog', 'number', 'quant', 'affect', 'posemo', 'negemo', 'anx', 'anger', 'sad', 'social', 'family', 'friend', 'female', 'male', 'cogproc', 'insight', 'cause', 'discrep', 'tentat', 'certain', 'differ', 'percept', 'see', 'hear', 'feel', 'bio', 'body', 'health', 'sexual', 'ingest', 'drives', 'achieve', 'power', 'reward', 'risk', 'focuspast', 'focuspresent', 'focusfuture', 'relativ', 'motion', 'space', 'time', 'work', 'leisure', 'home', 'money', 'relig', 'death', 'informal', 'swear', 'netspeak', 'assent', 'nonflu', 'filler', 'AllPunc', 'Period', 'Comma', 'Colon', 'SemiC', 'QMark', 'Dash', 'Quote', 'Apostro', 'Parenth', 'OtherP', 'DATE', 'ORG', 'GPE', 'CARDINAL', 'PERCENT', 'ORDINAL', 'PERSON', 'NORP', 'MONEY', 'WORK_OF_ART', 'FAC', 'PRODUCT', 'LAW', 'LOC', 'EVENT', 'QUANTITY', 'TIME', 'aabi', 'abil', 'abnorm', 'abort', 'about', 'abroad', 'abstract', 'academi', 'acceler', 'accept', 'accord', 'accordingli', 'account', 'accumul', 'achiev', 'acid', 'act', 'action', 'activ', 'actual', 'ad', 'add', 'addit', 'address', 'adhd', 'adjust', 'adjuv', 'administr', 'adult', 'advers', 'advisori', 'advocaci', 'aefi', 'affect', 'affirm', 'afford', 'afghanistan', 'african', 'ag', 'against', 'age', 'ago', 'agre', 'agreement', 'ahead', 'aid', 'ailment', 'al', 'alarmingli', 'alcohol', 'all', 'allerg', 'allergic', 'allow', 'along', 'alreadi', 'also', 'altern', 'although', 'aluminum', 'alway', 'american', 'amino', 'amish', 'among', 'amongst', 'amount', 'amput', 'analys', 'analysi', 'analyz', 'and', 'andrew', 'ani', 'anim', 'annual', 'anoth', 'anti', 'antibiot', 'antigen', 'antisci', 'antivaccin', 'anybodi', 'anyon', 'anyth', 'appar', 'appear', 'appli', 'approach', 'appropri', 'are', 'area', 'aren', 'argu', 'argument', 'arm', 'articl', 'as', 'ascertain', 'asd', 'ask', 'associ', 'asthma', 'astound', 'at', 'attach', 'attack', 'attempt', 'attend', 'attent', 'attenu', 'attribut', 'author', 'autism', 'autist', 'auto', 'autoimmun', 'avail', 'averag', 'awar', 'award', 'away', 'babi', 'back', 'background', 'bacteri', 'bacteria', 'ban', 'bandim', 'barbara', 'barr', 'barré', 'base', 'basic', 'battl', 'bcg', 'be', 'becam', 'becaus', 'been', 'befor', 'beg', 'began', 'begin', 'begun', 'behalf', 'behavior', 'behind', 'believ', 'below', 'best', 'better', 'between', 'beyond', 'bhp', 'bias', 'biggest', 'biken', 'bill', 'billion', 'biolog', 'birth', 'birthdat', 'birthweight', 'bissau', 'black', 'blame', 'blatant', 'blind', 'blister', 'blockag', 'bloomberg', 'bodi', 'body', 'boil', 'bombard', 'bone', 'boost', 'booster', 'bore', 'born', 'bowel', 'boy', 'brain', 'branch', 'brand', 'break', 'breastf', 'brian', 'brief', 'british', 'broad', 'broader', 'broken', 'brought', 'burdensom', 'busi', 'by', 'ca', 'calcul', 'california', 'call', 'came', 'can', 'canada', 'canal', 'cancer', 'candid', 'capac', 'car', 'cardiac', 'caregiv', 'cascad', 'case', 'cases', 'cataract', 'catch', 'categori', 'caus', 'causat', 'cautiou', 'cb', 'cdc', 'celebr', 'cell', 'cellular', 'center', 'certain', 'certainli', 'certif', 'character', 'charg', 'chemistri', 'chi', 'chickenpox', 'child', 'childhood', 'children', 'choic', 'choice', 'chopra', 'chosen', 'chri', 'christi', 'chronic', 'ci', 'cite', 'citi', 'claim', 'class', 'classen', 'clear', 'clergi', 'cleveland', 'clinic', 'close', 'co', 'coercion', 'cognit', 'cohort', 'colleagu', 'colon', 'com', 'combin', 'come', 'comfort', 'comment', 'commiss', 'commit', 'committe', 'commonli', 'commun', 'comorbid', 'compani', 'compens', 'complet', 'complex', 'compli', 'complic', 'components', 'comprehend', 'concentr', 'concern', 'conclus', 'concurr', 'condemn', 'condi', 'condition', 'conduct', 'confer', 'confin', 'confirm', 'conflict', 'congress', 'congression', 'congressman', 'consent', 'consequ', 'conserv', 'consid', 'considered', 'constantli', 'constitu', 'constitut', 'consult', 'contain', 'context', 'continu', 'contract', 'contraind', 'contrast', 'contribut', 'control', 'convuls', 'copay', 'copi', 'copyright', 'cord', 'core', 'corpor', 'correl', 'corrobor', 'corrupt', 'cost', 'could', 'council', 'counter', 'countless', 'countri', 'country', 'court', 'coverag', 'cowpox', 'crack', 'crawl', 'creat', 'credibl', 'credit', 'crib', 'crippl', 'critic', 'cross', 'crowd', 'cruis', 'cue', 'curious', 'current', 'cut', 'dahl', 'daili', 'daniel', 'danish', 'daraprim', 'data', 'datalink', 'dataset', 'day', 'dc', 'de', 'dead', 'deadli', 'deadliest', 'deal', 'dean', 'debilit', 'debunk', 'decad', 'decay', 'decid', 'declar', 'declin', 'deep', 'defenc', 'defens', 'deficit', 'defin', 'degen', 'degre', 'dehydr', 'deidentifi', 'deisher', 'delay', 'demograph', 'demonstr', 'deni', 'denmark', 'depart', 'depend', 'deputi', 'describ', 'deserv', 'design', 'despit', 'destefano', 'detail', 'detect', 'determin', 'deth', 'devast', 'development', 'deviat', 'di', 'diagnost', 'dialysi', 'diarrhea', 'dichotom', 'did', 'die', 'differ', 'digest', 'dipeptid', 'diphtheria', 'dis', 'disagre', 'disappear', 'disast', 'discov', 'discredit', 'discret', 'discuss', 'disdain', 'diseas', 'disease', 'disneyland', 'disord', 'display', 'disproven', 'disrupt', 'distressingli', 'distrust', 'disturb', 'divis', 'do', 'docu', 'document', 'doe', 'doesn', 'dollar', 'don', 'done', 'door', 'dopamin', 'dosag', 'down', 'downplay', 'dozen', 'dr', 'dramat', 'dream', 'drink', 'driven', 'drolet', 'drop', 'drug', 'drugmak', 'dtap', 'dtp', 'dtwp', 'duplic', 'dure', 'dust', 'each', 'earli', 'earth', 'eas', 'easi', 'easili', 'eat', 'ebiomedicin', 'eczema', 'edit', 'educ', 'edward', 'effect', 'effective', 'efficaci', 'effici', 'elect', 'electr', 'elimin', 'els', 'emerg', 'emot', 'empir', 'employ', 'enabl', 'encount', 'encourag', 'endang', 'energi', 'ensur', 'enter', 'entir', 'entiti', 'entitl', 'entrust', 'environ', 'environment', 'epidem', 'epidemiolog', 'epipen', 'epoch', 'epstein', 'epub', 'erad', 'erod', 'error', 'especi', 'essenti', 'establish', 'estim', 'et', 'ethanol', 'ethyl', 'europ', 'european', 'evalu', 'even', 'event', 'eventu', 'everi', 'everybodi', 'everyon', 'everyth', 'evid', 'evidenc', 'exact', 'exampl', 'exasper', 'exceed', 'excel', 'excerpt', 'excitotox', 'exclud', 'exclus', 'excret', 'exempt', 'exercis', 'exist', 'exoner', 'expans', 'expect', 'experi', 'experienc', 'experiment', 'expert', 'explain', 'explor', 'expos', 'exposur', 'express', 'extrem', 'facad', 'face', 'fact', 'factor', 'factors', 'fail', 'famili', 'father', 'fatti', 'fault', 'fda', 'fear', 'febril', 'februari', 'feder', 'feel', 'ferpa', 'fetal', 'fetu', 'few', 'fewer', 'fight', 'file', 'final', 'financi', 'fine', 'finland', 'finnish', 'firm', 'first', 'fisher', 'fit', 'five', 'flaw', 'flexibil', 'flip', 'flu', 'focu', 'focus', 'folate', 'for', 'forgo', 'form', 'formaldehyd', 'fortun', 'found', 'four', 'fragment', 'franc', 'fraud', 'fraudulent', 'fre', 'free', 'frequenc', 'frequent', 'frighteningli', 'from', 'fruit', 'fuel', 'function', 'fund', 'further', 'gain', 'gallagh', 'gangren', 'gastrointestin', 'gather', 'gender', 'gene', 'gener', 'genet', 'geograph', 'georgia', 'germ', 'get', 'given', 'glucos', 'gmail', 'go', 'good', 'got', 'gov', 'govern', 'governor', 'gram', 'grandfath', 'grant', 'grase', 'grate', 'greater', 'greatest', 'gross', 'ground', 'groundbreak', 'group', 'grow', 'guid', 'guidelin', 'guillain', 'guilti', 'guinea', 'ha', 'habit', 'had', 'half', 'hand', 'handl', 'handsom', 'harbor', 'harder', 'harm', 'harvard', 'hasn', 'hassl', 'have', 'hazard', 'hbv', 'he', 'head', 'heali', 'health', 'healthchildren', 'healthi', 'healthlin', 'hear', 'heard', 'heart', 'heat', 'heavili', 'held', 'hemispher', 'henri', 'hep', 'hepat', 'her', 'herd', 'here', 'herein', 'hesitated', 'hg', 'hh', 'hhs', 'hi', 'hib', 'high', 'higher', 'highest', 'highlight', 'hike', 'hipaa', 'histori', 'history', 'home', 'homeopath', 'hooker', 'hope', 'hormon', 'hospit', 'howev', 'hub', 'human', 'hydrat', 'hygien', 'hypothes', 'hypothet', 'iddm', 'if', 'igf', 'ii', 'iii', 'illness', 'illustr', 'imag', 'immedi', 'immun', 'immuniza', 'immunizations', 'immunocompromis', 'immunodefici', 'immunoglobulin', 'immunolog', 'impact', 'impedi', 'implic', 'implicit', 'import', 'imposs', 'improv', 'in', 'inact', 'inactiv', 'inadequ', 'incept', 'incid', 'includ', 'incomplet', 'increas', 'increasingli', 'inde', 'independ', 'indic', 'indication', 'individu', 'induc', 'industri', 'infant', 'infect', 'infecti', 'inflamm', 'inflammatori', 'influenc', 'influenza', 'inform', 'ingest', 'ingredi', 'inhal', 'inher', 'inherit', 'initi', 'inject', 'injur', 'inocul', 'inorgan', 'insati', 'insert', 'insight', 'insignific', 'inspect', 'instanc', 'instead', 'institut', 'insuffici', 'insulin', 'intend', 'intens', 'intent', 'interact', 'interest', 'interfer', 'interferon', 'intervent', 'interview', 'intestin', 'into', 'intric', 'introduc', 'introduct', 'intussuscept', 'investig', 'involv', 'inﬂuenza', 'iom', 'ipv', 'ireland', 'iron', 'is', 'islet', 'isn', 'isol', 'issu', 'issues', 'it', 'iv', 'jab', 'japan', 'jenner', 'jenni', 'jersey', 'jg', 'jhu', 'journal', 'jp', 'jr', 'judg', 'judgment', 'juli', 'just', 'justif', 'ka', 'kathryn', 'kennedi', 'kentucki', 'kid', 'kidney', 'kill', 'kind', 'kingdom', 'know', 'knowledg', 'known', 'lab', 'label', 'laboratori', 'lack', 'lancet', 'landri', 'languag', 'laps', 'larg', 'large', 'larger', 'largest', 'last', 'late', 'later', 'latter', 'launch', 'law', 'lawmak', 'lbw', 'lead', 'leap', 'learn', 'least', 'leav', 'led', 'left', 'legisl', 'leifer', 'less', 'let', 'leukemia', 'level', 'li', 'liabil', 'licens', 'licensur', 'lifelong', 'lifesav', 'lik', 'like', 'likelihood', 'likewis', 'limit', 'line', 'link', 'lipopolysacchrid', 'list', 'literatur', 'littl', 'live', 'liver', 'll', 'loe', 'logist', 'longer', 'longstand', 'look', 'lost', 'lot', 'loudli', 'lower', 'lump', 'lung', 'lupu', 'lymphocyt', 'machin', 'maddsp', 'made', 'mainstream', 'major', 'make', 'maker', 'maladi', 'male', 'malfunct', 'malpractic', 'mammalian', 'mandatori', 'mani', 'manufactur', 'manufacture', 'market', 'marrow', 'mass', 'match', 'matter', 'maxim', 'may', 'mccarthi', 'mcg', 'md', 'mean', 'meant', 'meantim', 'measl', 'measur', 'media', 'medic', 'medicin', 'medicine', 'meet', 'mellitu', 'member', 'memori', 'meningococc', 'mention', 'merck', 'mercuri', 'mercury', 'mere', 'met', 'metabol', 'method', 'methodolog', 'methyl', 'metropolitan', 'mice', 'microglia', 'might', 'mild', 'minim', 'misjudg', 'misl', 'miss', 'mission', 'mistrust', 'mix', 'mmr', 'model', 'modul', 'mogensen', 'momentari', 'monitor', 'month', 'mood', 'more', 'mortal', 'most', 'mostli', 'mother', 'move', 'movement', 'much', 'multipl', 'multitud', 'mump', 'mumps', 'must', 'mutat', 'my', 'myelin', 'mylan', 'mysteri', 'myth', 'nafl', 'name', 'nation', 'natur', 'nearli', 'necessarili', 'need', 'needl', 'neg', 'neglig', 'neighbor', 'nerv', 'neurodegener', 'neurolog', 'neuron', 'neurotoxin', 'neurotransmitt', 'never', 'nevertheless', 'newer', 'news', 'nigeria', 'nil', 'no', 'nobodi', 'non', 'none', 'nonprofit', 'nonsens', 'normal', 'nose', 'note', 'noteworthi', 'noth', 'now', 'null', 'number', 'numer', 'nutrit', 'object', 'observ', 'obtain', 'occasion', 'occur', 'of', 'off', 'offer', 'offic', 'offit', 'often', 'ohio', 'oil', 'on', 'one', 'oneself', 'onli', 'ophthalmologist', 'opinion', 'oppon', 'oppos', 'opposit', 'opt', 'optim', 'opv', 'or', 'oral', 'order', 'organ', 'origin', 'osteoblast', 'other', 'others', 'our', 'out', 'outbreak', 'outcom', 'outlin', 'outnumb', 'outrag', 'outright', 'outsid', 'outweigh', 'over', 'overal', 'overgrowth', 'overload', 'own', 'packag', 'page', 'paid', 'pain', 'pakistan', 'pancrea', 'pandora', 'paper', 'paradox', 'paralysi', 'paralyz', 'parent', 'part', 'particip', 'particular', 'particularli', 'partli', 'past', 'patent', 'pathway', 'patient', 'patients', 'patrick', 'pattern', 'paul', 'pdf', 'pearson', 'pediatr', 'pediatrician', 'peer', 'peopl', 'per', 'percent', 'percentag', 'perform', 'period', 'permiss', 'persist', 'person', 'perspect', 'pertussi', 'pertusussi', 'pervas', 'pesticid', 'pharmaceut', 'phase', 'phd', 'philadelphia', 'philosoph', 'physiolog', 'pierc', 'pin', 'pinch', 'plan', 'play', 'playmat', 'plea', 'pleas', 'plu', 'plummet', 'pneumococc', 'point', 'poland', 'polio', 'polioviru', 'polit', 'politician', 'polysaccharid', 'poor', 'pop', 'popul', 'population', 'populationsar', 'portabl', 'pose', 'posey', 'possess', 'possibl', 'possible', 'power', 'practition', 'precaut', 'precipit', 'precis', 'predisposit', 'prefer', 'pregnanc', 'pregnant', 'prematur', 'prenat', 'prescript', 'present', 'preservative', 'presid', 'president', 'press', 'previous', 'price', 'pricey', 'primari', 'primat', 'print', 'prior', 'prioriti', 'privaci', 'probabl', 'problem', 'procedur', 'process', 'produc', 'product', 'profession', 'profil', 'profit', 'profound', 'program', 'prohibit', 'project', 'promis', 'promot', 'properli', 'propon', 'proport', 'propos', 'prosoci', 'protect', 'protein', 'provid', 'public', 'pump', 'pundit', 'purchas', 'pure', 'purif', 'purport', 'put', 'qualiti', 'quantiti', 'quebec', 'question', 'quick', 'quickli', 'quot', 'rabi', 'race', 'rain', 'rainstorm', 'rais', 'rand', 'random', 'rare', 'rather', 'ratio', 're', 'reach', 'reaction', 'read', 'real', 'realiz', 'realli', 'reanalyz', 'reason', 'reassur', 'receiv', 'recent', 'receptor', 'recipi', 'recogn', 'recombin', 'recommend', 'recommends', 'recomplet', 'record', 'red', 'reduc', 'reflect', 'reformul', 'refriger', 'refus', 'refut', 'regardless', 'registr', 'regress', 'regul', 'regular', 'regularli', 'regulators', 'rehash', 'reimmunized', 'reinforc', 'relationship', 'relev', 'reli', 'religi', 'religion', 'rememb', 'remov', 'rep', 'repetit', 'replac', 'replenish', 'report', 'repres', 'reprint', 'reput', 'request', 'requir', 'rescu', 'research', 'resembl', 'residu', 'resist', 'reson', 'respect', 'respected', 'respectively', 'respons', 'rest', 'restrict', 'result', 'resurg', 'retain', 'retract', 'revaccin', 'review', 'revolv', 'rhiniti', 'ridicul', 'right', 'rise', 'risen', 'risk', 'roald', 'robert', 'robust', 'rodent', 'role', 'room', 'rose', 'rotarix', 'rotateq', 'rotaviru', 'routin', 'rr', 'rule', 'run', 'rush', 'safe', 'safer', 'safest', 'safeti', 'safety', 'sage', 'said', 'sale', 'salmon', 'same', 'sampl', 'sanit', 'sanitari', 'sarr', 'sas', 'say', 'scal', 'scan', 'scari', 'sched', 'schedul', 'schedule', 'school', 'scienc', 'scientif', 'scientist', 'sclerosi', 'scrutin', 'se', 'seasonal', 'seat', 'second', 'section', 'see', 'seed', 'seek', 'seem', 'seen', 'seizur', 'sell', 'senat', 'senior', 'sensit', 'sensori', 'separ', 'sepsi', 'septemb', 'seri', 'seriou', 'serious', 'serotonerg', 'serotonin', 'serr', 'set', 'settl', 'seven', 'seventh', 'sever', 'share', 'she', 'shear', 'shed', 'shingl', 'ship', 'shiv', 'shortag', 'shot', 'should', 'show', 'shut', 'sibl', 'sick', 'sid', 'side', 'signal', 'signific', 'significantli', 'silenc', 'similar', 'similarli', 'simpl', 'simpli', 'simpson', 'simultan', 'singl', 'site', 'six', 'sixty', 'size', 'skeptic', 'skew', 'skin', 'skyrocket', 'small', 'smallpox', 'smoke', 'so', 'social', 'socioeconom', 'softwar', 'sole', 'solid', 'solut', 'some', 'someon', 'sometim', 'somewher', 'son', 'sophi', 'sore', 'soren', 'sourc', 'sow', 'space', 'spark', 'speak', 'special', 'specialist', 'specialti', 'specif', 'specifi', 'specul', 'sponsor', 'spontan', 'spot', 'spread', 'squar', 'st', 'stand', 'stanford', 'start', 'statement', 'statist', 'statu', 'stay', 'steadi', 'steadili', 'stem', 'steril', 'still', 'stimul', 'stop', 'stori', 'strain', 'strateg', 'stratifi', 'stream', 'strength', 'strict', 'stroke', 'stroller', 'student', 'stun', 'subject', 'subsequ', 'substanc', 'substitut', 'success', 'such', 'sudden', 'suffer', 'suffici', 'sugar', 'suggest', 'suit', 'super', 'supplement', 'suppli', 'support', 'suppos', 'sure', 'surfac', 'surg', 'surgeon', 'surpris', 'surveil', 'survey', 'suscept', 'susceptibilitiesshould', 'sway', 'swedish', 'swell', 'switzerland', 'swollen', 'synapt', 'syndrom', 'syracus', 'system', 'systemat', 'tabl', 'take', 'taken', 'talk', 'target', 'task', 'tax', 'team', 'techniqu', 'temper', 'ten', 'tend', 'tender', 'terrif', 'test', 'tetanu', 'tetanus', 'th', 'that', 'the', 'their', 'them', 'themselv', 'theoret', 'theori', 'therefor', 'theresa', 'these', 'thi', 'thigh', 'thimeros', 'thimerosal', 'thing', 'third', 'thompson', 'thorough', 'thos', 'though', 'thought', 'thousand', 'threat', 'threaten', 'throat', 'thu', 'time', 'tissu', 'titer', 'to', 'tobacco', 'togeth', 'told', 'toll', 'too', 'took', 'tooth', 'top', 'toss', 'toth', 'toxoid', 'trace', 'track', 'tract', 'tragedi', 'transform', 'translat', 'transmit', 'transplant', 'trap', 'treatment', 'tremend', 'tri', 'trial', 'trillion', 'trimest', 'tripeptid', 'true', 'truli', 'trump', 'trust', 'tuesday', 'tun', 'ture', 'turn', 'tv', 'twenti', 'twin', 'two', 'typ', 'type', 'typhoid', 'typic', 'ul', 'ulcer', 'unauthor', 'uncheck', 'uncontrol', 'under', 'underestim', 'underli', 'understand', 'understood', 'undisclos', 'unfortun', 'unicef', 'unimmun', 'uniqu', 'unit', 'univers', 'unknown', 'unlik', 'unrel', 'unten', 'untreat', 'unvaccin', 'unwant', 'updat', 'upi', 'upset', 'uptak', 'urg', 'urin', 'use', 'usual', 'util', 'vacat', 'vaccin', 'vaccine', 'vaccinosi', 'vaer', 'vaers', 'valid', 'valu', 'vanderbilt', 'varicella', 'varieti', 'variou', 'vastli', 'vaxx', 've', 'veri', 'version', 'vial', 'vials', 'victim', 'video', 'view', 'violat', 'viral', 'virologist', 'virtual', 'viru', 'virus', 'visit', 'vitamin', 'vitoulka', 'vivo', 'vs', 'vsd', 'vulner', 'wa', 'wakefield', 'want', 'warrant', 'was', 'wash', 'washington', 'watch', 'water', 'wave', 'waxman', 'way', 'weak', 'weaken', 'weaker', 'weakest', 'web', 'week', 'weigh', 'weight', 'well', 'wengel', 'went', 'were', 'western', 'whatev', 'wherein', 'whether', 'whi', 'which', 'whistleblow', 'whit', 'white', 'who', 'whole', 'whom', 'whose', 'widespread', 'wild', 'william', 'wipe', 'with', 'without', 'wo', 'women', 'word', 'work', 'worker', 'worldmercuryproject', 'worldwid', 'worm', 'worth', 'would', 'wouldn', 'write', 'written', 'wrong', 'www', 'year', 'yet', 'yield', 'young', 'younger', 'your', 'youth', 'zafack', 'polarity', 'subjectivity']\n"
          ],
          "name": "stdout"
        }
      ]
    },
    {
      "cell_type": "markdown",
      "metadata": {
        "id": "wmM9m_NIa10Z"
      },
      "source": [
        "# ROC of model build upon the most important features"
      ]
    },
    {
      "cell_type": "markdown",
      "metadata": {
        "id": "VzXr_jYc6u_S"
      },
      "source": [
        "### vaccines"
      ]
    },
    {
      "cell_type": "code",
      "metadata": {
        "colab": {
          "base_uri": "https://localhost:8080/",
          "height": 483
        },
        "id": "wKL2rUrMa7xJ",
        "outputId": "2bd58b5c-aa1b-4c31-d0d3-4e764f84d751"
      },
      "source": [
        "# clf = MLPClassifier(max_iter=3000, solver='adam', hidden_layer_sizes=(50,20))\n",
        "clf = LogisticRegression(class_weight='balanced', max_iter=10000)\n",
        "sup, n_ftrs, rank, important_features = fit_clf_and_show_ROC(clf, vaccination_X, vaccination_Y, category='vaccination', VALIDATION_SPLIT=0.2)"
      ],
      "execution_count": 63,
      "outputs": [
        {
          "output_type": "display_data",
          "data": {
            "image/png": "[encoded data removed]",
            "text/plain": [
              "<Figure size 432x288 with 1 Axes>"
            ]
          },
          "metadata": {
            "tags": [],
            "needs_background": "light"
          }
        },
        {
          "output_type": "stream",
          "text": [
            "              precision    recall  f1-score   support\n",
            "\n",
            "           0       0.76      0.71      0.74        45\n",
            "           1       0.76      0.81      0.79        52\n",
            "\n",
            "    accuracy                           0.76        97\n",
            "   macro avg       0.76      0.76      0.76        97\n",
            "weighted avg       0.76      0.76      0.76        97\n",
            "\n",
            "['Sixltr', 'pronoun', 'ppron', 'i', 'shehe', 'ipron', 'auxverb', 'adverb', 'conj', 'verb', 'adj', 'compare', 'interrog', 'anx', 'sad', 'social', 'family', 'friend', 'male', 'differ', 'percept', 'see', 'bio', 'body', 'health', 'sexual', 'ingest', 'drives', 'affiliation', 'achieve', 'power', 'reward', 'risk', 'focusfuture', 'leisure', 'home', 'money', 'relig', 'death', 'informal', 'swear', 'netspeak', 'assent', 'nonflu', 'filler', 'Comma', 'Colon', 'SemiC', 'QMark', 'Dash', 'Parenth', 'OtherP', 'ORG', 'GPE', 'CARDINAL', 'PERCENT', 'ORDINAL', 'PERSON', 'NORP', 'MONEY', 'WORK_OF_ART', 'FAC', 'PRODUCT', 'LAW', 'LOC', 'QUANTITY', 'TIME', 'abnorm', 'abort', 'about', 'abstract', 'academi', 'accept', 'accord', 'account', 'achiev', 'act', 'activ', 'actual', 'add', 'adhd', 'administr', 'adult', 'advers', 'advisori', 'afghanistan', 'against', 'age', 'agenc', 'ago', 'agre', 'ahead', 'al', 'all', 'allerg', 'allergic', 'allow', 'alreadi', 'american', 'amount', 'amput', 'an', 'analys', 'analysi', 'and', 'anti', 'antibiot', 'antigen', 'anybodi', 'anyon', 'appli', 'are', 'aren', 'argument', 'articl', 'as', 'asd', 'ask', 'associ', 'astound', 'at', 'attempt', 'attent', 'attenu', 'author', 'autism', 'autoimmun', 'avail', 'averag', 'away', 'babi', 'back', 'bacteri', 'bacteria', 'barr', 'base', 'bcg', 'be', 'becam', 'been', 'befor', 'begin', 'best', 'between', 'beyond', 'bhp', 'bias', 'biggest', 'billion', 'birth', 'birthweight', 'bissau', 'blind', 'bloomberg', 'bodi', 'body', 'booster', 'born', 'bowel', 'brain', 'breastf', 'broad', 'broader', 'brought', 'busi', 'by', 'ca', 'california', 'call', 'can', 'canada', 'car', 'case', 'catch', 'categori', 'caus', 'causat', 'cb', 'cdc', 'cell', 'center', 'certain', 'certif', 'character', 'child', 'choic', 'chosen', 'chronic', 'cite', 'claim', 'class', 'clear', 'clinic', 'co', 'cohort', 'colon', 'combin', 'come', 'commiss', 'committe', 'commun', 'compens', 'complex', 'concentr', 'concern', 'condition', 'confer', 'confirm', 'conflict', 'consequ', 'consid', 'consult', 'contain', 'continu', 'contract', 'contraind', 'contrast', 'copi', 'corrupt', 'countri', 'country', 'court', 'coverag', 'creat', 'credit', 'crib', 'cross', 'current', 'data', 'datalink', 'dataset', 'day', 'de', 'dead', 'deal', 'decid', 'decis', 'declar', 'defens', 'deficit', 'degre', 'delay', 'demograph', 'depart', 'describ', 'deserv', 'destefano', 'detect', 'determin', 'di', 'diarrhea', 'did', 'difficult', 'diphtheria', 'disagre', 'discov', 'discredit', 'discuss', 'diseas', 'disease', 'disord', 'disproven', 'distrust', 'do', 'doe', 'doesn', 'dollar', 'don', 'done', 'down', 'dr', 'dramat', 'drink', 'driven', 'drolet', 'drop', 'dtp', 'duplic', 'dure', 'dust', 'earli', 'eczema', 'edward', 'effect', 'effective', 'efficaci', 'electr', 'elimin', 'els', 'emerg', 'empir', 'encount', 'ensur', 'environ', 'environment', 'epidemiolog', 'epstein', 'epub', 'erad', 'erod', 'error', 'especi', 'establish', 'estim', 'et', 'european', 'evalu', 'event', 'everi', 'everyon', 'everyth', 'exampl', 'exclud', 'exist', 'experienc', 'experiment', 'exposur', 'face', 'fact', 'factor', 'famili', 'fault', 'fda', 'fear', 'feder', 'few', 'fewer', 'fight', 'final', 'financi', 'finland', 'fisher', 'fit', 'flaw', 'flu', 'food', 'forgo', 'form', 'found', 'franc', 'fre', 'frequenc', 'from', 'gain', 'gender', 'gene', 'gener', 'genet', 'georgia', 'get', 'given', 'glucos', 'go', 'got', 'govern', 'gram', 'group', 'grow', 'guid', 'guinea', 'ha', 'had', 'handl', 'harbor', 'harm', 'harvard', 'hassl', 'hazard', 'he', 'heali', 'healthi', 'hear', 'hemispher', 'henri', 'hep', 'herd', 'here', 'hg', 'hi', 'higher', 'highest', 'histori', 'history', 'hooker', 'hope', 'howev', 'hydrat', 'iddm', 'if', 'ii', 'iii', 'illness', 'imag', 'immedi', 'immun', 'immunoglobulin', 'immunolog', 'impedi', 'import', 'imposs', 'improv', 'in', 'inactiv', 'incept', 'incid', 'includ', 'increas', 'increasingli', 'independ', 'indic', 'individu', 'induc', 'industri', 'infant', 'infecti', 'inflammatori', 'influenc', 'inform', 'ingredi', 'inhal', 'initi', 'inject', 'injuri', 'inocul', 'inspect', 'instanc', 'instead', 'institut', 'insuffici', 'insulin', 'intend', 'intens', 'interest', 'intestin', 'into', 'introduct', 'intussuscept', 'involv', 'inﬂuenza', 'iron', 'is', 'isn', 'isol', 'issu', 'it', 'iv', 'jab', 'jg', 'journal', 'jp', 'jr', 'just', 'ka', 'kathryn', 'kid', 'kind', 'known', 'label', 'lack', 'lancet', 'landri', 'larg', 'large', 'last', 'launch', 'law', 'lead', 'learn', 'least', 'led', 'left', 'legisl', 'leifer', 'less', 'li', 'licens', 'licensur', 'lik', 'like', 'likewis', 'link', 'list', 'literatur', 'live', 'liver', 'logist', 'longer', 'look', 'lower', 'lupu', 'lymphocyt', 'machin', 'made', 'major', 'maladi', 'mandatori', 'mani', 'mass', 'may', 'mccarthi', 'mean', 'meantim', 'measl', 'media', 'medic', 'medicine', 'member', 'meningococc', 'merck', 'mercuri', 'mercury', 'metabol', 'method', 'methodolog', 'methyl', 'mice', 'microglia', 'might', 'mild', 'minim', 'mistrust', 'mix', 'mmr', 'model', 'modul', 'monitor', 'month', 'most', 'mostli', 'movement', 'much', 'multipl', 'mump', 'my', 'mysteri', 'myth', 'nation', 'natur', 'nearli', 'necessarili', 'need', 'needl', 'neurodegener', 'neurolog', 'neuron', 'never', 'nevertheless', 'new', 'newer', 'news', 'nigeria', 'non', 'none', 'note', 'noth', 'now', 'number', 'numer', 'obtain', 'of', 'off', 'offer', 'offit', 'ohio', 'one', 'oppos', 'opposit', 'opv', 'or', 'oral', 'order', 'organ', 'our', 'outbreak', 'outcom', 'over', 'overgrowth', 'overload', 'own', 'page', 'paid', 'pakistan', 'paper', 'paradox', 'parent', 'past', 'patent', 'patient', 'paul', 'pediatr', 'pediatrician', 'peer', 'per', 'percent', 'percentag', 'period', 'permiss', 'person', 'pertussi', 'pesticid', 'phase', 'phd', 'philadelphia', 'physiolog', 'pierc', 'plu', 'plummet', 'pneumococc', 'polio', 'polioviru', 'polysaccharid', 'pop', 'possibl', 'predisposit', 'prematur', 'prenat', 'prescript', 'present', 'pricey', 'primat', 'probabl', 'problem', 'procedur', 'process', 'produc', 'product', 'profit', 'project', 'promot', 'protein', 'provid', 'public', 'qualiti', 'question', 'quick', 'quot', 'race', 'rand', 'rare', 'reach', 'reaction', 'read', 'real', 'reason', 'receiv', 'recent', 'recogn', 'recommend', 'recommends', 'record', 'reformul', 'refriger', 'refus', 'regress', 'regul', 'regularli', 'regulators', 'rehash', 'relationship', 'relev', 'reli', 'rep', 'replac', 'report', 'reput', 'research', 'respect', 'respected', 'restrict', 'result', 'resurg', 'retract', 'revaccin', 'review', 'rhiniti', 'ridicul', 'rise', 'risen', 'robert', 'role', 'room', 'rotaviru', 'routin', 'safe', 'safest', 'safeti', 'safety', 'said', 'salmon', 'sampl', 'say', 'scal', 'school', 'scienc', 'scientif', 'scientist', 'scrutin', 'seat', 'section', 'seen', 'sensit', 'septemb', 'serious', 'serotonin', 'serr', 'set', 'seven', 'she', 'ship', 'shortag', 'shot', 'should', 'show', 'side', 'signific', 'significantli', 'simpli', 'simultan', 'singl', 'six', 'size', 'skew', 'small', 'smallpox', 'so', 'solut', 'some', 'someon', 'son', 'specialist', 'specif', 'spontan', 'st', 'start', 'state', 'statist', 'statu', 'steril', 'stimul', 'stori', 'strain', 'strict', 'stroller', 'student', 'studi', 'success', 'such', 'suffer', 'suggest', 'super', 'suppos', 'sure', 'surfac', 'surgeon', 'surveil', 'survey', 'swine', 'syndrom', 'system', 'systemat', 'tabl', 'take', 'talk', 'techniqu', 'tend', 'tender', 'tetanu', 'that', 'the', 'their', 'them', 'themselv', 'theoret', 'these', 'thi', 'thigh', 'thimeros', 'thimerosal', 'thing', 'third', 'thompson', 'time', 'titer', 'togeth', 'top', 'toth', 'toxoid', 'trace', 'track', 'translat', 'trial', 'true', 'truli', 'trust', 'two', 'type', 'understand', 'unit', 'univers', 'until', 'uptak', 'us', 'use', 'usual', 'vaccin', 'vaccinosi', 'vaer', 'vanderbilt', 'vaxx', 've', 'vials', 'view', 'virologist', 'viru', 'visit', 'vitamin', 'vulner', 'wa', 'wakefield', 'want', 'warrant', 'was', 'wash', 'water', 'waxman', 'way', 'weak', 'week', 'weigh', 'went', 'were', 'western', 'whether', 'whistleblow', 'whit', 'white', 'who', 'william', 'wipe', 'with', 'without', 'wo', 'word', 'work', 'worldwid', 'would', 'wouldn', 'write', 'younger', 'your', 'youth', 'zafack', 'polarity', 'subjectivity']\n"
          ],
          "name": "stdout"
        }
      ]
    },
    {
      "cell_type": "markdown",
      "metadata": {
        "id": "qezzjJ1H62Zg"
      },
      "source": [
        "### statins"
      ]
    },
    {
      "cell_type": "code",
      "metadata": {
        "id": "5gPhIOg661sY"
      },
      "source": [
        "clf = MLPClassifier(activation='relu', hidden_layer_sizes=(30, 10), learning_rate='adaptive')\n",
        "sup, n_ftrs, rank, important_features = fit_clf_and_show_ROC(clf, statins_X, statins_Y, category='statins', VALIDATION_SPLIT=0.2)"
      ],
      "execution_count": null,
      "outputs": []
    },
    {
      "cell_type": "markdown",
      "metadata": {
        "id": "3HkLJwMd64xJ"
      },
      "source": [
        "### ssri during pregnancy"
      ]
    },
    {
      "cell_type": "code",
      "metadata": {
        "colab": {
          "base_uri": "https://localhost:8080/",
          "height": 463
        },
        "id": "I7Hd0biG_AJ4",
        "outputId": "23ebd08a-cf69-4d9e-a98f-03d3cd6985d9"
      },
      "source": [
        "clf = MLPClassifier(max_iter=3000, solver='adam', hidden_layer_sizes=(50,20))\n",
        "sup, n_ftrs, rank, important_features = fit_clf_and_show_ROC(clf, \n",
        "                                                             ssri_during_pregnancy_X, \n",
        "                                                             ssri_during_pregnancy_Y, \n",
        "                                                             category='ssri_during_pregnancy',\n",
        "                                                             num_important_features=200, \n",
        "                                                             VALIDATION_SPLIT=0.2)"
      ],
      "execution_count": 36,
      "outputs": [
        {
          "output_type": "display_data",
          "data": {
            "image/png": "[encoded data removed]",
            "text/plain": [
              "<Figure size 432x288 with 1 Axes>"
            ]
          },
          "metadata": {
            "tags": [],
            "needs_background": "light"
          }
        },
        {
          "output_type": "stream",
          "text": [
            "              precision    recall  f1-score   support\n",
            "\n",
            "           0       1.00      0.25      0.40         4\n",
            "           1       0.73      1.00      0.84         8\n",
            "\n",
            "    accuracy                           0.75        12\n",
            "   macro avg       0.86      0.62      0.62        12\n",
            "weighted avg       0.82      0.75      0.69        12\n",
            "\n",
            "['body']\n"
          ],
          "name": "stdout"
        }
      ]
    },
    {
      "cell_type": "markdown",
      "metadata": {
        "id": "_CoowsZH68GR"
      },
      "source": [
        "### psychiatry"
      ]
    },
    {
      "cell_type": "code",
      "metadata": {
        "colab": {
          "base_uri": "https://localhost:8080/",
          "height": 517
        },
        "id": "_cKa1S87_KM8",
        "outputId": "965fa754-ce4c-4368-f55a-ec7baad06e90"
      },
      "source": [
        "clf = MLPClassifier(max_iter=3000, solver='adam', hidden_layer_sizes=(50,20))\n",
        "sup, n_ftrs, rank, important_features = fit_clf_and_show_ROC(clf, \n",
        "                                                             psychiatry_X, \n",
        "                                                             psychiatry_Y, \n",
        "                                                             category='psychiatry',\n",
        "                                                             num_important_features=500, \n",
        "                                                             VALIDATION_SPLIT=0.2)"
      ],
      "execution_count": 37,
      "outputs": [
        {
          "output_type": "display_data",
          "data": {
            "image/png": "[encoded data removed]",
            "text/plain": [
              "<Figure size 432x288 with 1 Axes>"
            ]
          },
          "metadata": {
            "tags": [],
            "needs_background": "light"
          }
        },
        {
          "output_type": "stream",
          "text": [
            "              precision    recall  f1-score   support\n",
            "\n",
            "           0       0.00      0.00      0.00        75\n",
            "           1       0.54      1.00      0.70        87\n",
            "\n",
            "    accuracy                           0.54       162\n",
            "   macro avg       0.27      0.50      0.35       162\n",
            "weighted avg       0.29      0.54      0.38       162\n",
            "\n",
            "['antidepress']\n"
          ],
          "name": "stdout"
        },
        {
          "output_type": "stream",
          "text": [
            "/usr/local/lib/python3.7/dist-packages/sklearn/metrics/_classification.py:1272: UndefinedMetricWarning: Precision and F-score are ill-defined and being set to 0.0 in labels with no predicted samples. Use `zero_division` parameter to control this behavior.\n",
            "  _warn_prf(average, modifier, msg_start, len(result))\n"
          ],
          "name": "stderr"
        }
      ]
    },
    {
      "cell_type": "markdown",
      "metadata": {
        "id": "Vf_BChOB6-Zf"
      },
      "source": [
        "### diet and autism"
      ]
    },
    {
      "cell_type": "code",
      "metadata": {
        "colab": {
          "base_uri": "https://localhost:8080/",
          "height": 463
        },
        "id": "qSaRMTTi_NJ1",
        "outputId": "32c2fc25-dac5-4a1a-cabe-f553f05e77af"
      },
      "source": [
        "clf = MLPClassifier(max_iter=3000, solver='adam', hidden_layer_sizes=(50,20))\n",
        "sup, n_ftrs, rank, important_features = fit_clf_and_show_ROC(clf, \n",
        "                                                             diet_and_autism_X, \n",
        "                                                             diet_and_autism_Y, \n",
        "                                                             category='diet_and_autism',\n",
        "                                                             num_important_features=200, \n",
        "                                                             VALIDATION_SPLIT=0.2)"
      ],
      "execution_count": 38,
      "outputs": [
        {
          "output_type": "display_data",
          "data": {
            "image/png": "[encoded data removed]",
            "text/plain": [
              "<Figure size 432x288 with 1 Axes>"
            ]
          },
          "metadata": {
            "tags": [],
            "needs_background": "light"
          }
        },
        {
          "output_type": "stream",
          "text": [
            "              precision    recall  f1-score   support\n",
            "\n",
            "           0       0.55      0.89      0.68        19\n",
            "           1       0.67      0.22      0.33        18\n",
            "\n",
            "    accuracy                           0.57        37\n",
            "   macro avg       0.61      0.56      0.51        37\n",
            "weighted avg       0.61      0.57      0.51        37\n",
            "\n",
            "['anger', 'friend', 'sexual', 'QMark']\n"
          ],
          "name": "stdout"
        }
      ]
    },
    {
      "cell_type": "markdown",
      "metadata": {
        "id": "IWCBrxUI7A-M"
      },
      "source": [
        "### aspirin during pregnancy"
      ]
    },
    {
      "cell_type": "code",
      "metadata": {
        "colab": {
          "base_uri": "https://localhost:8080/",
          "height": 517
        },
        "id": "Nt3GS2av_Ru9",
        "outputId": "7ac2478e-30bf-42f5-989a-02f7d3bd624b"
      },
      "source": [
        "clf = MLPClassifier(max_iter=3000, solver='adam', hidden_layer_sizes=(50,20))\n",
        "sup, n_ftrs, rank, important_features = fit_clf_and_show_ROC(clf, \n",
        "                                                             aspirin_pregnancy_X, \n",
        "                                                             aspirin_pregnancy_Y, \n",
        "                                                             category='aspirin_pregnancy',\n",
        "                                                             num_important_features=100, \n",
        "                                                             VALIDATION_SPLIT=0.2)"
      ],
      "execution_count": 39,
      "outputs": [
        {
          "output_type": "display_data",
          "data": {
            "image/png": "[encoded data removed]",
            "text/plain": [
              "<Figure size 432x288 with 1 Axes>"
            ]
          },
          "metadata": {
            "tags": [],
            "needs_background": "light"
          }
        },
        {
          "output_type": "stream",
          "text": [
            "              precision    recall  f1-score   support\n",
            "\n",
            "           0       0.00      0.00      0.00         5\n",
            "           1       0.77      1.00      0.87        17\n",
            "\n",
            "    accuracy                           0.77        22\n",
            "   macro avg       0.39      0.50      0.44        22\n",
            "weighted avg       0.60      0.77      0.67        22\n",
            "\n",
            "['TIME']\n"
          ],
          "name": "stdout"
        },
        {
          "output_type": "stream",
          "text": [
            "/usr/local/lib/python3.7/dist-packages/sklearn/metrics/_classification.py:1272: UndefinedMetricWarning: Precision and F-score are ill-defined and being set to 0.0 in labels with no predicted samples. Use `zero_division` parameter to control this behavior.\n",
            "  _warn_prf(average, modifier, msg_start, len(result))\n"
          ],
          "name": "stderr"
        }
      ]
    },
    {
      "cell_type": "markdown",
      "metadata": {
        "id": "h6FKwhNa7GIk"
      },
      "source": [
        "### allergy testing"
      ]
    },
    {
      "cell_type": "code",
      "metadata": {
        "colab": {
          "base_uri": "https://localhost:8080/",
          "height": 483
        },
        "id": "jgap_NQ1_YXS",
        "outputId": "e96a6dbd-6846-4119-8fc6-1733e5bab54f"
      },
      "source": [
        "clf = MLPClassifier(max_iter=3000, solver='adam', hidden_layer_sizes=(50,20))\n",
        "sup, n_ftrs, rank, important_features = fit_clf_and_show_ROC(clf, \n",
        "                                                             allergy_testing_X, \n",
        "                                                             allergy_testing_Y, \n",
        "                                                             category='allergy_testing',\n",
        "                                                             num_important_features=200, \n",
        "                                                             VALIDATION_SPLIT=0.2)"
      ],
      "execution_count": 40,
      "outputs": [
        {
          "output_type": "display_data",
          "data": {
            "image/png": "[encoded data removed]",
            "text/plain": [
              "<Figure size 432x288 with 1 Axes>"
            ]
          },
          "metadata": {
            "tags": [],
            "needs_background": "light"
          }
        },
        {
          "output_type": "stream",
          "text": [
            "              precision    recall  f1-score   support\n",
            "\n",
            "           0       0.73      0.57      0.64        28\n",
            "           1       0.83      0.90      0.86        63\n",
            "\n",
            "    accuracy                           0.80        91\n",
            "   macro avg       0.78      0.74      0.75        91\n",
            "weighted avg       0.80      0.80      0.79        91\n",
            "\n",
            "['WC', 'WPS', 'function', 'pronoun', 'prep', 'adverb', 'conj', 'negate', 'verb', 'adj', 'compare', 'number', 'affect', 'posemo', 'negemo', 'anx', 'sad', 'friend', 'female', 'male', 'certain', 'percept', 'see', 'hear', 'body', 'drives', 'affiliation', 'achieve', 'power', 'reward', 'risk', 'focuspresent', 'relativ', 'time', 'leisure', 'home', 'relig', 'death', 'informal', 'netspeak', 'assent', 'Period', 'SemiC', 'QMark', 'Exclam', 'Apostro', 'CARDINAL', 'ORG', 'PERSON', 'DATE', 'PERCENT', 'TIME', 'ORDINAL', 'PRODUCT', 'LOC', 'WORK_OF_ART', 'abdomin', 'about', 'abov', 'accomplish', 'acn', 'acupunctur', 'addit', 'advertis', 'against', 'agro', 'alessio', 'allerg', 'allergen', 'allergi', 'allergies', 'allergist', 'almost', 'also', 'amber', 'amount', 'an', 'analys', 'analysi', 'analyz', 'and', 'ani', 'antibodi', 'anytim', 'appar', 'appear', 'appoint', 'argument', 'arthriti', 'as', 'asid', 'associ', 'assum', 'at', 'autism', 'avail', 'avoid', 'award', 'balanc', 'basi', 'bbq', 'becaus', 'believ', 'best', 'better', 'bia', 'bloat', 'bodi', 'body', 'book', 'both', 'breast', 'breastf', 'breastmilk', 'bundl', 'but', 'buzzfe', 'by', 'call', 'canada', 'care', 'carr', 'carri', 'carrot', 'case', 'cash', 'catch', 'categori', 'cbc', 'celiac', 'cell', 'certain', 'chanc', 'chang', 'charg', 'cheaper', 'child', 'children', 'chronic', 'cilantro', 'circul', 'claim', 'clan', 'classifi', 'clear', 'click', 'clue', 'cod', 'colour', 'come', 'commerci', 'compani', 'compar', 'comparison', 'complet', 'condit', 'confidenti', 'consist', 'consult', 'consum', 'contain', 'convinc', 'cost', 'countless', 'cover', 'cow', 'credibl', 'crohn', 'custom', 'cystic', 'dairi', 'damag', 'data', 'day', 'defin', 'detail', 'detect', 'diagnost', 'diari', 'diarrhea', 'dictat', 'did', 'dietari', 'dinner', 'diseas', 'disrupt', 'do', 'doctor', 'dollar', 'down', 'dri', 'drop', 'due', 'each', 'effect', 'electromagnet', 'elimin', 'elisa', 'end', 'energi', 'enhanc', 'enterpris', 'entir', 'epilepsi', 'epitop', 'establish', 'everi', 'everyon', 'everyth', 'exactli', 'exclud', 'experienc', 'expert', 'expos', 'exposur', 'factor', 'famili', 'familiar', 'far', 'fasano', 'fatigu', 'featur', 'fibrosi', 'field', 'find', 'finger', 'fish', 'five', 'follow', 'for', 'fork', 'fourth', 'fre', 'frequent', 'from', 'futur', 'gallergi', 'garlic', 'gastroenterologist', 'gener', 'get', 'give', 'glass', 'gluten', 'goe', 'good', 'green', 'group', 'guarante', 'guid', 'guidanc', 'ha', 'had', 'hair', 'harm', 'hartz', 'harvard', 'head', 'healthier', 'her', 'high', 'hive', 'home', 'honestli', 'hope', 'howev', 'hype', 'hypersensit', 'ice', 'ick', 'ig', 'ige', 'igg', 'imbal', 'immulite', 'immun', 'immunoglobulin', 'immunolog', 'in', 'increas', 'indigest', 'industri', 'inflamm', 'inject', 'insight', 'instagram', 'instead', 'insur', 'intak', 'interfer', 'intolerances', 'is', 'isn', 'it', 'item', 'jarrow', 'juic', 'juli', 'key', 'kilounit', 'kirst', 'kit', 'know', 'knowledg', 'known', 'kua', 'lack', 'lactos', 'lancet', 'lead', 'leaki', 'life', 'lime', 'limit', 'litr', 'live', 'lock', 'longer', 'look', 'lose', 'lot', 'lunch', 'make', 'mama', 'mani', 'martha', 'masquerad', 'may', 'mayb', 'mayo', 'me', 'mean', 'measur', 'meconium', 'medi', 'media', 'medial', 'medic', 'method', 'migrain', 'minn', 'modern', 'moment', 'month', 'more', 'most', 'multipl', 'muscl', 'natur', 'ncg', 'neg', 'next', 'no', 'normal', 'not', 'noth', 'notic', 'nutrit', 'obes', 'of', 'offend', 'on', 'one', 'onion', 'order', 'other', 'oversuppli', 'overwhelm', 'pack', 'packag', 'pad', 'page', 'pain', 'particular', 'pattern', 'pay', 'pediatr', 'pediatrician', 'peopl', 'per', 'period', 'permeabl', 'person', 'pharmaci', 'phase', 'pinnertest', 'pinpoint', 'pluck', 'poop', 'potato', 'powder', 'presenc', 'present', 'pretend', 'pretti', 'problem', 'problemat', 'product', 'profil', 'promot', 'proper', 'properli', 'proprietari', 'protein', 'protocol', 'proud', 'prove', 'pump', 'purpos', 'puré', 'put', 'qualifi', 'queso', 'question', 'quickli', 'rais', 're', 'react', 'readi', 'realli', 'recal', 'recommend', 'refer', 'referr', 'regard', 'relev', 'reliev', 'report', 'reproduc', 'research', 'restrict', 'reveal', 'review', 'rheumatoid', 'risk', 'rochest', 'sake', 'same', 'save', 'say', 'scale', 'scan', 'see', 'sensit', 'sent', 'seriou', 'sever', 'should', 'show', 'side', 'singl', 'six', 'size', 'skin', 'small', 'sme', 'sneaki', 'social', 'solid', 'solut', 'some', 'specifi', 'spray', 'stage', 'standard', 'state', 'studi', 'submit', 'substanc', 'summaris', 'suppli', 'support', 'surpris', 'survey', 'symptom', 'system', 'take', 'technic', 'technolog', 'test', 'testimoni', 'testing', 'that', 'their', 'then', 'therfor', 'thi', 'those', 'thousand', 'time', 'to', 'today', 'toss', 'total', 'treatment', 'tri', 'two', 'type', 'typic', 'uk', 'unbias', 'uncomfort', 'understand', 'understood', 'unfortun', 'univers', 'unless', 'up', 'useless', 'usual', 'valu', 'varieti', 've', 'vial', 'visit', 'vs', 'wa', 'wasn', 'way', 'we', 'week', 'wendi', 'wheat', 'when', 'whether', 'which', 'while', 'who', 'with', 'within', 'word', 'work', 'worri', 'write', 'year', 'york', 'yorktest', 'your', 'yourself', 'polarity', 'subjectivity']\n"
          ],
          "name": "stdout"
        }
      ]
    },
    {
      "cell_type": "markdown",
      "metadata": {
        "id": "aoEEvUKB7IK7"
      },
      "source": [
        "### heart supplements"
      ]
    },
    {
      "cell_type": "code",
      "metadata": {
        "colab": {
          "base_uri": "https://localhost:8080/",
          "height": 483
        },
        "id": "9mrvFvK2_u-q",
        "outputId": "e4f5e3c6-77eb-4a0a-899d-89a2b441f843"
      },
      "source": [
        "clf = MLPClassifier(max_iter=3000, solver='adam', hidden_layer_sizes=(50,20))\n",
        "sup, n_ftrs, rank, important_features = fit_clf_and_show_ROC(clf, \n",
        "                                                             heart_supplements_X, \n",
        "                                                             heart_supplements_Y, \n",
        "                                                             category='heart_supplements',\n",
        "                                                             num_important_features=200, \n",
        "                                                             VALIDATION_SPLIT=0.2)"
      ],
      "execution_count": 41,
      "outputs": [
        {
          "output_type": "display_data",
          "data": {
            "image/png": "[encoded data removed]",
            "text/plain": [
              "<Figure size 432x288 with 1 Axes>"
            ]
          },
          "metadata": {
            "tags": [],
            "needs_background": "light"
          }
        },
        {
          "output_type": "stream",
          "text": [
            "              precision    recall  f1-score   support\n",
            "\n",
            "           0       0.71      0.80      0.75        15\n",
            "           1       0.77      0.67      0.71        15\n",
            "\n",
            "    accuracy                           0.73        30\n",
            "   macro avg       0.74      0.73      0.73        30\n",
            "weighted avg       0.74      0.73      0.73        30\n",
            "\n",
            "['Analytic', 'Clout', 'Sixltr', 'Dic', 'pronoun', 'i', 'we', 'you', 'shehe', 'they', 'ipron', 'article', 'prep', 'auxverb', 'adverb', 'conj', 'negate', 'adj', 'compare', 'interrog', 'number', 'quant', 'affect', 'posemo', 'negemo', 'anx', 'sad', 'social', 'family', 'friend', 'male', 'cogproc', 'cause', 'discrep', 'tentat', 'certain', 'differ', 'percept', 'see', 'hear', 'feel', 'bio', 'body', 'health', 'sexual', 'ingest', 'drives', 'affiliation', 'achieve', 'power', 'reward', 'risk', 'focuspast', 'focuspresent', 'focusfuture', 'motion', 'space', 'time', 'work', 'leisure', 'home', 'money', 'relig', 'death', 'informal', 'swear', 'netspeak', 'assent', 'nonflu', 'filler', 'AllPunc', 'Period', 'Comma', 'Colon', 'SemiC', 'QMark', 'Exclam', 'Dash', 'Quote', 'Apostro', 'Parenth', 'OtherP', 'DATE', 'ORG', 'CARDINAL', 'QUANTITY', 'LOC', 'GPE', 'PRODUCT', 'NORP', 'ORDINAL', 'TIME', 'FAC', 'LAW', 'WORK_OF_ART', 'PERCENT', 'MONEY', 'abil', 'absorb', 'accumul', 'acid', 'adequ', 'advic', 'ag', 'against', 'ail', 'all', 'almost', 'along', 'american', 'amino', 'among', 'an', 'and', 'angiogram', 'ani', 'anoth', 'anti', 'antioxid', 'appear', 'arteri', 'arugula', 'as', 'assess', 'associ', 'avoid', 'bailey', 'be', 'been', 'beetroot', 'benefici', 'berberin', 'blind', 'block', 'blood', 'bloodstream', 'bodi', 'bone', 'bonu', 'book', 'boost', 'both', 'bowden', 'bowel', 'brain', 'bring', 'broken', 'build', 'buildup', 'buoyant', 'busi', 'but', 'can', 'cap', 'capsul', 'car', 'cardiac', 'cardiovascular', 'carnitin', 'cell', 'cellular', 'certainti', 'chain', 'cholesterol', 'chronic', 'cinnamon', 'claim', 'clot', 'coenzym', 'collard', 'come', 'complet', 'compound', 'concern', 'conclud', 'condit', 'conjunct', 'consum', 'contain', 'contamin', 'contribut', 'control', 'coq', 'coronari', 'correl', 'crummi', 'cup', 'curcumin', 'cystein', 'daili', 'dangeroussubst', 'dark', 'day', 'deal', 'decreas', 'deep', 'defibril', 'defici', 'dens', 'describ', 'dha', 'diabet', 'dietari', 'directli', 'diseas', 'doe', 'don', 'double', 'down', 'downright', 'drink', 'drug', 'duti', 'earli', 'either', 'elast', 'electron', 'enabl', 'energi', 'enzym', 'epa', 'especi', 'essenti', 'etc', 'even', 'everyon', 'exact', 'excess', 'exercis', 'expect', 'experienc', 'extract', 'facilit', 'fact', 'factor', 'famili', 'fat', 'fatti', 'fda', 'fib', 'fiber', 'filler', 'fish', 'five', 'focu', 'folic', 'follow', 'food', 'for', 'form', 'fortif', 'found', 'from', 'full', 'function', 'furnac', 'garlic', 'get', 'glucos', 'glycin', 'glycocarn', 'goodfor', 'gplc', 'grapes', 'great', 'greatli', 'group', 'ha', 'harm', 'hbac', 'hcl', 'hdl', 'health', 'healthi', 'heartbeat', 'heavili', 'help', 'herb', 'here', 'high', 'highli', 'histori', 'homocystein', 'hormon', 'hospit', 'human', 'hydrat', 'if', 'immun', 'impact', 'import', 'in', 'inadvert', 'includ', 'increas', 'individu', 'industryne', 'inflammatori', 'inhibit', 'insid', 'insolubl', 'instanc', 'instead', 'intak', 'intervent', 'into', 'is', 'it', 'just', 'keep', 'key', 'khan', 'known', 'krill', 'label', 'languag', 'lax', 'ldl', 'lead', 'leafi', 'least', 'less', 'lessen', 'lifestyl', 'like', 'link', 'live', 'long', 'longer', 'look', 'loss', 'lot', 'lower', 'magnesium', 'maintain', 'manag', 'may', 'meanwhil', 'measur', 'medic', 'medicin', 'medicinalherb', 'medit', 'mental', 'merz', 'methionin', 'mg', 'millersay', 'miner', 'mitochondria', 'moder', 'more', 'moreov', 'most', 'necessari', 'neg', 'network', 'nitrat', 'nitric', 'nitrit', 'no', 'noel', 'nor', 'normal', 'nutrient', 'nutrit', 'obes', 'of', 'off', 'oil', 'omega', 'on', 'one', 'onli', 'onlin', 'open', 'or', 'our', 'out', 'over', 'overconsumpt', 'own', 'oxid', 'pair', 'part', 'particl', 'particularli', 'pattern', 'peopl', 'period', 'pill', 'place', 'plan', 'plant', 'plaqu', 'platelet', 'play', 'plc', 'polyunsatur', 'potassium', 'potenti', 'powder', 'power', 'preciou', 'prefer', 'preliminari', 'prematur', 'pressur', 'prevent', 'primarili', 'pristin', 'propionyl', 'protect', 'protein', 'prove', 'provid', 'provitamin', 'psyllium', 'purchas', 'quantiti', 'rate', 'rather', 'readili', 'reap', 'recharg', 'red', 'reduc', 'refer', 'relat', 'reliabl', 'report', 'respons', 'restor', 'resveratrol', 'ribos', 'rice', 'right', 'risk', 'role', 'roughli', 'rutherford', 'salt', 'same', 'say', 'scare', 'sea', 'seem', 'sever', 'shape', 'shorten', 'should', 'show', 'shown', 'significantli', 'sinc', 'singl', 'skin', 'slightli', 'slow', 'small', 'smart', 'so', 'softgel', 'solubl', 'some', 'someth', 'specif', 'spent', 'state', 'stay', 'strengthen', 'stroke', 'studi', 'substanc', 'substitut', 'subtyp', 'sugar', 'suggest', 'supplement', 'support', 'swanson', 'synthet', 'taken', 'talk', 'taurin', 'tea', 'test', 'than', 'that', 'thelabel', 'them', 'these', 'they', 'thi', 'thing', 'three', 'through', 'thrown', 'ticker', 'tip', 'togeth', 'top', 'total', 'trace', 'tran', 'transport', 'treat', 'treatment', 'trigger', 'triglycerid', 'trio', 'turn', 'two', 'ubiquinol', 'under', 'understand', 'unit', 'us', 'vagu', 'vampir', 've', 'veget', 'vegetarian', 'veri', 'vers', 'villain', 'visit', 'vitacost', 'vitamin', 'wat', 'what', 'when', 'while', 'who', 'why', 'wine', 'with', 'within', 'world', 'year', 'you', 'polarity', 'subjectivity']\n"
          ],
          "name": "stdout"
        }
      ]
    },
    {
      "cell_type": "markdown",
      "metadata": {
        "id": "S_aS-Xks7LAW"
      },
      "source": [
        "### antioxidants"
      ]
    },
    {
      "cell_type": "code",
      "metadata": {
        "colab": {
          "base_uri": "https://localhost:8080/"
        },
        "id": "9bKk0mTsJZor",
        "outputId": "72fcef65-7480-4ab2-a6a6-d7fc7e796dc3"
      },
      "source": [
        "np.shape(antioxidants_X)"
      ],
      "execution_count": 51,
      "outputs": [
        {
          "output_type": "execute_result",
          "data": {
            "text/plain": [
              "(225, 1674)"
            ]
          },
          "metadata": {
            "tags": []
          },
          "execution_count": 51
        }
      ]
    },
    {
      "cell_type": "code",
      "metadata": {
        "colab": {
          "base_uri": "https://localhost:8080/",
          "height": 483
        },
        "id": "VtiIotYD_2qz",
        "outputId": "247e9ca6-e5cb-47c8-80f4-b9938587fa3b"
      },
      "source": [
        "clf = LogisticRegression(class_weight='balanced', max_iter=10000)\n",
        "sup, n_ftrs, rank, important_features = fit_clf_and_show_ROC(clf, \n",
        "                                                             antioxidants_X, \n",
        "                                                             antioxidants_Y, \n",
        "                                                             category='antioxidants',\n",
        "                                                             num_important_features=500,\n",
        "                                                             VALIDATION_SPLIT=0.2)"
      ],
      "execution_count": 56,
      "outputs": [
        {
          "output_type": "display_data",
          "data": {
            "image/png": "[encoded data removed]",
            "text/plain": [
              "<Figure size 432x288 with 1 Axes>"
            ]
          },
          "metadata": {
            "tags": [],
            "needs_background": "light"
          }
        },
        {
          "output_type": "stream",
          "text": [
            "              precision    recall  f1-score   support\n",
            "\n",
            "           0       0.68      0.76      0.72        17\n",
            "           1       0.85      0.79      0.81        28\n",
            "\n",
            "    accuracy                           0.78        45\n",
            "   macro avg       0.77      0.78      0.77        45\n",
            "weighted avg       0.78      0.78      0.78        45\n",
            "\n",
            "['WPS', 'Dic', 'function', 'pronoun', 'ppron', 'we', 'you', 'they', 'prep', 'adverb', 'conj', 'adj', 'compare', 'interrog', 'number', 'negemo', 'anx', 'anger', 'sad', 'social', 'friend', 'female', 'male', 'insight', 'cause', 'discrep', 'tentat', 'certain', 'percept', 'see', 'hear', 'feel', 'bio', 'body', 'health', 'sexual', 'achieve', 'power', 'risk', 'focusfuture', 'space', 'time', 'work', 'home', 'death', 'informal', 'netspeak', 'assent', 'nonflu', 'AllPunc', 'Period', 'Comma', 'Colon', 'Exclam', 'Dash', 'Quote', 'Apostro', 'Parenth', 'OtherP', 'PERSON', 'ORG', 'CARDINAL', 'NORP', 'ORDINAL', 'PERCENT', 'WORK_OF_ART', 'QUANTITY', 'TIME', 'LOC', 'EVENT', 'abl', 'accord', 'acid', 'acorn', 'age', 'allevi', 'allow', 'alpha', 'and', 'anti', 'antioxid', 'are', 'associ', 'at', 'becaus', 'biggest', 'but', 'cell', 'certain', 'coffe', 'complic', 'consumpt', 'correct', 'curcumin', 'curcuminoid', 'day', 'diabet', 'diet', 'doctor', 'doesn', 'dose', 'even', 'exercis', 'go', 'grape', 'ha', 'heart', 'help', 'immun', 'individu', 'instanc', 'into', 'involv', 'known', 'lipid', 'lower', 'major', 'mean', 'meat', 'mice', 'mitochondria', 'most', 'neuropathi', 'on', 'partial', 'partli', 'peopl', 'per', 'powerhous', 'pressur', 'process', 'rank', 'regimen', 'rel', 'renown', 'respons', 'resveratrol', 'revers', 'rich', 'seem', 'shown', 'significantli', 'smoke', 'so', 'solubl', 'some', 'spirulina', 'squash', 'start', 'studi', 'suggest', 'supplement', 'sure', 'synthesis', 'systol', 'tea', 'that', 'three', 'to', 'transport', 'triglycerid', 'turmer', 'type', 'usag', 'vari', 'water', 'way', 'western', 'which', 'with', 'work', 'zimax', 'polarity', 'subjectivity']\n"
          ],
          "name": "stdout"
        }
      ]
    },
    {
      "cell_type": "markdown",
      "metadata": {
        "id": "NheSmmMg7N3k"
      },
      "source": [
        "### steroids_for_kids"
      ]
    },
    {
      "cell_type": "code",
      "metadata": {
        "colab": {
          "base_uri": "https://localhost:8080/",
          "height": 517
        },
        "id": "0OwwYwmKARAa",
        "outputId": "e29e1b79-ab75-4a4f-c60f-6e8bdf05e4eb"
      },
      "source": [
        "clf = MLPClassifier(max_iter=3000, solver='adam', hidden_layer_sizes=(50,20))\n",
        "sup, n_ftrs, rank, important_features = fit_clf_and_show_ROC(clf, \n",
        "                                                             steroids_for_kids_X, \n",
        "                                                             steroids_for_kids_Y, \n",
        "                                                             category='steroids_for_kids',\n",
        "                                                             num_important_features=100, \n",
        "                                                             VALIDATION_SPLIT=0.2)"
      ],
      "execution_count": 43,
      "outputs": [
        {
          "output_type": "display_data",
          "data": {
            "image/png": "[encoded data removed]",
            "text/plain": [
              "<Figure size 432x288 with 1 Axes>"
            ]
          },
          "metadata": {
            "tags": [],
            "needs_background": "light"
          }
        },
        {
          "output_type": "stream",
          "text": [
            "              precision    recall  f1-score   support\n",
            "\n",
            "           0       0.00      0.00      0.00         7\n",
            "           1       0.86      1.00      0.92        42\n",
            "\n",
            "    accuracy                           0.86        49\n",
            "   macro avg       0.43      0.50      0.46        49\n",
            "weighted avg       0.73      0.86      0.79        49\n",
            "\n",
            "['i']\n"
          ],
          "name": "stdout"
        },
        {
          "output_type": "stream",
          "text": [
            "/usr/local/lib/python3.7/dist-packages/sklearn/metrics/_classification.py:1272: UndefinedMetricWarning: Precision and F-score are ill-defined and being set to 0.0 in labels with no predicted samples. Use `zero_division` parameter to control this behavior.\n",
            "  _warn_prf(average, modifier, msg_start, len(result))\n"
          ],
          "name": "stderr"
        }
      ]
    },
    {
      "cell_type": "markdown",
      "metadata": {
        "id": "_xbDDomo60YS"
      },
      "source": [
        "### children_antibiotics"
      ]
    },
    {
      "cell_type": "code",
      "metadata": {
        "colab": {
          "base_uri": "https://localhost:8080/",
          "height": 517
        },
        "id": "_haGJHFgCWCT",
        "outputId": "4a58a6e8-cbfd-4f39-98bc-1079e4fc0335"
      },
      "source": [
        "clf = MLPClassifier(max_iter=3000, solver='adam', hidden_layer_sizes=(50,20))\n",
        "sup, n_ftrs, rank, important_features = fit_clf_and_show_ROC(clf, \n",
        "                                                             children_antibiotics_X, \n",
        "                                                             children_antibiotics_Y, \n",
        "                                                             category='children_antibiotics',\n",
        "                                                            #  num_important_features=100, \n",
        "                                                             VALIDATION_SPLIT=0.2)"
      ],
      "execution_count": 44,
      "outputs": [
        {
          "output_type": "display_data",
          "data": {
            "image/png": "[encoded data removed]",
            "text/plain": [
              "<Figure size 432x288 with 1 Axes>"
            ]
          },
          "metadata": {
            "tags": [],
            "needs_background": "light"
          }
        },
        {
          "output_type": "stream",
          "text": [
            "              precision    recall  f1-score   support\n",
            "\n",
            "           0       0.00      0.00      0.00        17\n",
            "           1       0.54      1.00      0.70        20\n",
            "\n",
            "    accuracy                           0.54        37\n",
            "   macro avg       0.27      0.50      0.35        37\n",
            "weighted avg       0.29      0.54      0.38        37\n",
            "\n",
            "['male']\n"
          ],
          "name": "stdout"
        },
        {
          "output_type": "stream",
          "text": [
            "/usr/local/lib/python3.7/dist-packages/sklearn/metrics/_classification.py:1272: UndefinedMetricWarning: Precision and F-score are ill-defined and being set to 0.0 in labels with no predicted samples. Use `zero_division` parameter to control this behavior.\n",
            "  _warn_prf(average, modifier, msg_start, len(result))\n"
          ],
          "name": "stderr"
        }
      ]
    },
    {
      "cell_type": "markdown",
      "metadata": {
        "id": "BSF1DF7kCc8v"
      },
      "source": [
        "### cc_vs_nb"
      ]
    },
    {
      "cell_type": "code",
      "metadata": {
        "colab": {
          "base_uri": "https://localhost:8080/",
          "height": 517
        },
        "id": "MaRWDNDjCluJ",
        "outputId": "2ea1e581-664b-476b-b9b1-7cb96f1d1f4e"
      },
      "source": [
        "clf = MLPClassifier(max_iter=3000, solver='adam', hidden_layer_sizes=(50,20))\n",
        "sup, n_ftrs, rank, important_features = fit_clf_and_show_ROC(clf, \n",
        "                                                             cc_vs_nb_X, \n",
        "                                                             cc_vs_nb_Y, \n",
        "                                                             category='cc_vs_nb',\n",
        "                                                            #  num_important_features=100, \n",
        "                                                             VALIDATION_SPLIT=0.2)"
      ],
      "execution_count": 46,
      "outputs": [
        {
          "output_type": "display_data",
          "data": {
            "image/png": "[encoded data removed]",
            "text/plain": [
              "<Figure size 432x288 with 1 Axes>"
            ]
          },
          "metadata": {
            "tags": [],
            "needs_background": "light"
          }
        },
        {
          "output_type": "stream",
          "text": [
            "              precision    recall  f1-score   support\n",
            "\n",
            "           0       0.00      0.00      0.00         7\n",
            "           1       0.80      1.00      0.89        28\n",
            "\n",
            "    accuracy                           0.80        35\n",
            "   macro avg       0.40      0.50      0.44        35\n",
            "weighted avg       0.64      0.80      0.71        35\n",
            "\n",
            "['negate']\n"
          ],
          "name": "stdout"
        },
        {
          "output_type": "stream",
          "text": [
            "/usr/local/lib/python3.7/dist-packages/sklearn/metrics/_classification.py:1272: UndefinedMetricWarning: Precision and F-score are ill-defined and being set to 0.0 in labels with no predicted samples. Use `zero_division` parameter to control this behavior.\n",
            "  _warn_prf(average, modifier, msg_start, len(result))\n"
          ],
          "name": "stderr"
        }
      ]
    },
    {
      "cell_type": "markdown",
      "metadata": {
        "id": "_uo2QFDY6k5H"
      },
      "source": [
        "# **TPOT model selection**"
      ]
    },
    {
      "cell_type": "code",
      "metadata": {
        "id": "PdpVDzFKIl56"
      },
      "source": [
        "!pip install deap update_checker tqdm stopit xgboost"
      ],
      "execution_count": null,
      "outputs": []
    },
    {
      "cell_type": "code",
      "metadata": {
        "id": "C81nL2PeJJuD"
      },
      "source": [
        "!pip install tpot"
      ],
      "execution_count": null,
      "outputs": []
    },
    {
      "cell_type": "code",
      "metadata": {
        "id": "YWlqn1AvMfo9"
      },
      "source": [
        "from tpot import TPOTClassifier\n",
        "from tpot.config import classifier_config_dict"
      ],
      "execution_count": null,
      "outputs": []
    },
    {
      "cell_type": "code",
      "metadata": {
        "id": "_q5QOGvEMc3x"
      },
      "source": [
        "tpot_config = {\n",
        "    'sklearn.linear_model.LogisticRegression': {\n",
        "        'class_weight': [None, 'balanced'],\n",
        "        'max_iter': [10000]\n",
        "    },\n",
        "\n",
        "    'sklearn.neural_network.MLPClassifier': {\n",
        "        'hidden_layer_sizes': [(50, 20), (20,20), (30, 10)],\n",
        "        'activation': ['relu', 'logistic'],\n",
        "        'learning_rate': ['adaptive']\n",
        "    },\n",
        "\n",
        "    'sklearn.naive_bayes.MultinomialNB': {\n",
        "        'alpha': [1e-3, 1e-2, 1e-1, 1., 10., 100.],\n",
        "        'fit_prior': [True, False]\n",
        "    }\n",
        "}\n",
        "\n",
        "def teapot_optimizer(num_important_features, X, Y, tpot_config=tpot_config):\n",
        "  sup, n_ftrs, rank, important_features = get_n_most_important(500, X, Y)\n",
        "  X_train, X_test, y_train, y_test = train_test_split(X[important_features], Y, test_size=VALIDATION_SPLIT, stratify=Y)\n",
        "\n",
        "  tpot = TPOTClassifier(generations=5, population_size=20, verbosity=2, \n",
        "                        scoring='roc_auc', cv=10, subsample=0.2,\n",
        "                        config_dict=tpot_config)\n",
        "  tpot.fit(X_train, y_train)\n",
        "  print(tpot.score(X_test, y_test))\n",
        "  # tpot.export('tpot_digits_pipeline_antioxidants.py')"
      ],
      "execution_count": 64,
      "outputs": []
    },
    {
      "cell_type": "markdown",
      "metadata": {
        "id": "ZsHHByREMIJY"
      },
      "source": [
        "## vaccines"
      ]
    },
    {
      "cell_type": "code",
      "metadata": {
        "colab": {
          "base_uri": "https://localhost:8080/"
        },
        "id": "jzladYLiNEi3",
        "outputId": "d65433f5-9786-46f1-9251-18aa10bc9f86"
      },
      "source": [
        "np.shape(vaccination_X)"
      ],
      "execution_count": 59,
      "outputs": [
        {
          "output_type": "execute_result",
          "data": {
            "text/plain": [
              "(482, 2854)"
            ]
          },
          "metadata": {
            "tags": []
          },
          "execution_count": 59
        }
      ]
    },
    {
      "cell_type": "code",
      "metadata": {
        "id": "XkoUgziXMKqe"
      },
      "source": [
        "teapot_optimizer(600, vaccination_X, vaccination_Y)"
      ],
      "execution_count": null,
      "outputs": []
    },
    {
      "cell_type": "markdown",
      "metadata": {
        "id": "OhsLELnwNOs2"
      },
      "source": [
        "## statins"
      ]
    },
    {
      "cell_type": "code",
      "metadata": {
        "colab": {
          "base_uri": "https://localhost:8080/",
          "height": 272,
          "referenced_widgets": [
            "378bb8998ca54a878bd89553dc2af0fc",
            "ee95a77e559846ab93ea79f8bc1e84e2",
            "1d8ba55c3a5b4cf3a8a548ebab9821f4",
            "0f1e20c28556424dbb55bfad4d87b398",
            "bf9dafccf8cb436ea3b56fffef7a2b1a",
            "792132fe5fdc4a69937f34b0a12dac0a",
            "18223a8f7e754f849564b83561002b26",
            "3250e0b5eed648b799325f0061299fdf"
          ]
        },
        "id": "PPJUv-91NQ4_",
        "outputId": "5e3db4c8-2b3e-411d-dcb4-d4883d6527db"
      },
      "source": [
        "teapot_optimizer(500, statins_X, statins_Y)"
      ],
      "execution_count": 65,
      "outputs": [
        {
          "output_type": "stream",
          "text": [
            "Warning: Although subsample can accelerate pipeline optimization process, too small training sample size may cause unpredictable effect on maximizing score in pipeline optimization process. Increasing subsample ratio may get a more reasonable outcome from optimization process in TPOT.\n"
          ],
          "name": "stdout"
        },
        {
          "output_type": "display_data",
          "data": {
            "application/vnd.jupyter.widget-view+json": {
              "model_id": "378bb8998ca54a878bd89553dc2af0fc",
              "version_minor": 0,
              "version_major": 2
            },
            "text/plain": [
              "HBox(children=(FloatProgress(value=0.0, description='Optimization Progress', max=120.0, style=ProgressStyle(de…"
            ]
          },
          "metadata": {
            "tags": []
          }
        },
        {
          "output_type": "stream",
          "text": [
            "\r\n",
            "Generation 1 - Current best internal CV score: 0.7104761904761905\n",
            "\n",
            "Generation 2 - Current best internal CV score: 0.7111904761904762\n",
            "\n",
            "Generation 3 - Current best internal CV score: 0.7364285714285713\n",
            "\n",
            "Generation 4 - Current best internal CV score: 0.7364285714285713\n",
            "\n",
            "Generation 5 - Current best internal CV score: 0.7364285714285713\n",
            "\n",
            "Best pipeline: LogisticRegression(MLPClassifier(input_matrix, activation=relu, hidden_layer_sizes=(30, 10), learning_rate=adaptive), class_weight=balanced, max_iter=10000)\n",
            "0.6903499469777306\n"
          ],
          "name": "stdout"
        }
      ]
    },
    {
      "cell_type": "markdown",
      "metadata": {
        "id": "oBUE_NjgNUen"
      },
      "source": [
        "## ssri_during_pregnancy"
      ]
    },
    {
      "cell_type": "code",
      "metadata": {
        "id": "-by_OxhlNan2"
      },
      "source": [
        "np.shape(ssri_during_pregnancy_X)"
      ],
      "execution_count": null,
      "outputs": []
    },
    {
      "cell_type": "code",
      "metadata": {
        "id": "P1nJHeAXNZ3D"
      },
      "source": [
        "teapot_optimizer(600, ssri_during_pregnancy_X, ssri_during_pregnancy_Y)"
      ],
      "execution_count": null,
      "outputs": []
    },
    {
      "cell_type": "markdown",
      "metadata": {
        "id": "rZK_qCLZHhFg"
      },
      "source": [
        "### antioxidants"
      ]
    },
    {
      "cell_type": "code",
      "metadata": {
        "id": "lvmiqV2oGmOk"
      },
      "source": [
        "teapot_optimizer(num_important_features, anioxidants_X, antioxidants_Y, teapot_config)"
      ],
      "execution_count": null,
      "outputs": []
    }
  ]
}