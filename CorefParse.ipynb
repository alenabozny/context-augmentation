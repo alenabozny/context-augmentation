{
 "cells": [
  {
   "cell_type": "markdown",
   "metadata": {},
   "source": [
    "# Ekstrakcja koreferencji przez multiservice\n",
    "\n",
    "Dokumnet opisuje przetwarzanie plików przez usługę IPIPAN Multiservice w celu wykrywania koreferencji.\n",
    "\n",
    "Przygotowano do analizy zbiór 3035 zdań w kontekście 2 zdań przed i 1 po czyli 4 zadnia na plik TXT.\n",
    "\n",
    "Użyto narzędzia do analizy tekstu w następującym pipeline:\n",
    "\n",
    "1. Pantera - segmentacja i analiza morfo-syntaktyczna\n",
    "2. Spejd - płytkie parsowanie i rozpoznawanie wyrazów i grup wyrazów\n",
    "3. Nerf - rozpoznawanie nazw własnych\n",
    "4. MentionDetector - detekcja kandydatów do koreferencji\n",
    "5. Bartek - rozpoznawanie koreferencji\n",
    "\n",
    "### Bartek\n",
    "\n",
    "Nazwa pochodzi z systemu [BART](http://www.bart-coref.org/) - Beautiful Anaphora Resolution Toolkit.\n",
    "\n",
    "System został wytrenowany na [Polskim Korpusie Koreferencyjnym](http://zil.ipipan.waw.pl/PolishCoreferenceCorpus?action=AttachFile&do=view&target=PCC_README_PL.pdf) zawierającym:\n",
    "* 1773 tekstów „krótkich”, czyli o długości 250-350 segmentów, będących wybranymi fragmentami dłuższych dokumentów (wybranymi jako pewna liczba pełnych, kolejnych akapitów z pojedynczego źródła).\n",
    "* 21 tekstów „długich” – pełnych tekstów o długości 1000-4000 segmentów.\n",
    "\n",
    "Rodzaje tekstów to: Dzienniki, Pozostałe periodyki, Literatura piękna, Literatura faktu, Typ informacyjno-poradnikowy, Mówione konwersacyjne, Internetowe nieinteraktywne (statyczne strony), Internetowe interaktywne (blogi, fora, usenet), Inne teksty pisane, Mówione medialne, Quasi-mówione (protokoły sesji parlamentu), Typ naukowo-dydaktyczny, Książki publicystyczne, Książka niebeletrystyczna nieklasyfikowana. Szczgóły są pod linkiem wyżej.\n",
    "\n",
    "Segmenty to jednostki o roli podobnej do słów, pozwalające na oddanie morfoskładniowych właściwości w języku  polskim (oraz pewnych decyzji podjętych arbitralnie); np. aglutynant (długo+śmy), partykuła -że (znasz+że) itp. są uznawane za osobne segmenty.\n",
    "\n",
    "## Wczytywanie danych\n",
    "\n",
    "W repozytorioum skomporesowałem wszystkie wyniki, bo w wersji rozpakowanej jest kilka tysięcy plików ważacych ponad pół GB. Jeśli nie jest to już zrobione, warto wykonać następujące:"
   ]
  },
  {
   "cell_type": "code",
   "execution_count": null,
   "metadata": {},
   "outputs": [],
   "source": [
    "!unzip paragraphs.zip"
   ]
  },
  {
   "cell_type": "code",
   "execution_count": 1,
   "metadata": {},
   "outputs": [],
   "source": [
    "import json"
   ]
  },
  {
   "cell_type": "markdown",
   "metadata": {},
   "source": [
    "Wczytajmy jeden dowolny plik:"
   ]
  },
  {
   "cell_type": "code",
   "execution_count": 2,
   "metadata": {},
   "outputs": [],
   "source": [
    "with open('paragraphs/10.json') as f:\n",
    "    data=json.load(f)"
   ]
  },
  {
   "cell_type": "markdown",
   "metadata": {},
   "source": [
    "## Opis struktury danych\n",
    "\n",
    "#### Każdy plik zawiera w najwyżsym poziomie"
   ]
  },
  {
   "cell_type": "code",
   "execution_count": 3,
   "metadata": {},
   "outputs": [
    {
     "data": {
      "text/plain": [
       "dict_keys(['annotationDetails', 'annotationHeaders', 'coreferences', 'paragraphs', 'summary', 'textHeader'])"
      ]
     },
     "execution_count": 3,
     "metadata": {},
     "output_type": "execute_result"
    }
   ],
   "source": [
    "data.keys()"
   ]
  },
  {
   "cell_type": "markdown",
   "metadata": {},
   "source": [
    "#### Nieistotne pola\n",
    "\n",
    "* annotationDetails - globalne parametry\n",
    "* annotationHeaders - lista użytych narzędzi\n",
    "* textHeader - opis danych, czasu przetwarzania, itp\n",
    "* summary - puste"
   ]
  },
  {
   "cell_type": "code",
   "execution_count": 4,
   "metadata": {},
   "outputs": [
    {
     "name": "stdout",
     "output_type": "stream",
     "text": [
      "{'hasMorphosyntaxDisambiguated': True, 'hasMorphosyntaxPartiallyDisambiguated': True, 'hasSegmentsDisambiguated': True}\n",
      "{'0': {'distributor': 'Pantera', 'id': '', 'processingDuration': 798, 'publicationTime': 1553556031041, 'retrievedFrom': '', 'sourceDescText': '', 'title': ''}, '1': {'distributor': 'Pantera; modified by Spejd', 'id': '', 'processingDuration': 2786, 'publicationTime': 1553556031041, 'retrievedFrom': '', 'sourceDescText': '', 'title': ''}, '2': {'distributor': 'Spejd', 'id': '', 'processingDuration': 1988, 'publicationTime': 1553556031041, 'retrievedFrom': '', 'sourceDescText': '', 'title': ''}, '3': {'distributor': 'Spejd', 'id': '', 'processingDuration': 1988, 'publicationTime': 1553556031041, 'retrievedFrom': '', 'sourceDescText': '', 'title': ''}, '4': {'distributor': 'Nerf', 'id': '', 'processingDuration': 95, 'publicationTime': 1553556031041, 'retrievedFrom': '', 'sourceDescText': '', 'title': ''}, '7': {'distributor': 'MentionDetector', 'id': None, 'processingDuration': 7, 'publicationTime': 1553556031041, 'retrievedFrom': None, 'sourceDescText': None, 'title': None}, '8': {'distributor': 'Bartek', 'id': None, 'processingDuration': 31138, 'publicationTime': 1553556031041, 'retrievedFrom': None, 'sourceDescText': None, 'title': None}}\n",
      "{'distributor': 'Multiservice', 'id': '', 'processingDuration': 35333, 'publicationTime': 1553556031041, 'retrievedFrom': '', 'sourceDescText': '', 'title': ''}\n",
      "\n"
     ]
    }
   ],
   "source": [
    "print(data['annotationDetails'])\n",
    "print(data['annotationHeaders'])\n",
    "print(data['textHeader'])\n",
    "print(data['summary'])"
   ]
  },
  {
   "cell_type": "markdown",
   "metadata": {},
   "source": [
    "### Koreferencje\n",
    "\n",
    "Lista koreferencji zawiera:\n",
    "* dominat - opis w postaci ortograficznej\n",
    "* id - ID korerferencji\n",
    "* mentionIds - wystąpienia korereferencji w tekście\n",
    "* sourceMentionId - zawsze puste\n",
    "* type - zawsze ident (czyli \"identity\")"
   ]
  },
  {
   "cell_type": "code",
   "execution_count": 5,
   "metadata": {},
   "outputs": [
    {
     "data": {
      "text/plain": [
       "{'dominant': 'świnka',\n",
       " 'id': 'c-3',\n",
       " 'mentionIds': ['m-3', 'm-5'],\n",
       " 'sourceMentionId': None,\n",
       " 'type': 'ident'}"
      ]
     },
     "execution_count": 5,
     "metadata": {},
     "output_type": "execute_result"
    }
   ],
   "source": [
    "data['coreferences'][3]"
   ]
  },
  {
   "cell_type": "markdown",
   "metadata": {},
   "source": [
    "### Paragraf\n",
    "\n",
    "#### Podstawowe informacje"
   ]
  },
  {
   "cell_type": "code",
   "execution_count": 6,
   "metadata": {
    "scrolled": true
   },
   "outputs": [
    {
     "name": "stdout",
     "output_type": "stream",
     "text": [
      "Ilość akapitów (zawsze 1): 1\n",
      "Akapit zawiera: ['id', 'sentences', 'text']\n",
      "Ilość zdań w akapicie (powinno być 4): 1\n",
      "Każde zdanie zawiera: ['dependencyParse', 'groups', 'id', 'mentions', 'names', 'rejectedTokens', 'sentimentTags', 'tokens', 'words']\n"
     ]
    }
   ],
   "source": [
    "print(f'Ilość akapitów (zawsze 1): {len(data[\"paragraphs\"])}')\n",
    "par=data['paragraphs'][0]\n",
    "print(f'Akapit zawiera: {list(par.keys())}')\n",
    "print(f'Ilość zdań w akapicie (powinno być 4): {len(par[\"sentences\"])}')\n",
    "print(f'Każde zdanie zawiera: {list(par[\"sentences\"][0].keys())}')"
   ]
  },
  {
   "cell_type": "markdown",
   "metadata": {},
   "source": [
    "#### Tekst całego akapitu"
   ]
  },
  {
   "cell_type": "code",
   "execution_count": 7,
   "metadata": {
    "scrolled": true
   },
   "outputs": [
    {
     "data": {
      "text/plain": [
       "' szczepionka przeciw odrze, różyczce i śwince: zawiera: żywe wirusy odry, świnki, różyczki hodowane na zarodkach kurzych, neomycynę (toksyczny antybiotyk), żelatynę (częsty alergen), sorbitol.  Wydaje się nienaturalnym łączenie w jednej szczepionce tych trzech chorób, które nigdy nie występują jednocześnie.  Odporność nabyta po ich zaszczepieniu trwa krócej niż odporność nabyta po przebyciu choroby.  W dodatku szczepionki te są bardzo nietrwałe i, na przykład, po wystawieniu na słońce tracą wartość.'"
      ]
     },
     "execution_count": 7,
     "metadata": {},
     "output_type": "execute_result"
    }
   ],
   "source": [
    "par['text']"
   ]
  },
  {
   "cell_type": "markdown",
   "metadata": {},
   "source": [
    "#### Puste nieistotne pola"
   ]
  },
  {
   "cell_type": "code",
   "execution_count": 8,
   "metadata": {},
   "outputs": [
    {
     "name": "stdout",
     "output_type": "stream",
     "text": [
      "[]\n",
      "[]\n",
      "[]\n",
      "[]\n"
     ]
    }
   ],
   "source": [
    "sent=par['sentences'][0]\n",
    "print(sent[\"dependencyParse\"])\n",
    "print(sent[\"names\"])\n",
    "print(sent[\"rejectedTokens\"])\n",
    "print(sent[\"sentimentTags\"])"
   ]
  },
  {
   "cell_type": "markdown",
   "metadata": {},
   "source": [
    "#### Istotne informacje\n",
    "\n",
    "Nieposte pola to:\n",
    "* groups - znaczeniowe grupy wyrazów\n",
    "* mentions - lista wystąpień koreferencji ze wskaźnikami do wyrazów\n",
    "* tokens - tokeny (text -> Pantera -> tokeny)\n",
    "* words - słowa (tokeny -> Spejd -> słowa/grupy)"
   ]
  },
  {
   "cell_type": "markdown",
   "metadata": {},
   "source": [
    "## Wyszukiwanie koreferencji\n",
    "\n",
    "Algorytm:\n",
    "1. tworzymy mapę mention: mention ID -> opis koreferencji\n",
    "    a. zapisujemy tylko te koreferencje które mają więcej niż 1 wystąpienie\n",
    "2. tworzymy mapę segmentów: segment ID -> zapis ortograficzny\n",
    "3. dla poszczególnych zdań i poszczególnych wystąpień koreferencji,\n",
    "    jeśli dane wystąpienie jest z koreferencji w którym jest więcej wystąpień\n",
    "    wypisz następujące linie:\n",
    "\n",
    "```\n",
    "_główny segment_ pozostałe segmenty -> opis koreferencji\n",
    "```"
   ]
  },
  {
   "cell_type": "code",
   "execution_count": 9,
   "metadata": {},
   "outputs": [
    {
     "name": "stdout",
     "output_type": "stream",
     "text": [
      "Tekst:\n",
      "\n",
      " szczepionka przeciw odrze, różyczce i śwince: zawiera: żywe wirusy odry, świnki, różyczki hodowane na zarodkach kurzych, neomycynę (toksyczny antybiotyk), żelatynę (częsty alergen), sorbitol.  Wydaje się nienaturalnym łączenie w jednej szczepionce tych trzech chorób, które nigdy nie występują jednocześnie.  Odporność nabyta po ich zaszczepieniu trwa krócej niż odporność nabyta po przebyciu choroby.  W dodatku szczepionki te są bardzo nietrwałe i, na przykład, po wystawieniu na słońce tracą wartość.\n",
      "\n",
      "Koreferencje:\n",
      "\n",
      "_odrze_ -> Odra\n",
      "_śwince_ -> świnka\n",
      "_odry_ -> Odra\n",
      "_świnki_ -> świnka\n",
      "_Odporność_ nabyta -> odporność nabyć\n",
      "_odporność_ nabyta -> odporność nabyć\n"
     ]
    }
   ],
   "source": [
    "with open('paragraphs/10.json') as f:\n",
    "    data=json.load(f)\n",
    "\n",
    "par=data['paragraphs'][0]\n",
    "print('Tekst:\\n')\n",
    "print(par['text'])\n",
    "print('\\nKoreferencje:\\n')\n",
    "\n",
    "mention={}\n",
    "for c in data['coreferences']:\n",
    "    if len(c['mentionIds'])>1:\n",
    "        for m in c['mentionIds']:\n",
    "            mention[m]=c['dominant']\n",
    "        \n",
    "segs={}\n",
    "for sent in par['sentences']:\n",
    "    for t in sent['tokens']:\n",
    "        segs[t['id']]=t['orth']\n",
    "\n",
    "for sent_num,sent in enumerate(par['sentences']):\n",
    "    for m in sent['mentions']:\n",
    "        if m['id'] in mention:\n",
    "            head=m['headIds'][0]\n",
    "            w=[]        \n",
    "            for c in m['childIds']:\n",
    "                if c==head:\n",
    "                    w.append('_'+segs[c]+'_')\n",
    "                else:\n",
    "                    w.append(segs[c])\n",
    "            print(f'{\" \".join(w)} -> {mention[m[\"id\"]]}')"
   ]
  },
  {
   "cell_type": "markdown",
   "metadata": {},
   "source": [
    "### Szukanie koreferencji wystąpienia wyrazu drugiego zdania z wystąpieniem poza tym zdaniem\n",
    "\n",
    "W tej chwili nie działa bo się popsuło oddzielanie zdań."
   ]
  },
  {
   "cell_type": "code",
   "execution_count": null,
   "metadata": {},
   "outputs": [],
   "source": [
    "with open('paragraphs/5.json') as f:\n",
    "    data=json.load(f)\n",
    "\n",
    "par=data['paragraphs'][0]\n",
    "print(par['text'])\n",
    "\n",
    "mention={}\n",
    "for c in data['coreferences']:\n",
    "    if len(c['mentionIds'])>1:\n",
    "        mlist=set()\n",
    "        for m in c['mentionIds']:\n",
    "            mlist.add(m)\n",
    "            mention[m]=mlist\n",
    "segs={}\n",
    "for sent in par['sentences']:\n",
    "    for t in sent['tokens']:\n",
    "        segs[t['id']]=t['orth']\n",
    "        \n",
    "orth={}\n",
    "for sent_num,sent in enumerate(par['sentences']):\n",
    "    for m in sent['mentions']:\n",
    "        if m['id'] in mention:\n",
    "            head=m['headIds'][0]\n",
    "            w=[]        \n",
    "            for c in m['childIds']:\n",
    "                if c==head:\n",
    "                    w.append('_'+segs[c]+'_')\n",
    "                else:\n",
    "                    w.append(segs[c])\n",
    "            orth[m['id']]=(' '.join(w),sent_num)\n",
    "\n",
    "for m in par['sentences'][2]['mentions']:\n",
    "    if m['id'] in mention:\n",
    "        for n in mention[m['id']]:\n",
    "            if orth[n][1]!=2:\n",
    "                print(f'{orth[m[\"id\"]][0]} -> {orth[n][0]}')\n",
    "        \n",
    "    "
   ]
  },
  {
   "cell_type": "code",
   "execution_count": null,
   "metadata": {},
   "outputs": [],
   "source": []
  }
 ],
 "metadata": {
  "kernelspec": {
   "display_name": "Python 3",
   "language": "python",
   "name": "python3"
  },
  "language_info": {
   "codemirror_mode": {
    "name": "ipython",
    "version": 3
   },
   "file_extension": ".py",
   "mimetype": "text/x-python",
   "name": "python",
   "nbconvert_exporter": "python",
   "pygments_lexer": "ipython3",
   "version": "3.6.8"
  }
 },
 "nbformat": 4,
 "nbformat_minor": 2
}
